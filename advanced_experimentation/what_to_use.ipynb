{
 "cells": [
  {
   "cell_type": "markdown",
   "metadata": {},
   "source": [
    "### Erupean Social Survey"
   ]
  },
  {
   "cell_type": "markdown",
   "metadata": {},
   "source": [
    "#### Challange: What to use?"
   ]
  },
  {
   "cell_type": "markdown",
   "metadata": {},
   "source": [
    "Using selected questions from the 2012 and 2014 editions of the European Social Survey,I have tried to solve the following questions.But before delving direct in to the questions let me introduce you to the underlying dataset's properties and settings.The data was collected through survey for two different years i.e 2012 and 2014.Data was entered in to a system based on the codes assigned during questionier.The codes for the two years for instance are 6 and 7 respectively.For more details and ease of understanding I have included in my github account the codebook along side my work and raw dataset.First things first lets import the python libraries that will do the job. "
   ]
  },
  {
   "cell_type": "code",
   "execution_count": 1,
   "metadata": {},
   "outputs": [],
   "source": [
    "import numpy as np\n",
    "import pandas as pd\n",
    "from scipy import stats\n",
    "import matplotlib.pyplot as plt\n",
    "import seaborn as sns\n",
    "%matplotlib inline"
   ]
  },
  {
   "cell_type": "code",
   "execution_count": 2,
   "metadata": {},
   "outputs": [],
   "source": [
    "ess_data = pd.read_csv('https://raw.githubusercontent.com/Thinkful-Ed/data-201-resources/master/ESS_practice_data/ESSdata_Thinkful.csv')"
   ]
  },
  {
   "cell_type": "code",
   "execution_count": 3,
   "metadata": {},
   "outputs": [
    {
     "data": {
      "text/html": [
       "<div>\n",
       "<style scoped>\n",
       "    .dataframe tbody tr th:only-of-type {\n",
       "        vertical-align: middle;\n",
       "    }\n",
       "\n",
       "    .dataframe tbody tr th {\n",
       "        vertical-align: top;\n",
       "    }\n",
       "\n",
       "    .dataframe thead th {\n",
       "        text-align: right;\n",
       "    }\n",
       "</style>\n",
       "<table border=\"1\" class=\"dataframe\">\n",
       "  <thead>\n",
       "    <tr style=\"text-align: right;\">\n",
       "      <th></th>\n",
       "      <th>cntry</th>\n",
       "      <th>idno</th>\n",
       "      <th>year</th>\n",
       "      <th>tvtot</th>\n",
       "      <th>ppltrst</th>\n",
       "      <th>pplfair</th>\n",
       "      <th>pplhlp</th>\n",
       "      <th>happy</th>\n",
       "      <th>sclmeet</th>\n",
       "      <th>sclact</th>\n",
       "      <th>gndr</th>\n",
       "      <th>agea</th>\n",
       "      <th>partner</th>\n",
       "    </tr>\n",
       "  </thead>\n",
       "  <tbody>\n",
       "    <tr>\n",
       "      <th>0</th>\n",
       "      <td>CH</td>\n",
       "      <td>5.0</td>\n",
       "      <td>6</td>\n",
       "      <td>3.0</td>\n",
       "      <td>3.0</td>\n",
       "      <td>10.0</td>\n",
       "      <td>5.0</td>\n",
       "      <td>8.0</td>\n",
       "      <td>5.0</td>\n",
       "      <td>4.0</td>\n",
       "      <td>2.0</td>\n",
       "      <td>60.0</td>\n",
       "      <td>1.0</td>\n",
       "    </tr>\n",
       "    <tr>\n",
       "      <th>1</th>\n",
       "      <td>CH</td>\n",
       "      <td>25.0</td>\n",
       "      <td>6</td>\n",
       "      <td>6.0</td>\n",
       "      <td>5.0</td>\n",
       "      <td>7.0</td>\n",
       "      <td>5.0</td>\n",
       "      <td>9.0</td>\n",
       "      <td>3.0</td>\n",
       "      <td>2.0</td>\n",
       "      <td>2.0</td>\n",
       "      <td>59.0</td>\n",
       "      <td>1.0</td>\n",
       "    </tr>\n",
       "    <tr>\n",
       "      <th>2</th>\n",
       "      <td>CH</td>\n",
       "      <td>26.0</td>\n",
       "      <td>6</td>\n",
       "      <td>1.0</td>\n",
       "      <td>8.0</td>\n",
       "      <td>8.0</td>\n",
       "      <td>8.0</td>\n",
       "      <td>7.0</td>\n",
       "      <td>6.0</td>\n",
       "      <td>3.0</td>\n",
       "      <td>1.0</td>\n",
       "      <td>24.0</td>\n",
       "      <td>2.0</td>\n",
       "    </tr>\n",
       "    <tr>\n",
       "      <th>3</th>\n",
       "      <td>CH</td>\n",
       "      <td>28.0</td>\n",
       "      <td>6</td>\n",
       "      <td>4.0</td>\n",
       "      <td>6.0</td>\n",
       "      <td>6.0</td>\n",
       "      <td>7.0</td>\n",
       "      <td>10.0</td>\n",
       "      <td>6.0</td>\n",
       "      <td>2.0</td>\n",
       "      <td>2.0</td>\n",
       "      <td>64.0</td>\n",
       "      <td>1.0</td>\n",
       "    </tr>\n",
       "    <tr>\n",
       "      <th>4</th>\n",
       "      <td>CH</td>\n",
       "      <td>29.0</td>\n",
       "      <td>6</td>\n",
       "      <td>5.0</td>\n",
       "      <td>6.0</td>\n",
       "      <td>7.0</td>\n",
       "      <td>5.0</td>\n",
       "      <td>8.0</td>\n",
       "      <td>7.0</td>\n",
       "      <td>2.0</td>\n",
       "      <td>2.0</td>\n",
       "      <td>55.0</td>\n",
       "      <td>1.0</td>\n",
       "    </tr>\n",
       "  </tbody>\n",
       "</table>\n",
       "</div>"
      ],
      "text/plain": [
       "  cntry  idno  year  tvtot  ppltrst  pplfair  pplhlp  happy  sclmeet  sclact  \\\n",
       "0    CH   5.0     6    3.0      3.0     10.0     5.0    8.0      5.0     4.0   \n",
       "1    CH  25.0     6    6.0      5.0      7.0     5.0    9.0      3.0     2.0   \n",
       "2    CH  26.0     6    1.0      8.0      8.0     8.0    7.0      6.0     3.0   \n",
       "3    CH  28.0     6    4.0      6.0      6.0     7.0   10.0      6.0     2.0   \n",
       "4    CH  29.0     6    5.0      6.0      7.0     5.0    8.0      7.0     2.0   \n",
       "\n",
       "   gndr  agea  partner  \n",
       "0   2.0  60.0      1.0  \n",
       "1   2.0  59.0      1.0  \n",
       "2   1.0  24.0      2.0  \n",
       "3   2.0  64.0      1.0  \n",
       "4   2.0  55.0      1.0  "
      ]
     },
     "execution_count": 3,
     "metadata": {},
     "output_type": "execute_result"
    }
   ],
   "source": [
    "ess_data.head()"
   ]
  },
  {
   "cell_type": "markdown",
   "metadata": {},
   "source": [
    "1. Did people become less trusting from 2012 to 2014? Compute results for each country in the sample."
   ]
  },
  {
   "cell_type": "markdown",
   "metadata": {},
   "source": [
    "In the above question, we are required to use three variables in the dataset.'Year' and 'ppltrst' and 'cntry'.Lets first explore the variables before jumping in to our analysis."
   ]
  },
  {
   "cell_type": "code",
   "execution_count": 4,
   "metadata": {},
   "outputs": [
    {
     "data": {
      "text/plain": [
       "ES    2426\n",
       "SE    1816\n",
       "CH    1546\n",
       "NO    1462\n",
       "CZ    1316\n",
       "DE      28\n",
       "Name: cntry, dtype: int64"
      ]
     },
     "execution_count": 4,
     "metadata": {},
     "output_type": "execute_result"
    }
   ],
   "source": [
    "ess_data['cntry'].value_counts()"
   ]
  },
  {
   "cell_type": "markdown",
   "metadata": {},
   "source": [
    "There are 6 distinct countries in this study.But 'DE' which refers to denimark has a very few number of observations i.e 28.We will get back to this imbalance later as required to be addressed in our analysis.Lets move on with our practice of exploration."
   ]
  },
  {
   "cell_type": "code",
   "execution_count": 5,
   "metadata": {},
   "outputs": [
    {
     "data": {
      "text/plain": [
       "7    4297\n",
       "6    4297\n",
       "Name: year, dtype: int64"
      ]
     },
     "execution_count": 5,
     "metadata": {},
     "output_type": "execute_result"
    }
   ],
   "source": [
    "ess_data['year'].value_counts()"
   ]
  },
  {
   "cell_type": "markdown",
   "metadata": {},
   "source": [
    "We have equal number of observations for the two distinct years in our data."
   ]
  },
  {
   "cell_type": "markdown",
   "metadata": {},
   "source": [
    "lastly;"
   ]
  },
  {
   "cell_type": "code",
   "execution_count": 6,
   "metadata": {},
   "outputs": [
    {
     "name": "stderr",
     "output_type": "stream",
     "text": [
      "/Library/Frameworks/Python.framework/Versions/3.7/lib/python3.7/site-packages/numpy/lib/histograms.py:824: RuntimeWarning: invalid value encountered in greater_equal\n",
      "  keep = (tmp_a >= first_edge)\n",
      "/Library/Frameworks/Python.framework/Versions/3.7/lib/python3.7/site-packages/numpy/lib/histograms.py:825: RuntimeWarning: invalid value encountered in less_equal\n",
      "  keep &= (tmp_a <= last_edge)\n"
     ]
    },
    {
     "data": {
      "image/png": "[encoded data removed]",
      "text/plain": [
       "<Figure size 432x288 with 1 Axes>"
      ]
     },
     "metadata": {
      "needs_background": "light"
     },
     "output_type": "display_data"
    }
   ],
   "source": [
    "plt.hist(ess_data['ppltrst']);"
   ]
  },
  {
   "cell_type": "markdown",
   "metadata": {},
   "source": [
    "from the visualization stand point, the overall data for both the years combined together seems normaly distributed with little skewness to words the right which averages around 7.5, which is an indication that the answers were in favour of 'Most people can be trusted'.But our main question on the above was, can we identify any difference of people on the level of trust in the two different years(i.e 2012 and 2014).We want to check that in each of the six countries using visual perseption and statistical measures.But which statistical measures to use depends on the normality of the distribution. "
   ]
  },
  {
   "cell_type": "code",
   "execution_count": 7,
   "metadata": {},
   "outputs": [
    {
     "data": {
      "text/plain": [
       "14"
      ]
     },
     "execution_count": 7,
     "metadata": {},
     "output_type": "execute_result"
    }
   ],
   "source": [
    "# There are only 14 nan values in the ppltrst column.\n",
    "len(ess_data[ess_data['ppltrst'].isnull()])"
   ]
  },
  {
   "cell_type": "code",
   "execution_count": 8,
   "metadata": {},
   "outputs": [],
   "source": [
    "k2, p = stats.normaltest(ess_data['ppltrst'], nan_policy='omit')"
   ]
  },
  {
   "cell_type": "code",
   "execution_count": 9,
   "metadata": {},
   "outputs": [
    {
     "name": "stdout",
     "output_type": "stream",
     "text": [
      "p = 3.174024854037719e-73\n"
     ]
    }
   ],
   "source": [
    "# null hypothesis: x comes from a normal distribution\n",
    "print(\"p = {}\".format(p))"
   ]
  },
  {
   "cell_type": "markdown",
   "metadata": {},
   "source": [
    "We reject our null hypothesis and conclude that the ppltrst is not normaly distributed.Therefore we should depend on non-parametric tests and visual perception to conclude our findings."
   ]
  },
  {
   "cell_type": "markdown",
   "metadata": {},
   "source": [
    "For the five countries other than Denimark the size of the sample was enough for analysis,but with Denimark it looks like we may not have enough data to make a sounding findings.For both years we saw that there were only 28 observations,lets find out if there were 14 observations for each year for Denimark."
   ]
  },
  {
   "cell_type": "code",
   "execution_count": 10,
   "metadata": {},
   "outputs": [
    {
     "data": {
      "text/plain": [
       "14"
      ]
     },
     "execution_count": 10,
     "metadata": {},
     "output_type": "execute_result"
    }
   ],
   "source": [
    "#for 2012 and Denimark\n",
    "len(ess_data[(ess_data['year'] == 6) & (ess_data['cntry'] == 'DE')])"
   ]
  },
  {
   "cell_type": "markdown",
   "metadata": {},
   "source": [
    "Yes we have confirmed that we only have 14 observations for each year in our analysis for Denimark.Its too few number of observations.But for the other countries the number of sample observations are sufficient for analysis."
   ]
  },
  {
   "cell_type": "code",
   "execution_count": 11,
   "metadata": {},
   "outputs": [],
   "source": [
    "# subdata for the years 2012 and 2014\n",
    "data_2012 = ess_data[ess_data['year'] == 6]\n",
    "data_2014 = ess_data[ess_data['year'] == 7]"
   ]
  },
  {
   "cell_type": "code",
   "execution_count": 12,
   "metadata": {},
   "outputs": [
    {
     "name": "stderr",
     "output_type": "stream",
     "text": [
      "/Library/Frameworks/Python.framework/Versions/3.7/lib/python3.7/site-packages/scipy/stats/stats.py:1416: UserWarning: kurtosistest only valid for n>=20 ... continuing anyway, n=14\n",
      "  \"anyway, n=%i\" % int(n))\n"
     ]
    },
    {
     "data": {
      "image/png": "[encoded data removed]",
      "text/plain": [
       "<Figure size 1152x432 with 1 Axes>"
      ]
     },
     "metadata": {
      "needs_background": "light"
     },
     "output_type": "display_data"
    }
   ],
   "source": [
    "# histogram for each country for the year 2012 \n",
    "# 3 plt.figure(figsize = (16, 6)\n",
    "p_array = []\n",
    "plt.figure(figsize = (16, 6))\n",
    "for country in ess_data['cntry'].value_counts().index:\n",
    "    plt.hist(data_2012[data_2012['cntry'] == country]['ppltrst'], label=\"{} \".format(country), alpha = 0.8);\n",
    "    k2, p = stats.normaltest(data_2012[data_2012['cntry'] == country]['ppltrst'], nan_policy='omit')\n",
    "    p_array.append(p)\n",
    "plt.title('Distribution plot of people trust on other people in 2012')    \n",
    "plt.legend();       "
   ]
  },
  {
   "cell_type": "code",
   "execution_count": 13,
   "metadata": {},
   "outputs": [
    {
     "name": "stdout",
     "output_type": "stream",
     "text": [
      "[3.7233182008430934e-11, 1.6891340175735596e-16, 3.365792056559453e-08, 2.7345537691839186e-19, 3.6357853778444874e-06, 0.7581671476973477]\n"
     ]
    }
   ],
   "source": [
    "print(p_array)"
   ]
  },
  {
   "cell_type": "markdown",
   "metadata": {},
   "source": [
    "The results on the above p-values are telling us that except for Denmark for all other countries ppltrst is not normal."
   ]
  },
  {
   "cell_type": "code",
   "execution_count": 14,
   "metadata": {},
   "outputs": [
    {
     "data": {
      "image/png": "[encoded data removed]",
      "text/plain": [
       "<Figure size 1152x432 with 1 Axes>"
      ]
     },
     "metadata": {
      "needs_background": "light"
     },
     "output_type": "display_data"
    }
   ],
   "source": [
    "# histogram for each country for the year 2014\n",
    "# 3 plt.figure(figsize = (16, 6)\n",
    "plt.figure(figsize = (16, 6))\n",
    "for country in ess_data['cntry'].value_counts().index:\n",
    "    plt.hist(data_2014[data_2014['cntry'] == country]['ppltrst'], label=\"{} \".format(country), alpha = 0.8);\n",
    "plt.title('Distribution plot of people trust on other people in 2014')    \n",
    "plt.legend();       "
   ]
  },
  {
   "cell_type": "markdown",
   "metadata": {},
   "source": [
    "The countries in our sample are 'ES'= Estonia, 'SE'= Sweden, 'CH'= Switzerland, 'NO'= Norway and 'CZ'= Czech Republic."
   ]
  },
  {
   "cell_type": "markdown",
   "metadata": {},
   "source": [
    "Based on our visualization from the above two distribution plots we can identify patterns and can be presented as follows;"
   ]
  },
  {
   "cell_type": "markdown",
   "metadata": {},
   "source": [
    "The level of people mistrust(between 2 - 4) seems to have increased in Estonia from 2012 to 2014;The blue histograms() has emerged to rise above the other histograms and more importantly above the blue histograms in 2012.And additionaly the level of trust beyond 5 seems to have decreased as well which indicates a significant change in the level of trust.Even if applying further paired-test can ensure our findings, But based on the visualization on the above estonians' people's trust has decreased.Or we may support our visual assumptions by furthering our analysis using Kruskal-Wallace non-parametric tests."
   ]
  },
  {
   "cell_type": "markdown",
   "metadata": {},
   "source": [
    "The same concept can be applied with the other countries and lets go ahead interpret the findings from a visual interpretation stand point. "
   ]
  },
  {
   "cell_type": "markdown",
   "metadata": {},
   "source": [
    "Sweden is represented by the orange colored histogram,Swizerland by the green,Norway by the red,Czek Republic pink and Denimark by brown.And it shows that there was not significant difference in the level of trust between the two years in almost all the countries except Estonia."
   ]
  },
  {
   "cell_type": "markdown",
   "metadata": {},
   "source": [
    "2. Did people become happier from 2012 to 2014? Compute results for each country in the sample."
   ]
  },
  {
   "cell_type": "code",
   "execution_count": 15,
   "metadata": {},
   "outputs": [
    {
     "data": {
      "image/png": "[encoded data removed]",
      "text/plain": [
       "<Figure size 1152x432 with 1 Axes>"
      ]
     },
     "metadata": {
      "needs_background": "light"
     },
     "output_type": "display_data"
    }
   ],
   "source": [
    "plt.figure(figsize = (16, 6))\n",
    "for country in ess_data['cntry'].value_counts().index:\n",
    "    plt.hist(data_2012[data_2012['cntry'] == country]['happy'], label=\"{} \".format(country), alpha = 0.8);\n",
    "plt.title('Distribution plot of happiness in 2012')    \n",
    "plt.legend();       "
   ]
  },
  {
   "cell_type": "code",
   "execution_count": 16,
   "metadata": {},
   "outputs": [
    {
     "data": {
      "image/png": "[encoded data removed]",
      "text/plain": [
       "<Figure size 1152x432 with 1 Axes>"
      ]
     },
     "metadata": {
      "needs_background": "light"
     },
     "output_type": "display_data"
    }
   ],
   "source": [
    "# histogram for each country for the year 2014\n",
    "# 3 plt.figure(figsize = (16, 6)\n",
    "plt.figure(figsize = (16, 6))\n",
    "for country in ess_data['cntry'].value_counts().index:\n",
    "    plt.hist(data_2014[data_2014['cntry'] == country]['happy'], label=\"{} \".format(country), alpha = 0.8);\n",
    "plt.title('Distribution plot of people trust on other people in 2014')    \n",
    "plt.legend();       "
   ]
  },
  {
   "cell_type": "markdown",
   "metadata": {},
   "source": [
    "Based on the visualization on the above we can understand that happiness is skewed to words the wonderfull right side on both years.It looks like there is a slight difference on the different colors(representing the different countries).Lets use Kruskal-Wallace Test to check if there was any difference in the happiness level in the 6 countries between the two years."
   ]
  },
  {
   "cell_type": "code",
   "execution_count": 17,
   "metadata": {},
   "outputs": [],
   "source": [
    "for country in ess_data['cntry'].value_counts().index:\n",
    "    p = stats.kruskal(ess_data[(ess_data['cntry'] == country) & (ess_data['year'] == 6)]['happy'],ess_data[(ess_data['cntry'] == country) & (ess_data['year'] == 7)]['happy'], nan_policy='omit')\n",
    "    p_array.append('country: {}, {}'.format(country, p))"
   ]
  },
  {
   "cell_type": "code",
   "execution_count": 18,
   "metadata": {},
   "outputs": [
    {
     "name": "stdout",
     "output_type": "stream",
     "text": [
      "[3.7233182008430934e-11, 1.6891340175735596e-16, 3.365792056559453e-08, 2.7345537691839186e-19, 3.6357853778444874e-06, 0.7581671476973477, 'country: ES, KruskalResult(statistic=4.089203641177268, pvalue=0.04315797189625085)', 'country: SE, KruskalResult(statistic=0.05045734520052835, pvalue=0.8222693615371405)', 'country: CH, KruskalResult(statistic=0.22331955287588717, pvalue=0.6365221432042547)', 'country: NO, KruskalResult(statistic=19.139561932891844, pvalue=1.215001301639077e-05)', 'country: CZ, KruskalResult(statistic=1.4258218687180508, pvalue=0.23244752383800354)', 'country: DE, KruskalResult(statistic=0.39056749122656015, pvalue=0.532001255058662)']\n"
     ]
    }
   ],
   "source": [
    "print(p_array)"
   ]
  },
  {
   "cell_type": "markdown",
   "metadata": {},
   "source": [
    "Based on our Kruskal test findings Norway people's happiness significantly decreased in 2014,But all the other countries people's happiness level was not significantly changed."
   ]
  },
  {
   "cell_type": "code",
   "execution_count": null,
   "metadata": {},
   "outputs": [],
   "source": []
  }
 ],
 "metadata": {
  "kernelspec": {
   "display_name": "Python 3",
   "language": "python",
   "name": "python3"
  },
  "language_info": {
   "codemirror_mode": {
    "name": "ipython",
    "version": 3
   },
   "file_extension": ".py",
   "mimetype": "text/x-python",
   "name": "python",
   "nbconvert_exporter": "python",
   "pygments_lexer": "ipython3",
   "version": "3.7.3"
  }
 },
 "nbformat": 4,
 "nbformat_minor": 2
}
