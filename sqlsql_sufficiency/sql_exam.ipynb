{
 "cells": [
  {
   "cell_type": "markdown",
   "metadata": {},
   "source": [
    "### SQL SELF_SUFFICIENCY EXAM"
   ]
  },
  {
   "cell_type": "markdown",
   "metadata": {},
   "source": [
    "#### Data exploration"
   ]
  },
  {
   "cell_type": "markdown",
   "metadata": {},
   "source": [
    "\n",
    "```SQL\n",
    "-- Write a query that allows you to inspect the schema of the naep table.\n",
    "SELECT \n",
    "    column_name, \n",
    "    data_type\n",
    "FROM \n",
    "    information_schema.columns\n",
    "WHERE \n",
    "    table_name = 'naep';\n",
    "```"
   ]
  },
  {
   "cell_type": "markdown",
   "metadata": {},
   "source": [
    "```SQL\n",
    "--Write a query that returns the first 50 records of the naep table.\n",
    "SELECT\n",
    "     *\n",
    "FROM \n",
    "    naep\n",
    "LIMIT 50;\n",
    "```"
   ]
  },
  {
   "cell_type": "markdown",
   "metadata": {},
   "source": [
    "```SQL\n",
    "--Write a query that returns summary statistics for avg_math_4_score by state. \n",
    "--Make sure to sort the results alphabetically by state name.\n",
    "SELECT \n",
    "     state,\n",
    "\t AVG(avg_math_4_score) AS avg_math_4_by_state,\n",
    "\t MAX(avg_math_4_score) AS max_avg_math_4_by_state,\n",
    "\t MIN(avg_math_4_score) AS max_avg_math_4_by_state,\n",
    "\t COUNT(avg_math_4_score) AS number_of_students\n",
    "FROM \n",
    "     naep\n",
    "GROUP BY \n",
    "     state\t\n",
    "ORDER BY \n",
    "     state;\n",
    "```    "
   ]
  },
  {
   "cell_type": "markdown",
   "metadata": {},
   "source": [
    "```SQL\n",
    "-- Write a query that alters the previous query so that it returns only the summary statistics \n",
    "-- for avg_math_4_score by state with differences in max and min values that are greater than 30.\n",
    "\n",
    "SELECT \n",
    "     state,\n",
    "\t AVG(avg_math_4_score) AS avg_math_4_by_state,\n",
    "\t MAX(avg_math_4_score) AS max_avg_math_4_by_state,\n",
    "\t MIN(avg_math_4_score) AS max_avg_math_4_by_state,\n",
    "\t COUNT(avg_math_4_score) AS number_of_institutes\n",
    "FROM \n",
    "     naep\n",
    "GROUP BY\n",
    "     state\n",
    "HAVING \n",
    "     MAX(avg_math_4_score) - MIN(avg_math_4_score)  > 30\n",
    "ORDER BY \n",
    "     state;\n",
    "```     "
   ]
  },
  {
   "cell_type": "markdown",
   "metadata": {},
   "source": [
    "#### Analyzing your data"
   ]
  },
  {
   "cell_type": "markdown",
   "metadata": {},
   "source": [
    "```SQL\n",
    "-- Write a query that returns a field called bottom_10_states that lists the states in the \n",
    "-- bottom 10 for avg_math_4_score in the year 2000.\n",
    "SELECT\n",
    "     state AS bottom_10_states\n",
    "FROM\n",
    "     naep\n",
    "WHERE \n",
    "     year = '2000'\t \n",
    "ORDER BY \n",
    "     avg_math_4_score\n",
    "LIMIT 10;\n",
    "```"
   ]
  },
  {
   "cell_type": "markdown",
   "metadata": {},
   "source": [
    "```SQL\n",
    "--Write a query that calculates the average avg_math_4_score rounded to the nearest 2 decimal places \n",
    "--over all states in the year 2000.\n",
    "SELECT \n",
    "    round(AVG(avg_math_4_score), 2) AS over_all_math_4_avg\n",
    "FROM \n",
    "    naep\n",
    "WHERE \n",
    "    year = '2000';\n",
    "```    "
   ]
  },
  {
   "cell_type": "markdown",
   "metadata": {},
   "source": [
    "```SQL\n",
    "--Write a query that returns a field called below_average_states_y2000 that lists all states \n",
    "--with an avg_math_4_score less than the average over all states in the year 2000.\n",
    "WITH \n",
    "   state_avg \n",
    "AS\n",
    "   (SELECT \n",
    "\t    avg(avg_math_4_score) as avg_math_4_score_by_state\n",
    "    FROM \n",
    "\t    naep\n",
    "    WHERE \n",
    "\t    year = '2000'\n",
    "    GROUP BY \n",
    "\t    state)\n",
    "SELECT \n",
    "     avg_math_4_score AS below_avg_states_2000, \n",
    "\t state\n",
    "FROM \n",
    "   naep, \n",
    "   state_avg\n",
    "WHERE \n",
    "   avg_math_4_score < avg_math_4_score_by_state;\n",
    "```    "
   ]
  },
  {
   "cell_type": "markdown",
   "metadata": {},
   "source": [
    "```SQL\n",
    "--Write a query that returns a field called scores_missing_y2000 that lists any states with missing \n",
    "--values in the avg_math_4_score column of the naep data table for the year 2000.\n",
    "SELECT \n",
    "    state as  scores_missing_y2000\n",
    "FROM \n",
    "    naep\n",
    "WHERE \n",
    "    year = '2000' AND avg_math_4_score IS NULL;\n",
    "```"
   ]
  },
  {
   "cell_type": "markdown",
   "metadata": {},
   "source": [
    "```SQL\n",
    "--Write a query that returns for the year 2000 the state, avg_math_4_score, and total_expenditure from the \n",
    "--naep table left outer joined with the finance table, using id as the key and ordered by total_expenditure \n",
    "--greatest to least. Be sure to round avg_math_4_score to the nearest 2 decimal places, \n",
    "--and then filter out NULL avg_math_4_scores in order to see any correlation more clearly.\n",
    "SELECT \n",
    "    naep.state, \n",
    "\tROUND(naep.avg_math_4_score, 2) AS avg_math_4_score, \n",
    "\tfinance.total_expenditure\n",
    "FROM \n",
    "    naep\n",
    "LEFT OUTER JOIN \n",
    "    finance \n",
    "ON \n",
    "    naep.id = finance.id\n",
    "WHERE \n",
    "    naep.year = '2000' AND avg_math_4_score IS NOT NULL\n",
    "ORDER BY \n",
    "    finance.total_expenditure DESC;\n",
    "```"
   ]
  },
  {
   "cell_type": "code",
   "execution_count": null,
   "metadata": {},
   "outputs": [],
   "source": []
  }
 ],
 "metadata": {
  "kernelspec": {
   "display_name": "Python 3",
   "language": "python",
   "name": "python3"
  },
  "language_info": {
   "codemirror_mode": {
    "name": "ipython",
    "version": 3
   },
   "file_extension": ".py",
   "mimetype": "text/x-python",
   "name": "python",
   "nbconvert_exporter": "python",
   "pygments_lexer": "ipython3",
   "version": "3.7.3"
  }
 },
 "nbformat": 4,
 "nbformat_minor": 2
}
