{
 "cells": [
  {
   "cell_type": "markdown",
   "metadata": {},
   "source": [
    "## EVALUATING DATA SOURCES"
   ]
  },
  {
   "cell_type": "markdown",
   "metadata": {},
   "source": [
    "### DRILL"
   ]
  },
  {
   "cell_type": "markdown",
   "metadata": {},
   "source": [
    "**Theoretical Data Source: Amsterdam availability data scraped from AirBnB on December 24th.-----------------------------------**\n",
    "**Question: What are the popular neighborhoods in Amsterdam?**"
   ]
  },
  {
   "cell_type": "markdown",
   "metadata": {},
   "source": [
    "--> The data source which is namely AirBnB is a hotel and housing accomodation online platform.\n",
    "So what kind of information can someone scrap from this site to make certain findings pertaining to the hotel \n",
    "and turism industry related to online service users.In our case the question seems out of proportion to our data \n",
    "in scope as there are other booking sites and services as well.Generalizing based on only one source of information causes bias in our data.may be we could have reframed our question in this way;\n",
    "> what are the popular neigborhoods(more booked) on AirBnB? "
   ]
  },
  {
   "cell_type": "markdown",
   "metadata": {},
   "source": [
    "**Theoretical Data Source: Mental health services use on September 12, 2001 in San Francisco, CA and New York City, NY.**\n",
    "\n",
    "**Question: How do patterns of mental health service use vary between cities?**"
   ]
  },
  {
   "cell_type": "markdown",
   "metadata": {},
   "source": [
    "--> our theoretical data can make distinction only between the two cities namely San Francisco,CA and NYC,NY.\n",
    "But drawing a conclusion for the entire USA cities based on only two cities will misrepresent the objective facts.\n",
    "So in order to make a use of our findings which is still vital for research we can rewrite our question as \n",
    "'How do patterns of mental health service use vary between San Francisco and New York?' "
   ]
  },
  {
   "cell_type": "markdown",
   "metadata": {},
   "source": [
    "**Actual Data Source: Armenian Pub Survey.**\n",
    "\n",
    "**Question: What are the most common reasons Armenians visit local pubs?**"
   ]
  },
  {
   "cell_type": "markdown",
   "metadata": {},
   "source": [
    "**--> To have a closer look at the data i downloaded the data into my computer directory.**"
   ]
  },
  {
   "cell_type": "code",
   "execution_count": 16,
   "metadata": {},
   "outputs": [],
   "source": [
    "import numpy as np\n",
    "import pandas as pd\n",
    "data = pd.read_csv('armenian_pubs.csv')"
   ]
  },
  {
   "cell_type": "code",
   "execution_count": 4,
   "metadata": {},
   "outputs": [
    {
     "name": "stdout",
     "output_type": "stream",
     "text": [
      "<class 'pandas.core.frame.DataFrame'>\n",
      "RangeIndex: 175 entries, 0 to 174\n",
      "Data columns (total 13 columns):\n",
      "Timestamp      175 non-null object\n",
      "Age            175 non-null int64\n",
      "Gender         175 non-null object\n",
      "Income         174 non-null float64\n",
      " Occupation    175 non-null object\n",
      "Fav_Pub        168 non-null object\n",
      "WTS            172 non-null float64\n",
      "Freq           175 non-null object\n",
      "Prim_Imp       175 non-null object\n",
      "Sec_Imp        175 non-null object\n",
      "Stratum        175 non-null object\n",
      "Lifestyle      169 non-null object\n",
      "Occasions      173 non-null object\n",
      "dtypes: float64(2), int64(1), object(10)\n",
      "memory usage: 17.9+ KB\n"
     ]
    }
   ],
   "source": [
    "data.info()"
   ]
  },
  {
   "cell_type": "code",
   "execution_count": 18,
   "metadata": {},
   "outputs": [
    {
     "data": {
      "text/html": [
       "<div>\n",
       "<style scoped>\n",
       "    .dataframe tbody tr th:only-of-type {\n",
       "        vertical-align: middle;\n",
       "    }\n",
       "\n",
       "    .dataframe tbody tr th {\n",
       "        vertical-align: top;\n",
       "    }\n",
       "\n",
       "    .dataframe thead th {\n",
       "        text-align: right;\n",
       "    }\n",
       "</style>\n",
       "<table border=\"1\" class=\"dataframe\">\n",
       "  <thead>\n",
       "    <tr style=\"text-align: right;\">\n",
       "      <th></th>\n",
       "      <th>Timestamp</th>\n",
       "      <th>Age</th>\n",
       "      <th>Gender</th>\n",
       "      <th>Income</th>\n",
       "      <th>Occupation</th>\n",
       "      <th>Fav_Pub</th>\n",
       "      <th>WTS</th>\n",
       "      <th>Freq</th>\n",
       "      <th>Prim_Imp</th>\n",
       "      <th>Sec_Imp</th>\n",
       "      <th>Stratum</th>\n",
       "      <th>Lifestyle</th>\n",
       "      <th>Occasions</th>\n",
       "    </tr>\n",
       "  </thead>\n",
       "  <tbody>\n",
       "    <tr>\n",
       "      <th>0</th>\n",
       "      <td>2017/02/25 10:52:03 PM GMT+4</td>\n",
       "      <td>19</td>\n",
       "      <td>Male</td>\n",
       "      <td>100000.0</td>\n",
       "      <td>Student</td>\n",
       "      <td>Station</td>\n",
       "      <td>2000.0</td>\n",
       "      <td>Several times in a month</td>\n",
       "      <td>Environment</td>\n",
       "      <td>Menu</td>\n",
       "      <td>Capital</td>\n",
       "      <td>Nightlife</td>\n",
       "      <td>Hang outs with friends</td>\n",
       "    </tr>\n",
       "    <tr>\n",
       "      <th>1</th>\n",
       "      <td>2017/02/25 10:53:19 PM GMT+4</td>\n",
       "      <td>19</td>\n",
       "      <td>Female</td>\n",
       "      <td>50000.0</td>\n",
       "      <td>Student</td>\n",
       "      <td>Calumet</td>\n",
       "      <td>2000.0</td>\n",
       "      <td>rarely (once two week/or a month)</td>\n",
       "      <td>Music</td>\n",
       "      <td>Pricing</td>\n",
       "      <td>Capital</td>\n",
       "      <td>Adventure/traveling/exploring</td>\n",
       "      <td>Hang outs with friends</td>\n",
       "    </tr>\n",
       "    <tr>\n",
       "      <th>2</th>\n",
       "      <td>2017/02/25 10:54:05 PM GMT+4</td>\n",
       "      <td>20</td>\n",
       "      <td>Male</td>\n",
       "      <td>100000.0</td>\n",
       "      <td>Student</td>\n",
       "      <td>Liberty</td>\n",
       "      <td>3000.0</td>\n",
       "      <td>rarely (once two week/or a month)</td>\n",
       "      <td>Environment</td>\n",
       "      <td>Music</td>\n",
       "      <td>Capital</td>\n",
       "      <td>Busy(student life, work)</td>\n",
       "      <td>Hang outs with friends</td>\n",
       "    </tr>\n",
       "    <tr>\n",
       "      <th>3</th>\n",
       "      <td>2017/02/25 10:55:09 PM GMT+4</td>\n",
       "      <td>18</td>\n",
       "      <td>Male</td>\n",
       "      <td>0.0</td>\n",
       "      <td>Student</td>\n",
       "      <td>Calumet</td>\n",
       "      <td>3000.0</td>\n",
       "      <td>Several times in a month</td>\n",
       "      <td>Environment</td>\n",
       "      <td>Music</td>\n",
       "      <td>Capital</td>\n",
       "      <td>Art</td>\n",
       "      <td>Hang outs with friends</td>\n",
       "    </tr>\n",
       "    <tr>\n",
       "      <th>4</th>\n",
       "      <td>2017/02/25 10:55:38 PM GMT+4</td>\n",
       "      <td>19</td>\n",
       "      <td>Female</td>\n",
       "      <td>130000.0</td>\n",
       "      <td>Student + working</td>\n",
       "      <td>Liberty</td>\n",
       "      <td>10000.0</td>\n",
       "      <td>rarely (once two week/or a month)</td>\n",
       "      <td>Pricing</td>\n",
       "      <td>Environment</td>\n",
       "      <td>Capital</td>\n",
       "      <td>NaN</td>\n",
       "      <td>Hang outs with friends</td>\n",
       "    </tr>\n",
       "  </tbody>\n",
       "</table>\n",
       "</div>"
      ],
      "text/plain": [
       "                      Timestamp  Age  Gender    Income          Occupation  \\\n",
       "0  2017/02/25 10:52:03 PM GMT+4    19    Male  100000.0            Student   \n",
       "1  2017/02/25 10:53:19 PM GMT+4    19  Female   50000.0            Student   \n",
       "2  2017/02/25 10:54:05 PM GMT+4    20    Male  100000.0            Student   \n",
       "3  2017/02/25 10:55:09 PM GMT+4    18    Male       0.0            Student   \n",
       "4  2017/02/25 10:55:38 PM GMT+4    19  Female  130000.0  Student + working   \n",
       "\n",
       "   Fav_Pub      WTS                               Freq     Prim_Imp  \\\n",
       "0  Station   2000.0           Several times in a month  Environment   \n",
       "1  Calumet   2000.0  rarely (once two week/or a month)        Music   \n",
       "2  Liberty   3000.0  rarely (once two week/or a month)  Environment   \n",
       "3  Calumet   3000.0           Several times in a month  Environment   \n",
       "4  Liberty  10000.0  rarely (once two week/or a month)      Pricing   \n",
       "\n",
       "       Sec_Imp  Stratum                      Lifestyle               Occasions  \n",
       "0         Menu  Capital                      Nightlife  Hang outs with friends  \n",
       "1      Pricing  Capital  Adventure/traveling/exploring  Hang outs with friends  \n",
       "2        Music  Capital       Busy(student life, work)  Hang outs with friends  \n",
       "3        Music  Capital                            Art  Hang outs with friends  \n",
       "4  Environment  Capital                            NaN  Hang outs with friends  "
      ]
     },
     "execution_count": 18,
     "metadata": {},
     "output_type": "execute_result"
    }
   ],
   "source": [
    "data.head()"
   ]
  },
  {
   "cell_type": "code",
   "execution_count": 24,
   "metadata": {},
   "outputs": [
    {
     "data": {
      "text/plain": [
       "Index(['Timestamp', 'Age ', 'Gender ', 'Income ', ' Occupation', 'Fav_Pub',\n",
       "       'WTS', 'Freq', 'Prim_Imp', 'Sec_Imp', 'Stratum', 'Lifestyle',\n",
       "       'Occasions'],\n",
       "      dtype='object')"
      ]
     },
     "execution_count": 24,
     "metadata": {},
     "output_type": "execute_result"
    }
   ],
   "source": [
    "data.columns"
   ]
  },
  {
   "cell_type": "code",
   "execution_count": 28,
   "metadata": {},
   "outputs": [
    {
     "name": "stdout",
     "output_type": "stream",
     "text": [
      "<class 'pandas.core.frame.DataFrame'>\n",
      "Int64Index: 44 entries, 3 to 173\n",
      "Data columns (total 13 columns):\n",
      "Timestamp      44 non-null object\n",
      "Age            44 non-null int64\n",
      "Gender         44 non-null object\n",
      "Income         44 non-null float64\n",
      " Occupation    44 non-null object\n",
      "Fav_Pub        43 non-null object\n",
      "WTS            42 non-null float64\n",
      "Freq           44 non-null object\n",
      "Prim_Imp       44 non-null object\n",
      "Sec_Imp        44 non-null object\n",
      "Stratum        44 non-null object\n",
      "Lifestyle      42 non-null object\n",
      "Occasions      43 non-null object\n",
      "dtypes: float64(2), int64(1), object(10)\n",
      "memory usage: 4.8+ KB\n"
     ]
    }
   ],
   "source": [
    "data[data['Income '] == 0].info()"
   ]
  },
  {
   "cell_type": "markdown",
   "metadata": {},
   "source": [
    "**44 people out of 173 surveyees i.e. around 25% have no income which is an indicator of a red flag for the skewness \n",
    "of our data and also from the histogram in the kaggle data(our main source of the csv file) we can learn that \n",
    "the majority of age distribution is between 16 to 23.5;with extremely few people  in the range between 23.5 and 41\n",
    ",lets see that using boxplot**"
   ]
  },
  {
   "cell_type": "code",
   "execution_count": 29,
   "metadata": {},
   "outputs": [],
   "source": [
    "import matplotlib.pyplot as plt"
   ]
  },
  {
   "cell_type": "code",
   "execution_count": 34,
   "metadata": {},
   "outputs": [
    {
     "data": {
      "image/png": "[encoded data removed]",
      "text/plain": [
       "<Figure size 432x288 with 1 Axes>"
      ]
     },
     "metadata": {
      "needs_background": "light"
     },
     "output_type": "display_data"
    }
   ],
   "source": [
    "plt.boxplot(data['Age '],notch = True,patch_artist = True) ;"
   ]
  },
  {
   "cell_type": "markdown",
   "metadata": {},
   "source": [
    "**our boxplot is cosistent with our observation of the data.And the age of the surveyees is 16 to 23.5.**"
   ]
  },
  {
   "cell_type": "markdown",
   "metadata": {},
   "source": [
    "**Therefore generaly speaking,We have to narrow the scope of our question to like;\n",
    "What are the most common reasons that young youth Armenians visit local pubs? Or including the age range also makes \n",
    "more sense.**"
   ]
  },
  {
   "cell_type": "code",
   "execution_count": null,
   "metadata": {},
   "outputs": [],
   "source": []
  }
 ],
 "metadata": {
  "kernelspec": {
   "display_name": "Python 3",
   "language": "python",
   "name": "python3"
  },
  "language_info": {
   "codemirror_mode": {
    "name": "ipython",
    "version": 3
   },
   "file_extension": ".py",
   "mimetype": "text/x-python",
   "name": "python",
   "nbconvert_exporter": "python",
   "pygments_lexer": "ipython3",
   "version": "3.7.3"
  }
 },
 "nbformat": 4,
 "nbformat_minor": 2
}
