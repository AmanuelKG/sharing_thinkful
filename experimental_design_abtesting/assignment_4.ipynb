{
 "cells": [
  {
   "cell_type": "markdown",
   "metadata": {},
   "source": [
    "## Research Proposal"
   ]
  },
  {
   "cell_type": "markdown",
   "metadata": {},
   "source": [
    "*When people install the Happy Days Fitness Tracker app, they are asked to \"opt in\" to a data collection scheme where their level of physical activity data is automatically sent to the company for product research purposes.*"
   ]
  },
  {
   "cell_type": "markdown",
   "metadata": {},
   "source": [
    "**The objective:**"
   ]
  },
  {
   "cell_type": "markdown",
   "metadata": {},
   "source": [
    "The objectve of our research is to determine if the Happy Days Fitness Tracker app has significant effect in augmenting physical activity level.This findings will create a proven value to consumers on top of monitoring their fitness activity in one side and also helps the developer company to market the product confidently and overcome competition of similiar apps out there,by emphasizing on that proven findings and also it helps determine if there is any customer churn related to another problem which helps do further research."
   ]
  },
  {
   "cell_type": "markdown",
   "metadata": {},
   "source": [
    "**Solution(The Hypothesis):**"
   ]
  },
  {
   "cell_type": "markdown",
   "metadata": {},
   "source": [
    "the Happy Days Fitness Tracker app increases activity level by about 10% in three months consistent use period?"
   ]
  },
  {
   "cell_type": "markdown",
   "metadata": {},
   "source": [
    "**The Method of testing the Solution**"
   ]
  },
  {
   "cell_type": "markdown",
   "metadata": {},
   "source": [
    "\n",
    "In designing our Experiment,first thing first we need to determine the two versions of events to compare.Since we will depend on the app for the data,we have to use both the control and treatment versions when the app is running.Therefore in addressing data Coverage,our first version is the data collected in the first month of the app usage for each app in use and the second version will be the data collected after three month of the app in use.\n",
    "* The primary task is finding our key Matrix such as distance travelled or the length of time the app is on and secondary matrices that determine our core study variables in the experimentation process such as age groups,consistent usage.These measures are highly correlated to the intended result which is quantifying the activity level of the app.Our data has to be as reliable as possible by addressing multiple important factors.\n",
    "* For proper analysis it is good to define our data.If we take the entire data set as our population, we might fall in to experimentation pitfall as the app use consistency is key factor in our study.Trying to analyze using data of inconsistency users will not answer our concern.We can set consistency measure as boolean for instence and categorize as yes or no depending on range of number of days that the app is on."
   ]
  },
  {
   "cell_type": "code",
   "execution_count": null,
   "metadata": {},
   "outputs": [],
   "source": []
  }
 ],
 "metadata": {
  "kernelspec": {
   "display_name": "Python 3",
   "language": "python",
   "name": "python3"
  },
  "language_info": {
   "codemirror_mode": {
    "name": "ipython",
    "version": 3
   },
   "file_extension": ".py",
   "mimetype": "text/x-python",
   "name": "python",
   "nbconvert_exporter": "python",
   "pygments_lexer": "ipython3",
   "version": "3.7.3"
  }
 },
 "nbformat": 4,
 "nbformat_minor": 2
}
