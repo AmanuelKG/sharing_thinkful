{
 "cells": [
  {
   "cell_type": "markdown",
   "metadata": {},
   "source": [
    "## ASSIGNMENT 2"
   ]
  },
  {
   "cell_type": "markdown",
   "metadata": {},
   "source": [
    "### Bias and A/B Testing"
   ]
  },
  {
   "cell_type": "markdown",
   "metadata": {},
   "source": [
    "**You're testing advertising emails for a bathing suit company and you test one version of the email in February and the other in May.**"
   ]
  },
  {
   "cell_type": "markdown",
   "metadata": {},
   "source": [
    "Our number one priority is determining the groups in which the effect of treatments that we are to compare.In this case our target population is our subscribers of our services or the list of emails that we have from our site's visitors.since our product is affected by seasonality,gender, age group among others,it is good to look in to the potential danger of disregarding those variables.Normaly the season on May is wormer than February and i would assume that the email advertisement to get more attension on May than on February.It seems ovious right?What about the possibility of planning for it in advance?what about getting a better deal off season?There are so many senarios to consider when it comes to the intention of conducting the test.<br/>\n",
    "\n",
    "When it comes to sampling,Before drawing our random samples from the February and May email advertisements we have to be cautious of lurcking variables or dependancies between the email addresses.We do not want to send the same email address the advertisement on February and May as the former may influence the later.We have to be cautious as well not to send the advertisment to majority females as females might be more interested on our product(bathing suit than) than men or vice versa.The same may apply with the age group.As those variables are obvious once that might influence our result,we have to make sure to address those biases properly.If we fill it is neccessary we can implement A/A testing to find out if other lurcking variables are hiden behaind our intended analysis.Therefore my assumption is that the two samples are similiar and are randomly selected from the same population.And they are solely different because they are selected from different months."
   ]
  },
  {
   "cell_type": "markdown",
   "metadata": {},
   "source": [
    "**You open a clinic to treat anxiety and find that the people who visit show a higher rate of anxiety than the general population.**"
   ]
  },
  {
   "cell_type": "markdown",
   "metadata": {},
   "source": [
    "The two versions of our data will be generated from the people visiting my clinic and general popuation.the samples will be generated from two populations and our purpose is to find out if these two populations are different.But our primary assumption is there is no difference in any thing else but anxiety level between the two populations.i assume that there is no correlation or overlap between the two population.I should try to avoid all sort of biases such as the sampling bias in which we have to randomize our sampling properly.i have to be aware of Bias in assignment to conditions for instance majority of my visitors might be old and male or from the same area which causes contextual bias and the seasonality,some seasons may initiate the symptoms of anxiety more than others.Therefore in order to prove our hypothesis testing that people who visit my clinic show a higher rate of anxiety than the general population,I have to address properly in my assumption the points and biases i have mentioned in the above for my analysis to reflect the reality."
   ]
  },
  {
   "cell_type": "markdown",
   "metadata": {},
   "source": [
    "**You launch a new ad billboard based campaign and see an increase in website visits in the first week.**"
   ]
  },
  {
   "cell_type": "markdown",
   "metadata": {},
   "source": [
    "My two versions namely control and treatment in this senario are the website visits before the billboard(control) and the website visit after the billboard(treatment).To be able to identify the change in website visit is solely due to the treatment,I desided to look in to the trend of visitors over the past several weeks to understand the trend(wether it was up and down or steady).I desided to random sample from several weeks visits for the control group and from the first week of campain for the teatment group to minimize trend bias.having those in mind my general assumption is that there was no major sudden rise and fall in visits over the course of many weeks and also no sudden need for my product arised because of any situation as people may be redirected from search engines. "
   ]
  },
  {
   "cell_type": "markdown",
   "metadata": {},
   "source": [
    "**You launch a loyalty program but see no change in visits in the first week.**"
   ]
  },
  {
   "cell_type": "markdown",
   "metadata": {},
   "source": [
    "In loyalty programs most of the visitors are former customers,it is a marketing strategy designed by merchants \n",
    "to encourage customers to continue to shop or use service(Wikipedia).Therefore the general hypothesis is that it will increase visits.But does that hypothesis work exclusively for the first week? The two versions of effects are the visits before and after the launch of the loyalty program.determining the effect of the launch in number of visits is the key catch in this senaio.To be able to determine that we have to assume that there was steady number of visits on the weeks before the launch of the loyalty program.And also we have to assume that there was no other measure event that influenced the visits such as events,holydays.But most importantly we have to draw the samples from the two populations randomly."
   ]
  },
  {
   "cell_type": "code",
   "execution_count": null,
   "metadata": {},
   "outputs": [],
   "source": []
  }
 ],
 "metadata": {
  "kernelspec": {
   "display_name": "Python 3",
   "language": "python",
   "name": "python3"
  },
  "language_info": {
   "codemirror_mode": {
    "name": "ipython",
    "version": 3
   },
   "file_extension": ".py",
   "mimetype": "text/x-python",
   "name": "python",
   "nbconvert_exporter": "python",
   "pygments_lexer": "ipython3",
   "version": "3.7.3"
  }
 },
 "nbformat": 4,
 "nbformat_minor": 2
}
