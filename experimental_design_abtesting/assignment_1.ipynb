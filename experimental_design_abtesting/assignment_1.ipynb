{
 "cells": [
  {
   "cell_type": "markdown",
   "metadata": {},
   "source": [
    "## Experimental Design and A/B Testing\n",
    "### Assignment1"
   ]
  },
  {
   "cell_type": "markdown",
   "metadata": {},
   "source": [
    "**Does a new supplement help people sleep better?**"
   ]
  },
  {
   "cell_type": "markdown",
   "metadata": {},
   "source": [
    "to design the experiment for determining whether a new supplement help people sleep better or not.<br/>\n",
    "1.in this case our treatment is 'new supplement' in which we will try to find its effect on sleep \n",
    "behaviour and the control which is the normal sleep behaviour with out applying the treatment.Our population will be \n",
    "adults between certain age groups and we draw sample of almost equal proportions of male and female to avoid gender difference effect."
   ]
  },
  {
   "cell_type": "markdown",
   "metadata": {},
   "source": [
    "2.we will draw a sample from our population; The first round of recording will be the the control and the second round of record will be after treatment is applied to that same sample.We have to make sure that the two recordings are in different columns for comparison and analysis purpose."
   ]
  },
  {
   "cell_type": "markdown",
   "metadata": {},
   "source": [
    "3.The main purpose of this study is to check the effect of the treatment (new supplement) on sleep behaviour.In this \n",
    "case the supplement was assumingly made for inhencing better sleep,therefore our hypothesis is that people who use the new supplement sleep longer uninterupted sleeps. \n"
   ]
  },
  {
   "cell_type": "markdown",
   "metadata": {},
   "source": [
    "4.We will use the length of uninterupted sleep time as our key-metric.For the control column we will record the normal sleep behaviour of the people in the sample before the treatment was applied.And then we will give the supplement to each member in the sample and record their sleep duration into the treatment column again after the supplement was applied.The main challenge in reality is that,we have to depend on the response of the people for the outcomes and this main bring about a bias to our data.the people may not respond acurately and also the mental condition of each and every one has to be about the same which is quite defficult to determine."
   ]
  },
  {
   "cell_type": "markdown",
   "metadata": {},
   "source": [
    "5.Age and sex are another important factors that may compromise the similiarity of our samples.Another key factor that \n",
    "we may need to consider when we are accessing the benefit(sleep inhancement) of our treatment is that does the subject \n",
    "wakeup on time.Is there any negative effect of the treatment?or we may use some amount of sound frequency to check on how much deeper they have slept and we can use that as a secondary metric."
   ]
  },
  {
   "cell_type": "markdown",
   "metadata": {},
   "source": [
    "**Will new uniforms help a gym's business?**"
   ]
  },
  {
   "cell_type": "markdown",
   "metadata": {},
   "source": [
    "1. In this senario we will have to use all the people who visit the gym when old uniform for the first group record \n",
    "and all when new uniform for the second group record.The treatment is having the new uniform and the control is \n",
    "having the old uniform."
   ]
  },
  {
   "cell_type": "markdown",
   "metadata": {},
   "source": [
    "2. There is no sample to draw,we will depend on the data with all the visits in specific time for certain period \n",
    "when old uniform and then we repeat the same process when new uniform."
   ]
  },
  {
   "cell_type": "markdown",
   "metadata": {},
   "source": [
    "3. We expect the gym subscription will be higher when new uniform."
   ]
  },
  {
   "cell_type": "markdown",
   "metadata": {},
   "source": [
    "4.The key metric for the outcome record is proportion of subscription per dailly visits for a number of days."
   ]
  },
  {
   "cell_type": "markdown",
   "metadata": {},
   "source": [
    "5.To insure the two groups are similiar we have to consider developing awareness to words the timing of the data \n",
    "collection interms of seasonality,compare the similiarity of the number of visits in each day for both the treatment \n",
    "and the control groups,No additional services or promotions or gym instruments are added during the comparison periods.\n",
    " "
   ]
  },
  {
   "cell_type": "markdown",
   "metadata": {},
   "source": [
    "**Will a new homepage improve my online exotic pet rental business?**"
   ]
  },
  {
   "cell_type": "markdown",
   "metadata": {},
   "source": [
    "1.checking for the effect of a new homepage means there was another existing homepage already.Therefore the two \n",
    "groups that we will be comparing are the business performance when the previous homepage which is our control group \n",
    "versus when a new homepage our treatment group."
   ]
  },
  {
   "cell_type": "markdown",
   "metadata": {},
   "source": [
    "2.To draw samples for comparing old homepage's and new homepage's effect difference on the exotic pet rental business performance,lets systemstematically random sample a number of visits from the record of previous month total visits and lets do the same for the new homepage for next month.We have to make sure that two months visits to be compared are as similiar as possible interms of expected visits to exotic pet businesses for instence such as holiday seasons,students and childrens off school seasons and so forth."
   ]
  },
  {
   "cell_type": "markdown",
   "metadata": {},
   "source": [
    "3.The hypothesis in this case will be that the new Homepage will improve my online exotic pet rental business."
   ]
  },
  {
   "cell_type": "markdown",
   "metadata": {},
   "source": [
    "4.So when it comes to the outcome of our testing,to improve my business i have to get some bookings or conversions.\n",
    "Therefore my key_metric is the conversion rate."
   ]
  },
  {
   "cell_type": "markdown",
   "metadata": {},
   "source": [
    "5.Other factors that may affect the analysis is that the conversion rate that we got from the new homepage might \n",
    "have been the result of consecutive visits on the old homepage by the same people who happened to deside inadvance to \n",
    "book but ended booking during the new homepage.We can also consider secondary metrics like the length of time spent \n",
    "on the site,this metric may help us determine the performance over a lengthy time,because when people spend more time \n",
    "on a website the conversion rate gets better overtime as people may consider booking any time in the future when a need arises."
   ]
  },
  {
   "cell_type": "markdown",
   "metadata": {},
   "source": [
    "**If I put 'please read' in the email subject will more people read my emails?**"
   ]
  },
  {
   "cell_type": "markdown",
   "metadata": {},
   "source": [
    "1.To perform this testing we will need to experimental groups.The first group is the control group which will consist \n",
    "emails sent to a number of randomly selected people with out the \"please read\" or we may use a random sample from \n",
    "existing data of emails sent with out 'please read'.The Second group is the treatment group,and it consists of randomly sent emails with the 'please read' in the email subject."
   ]
  },
  {
   "cell_type": "markdown",
   "metadata": {},
   "source": [
    "2.We have to use proper random sampling methodology in drawing our sample.we have to make sure that the randomization \n",
    "considered age,gender,locations,email addresses types and so forth.From the list of emails we have we randomly select\n",
    "two similiar groups and send two emails to all the receipent in the first sample with out 'please read' subject and \n",
    "send another email with the 'please read' subject to the second group."
   ]
  },
  {
   "cell_type": "markdown",
   "metadata": {},
   "source": [
    "3.The hypothesis is,if I put 'please read' in the email subject more people will read my emails."
   ]
  },
  {
   "cell_type": "markdown",
   "metadata": {},
   "source": [
    "4.The key_metric for our test is the number of people or proportion of people who clicked or read the emails out of each sample."
   ]
  },
  {
   "cell_type": "markdown",
   "metadata": {},
   "source": [
    "5.as a secodary meric we can also try to access which gender generated more email click after the treatment or \n",
    "age group or any other group which we can segment from our main testing."
   ]
  },
  {
   "cell_type": "code",
   "execution_count": null,
   "metadata": {},
   "outputs": [],
   "source": []
  }
 ],
 "metadata": {
  "kernelspec": {
   "display_name": "Python 3",
   "language": "python",
   "name": "python3"
  },
  "language_info": {
   "codemirror_mode": {
    "name": "ipython",
    "version": 3
   },
   "file_extension": ".py",
   "mimetype": "text/x-python",
   "name": "python",
   "nbconvert_exporter": "python",
   "pygments_lexer": "ipython3",
   "version": "3.7.3"
  }
 },
 "nbformat": 4,
 "nbformat_minor": 2
}
