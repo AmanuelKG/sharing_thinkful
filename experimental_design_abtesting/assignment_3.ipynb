{
 "cells": [
  {
   "cell_type": "markdown",
   "metadata": {},
   "source": [
    "## ASSIGNMENT_3"
   ]
  },
  {
   "cell_type": "markdown",
   "metadata": {},
   "source": [
    "### Challenge: Evaluate an experiment analysis"
   ]
  },
  {
   "cell_type": "markdown",
   "metadata": {},
   "source": [
    "1.I believe the approach used in this case will cause bias in the analysis as we are trying to compare a slogan which was in practice as new with a new slogan.The better approach would be from my perspective to use the mean recruiting from the data on hand for the \"anger\" slogan and use it to compare to the new slogan mean from randomly selected droids with no correlation to the previuos once to avoid bias in our inference.further more it is good to check the popularity of the 'anger' slogan overtime to check if it is depreciating or steady or appreciating,as there are psychological aspects of human brain that can have a good play in this case,such as relating the slogan to certain event or impression or on the other side some thing new may need time to gain popularity."
   ]
  },
  {
   "cell_type": "markdown",
   "metadata": {},
   "source": [
    "2.one of the obvious errors which has been made is the two envoys where compared on to completely disimiliar samples.The other error was that the samples were not random.This is a perfect example of Simpson's Paradox.The analytical approach should have to be selecting randomly two friendly planets from the four and assign to one of the envoys and the remaining to to the other envoy.i would advice to do the same with the unfriendly planets,2 randomly selected to be assigned to one of the envoys and the reamining to to the other.But our assumption is that both the four planets are equally friendly or equally unfriendly."
   ]
  },
  {
   "cell_type": "markdown",
   "metadata": {},
   "source": [
    "3.The concentration of most of the HR workers in three countries will lead this analysis in to Simpson's Paradox because the three countries will deffinitely deviate the overall mean of the HR workers satisfaction rating to words their mean.so even if the satisfaction rate is 0 in the two countries in the HR department the resulting mean will fail to address that issue.the better approach would be averaging the satisfaction rates in each countries and then averaging those average values to get the overall average."
   ]
  },
  {
   "cell_type": "markdown",
   "metadata": {},
   "source": [
    "4.they say people's activity levels rise steadily.But who are those people? Do they represent the whole population? May be those who have used it are people of the same characteristic like for instance they might be planning to increase their activity level inadvance of the app.So if that is the case if you are not like them then chances are you will behave differently with the app.So what i would recommend to be a better approach is to apply each version to as random people as possible to avoid bias.I would devide homegneous stratas and random sample from each strata the same number of samples and form the bigger combined sample to do my analysis. "
   ]
  },
  {
   "cell_type": "markdown",
   "metadata": {},
   "source": [
    "5.This test has bias,it has not eliminated the possibility that exam B might have been provided to the above average students.for the proper allocation of the three versions of test,i would have made sure first to devide the students in to equal and randomly devided similiar 3 samples and then apply each exam to each sample group."
   ]
  },
  {
   "cell_type": "code",
   "execution_count": null,
   "metadata": {},
   "outputs": [],
   "source": []
  }
 ],
 "metadata": {
  "kernelspec": {
   "display_name": "Python 3",
   "language": "python",
   "name": "python3"
  },
  "language_info": {
   "codemirror_mode": {
    "name": "ipython",
    "version": 3
   },
   "file_extension": ".py",
   "mimetype": "text/x-python",
   "name": "python",
   "nbconvert_exporter": "python",
   "pygments_lexer": "ipython3",
   "version": "3.7.3"
  }
 },
 "nbformat": 4,
 "nbformat_minor": 2
}
