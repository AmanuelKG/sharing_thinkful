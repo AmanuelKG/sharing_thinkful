{
 "cells": [
  {
   "cell_type": "code",
   "execution_count": 1,
   "metadata": {},
   "outputs": [],
   "source": [
    "%matplotlib inline\n",
    "import numpy as np\n",
    "import pandas as pd\n",
    "import scipy\n",
    "import sklearn\n",
    "import spacy\n",
    "import matplotlib.pyplot as plt\n",
    "import seaborn as sns\n",
    "import re\n",
    "from nltk.corpus import gutenberg, stopwords"
   ]
  },
  {
   "cell_type": "code",
   "execution_count": 2,
   "metadata": {},
   "outputs": [],
   "source": [
    "# Utility function to clean text.\n",
    "def text_cleaner(text):\n",
    "    \n",
    "    # Visual inspection shows spaCy does not recognize the double dash '--'.\n",
    "    # Better get rid of it now!\n",
    "    text = re.sub(r'--',' ',text)\n",
    "    \n",
    "    # Get rid of headings in square brackets.\n",
    "    text = re.sub(\"[\\[].*?[\\]]\", \"\", text)\n",
    "    \n",
    "    # Get rid of chapter titles.\n",
    "    text = re.sub(r'Chapter \\d+','',text)\n",
    "    \n",
    "    # Get rid of extra whitespace.\n",
    "    text = ' '.join(text.split())\n",
    "    \n",
    "    return text[0:900000]\n",
    "\n",
    "\n",
    "# Import all the Austen in the Project Gutenberg corpus.\n",
    "austen = \"\"\n",
    "for novel in ['persuasion','emma','sense']:\n",
    "    work = gutenberg.raw('austen-' + novel + '.txt')\n",
    "    austen = austen + work\n",
    "\n",
    "# Clean the data.\n",
    "austen_clean = text_cleaner(austen)"
   ]
  },
  {
   "cell_type": "code",
   "execution_count": 4,
   "metadata": {},
   "outputs": [],
   "source": [
    "# Parse the data. This can take some time.\n",
    "nlp = spacy.load('en_core_web_sm')\n",
    "austen_doc = nlp(austen_clean)"
   ]
  },
  {
   "cell_type": "code",
   "execution_count": 5,
   "metadata": {},
   "outputs": [
    {
     "name": "stdout",
     "output_type": "stream",
     "text": [
      "['daughter', 'eld', 'give', 'thing', 'tempt']\n",
      "We have 8323 sentences and 900000 tokens.\n"
     ]
    }
   ],
   "source": [
    "# Organize the parsed doc into sentences, while filtering out punctuation\n",
    "# and stop words, and converting words to lower case lemmas.\n",
    "sentences = []\n",
    "for sentence in austen_doc.sents:\n",
    "    sentence = [\n",
    "        token.lemma_.lower()\n",
    "        for token in sentence\n",
    "        if not token.is_stop\n",
    "        and not token.is_punct\n",
    "    ]\n",
    "    sentences.append(sentence)\n",
    "\n",
    "\n",
    "print(sentences[20])\n",
    "print('We have {} sentences and {} tokens.'.format(len(sentences), len(austen_clean)))"
   ]
  },
  {
   "cell_type": "code",
   "execution_count": 6,
   "metadata": {},
   "outputs": [
    {
     "name": "stdout",
     "output_type": "stream",
     "text": [
      "done!\n"
     ]
    }
   ],
   "source": [
    "import gensim\n",
    "from gensim.models import word2vec\n",
    "\n",
    "model = word2vec.Word2Vec(\n",
    "    sentences,\n",
    "    workers=4,     # Number of threads to run in parallel (if your computer does parallel processing).\n",
    "    min_count=10,  # Minimum word count threshold.\n",
    "    window=6,      # Number of words around target word to consider.\n",
    "    sg=0,          # Use CBOW because our corpus is small.\n",
    "    sample=1e-3 ,  # Penalize frequent words.\n",
    "    size=300,      # Word vector length.\n",
    "    hs=1           # Use hierarchical softmax.\n",
    ")\n",
    "\n",
    "print('done!')"
   ]
  },
  {
   "cell_type": "code",
   "execution_count": 7,
   "metadata": {},
   "outputs": [
    {
     "name": "stdout",
     "output_type": "stream",
     "text": [
      "[('musgrove', 0.8991125226020813), ('clay', 0.8775729537010193), ('benwick', 0.8763314485549927), ('goddard', 0.8737025260925293), ('harville', 0.8607302904129028), ('wentworth', 0.829587459564209), ('colonel', 0.7991381883621216), ('hall', 0.7819957733154297), ('room', 0.7712162733078003), ('join', 0.7599485516548157)]\n",
      "0.8842774\n",
      "marriage\n"
     ]
    },
    {
     "name": "stderr",
     "output_type": "stream",
     "text": [
      "/Library/Frameworks/Python.framework/Versions/3.7/lib/python3.7/site-packages/ipykernel_launcher.py:11: DeprecationWarning: Call to deprecated `doesnt_match` (Method will be removed in 4.0.0, use self.wv.doesnt_match() instead).\n",
      "  # This is added back by InteractiveShellApp.init_path()\n",
      "/Library/Frameworks/Python.framework/Versions/3.7/lib/python3.7/site-packages/gensim/models/keyedvectors.py:877: FutureWarning: arrays to stack must be passed as a \"sequence\" type such as list or tuple. Support for non-sequence iterables such as generators is deprecated as of NumPy 1.16 and will raise an error in the future.\n",
      "  vectors = vstack(self.word_vec(word, use_norm=True) for word in used_words).astype(REAL)\n"
     ]
    }
   ],
   "source": [
    "# List of words in model.\n",
    "vocab = model.wv.vocab.keys()\n",
    "\n",
    "print(model.wv.most_similar(positive=['lady', 'man'], negative=['woman']))\n",
    "\n",
    "# Similarity is calculated using the cosine, so again 1 is total\n",
    "# similarity and 0 is no similarity.\n",
    "print(model.wv.similarity('mr', 'mrs'))\n",
    "\n",
    "# One of these things is not like the other...\n",
    "print(model.doesnt_match(\"breakfast marriage dinner lunch\".split()))"
   ]
  },
  {
   "cell_type": "markdown",
   "metadata": {},
   "source": [
    "From my understanding The only parameters to twick in oreder to tune our word2vec model are 'sg'(skip-gram)= 1 which is good when the word counts is large or 0(CBOW) otherwise.the 'size' which is the word vector length and the 'hs' which is either heirarchical as 1 and Negative sampling as 0.'sg' is oviously 0 or CBOW because of small number of words."
   ]
  },
  {
   "cell_type": "code",
   "execution_count": 8,
   "metadata": {},
   "outputs": [],
   "source": [
    "param = {'size':range(100,400,50), 'hs': [0,1]}"
   ]
  },
  {
   "cell_type": "code",
   "execution_count": 11,
   "metadata": {},
   "outputs": [
    {
     "name": "stdout",
     "output_type": "stream",
     "text": [
      "[('benwick', 0.8306616544723511), ('clay', 0.8245633840560913), ('musgrove', 0.8101413249969482), ('harville', 0.8091698884963989), ('colonel', 0.7965329885482788), ('goddard', 0.7832509279251099), ('excessively', 0.7648067474365234), ('wentworth', 0.755462110042572), ('wallis', 0.7505685091018677), ('croft', 0.7495462894439697)]\n",
      "0.8556001\n",
      "marriage\n",
      "[('benwick', 0.8825939893722534), ('harville', 0.8727622628211975), ('clay', 0.8672301769256592), ('hall', 0.85158371925354), ('musgrove', 0.8512271642684937), ('navy', 0.8282572031021118), ('wentworth', 0.8096705079078674), ('goddard', 0.8042337894439697), ('charles', 0.8005120158195496), ('room', 0.7979660630226135)]\n",
      "0.8628302\n",
      "marriage\n",
      "[('clay', 0.8836112022399902), ('benwick', 0.8775843381881714), ('harville', 0.8717120885848999), ('musgrove', 0.8633527159690857), ('hall', 0.8589537143707275), ('wentworth', 0.8165450692176819), ('navy', 0.8146291971206665), ('room', 0.8055905103683472), ('goddard', 0.805363655090332), ('charles', 0.8023181557655334)]\n",
      "0.8746258\n",
      "marriage\n",
      "[('clay', 0.8769358992576599), ('musgrove', 0.8676972985267639), ('benwick', 0.8621898889541626), ('goddard', 0.853995680809021), ('harville', 0.8440324664115906), ('wentworth', 0.8100854754447937), ('hall', 0.8081294298171997), ('colonel', 0.8045728802680969), ('croft', 0.8012937903404236), ('join', 0.7857134342193604)]\n",
      "0.877976\n",
      "marriage\n",
      "[('benwick', 0.8998183608055115), ('harville', 0.8979170322418213), ('clay', 0.8896130323410034), ('musgrove', 0.8808034658432007), ('hall', 0.8805765509605408), ('navy', 0.84992915391922), ('charles', 0.8450836539268494), ('room', 0.8420854806900024), ('goddard', 0.8388226628303528), ('wentworth', 0.8384198546409607)]\n",
      "0.89567983\n",
      "marriage\n",
      "[('harville', 0.92417973279953), ('benwick', 0.9134283661842346), ('musgrove', 0.8990160822868347), ('clay', 0.8979461193084717), ('wentworth', 0.8979024887084961), ('charles', 0.8797827363014221), ('hall', 0.8730164766311646), ('goddard', 0.8691591024398804), ('navy', 0.8514997959136963), ('colonel', 0.8504980802536011)]\n",
      "0.90705246\n",
      "marriage\n",
      "done!\n"
     ]
    }
   ],
   "source": [
    "for i in param['size']:\n",
    "    for j in param['hs']:\n",
    "        model = word2vec.Word2Vec(\n",
    "                        sentences,\n",
    "                        workers=4,     # Number of threads to run in parallel (if your computer does parallel processing).\n",
    "                        min_count=10,  # Minimum word count threshold.\n",
    "                        window=6,      # Number of words around target word to consider.\n",
    "                        sg=0,          # Use CBOW because our corpus is small.\n",
    "                        sample=1e-3 ,  # Penalize frequent words.\n",
    "                        size= i,      # Word vector length.\n",
    "                        hs=j           # Use hierarchical softmax.\n",
    "                        )\n",
    "        # List of words in model.\n",
    "    vocab = model.wv.vocab.keys()\n",
    "\n",
    "    print(model.wv.most_similar(positive=['lady', 'man'], negative=['woman']))\n",
    "\n",
    "# Similarity is calculated using the cosine, so again 1 is total\n",
    "# similarity and 0 is no similarity.\n",
    "    print(model.wv.similarity('mr', 'mrs'))\n",
    "\n",
    "# One of these things is not like the other...\n",
    "    print(model.doesnt_match(\"breakfast marriage dinner lunch\".split()))\n",
    "\n",
    "print('done!')"
   ]
  },
  {
   "cell_type": "markdown",
   "metadata": {},
   "source": [
    "It Looks like it best performed when used 'hs'= 1 and 'size' = 350 however it seems that there is some level of overfitting."
   ]
  },
  {
   "cell_type": "code",
   "execution_count": null,
   "metadata": {},
   "outputs": [],
   "source": []
  }
 ],
 "metadata": {
  "kernelspec": {
   "display_name": "Python 3",
   "language": "python",
   "name": "python3"
  },
  "language_info": {
   "codemirror_mode": {
    "name": "ipython",
    "version": 3
   },
   "file_extension": ".py",
   "mimetype": "text/x-python",
   "name": "python",
   "nbconvert_exporter": "python",
   "pygments_lexer": "ipython3",
   "version": "3.7.3"
  }
 },
 "nbformat": 4,
 "nbformat_minor": 2
}
