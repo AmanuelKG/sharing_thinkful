{
 "cells": [
  {
   "cell_type": "markdown",
   "metadata": {},
   "source": [
    "## BASICS OF PROBABILITY(ASSIGNMENT3)##"
   ]
  },
  {
   "cell_type": "markdown",
   "metadata": {},
   "source": [
    "**1.Calculate the probability of flipping a balanced coin four times and getting each pattern: HTTH, HHHH and TTHH.**"
   ]
  },
  {
   "cell_type": "code",
   "execution_count": 9,
   "metadata": {},
   "outputs": [],
   "source": [
    "# THE P(H) == P(T) == 1/2.\n",
    "#THE DRAWS ARE INDEPENDENT TO ONE ANOTHER SO OVER ALL PROBABILITY FOR THE THREE OCCURENCES IS equal i.e \n",
    "#p(HTTH) == P(HHHH) == P(TTHH) AND CAN BE CALCULATED as; \n",
    "P = 1/2 * 1/2 * 1/2 "
   ]
  },
  {
   "cell_type": "code",
   "execution_count": 8,
   "metadata": {},
   "outputs": [
    {
     "data": {
      "text/plain": [
       "0.125"
      ]
     },
     "execution_count": 8,
     "metadata": {},
     "output_type": "execute_result"
    }
   ],
   "source": [
    "P"
   ]
  },
  {
   "cell_type": "markdown",
   "metadata": {},
   "source": [
    "**2. If a list of people has 24 women and 21 men, then the probability of choosing a man from the list is 21/45. \n",
    "What is the probability of not choosing a man?f a list of people has 24 women and 21 men, then the probability \n",
    "of choosing a man from the list is 21/45. What is the probability of not choosing a man?**2.** \n"
   ]
  },
  {
   "cell_type": "code",
   "execution_count": 11,
   "metadata": {},
   "outputs": [],
   "source": [
    "#the probability of not chosing a man is equivalent to probability of chosing a woman.\n",
    "#lets try both ways;\n",
    "total_probability = 1\n",
    "p_man = 21/45\n",
    "p_women = 24/45\n",
    "p_not_man = 1 - 21/45 == 24/45 == p_women"
   ]
  },
  {
   "cell_type": "markdown",
   "metadata": {},
   "source": [
    "**3.The probability that Bernice will travel by plane sometime in the next year is 10%. The probability of a plane \n",
    "crash at any time is .005%. What is the probability that Bernice will be in a plane crash sometime in the next year?**"
   ]
  },
  {
   "cell_type": "code",
   "execution_count": 12,
   "metadata": {},
   "outputs": [
    {
     "data": {
      "text/plain": [
       "5e-06"
      ]
     },
     "execution_count": 12,
     "metadata": {},
     "output_type": "execute_result"
    }
   ],
   "source": [
    "#Lets make it like this;if Bernice is surely (100%) to travel next year probability she will be involved in a plane \n",
    "#crach is 0.005%, but since her probability of travel is 10%;\n",
    "P = 0.1 * 0.00005 \n",
    "P"
   ]
  },
  {
   "cell_type": "markdown",
   "metadata": {},
   "source": [
    "**i.e 0.0005%**"
   ]
  },
  {
   "cell_type": "markdown",
   "metadata": {},
   "source": [
    "**4.A data scientist wants to study the behavior of users on the company website. Each time a user clicks on a link on the website, there is a 5% chance that the user will be asked to complete a short survey about their behavior on the website. The data scientist uses the survey data to conclude that, on average, users spend 15 minutes surfing the company website before moving on to other things. What is wrong with this conclusion?**"
   ]
  },
  {
   "cell_type": "markdown",
   "metadata": {},
   "source": [
    "**Answer: From my stand point The data collected has a big chance to be biased and misrepresenting.Because,out of the users \n",
    "asked to fill the survey,only certain people with similiar characterstics might have filled the survey.And that \n",
    "may not represent the activity of the population of users.**"
   ]
  },
  {
   "cell_type": "markdown",
   "metadata": {},
   "source": [
    "### Drill 2"
   ]
  },
  {
   "cell_type": "code",
   "execution_count": 19,
   "metadata": {},
   "outputs": [],
   "source": [
    "##Lets Say we have 10000 people that we want to apply the test on**\n",
    "# 0.5% people are estimated to be suffering \n",
    "total_no = 10000\n",
    "P_suffering = 0.005 \n",
    "no_suffering = total_no * 0.005\n",
    "p_tp = p_positive_gt_suffering = 0.98 #p_tp refers to probability of true positives\n",
    "no_tp = p_tp * no_suffering\n",
    "p_fn = p_negative_gt_suffering = (1 - p_positive_gt_suffering)\n",
    "no_fn = p_fn * no_suffering\n",
    "#--------next.....out of non-sufferers.............\n",
    "p_nonsuffering = 0.995\n",
    "no_nonsuffering = total_no * p_nonsuffering\n",
    "p_fp = p_positive_gt_nonsuffering = 0.1\n",
    "no_fp = no_nonsuffering * p_fp\n",
    "p_tn = p_negative_gt_nonsuffering = (1 - p_positive_gt_nonsuffering)\n",
    "no_tn = no_nonsuffering * p_tn"
   ]
  },
  {
   "cell_type": "code",
   "execution_count": 20,
   "metadata": {},
   "outputs": [
    {
     "data": {
      "text/plain": [
       "0.1044"
      ]
     },
     "execution_count": 20,
     "metadata": {},
     "output_type": "execute_result"
    }
   ],
   "source": [
    "1.Probability of the test to be positive is\n",
    "(no_tp + no_fp)/total_no"
   ]
  },
  {
   "cell_type": "code",
   "execution_count": 25,
   "metadata": {},
   "outputs": [
    {
     "data": {
      "text/plain": [
       "0.98"
      ]
     },
     "execution_count": 25,
     "metadata": {},
     "output_type": "execute_result"
    }
   ],
   "source": [
    "2.probability of Correctly diagnose a sufferer of Thripshaw's; meaning probability of true positive\n",
    "p_tp"
   ]
  },
  {
   "cell_type": "code",
   "execution_count": 22,
   "metadata": {},
   "outputs": [
    {
     "data": {
      "text/plain": [
       "0.9"
      ]
     },
     "execution_count": 22,
     "metadata": {},
     "output_type": "execute_result"
    }
   ],
   "source": [
    "3.probability of Correctly identifying a non-sufferer of Thripshaw's; meaning probability of true negative\n",
    "p_tn"
   ]
  },
  {
   "cell_type": "code",
   "execution_count": 23,
   "metadata": {},
   "outputs": [
    {
     "data": {
      "text/plain": [
       "0.12000000000000002"
      ]
     },
     "execution_count": 23,
     "metadata": {},
     "output_type": "execute_result"
    }
   ],
   "source": [
    "4.misclassifying the person;meaning probability of false positives and false negatives\n",
    "p_fn + p_fp"
   ]
  },
  {
   "cell_type": "code",
   "execution_count": null,
   "metadata": {},
   "outputs": [],
   "source": []
  }
 ],
 "metadata": {
  "kernelspec": {
   "display_name": "Python 3",
   "language": "python",
   "name": "python3"
  },
  "language_info": {
   "codemirror_mode": {
    "name": "ipython",
    "version": 3
   },
   "file_extension": ".py",
   "mimetype": "text/x-python",
   "name": "python",
   "nbconvert_exporter": "python",
   "pygments_lexer": "ipython3",
   "version": "3.7.3"
  }
 },
 "nbformat": 4,
 "nbformat_minor": 2
}
