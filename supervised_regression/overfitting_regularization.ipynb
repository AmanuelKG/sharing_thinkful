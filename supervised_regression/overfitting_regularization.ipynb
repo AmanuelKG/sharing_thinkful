{
 "cells": [
  {
   "cell_type": "markdown",
   "metadata": {},
   "source": [
    "### Overfitting and Regularization assignment"
   ]
  },
  {
   "cell_type": "code",
   "execution_count": 1,
   "metadata": {},
   "outputs": [],
   "source": [
    "import numpy as np\n",
    "import pandas as pd\n",
    "from sklearn.linear_model import LinearRegression, LassoCV, RidgeCV, ElasticNetCV\n",
    "from sklearn.model_selection import train_test_split\n",
    "from sklearn.metrics import mean_absolute_error\n",
    "from statsmodels.tools.eval_measures import mse, rmse\n",
    "import matplotlib.pyplot as plt\n",
    "from sqlalchemy import create_engine\n",
    "%matplotlib inline\n",
    "pd.options.display.float_format = '{:.3f}'.format\n",
    "\n",
    "import warnings\n",
    "warnings.filterwarnings(action=\"ignore\")\n",
    "\n",
    "postgres_user = 'dsbc_student'\n",
    "postgres_pw = '7*.8G9QH21'\n",
    "postgres_host = '142.93.121.174'\n",
    "postgres_port = '5432'\n",
    "postgres_db = 'houseprices'\n",
    "\n",
    "\n",
    "engine = create_engine('postgresql://{}:{}@{}:{}/{}'.format(\n",
    "    postgres_user, postgres_pw, postgres_host, postgres_port, postgres_db))\n",
    "\n",
    "houseprices = pd.read_sql_query('select * from houseprices',con=engine)\n",
    "\n",
    "engine.dispose()"
   ]
  },
  {
   "cell_type": "code",
   "execution_count": 2,
   "metadata": {},
   "outputs": [
    {
     "data": {
      "text/html": [
       "<div>\n",
       "<style scoped>\n",
       "    .dataframe tbody tr th:only-of-type {\n",
       "        vertical-align: middle;\n",
       "    }\n",
       "\n",
       "    .dataframe tbody tr th {\n",
       "        vertical-align: top;\n",
       "    }\n",
       "\n",
       "    .dataframe thead th {\n",
       "        text-align: right;\n",
       "    }\n",
       "</style>\n",
       "<table border=\"1\" class=\"dataframe\">\n",
       "  <thead>\n",
       "    <tr style=\"text-align: right;\">\n",
       "      <th></th>\n",
       "      <th>id</th>\n",
       "      <th>mssubclass</th>\n",
       "      <th>mszoning</th>\n",
       "      <th>lotfrontage</th>\n",
       "      <th>lotarea</th>\n",
       "      <th>street</th>\n",
       "      <th>alley</th>\n",
       "      <th>lotshape</th>\n",
       "      <th>landcontour</th>\n",
       "      <th>utilities</th>\n",
       "      <th>...</th>\n",
       "      <th>poolarea</th>\n",
       "      <th>poolqc</th>\n",
       "      <th>fence</th>\n",
       "      <th>miscfeature</th>\n",
       "      <th>miscval</th>\n",
       "      <th>mosold</th>\n",
       "      <th>yrsold</th>\n",
       "      <th>saletype</th>\n",
       "      <th>salecondition</th>\n",
       "      <th>saleprice</th>\n",
       "    </tr>\n",
       "  </thead>\n",
       "  <tbody>\n",
       "    <tr>\n",
       "      <th>0</th>\n",
       "      <td>1</td>\n",
       "      <td>60</td>\n",
       "      <td>RL</td>\n",
       "      <td>65.000</td>\n",
       "      <td>8450</td>\n",
       "      <td>Pave</td>\n",
       "      <td>None</td>\n",
       "      <td>Reg</td>\n",
       "      <td>Lvl</td>\n",
       "      <td>AllPub</td>\n",
       "      <td>...</td>\n",
       "      <td>0</td>\n",
       "      <td>None</td>\n",
       "      <td>None</td>\n",
       "      <td>None</td>\n",
       "      <td>0</td>\n",
       "      <td>2</td>\n",
       "      <td>2008</td>\n",
       "      <td>WD</td>\n",
       "      <td>Normal</td>\n",
       "      <td>208500</td>\n",
       "    </tr>\n",
       "    <tr>\n",
       "      <th>1</th>\n",
       "      <td>2</td>\n",
       "      <td>20</td>\n",
       "      <td>RL</td>\n",
       "      <td>80.000</td>\n",
       "      <td>9600</td>\n",
       "      <td>Pave</td>\n",
       "      <td>None</td>\n",
       "      <td>Reg</td>\n",
       "      <td>Lvl</td>\n",
       "      <td>AllPub</td>\n",
       "      <td>...</td>\n",
       "      <td>0</td>\n",
       "      <td>None</td>\n",
       "      <td>None</td>\n",
       "      <td>None</td>\n",
       "      <td>0</td>\n",
       "      <td>5</td>\n",
       "      <td>2007</td>\n",
       "      <td>WD</td>\n",
       "      <td>Normal</td>\n",
       "      <td>181500</td>\n",
       "    </tr>\n",
       "    <tr>\n",
       "      <th>2</th>\n",
       "      <td>3</td>\n",
       "      <td>60</td>\n",
       "      <td>RL</td>\n",
       "      <td>68.000</td>\n",
       "      <td>11250</td>\n",
       "      <td>Pave</td>\n",
       "      <td>None</td>\n",
       "      <td>IR1</td>\n",
       "      <td>Lvl</td>\n",
       "      <td>AllPub</td>\n",
       "      <td>...</td>\n",
       "      <td>0</td>\n",
       "      <td>None</td>\n",
       "      <td>None</td>\n",
       "      <td>None</td>\n",
       "      <td>0</td>\n",
       "      <td>9</td>\n",
       "      <td>2008</td>\n",
       "      <td>WD</td>\n",
       "      <td>Normal</td>\n",
       "      <td>223500</td>\n",
       "    </tr>\n",
       "    <tr>\n",
       "      <th>3</th>\n",
       "      <td>4</td>\n",
       "      <td>70</td>\n",
       "      <td>RL</td>\n",
       "      <td>60.000</td>\n",
       "      <td>9550</td>\n",
       "      <td>Pave</td>\n",
       "      <td>None</td>\n",
       "      <td>IR1</td>\n",
       "      <td>Lvl</td>\n",
       "      <td>AllPub</td>\n",
       "      <td>...</td>\n",
       "      <td>0</td>\n",
       "      <td>None</td>\n",
       "      <td>None</td>\n",
       "      <td>None</td>\n",
       "      <td>0</td>\n",
       "      <td>2</td>\n",
       "      <td>2006</td>\n",
       "      <td>WD</td>\n",
       "      <td>Abnorml</td>\n",
       "      <td>140000</td>\n",
       "    </tr>\n",
       "    <tr>\n",
       "      <th>4</th>\n",
       "      <td>5</td>\n",
       "      <td>60</td>\n",
       "      <td>RL</td>\n",
       "      <td>84.000</td>\n",
       "      <td>14260</td>\n",
       "      <td>Pave</td>\n",
       "      <td>None</td>\n",
       "      <td>IR1</td>\n",
       "      <td>Lvl</td>\n",
       "      <td>AllPub</td>\n",
       "      <td>...</td>\n",
       "      <td>0</td>\n",
       "      <td>None</td>\n",
       "      <td>None</td>\n",
       "      <td>None</td>\n",
       "      <td>0</td>\n",
       "      <td>12</td>\n",
       "      <td>2008</td>\n",
       "      <td>WD</td>\n",
       "      <td>Normal</td>\n",
       "      <td>250000</td>\n",
       "    </tr>\n",
       "  </tbody>\n",
       "</table>\n",
       "<p>5 rows × 81 columns</p>\n",
       "</div>"
      ],
      "text/plain": [
       "   id  mssubclass mszoning  lotfrontage  lotarea street alley lotshape  \\\n",
       "0   1          60       RL       65.000     8450   Pave  None      Reg   \n",
       "1   2          20       RL       80.000     9600   Pave  None      Reg   \n",
       "2   3          60       RL       68.000    11250   Pave  None      IR1   \n",
       "3   4          70       RL       60.000     9550   Pave  None      IR1   \n",
       "4   5          60       RL       84.000    14260   Pave  None      IR1   \n",
       "\n",
       "  landcontour utilities  ... poolarea poolqc fence miscfeature miscval mosold  \\\n",
       "0         Lvl    AllPub  ...        0   None  None        None       0      2   \n",
       "1         Lvl    AllPub  ...        0   None  None        None       0      5   \n",
       "2         Lvl    AllPub  ...        0   None  None        None       0      9   \n",
       "3         Lvl    AllPub  ...        0   None  None        None       0      2   \n",
       "4         Lvl    AllPub  ...        0   None  None        None       0     12   \n",
       "\n",
       "  yrsold  saletype  salecondition  saleprice  \n",
       "0   2008        WD         Normal     208500  \n",
       "1   2007        WD         Normal     181500  \n",
       "2   2008        WD         Normal     223500  \n",
       "3   2006        WD        Abnorml     140000  \n",
       "4   2008        WD         Normal     250000  \n",
       "\n",
       "[5 rows x 81 columns]"
      ]
     },
     "execution_count": 2,
     "metadata": {},
     "output_type": "execute_result"
    }
   ],
   "source": [
    "houseprices.head()"
   ]
  },
  {
   "cell_type": "code",
   "execution_count": 3,
   "metadata": {},
   "outputs": [
    {
     "data": {
      "text/plain": [
       "Index(['mszoning', 'street', 'alley', 'lotshape', 'landcontour', 'utilities',\n",
       "       'lotconfig', 'landslope', 'neighborhood', 'condition1', 'condition2',\n",
       "       'bldgtype', 'housestyle', 'roofstyle', 'roofmatl', 'exterior1st',\n",
       "       'exterior2nd', 'masvnrtype', 'exterqual', 'extercond', 'foundation',\n",
       "       'bsmtqual', 'bsmtcond', 'bsmtexposure', 'bsmtfintype1', 'bsmtfintype2',\n",
       "       'heating', 'heatingqc', 'centralair', 'electrical', 'kitchenqual',\n",
       "       'functional', 'fireplacequ', 'garagetype', 'garagefinish', 'garagequal',\n",
       "       'garagecond', 'paveddrive', 'poolqc', 'fence', 'miscfeature',\n",
       "       'saletype', 'salecondition'],\n",
       "      dtype='object')"
      ]
     },
     "execution_count": 3,
     "metadata": {},
     "output_type": "execute_result"
    }
   ],
   "source": [
    "houseprices.select_dtypes(include = 'object').columns"
   ]
  },
  {
   "cell_type": "code",
   "execution_count": 4,
   "metadata": {},
   "outputs": [
    {
     "data": {
      "text/plain": [
       "Index(['id', 'mssubclass', 'lotfrontage', 'lotarea', 'overallqual',\n",
       "       'overallcond', 'yearbuilt', 'yearremodadd', 'masvnrarea', 'bsmtfinsf1',\n",
       "       'bsmtfinsf2', 'bsmtunfsf', 'totalbsmtsf', 'firstflrsf', 'secondflrsf',\n",
       "       'lowqualfinsf', 'grlivarea', 'bsmtfullbath', 'bsmthalfbath', 'fullbath',\n",
       "       'halfbath', 'bedroomabvgr', 'kitchenabvgr', 'totrmsabvgrd',\n",
       "       'fireplaces', 'garageyrblt', 'garagecars', 'garagearea', 'wooddecksf',\n",
       "       'openporchsf', 'enclosedporch', 'threessnporch', 'screenporch',\n",
       "       'poolarea', 'miscval', 'mosold', 'yrsold', 'saleprice'],\n",
       "      dtype='object')"
      ]
     },
     "execution_count": 4,
     "metadata": {},
     "output_type": "execute_result"
    }
   ],
   "source": [
    "houseprices.select_dtypes(include = ['int64', 'float64']).columns"
   ]
  },
  {
   "cell_type": "markdown",
   "metadata": {},
   "source": [
    "Lets fit the Linear Regression Model(OLs) but first lets determine our training and test datas for our model.For this model we will use the train/test split method and compare the preformance of our model based on the scores of the train data and test data,and determine if there is an overfitting in our model or not."
   ]
  },
  {
   "cell_type": "code",
   "execution_count": 5,
   "metadata": {},
   "outputs": [],
   "source": [
    "houseprices['is_z_centralair'] = pd.get_dummies(houseprices.centralair, drop_first=True)\n",
    "num_columns = ['overallqual','totalbsmtsf','firstflrsf','grlivarea','garagecars','garagearea'\n",
    "               , 'secondflrsf']\n",
    "houseprices['garage_cars_area'] = houseprices['garagecars'] * houseprices['garagearea']\n",
    "houseprices['first_second_flrsf'] = houseprices['firstflrsf'] * houseprices['secondflrsf']\n",
    "num_columns.extend(['is_z_centralair', 'garage_cars_area', 'first_second_flrsf'])\n",
    "garage_dummies = pd.get_dummies(houseprices.garagefinish, prefix = 'garagefinish', drop_first = True)\n",
    "houseprices = pd.concat([houseprices,garage_dummies], axis = 1)\n",
    "garage_cols = list(garage_dummies.columns)\n",
    "num_columns.extend(garage_cols)\n",
    "X = houseprices[num_columns]\n",
    "Y = houseprices['saleprice']"
   ]
  },
  {
   "cell_type": "code",
   "execution_count": 6,
   "metadata": {},
   "outputs": [],
   "source": [
    "X_train, X_test, Y_train, Y_test = train_test_split(X, Y, test_size = 0.25, random_state = 448 )"
   ]
  },
  {
   "cell_type": "code",
   "execution_count": 7,
   "metadata": {},
   "outputs": [],
   "source": [
    "ols_model = LinearRegression()\n",
    "ols_model.fit(X_train, Y_train);"
   ]
  },
  {
   "cell_type": "markdown",
   "metadata": {},
   "source": [
    "now lets predict the the sale price based both from the training and testing datas "
   ]
  },
  {
   "cell_type": "code",
   "execution_count": 8,
   "metadata": {},
   "outputs": [],
   "source": [
    "predicted_from_train = ols_model.predict(X_train)\n",
    "predicted_from_test = ols_model.predict(X_test)"
   ]
  },
  {
   "cell_type": "markdown",
   "metadata": {},
   "source": [
    "Lets move on and check the performance of our model using the measure metrics"
   ]
  },
  {
   "cell_type": "code",
   "execution_count": 9,
   "metadata": {},
   "outputs": [
    {
     "name": "stdout",
     "output_type": "stream",
     "text": [
      "The R-squared performance of the model from the training and testing data is : 0.808963720954686 and 0.6491280747467483 respectively\n",
      "The mean of squared errors(MSE) of the test model is: 2038824503.1904469\n",
      "The absolute mean error of the test model is: 24437.858537571312\n",
      "The root mean squared error of the test model is: 45153.344319003074\n",
      "The mean absolute percentage error of the test model is: 15.249982256971535\n"
     ]
    }
   ],
   "source": [
    "print('The R-squared performance of the model from the training and testing data is : {} and {} respectively'\n",
    "      .format(ols_model.score(X_train, Y_train), ols_model.score(X_test, Y_test)))\n",
    "print('The mean of squared errors(MSE) of the test model is: {}'.format(mse(Y_test, predicted_from_test)))\n",
    "print('The absolute mean error of the test model is: {}'.format(mean_absolute_error(Y_test, predicted_from_test)))\n",
    "print('The root mean squared error of the test model is: {}'.format(rmse(Y_test, predicted_from_test)))\n",
    "print('The mean absolute percentage error of the test model is: {}'\n",
    "      .format(np.mean(np.abs((Y_test - predicted_from_test)/Y_test) * 100)))"
   ]
  },
  {
   "cell_type": "markdown",
   "metadata": {},
   "source": [
    "From the R_squared result in the above, we can learn that our test data performed less than the training data.Lets try other models incase our model is sufering from over fitting.Lets try to regularize that using Ridge, Lasso and ElasticNet regression techniques.To come up with the optimum hyperparamater(parameter tunning) that minimizes our model's cost function lets use scikit-learn built in cross validation functions which selects the best from the list of hypermarameters."
   ]
  },
  {
   "cell_type": "code",
   "execution_count": 10,
   "metadata": {},
   "outputs": [
    {
     "name": "stdout",
     "output_type": "stream",
     "text": [
      "The Best parameter value is: 20.43359717856944\n",
      "The R-squared performance of the model from the training and testing data is : 0.8089604741343502 and 0.649064861341611 respectively\n",
      "The mean of squared errors(MSE) of the test model is: 2039191819.6670518\n",
      "The absolute mean error of the test model is: 24434.123882358897\n",
      "The root mean squared error of the test model is: 45157.41156960894\n",
      "The mean absolute percentage error of the test model is: 15.249262438861548\n"
     ]
    }
   ],
   "source": [
    "alphas = np.logspace(-4, 10, 30)\n",
    "lasso_cv = LassoCV(alphas = alphas, cv = 5)\n",
    "lasso_cv.fit(X_train, Y_train)\n",
    "\n",
    "pred_train = lasso_cv.predict(X_train)\n",
    "pred_test = lasso_cv.predict(X_test)\n",
    "\n",
    "print(\"The Best parameter value is: {}\".format(lasso_cv.alpha_))\n",
    "print('The R-squared performance of the model from the training and testing data is : {} and {} respectively'\n",
    "      .format(lasso_cv.score(X_train, Y_train), lasso_cv.score(X_test, Y_test)))\n",
    "print('The mean of squared errors(MSE) of the test model is: {}'.format(mse(Y_test, pred_test)))\n",
    "print('The absolute mean error of the test model is: {}'.format(mean_absolute_error(Y_test, pred_test)))\n",
    "print('The root mean squared error of the test model is: {}'.format(rmse(Y_test, pred_test)))\n",
    "print('The mean absolute percentage error of the test model is: {}'\n",
    "      .format(np.mean(np.abs((Y_test - pred_test)/Y_test) * 100)))"
   ]
  },
  {
   "cell_type": "code",
   "execution_count": 11,
   "metadata": {},
   "outputs": [
    {
     "name": "stdout",
     "output_type": "stream",
     "text": [
      "The Best parameter value is: 0.7278953843983154\n",
      "The R-squared performance of the model from the training and testing data is : 0.8089631293531379 and 0.6491739947007308 respectively\n",
      "The mean of squared errors(MSE) of the test model is: 2038557674.4115481\n",
      "The absolute mean error of the test model is: 24436.310361294072\n",
      "The root mean squared error of the test model is: 45150.38952668679\n",
      "The mean absolute percentage error of the test model is: 15.249629796106463\n"
     ]
    }
   ],
   "source": [
    "alphas = np.logspace(-4, 10, 30)\n",
    "ridge_cv = RidgeCV(alphas = alphas, cv = 5)\n",
    "ridge_cv.fit(X_train, Y_train)\n",
    "\n",
    "pred_train = ridge_cv.predict(X_train)\n",
    "pred_test = ridge_cv.predict(X_test)\n",
    "\n",
    "print(\"The Best parameter value is: {}\".format(ridge_cv.alpha_))\n",
    "print('The R-squared performance of the model from the training and testing data is : {} and {} respectively'\n",
    "      .format(ridge_cv.score(X_train, Y_train), ridge_cv.score(X_test, Y_test)))\n",
    "print('The mean of squared errors(MSE) of the test model is: {}'.format(mse(Y_test, pred_test)))\n",
    "print('The absolute mean error of the test model is: {}'.format(mean_absolute_error(Y_test, pred_test)))\n",
    "print('The root mean squared error of the test model is: {}'.format(rmse(Y_test, pred_test)))\n",
    "print('The mean absolute percentage error of the test model is: {}'\n",
    "      .format(np.mean(np.abs((Y_test - pred_test)/Y_test) * 100)))"
   ]
  },
  {
   "cell_type": "code",
   "execution_count": 12,
   "metadata": {},
   "outputs": [
    {
     "name": "stdout",
     "output_type": "stream",
     "text": [
      "The Best parameter value is: 0.0009236708571873865\n",
      "The R-squared performance of the model from the training and testing data is : 0.8089634339469872 and 0.6491607345166639 respectively\n",
      "The mean of squared errors(MSE) of the test model is: 2038634725.8546722\n",
      "The absolute mean error of the test model is: 24436.84084509711\n",
      "The root mean squared error of the test model is: 45151.24279413217\n",
      "The mean absolute percentage error of the test model is: 15.24977707312676\n"
     ]
    }
   ],
   "source": [
    "alphas = np.logspace(-4, 10, 30)\n",
    "elastic_cv = ElasticNetCV(alphas = alphas, cv = 5)\n",
    "elastic_cv.fit(X_train, Y_train)\n",
    "\n",
    "pred_train = elastic_cv.predict(X_train)\n",
    "pred_test = elastic_cv.predict(X_test)\n",
    "\n",
    "print(\"The Best parameter value is: {}\".format(elastic_cv.alpha_))\n",
    "print('The R-squared performance of the model from the training and testing data is : {} and {} respectively'\n",
    "      .format(elastic_cv.score(X_train, Y_train), elastic_cv.score(X_test, Y_test)))\n",
    "print('The mean of squared errors(MSE) of the test model is: {}'.format(mse(Y_test, pred_test)))\n",
    "print('The absolute mean error of the test model is: {}'.format(mean_absolute_error(Y_test, pred_test)))\n",
    "print('The root mean squared error of the test model is: {}'.format(rmse(Y_test, pred_test)))\n",
    "print('The mean absolute percentage error of the test model is: {}'\n",
    "      .format(np.mean(np.abs((Y_test - pred_test)/Y_test) * 100)))"
   ]
  },
  {
   "cell_type": "markdown",
   "metadata": {},
   "source": [
    "From the results in the above four models,it is quite hard to determine which model performed better because all four performed about the same."
   ]
  },
  {
   "cell_type": "code",
   "execution_count": null,
   "metadata": {},
   "outputs": [],
   "source": []
  }
 ],
 "metadata": {
  "kernelspec": {
   "display_name": "Python 3",
   "language": "python",
   "name": "python3"
  },
  "language_info": {
   "codemirror_mode": {
    "name": "ipython",
    "version": 3
   },
   "file_extension": ".py",
   "mimetype": "text/x-python",
   "name": "python",
   "nbconvert_exporter": "python",
   "pygments_lexer": "ipython3",
   "version": "3.7.3"
  }
 },
 "nbformat": 4,
 "nbformat_minor": 2
}
