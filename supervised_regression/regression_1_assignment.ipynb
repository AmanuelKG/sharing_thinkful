{
 "cells": [
  {
   "cell_type": "markdown",
   "metadata": {},
   "source": [
    "### Regression_assignment_1"
   ]
  },
  {
   "cell_type": "markdown",
   "metadata": {},
   "source": [
    "**1.Let's assume that you have World Bank data on financial, economic and social indicators for several countries. You want to measure the factors that affect the level of development in these countries. To this end, you decide to use per capital income as a proxy for the development level, which is defined as the national income divided by the population. You want to use some features in your dataset to predict per capital income. Is this task a classification or a regression task? Why?**<br/>\n",
    "it is a regression task.Because the target(outcome) 'variable percapital income' is a continuous variable which depends on independent variables such as 'national income', 'population size' and other socio-economic variables.However we can classify the values lateron by assigning development level to a range of the per capital icome.\n",
    "\n",
    "**2. Which of the following arguments are false and why?**<br/>\n",
    "\n",
    "* **OLS is a special type of linear regression models**<br/>\n",
    "False.Because it is an optimization algorism for chosing the best line that represent our regression prediction model. \n",
    "\n",
    "* **Regression models become useless if they don’t meet the assumptions of linear regression.**<br/>\n",
    "False.there are some approaches we can take to use linear regression even when our model doesn’t meet the linear regression assumptions.\n",
    "\n",
    "* **Estimation and prediction are the same thing in the context of linear regression models.**<br/>\n",
    "False.Estimation is finding the parameter coefficients of that regression model for finding the line that minimizes the sum of errors between the line and each data point.But prediction is the outcome of the values for the observations that have not been previously observed based on the estimated parameters(coefficients) fitted model.\n",
    "\n",
    "* **Linear regression is only one kind of regression model. Regression problems can also be solved with other kind of models like Support Vector Machines or Random Forests.**<br/>\n",
    "True.\n",
    "\n",
    "**3. Assume that your project manager wants you to discover which free services your company offers make your customers buy more of your paid services. Formulate this task as a regression problem and write down the potential outcome and features that you’d like to work on.**<br/>\n",
    "The two variables that we want to relate to build our model are a categorical(free services) and a continuous(revenue of sold services(assuming that the services are about the same value)).The outcome is the continuous variable and the features are the types of free services.The values of these features would be 0 and 1 from my perspective.Every time a free service is rendered the value for that particular cell of that feature is 1 and 0s for the rest unless another free service was rendred at the same moment.<br/>\n",
    "revenue = 𝛼 + 𝛽1 * x free services1 + 𝛽2 * free services2 + 𝛽3 * free services3 .....<br/>\n",
    "Each value takes either 0 or 1 based on the above mentioned explanation.\n"
   ]
  },
  {
   "cell_type": "code",
   "execution_count": null,
   "metadata": {},
   "outputs": [],
   "source": []
  },
  {
   "cell_type": "code",
   "execution_count": null,
   "metadata": {},
   "outputs": [],
   "source": []
  }
 ],
 "metadata": {
  "kernelspec": {
   "display_name": "Python 3",
   "language": "python",
   "name": "python3"
  },
  "language_info": {
   "codemirror_mode": {
    "name": "ipython",
    "version": 3
   },
   "file_extension": ".py",
   "mimetype": "text/x-python",
   "name": "python",
   "nbconvert_exporter": "python",
   "pygments_lexer": "ipython3",
   "version": "3.7.3"
  }
 },
 "nbformat": 4,
 "nbformat_minor": 2
}
