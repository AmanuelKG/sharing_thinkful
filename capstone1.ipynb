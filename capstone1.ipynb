{
 "cells": [
  {
   "cell_type": "markdown",
   "metadata": {},
   "source": [
    "## CAPSTONE 1"
   ]
  },
  {
   "cell_type": "markdown",
   "metadata": {},
   "source": [
    "### World Migrants Tragic Missing and Deaths at a glance"
   ]
  },
  {
   "cell_type": "markdown",
   "metadata": {},
   "source": [
    "For the convinience of follow up and for the quick retrieval of my information's content, it is prudent to ask three \n",
    "vital analysis questions and will try to address them moving forword with this project.<br>\n",
    "**1.What is the overall image of migration tragedies in the past 5 years to present(2019)?**<br>\n",
    "**2.where in the world are they happening most?**<br>\n",
    "**3.What are the cumulitive causes of these tragedies?**<br>\n",
    "Answering these important questions on the bases of the matrices of information in our data,will help human right \n",
    "advocates,activisties, policy makers and  other important players in solving this crisis a clear picture as to \n",
    "what is going on and what effective measures they have to strategize and implement."
   ]
  },
  {
   "cell_type": "markdown",
   "metadata": {},
   "source": [
    "The dataset of my study was downloaded from kaggle.com a data storing website.<br>**First thing first i imported all \n",
    "the modules i need to manipulate the dataset.**"
   ]
  },
  {
   "cell_type": "code",
   "execution_count": 2,
   "metadata": {},
   "outputs": [],
   "source": [
    "import numpy as np\n",
    "import pandas as pd\n",
    "import matplotlib.pyplot as plt\n",
    "%matplotlib inline"
   ]
  },
  {
   "cell_type": "code",
   "execution_count": 3,
   "metadata": {},
   "outputs": [],
   "source": [
    "data1 = pd.read_csv('MissingMigrants-Global-2019-03-29T18-36-07.csv')"
   ]
  },
  {
   "cell_type": "markdown",
   "metadata": {},
   "source": [
    "**Lets check the overall content of our Dataset;**"
   ]
  },
  {
   "cell_type": "code",
   "execution_count": 4,
   "metadata": {},
   "outputs": [
    {
     "name": "stdout",
     "output_type": "stream",
     "text": [
      "<class 'pandas.core.frame.DataFrame'>\n",
      "RangeIndex: 5333 entries, 0 to 5332\n",
      "Data columns (total 20 columns):\n",
      "Web ID                                 5333 non-null int64\n",
      "Region of Incident                     5333 non-null object\n",
      "Reported Date                          5333 non-null object\n",
      "Reported Year                          5333 non-null int64\n",
      "Reported Month                         5333 non-null object\n",
      "Number Dead                            5142 non-null float64\n",
      "Minimum Estimated Number of Missing    503 non-null float64\n",
      "Total Dead and Missing                 5333 non-null int64\n",
      "Number of Survivors                    749 non-null float64\n",
      "Number of Females                      897 non-null float64\n",
      "Number of Males                        2813 non-null float64\n",
      "Number of Children                     644 non-null float64\n",
      "Cause of Death                         5333 non-null object\n",
      "Location Description                   5323 non-null object\n",
      "Information Source                     5331 non-null object\n",
      "Location Coordinates                   5332 non-null object\n",
      "Migration Route                        2660 non-null object\n",
      "URL                                    3192 non-null object\n",
      "UNSD Geographical Grouping             5322 non-null object\n",
      "Source Quality                         5333 non-null int64\n",
      "dtypes: float64(6), int64(4), object(10)\n",
      "memory usage: 833.4+ KB\n"
     ]
    }
   ],
   "source": [
    "data1.info()"
   ]
  },
  {
   "cell_type": "code",
   "execution_count": 8,
   "metadata": {},
   "outputs": [
    {
     "data": {
      "text/html": [
       "<div>\n",
       "<style scoped>\n",
       "    .dataframe tbody tr th:only-of-type {\n",
       "        vertical-align: middle;\n",
       "    }\n",
       "\n",
       "    .dataframe tbody tr th {\n",
       "        vertical-align: top;\n",
       "    }\n",
       "\n",
       "    .dataframe thead th {\n",
       "        text-align: right;\n",
       "    }\n",
       "</style>\n",
       "<table border=\"1\" class=\"dataframe\">\n",
       "  <thead>\n",
       "    <tr style=\"text-align: right;\">\n",
       "      <th></th>\n",
       "      <th>Web ID</th>\n",
       "      <th>Region of Incident</th>\n",
       "      <th>Reported Date</th>\n",
       "      <th>Reported Year</th>\n",
       "      <th>Reported Month</th>\n",
       "      <th>Number Dead</th>\n",
       "      <th>Minimum Estimated Number of Missing</th>\n",
       "      <th>Total Dead and Missing</th>\n",
       "      <th>Number of Survivors</th>\n",
       "      <th>Number of Females</th>\n",
       "      <th>Number of Males</th>\n",
       "      <th>Number of Children</th>\n",
       "      <th>Cause of Death</th>\n",
       "      <th>Location Description</th>\n",
       "      <th>Information Source</th>\n",
       "      <th>Location Coordinates</th>\n",
       "      <th>Migration Route</th>\n",
       "      <th>URL</th>\n",
       "      <th>UNSD Geographical Grouping</th>\n",
       "      <th>Source Quality</th>\n",
       "    </tr>\n",
       "  </thead>\n",
       "  <tbody>\n",
       "    <tr>\n",
       "      <th>0</th>\n",
       "      <td>51591</td>\n",
       "      <td>Mediterranean</td>\n",
       "      <td>March 28, 2019</td>\n",
       "      <td>2019</td>\n",
       "      <td>Mar</td>\n",
       "      <td>NaN</td>\n",
       "      <td>2.0</td>\n",
       "      <td>2</td>\n",
       "      <td>36.0</td>\n",
       "      <td>NaN</td>\n",
       "      <td>2.0</td>\n",
       "      <td>NaN</td>\n",
       "      <td>Presumed drowning</td>\n",
       "      <td>Off the coast of Chios, Greece</td>\n",
       "      <td>Hellenic Coast Guard via IOM Greece</td>\n",
       "      <td>38.362368696592, 26.172509473654</td>\n",
       "      <td>Eastern Mediterranean</td>\n",
       "      <td>NaN</td>\n",
       "      <td>Uncategorized</td>\n",
       "      <td>5</td>\n",
       "    </tr>\n",
       "    <tr>\n",
       "      <th>1</th>\n",
       "      <td>51588</td>\n",
       "      <td>Mediterranean</td>\n",
       "      <td>March 26, 2019</td>\n",
       "      <td>2019</td>\n",
       "      <td>Mar</td>\n",
       "      <td>4.0</td>\n",
       "      <td>NaN</td>\n",
       "      <td>4</td>\n",
       "      <td>11.0</td>\n",
       "      <td>3.0</td>\n",
       "      <td>NaN</td>\n",
       "      <td>1.0</td>\n",
       "      <td>Presumed drowning</td>\n",
       "      <td>Off the coast of Ayvacık district, Çanakkale p...</td>\n",
       "      <td>Turkish Coast Guard via IOM Turkey</td>\n",
       "      <td>39.441975591614, 26.378816195919</td>\n",
       "      <td>Eastern Mediterranean</td>\n",
       "      <td>http://bit.ly/2YmiPAN</td>\n",
       "      <td>Uncategorized</td>\n",
       "      <td>5</td>\n",
       "    </tr>\n",
       "    <tr>\n",
       "      <th>2</th>\n",
       "      <td>51589</td>\n",
       "      <td>Mediterranean</td>\n",
       "      <td>March 26, 2019</td>\n",
       "      <td>2019</td>\n",
       "      <td>Mar</td>\n",
       "      <td>1.0</td>\n",
       "      <td>NaN</td>\n",
       "      <td>1</td>\n",
       "      <td>NaN</td>\n",
       "      <td>NaN</td>\n",
       "      <td>NaN</td>\n",
       "      <td>NaN</td>\n",
       "      <td>Presumed drowning</td>\n",
       "      <td>Body recovered on Playa del Tarajal, Ceuta, Sp...</td>\n",
       "      <td>Ceuta al día, El Pueblo de Ceuta</td>\n",
       "      <td>35.871901875921, -5.343037665842</td>\n",
       "      <td>Western Mediterranean</td>\n",
       "      <td>http://bit.ly/2uyj7qO, http://bit.ly/2uwj5zC</td>\n",
       "      <td>Uncategorized</td>\n",
       "      <td>3</td>\n",
       "    </tr>\n",
       "  </tbody>\n",
       "</table>\n",
       "</div>"
      ],
      "text/plain": [
       "   Web ID Region of Incident   Reported Date  Reported Year Reported Month  \\\n",
       "0   51591      Mediterranean  March 28, 2019           2019            Mar   \n",
       "1   51588      Mediterranean  March 26, 2019           2019            Mar   \n",
       "2   51589      Mediterranean  March 26, 2019           2019            Mar   \n",
       "\n",
       "   Number Dead  Minimum Estimated Number of Missing  Total Dead and Missing  \\\n",
       "0          NaN                                  2.0                       2   \n",
       "1          4.0                                  NaN                       4   \n",
       "2          1.0                                  NaN                       1   \n",
       "\n",
       "   Number of Survivors  Number of Females  Number of Males  \\\n",
       "0                 36.0                NaN              2.0   \n",
       "1                 11.0                3.0              NaN   \n",
       "2                  NaN                NaN              NaN   \n",
       "\n",
       "   Number of Children     Cause of Death  \\\n",
       "0                 NaN  Presumed drowning   \n",
       "1                 1.0  Presumed drowning   \n",
       "2                 NaN  Presumed drowning   \n",
       "\n",
       "                                Location Description  \\\n",
       "0                     Off the coast of Chios, Greece   \n",
       "1  Off the coast of Ayvacık district, Çanakkale p...   \n",
       "2  Body recovered on Playa del Tarajal, Ceuta, Sp...   \n",
       "\n",
       "                    Information Source              Location Coordinates  \\\n",
       "0  Hellenic Coast Guard via IOM Greece  38.362368696592, 26.172509473654   \n",
       "1   Turkish Coast Guard via IOM Turkey  39.441975591614, 26.378816195919   \n",
       "2     Ceuta al día, El Pueblo de Ceuta  35.871901875921, -5.343037665842   \n",
       "\n",
       "         Migration Route                                           URL  \\\n",
       "0  Eastern Mediterranean                                           NaN   \n",
       "1  Eastern Mediterranean                         http://bit.ly/2YmiPAN   \n",
       "2  Western Mediterranean  http://bit.ly/2uyj7qO, http://bit.ly/2uwj5zC   \n",
       "\n",
       "  UNSD Geographical Grouping  Source Quality  \n",
       "0              Uncategorized               5  \n",
       "1              Uncategorized               5  \n",
       "2              Uncategorized               3  "
      ]
     },
     "execution_count": 8,
     "metadata": {},
     "output_type": "execute_result"
    }
   ],
   "source": [
    "data1.head(3)"
   ]
  },
  {
   "cell_type": "code",
   "execution_count": 59,
   "metadata": {},
   "outputs": [
    {
     "data": {
      "text/html": [
       "<div>\n",
       "<style scoped>\n",
       "    .dataframe tbody tr th:only-of-type {\n",
       "        vertical-align: middle;\n",
       "    }\n",
       "\n",
       "    .dataframe tbody tr th {\n",
       "        vertical-align: top;\n",
       "    }\n",
       "\n",
       "    .dataframe thead th {\n",
       "        text-align: right;\n",
       "    }\n",
       "</style>\n",
       "<table border=\"1\" class=\"dataframe\">\n",
       "  <thead>\n",
       "    <tr style=\"text-align: right;\">\n",
       "      <th></th>\n",
       "      <th></th>\n",
       "      <th>Minimum Estimated Number of Missing</th>\n",
       "      <th>Number Dead</th>\n",
       "      <th>Number of Children</th>\n",
       "      <th>Number of Females</th>\n",
       "      <th>Number of Males</th>\n",
       "      <th>Number of Survivors</th>\n",
       "      <th>Source Quality</th>\n",
       "      <th>Total Dead and Missing</th>\n",
       "      <th>Web ID</th>\n",
       "    </tr>\n",
       "    <tr>\n",
       "      <th>Reported Year</th>\n",
       "      <th>Reported Month</th>\n",
       "      <th></th>\n",
       "      <th></th>\n",
       "      <th></th>\n",
       "      <th></th>\n",
       "      <th></th>\n",
       "      <th></th>\n",
       "      <th></th>\n",
       "      <th></th>\n",
       "      <th></th>\n",
       "    </tr>\n",
       "  </thead>\n",
       "  <tbody>\n",
       "    <tr>\n",
       "      <th rowspan=\"2\" valign=\"top\">2014</th>\n",
       "      <th>Apr</th>\n",
       "      <td>8.200000</td>\n",
       "      <td>3.166667</td>\n",
       "      <td>1.0</td>\n",
       "      <td>2.00</td>\n",
       "      <td>1.0</td>\n",
       "      <td>163.166667</td>\n",
       "      <td>3.526316</td>\n",
       "      <td>5.157895</td>\n",
       "      <td>39278.052632</td>\n",
       "    </tr>\n",
       "    <tr>\n",
       "      <th>Aug</th>\n",
       "      <td>43.666667</td>\n",
       "      <td>16.040000</td>\n",
       "      <td>2.0</td>\n",
       "      <td>2.75</td>\n",
       "      <td>4.5</td>\n",
       "      <td>103.428571</td>\n",
       "      <td>3.148148</td>\n",
       "      <td>29.407407</td>\n",
       "      <td>39530.592593</td>\n",
       "    </tr>\n",
       "  </tbody>\n",
       "</table>\n",
       "</div>"
      ],
      "text/plain": [
       "                              Minimum Estimated Number of Missing  \\\n",
       "Reported Year Reported Month                                        \n",
       "2014          Apr                                        8.200000   \n",
       "              Aug                                       43.666667   \n",
       "\n",
       "                              Number Dead  Number of Children  \\\n",
       "Reported Year Reported Month                                    \n",
       "2014          Apr                3.166667                 1.0   \n",
       "              Aug               16.040000                 2.0   \n",
       "\n",
       "                              Number of Females  Number of Males  \\\n",
       "Reported Year Reported Month                                       \n",
       "2014          Apr                          2.00              1.0   \n",
       "              Aug                          2.75              4.5   \n",
       "\n",
       "                              Number of Survivors  Source Quality  \\\n",
       "Reported Year Reported Month                                        \n",
       "2014          Apr                      163.166667        3.526316   \n",
       "              Aug                      103.428571        3.148148   \n",
       "\n",
       "                              Total Dead and Missing        Web ID  \n",
       "Reported Year Reported Month                                        \n",
       "2014          Apr                           5.157895  39278.052632  \n",
       "              Aug                          29.407407  39530.592593  "
      ]
     },
     "execution_count": 59,
     "metadata": {},
     "output_type": "execute_result"
    }
   ],
   "source": [
    "x = pd.pivot_table(data1, index = ['Reported Year', 'Reported Month'])\n",
    "x.head(2)"
   ]
  },
  {
   "cell_type": "code",
   "execution_count": 60,
   "metadata": {},
   "outputs": [
    {
     "data": {
      "text/html": [
       "<div>\n",
       "<style scoped>\n",
       "    .dataframe tbody tr th:only-of-type {\n",
       "        vertical-align: middle;\n",
       "    }\n",
       "\n",
       "    .dataframe tbody tr th {\n",
       "        vertical-align: top;\n",
       "    }\n",
       "\n",
       "    .dataframe thead th {\n",
       "        text-align: right;\n",
       "    }\n",
       "</style>\n",
       "<table border=\"1\" class=\"dataframe\">\n",
       "  <thead>\n",
       "    <tr style=\"text-align: right;\">\n",
       "      <th></th>\n",
       "      <th>Minimum Estimated Number of Missing</th>\n",
       "      <th>Number Dead</th>\n",
       "      <th>Number of Children</th>\n",
       "      <th>Number of Females</th>\n",
       "      <th>Number of Males</th>\n",
       "      <th>Number of Survivors</th>\n",
       "      <th>Source Quality</th>\n",
       "      <th>Total Dead and Missing</th>\n",
       "      <th>Web ID</th>\n",
       "    </tr>\n",
       "  </thead>\n",
       "  <tbody>\n",
       "    <tr>\n",
       "      <th>count</th>\n",
       "      <td>63.000000</td>\n",
       "      <td>63.000000</td>\n",
       "      <td>61.000000</td>\n",
       "      <td>61.000000</td>\n",
       "      <td>63.000000</td>\n",
       "      <td>62.000000</td>\n",
       "      <td>63.000000</td>\n",
       "      <td>63.000000</td>\n",
       "      <td>63.000000</td>\n",
       "    </tr>\n",
       "    <tr>\n",
       "      <th>mean</th>\n",
       "      <td>28.947527</td>\n",
       "      <td>4.327530</td>\n",
       "      <td>3.453991</td>\n",
       "      <td>2.282611</td>\n",
       "      <td>2.114638</td>\n",
       "      <td>64.175510</td>\n",
       "      <td>2.993573</td>\n",
       "      <td>9.052339</td>\n",
       "      <td>42425.953140</td>\n",
       "    </tr>\n",
       "    <tr>\n",
       "      <th>std</th>\n",
       "      <td>27.500089</td>\n",
       "      <td>3.978434</td>\n",
       "      <td>10.676710</td>\n",
       "      <td>1.425987</td>\n",
       "      <td>1.300169</td>\n",
       "      <td>61.378288</td>\n",
       "      <td>0.399828</td>\n",
       "      <td>11.000949</td>\n",
       "      <td>4367.292851</td>\n",
       "    </tr>\n",
       "    <tr>\n",
       "      <th>min</th>\n",
       "      <td>0.000000</td>\n",
       "      <td>1.540741</td>\n",
       "      <td>1.000000</td>\n",
       "      <td>0.750000</td>\n",
       "      <td>1.000000</td>\n",
       "      <td>2.000000</td>\n",
       "      <td>2.245455</td>\n",
       "      <td>1.687500</td>\n",
       "      <td>32820.511628</td>\n",
       "    </tr>\n",
       "    <tr>\n",
       "      <th>25%</th>\n",
       "      <td>8.886364</td>\n",
       "      <td>2.278380</td>\n",
       "      <td>1.200000</td>\n",
       "      <td>1.333333</td>\n",
       "      <td>1.343932</td>\n",
       "      <td>23.432018</td>\n",
       "      <td>2.743923</td>\n",
       "      <td>3.740680</td>\n",
       "      <td>39374.085714</td>\n",
       "    </tr>\n",
       "    <tr>\n",
       "      <th>50%</th>\n",
       "      <td>20.666667</td>\n",
       "      <td>3.020619</td>\n",
       "      <td>1.714286</td>\n",
       "      <td>1.761905</td>\n",
       "      <td>1.623529</td>\n",
       "      <td>47.733990</td>\n",
       "      <td>2.916084</td>\n",
       "      <td>5.157895</td>\n",
       "      <td>42242.043860</td>\n",
       "    </tr>\n",
       "    <tr>\n",
       "      <th>75%</th>\n",
       "      <td>34.654762</td>\n",
       "      <td>4.100000</td>\n",
       "      <td>2.225806</td>\n",
       "      <td>2.833333</td>\n",
       "      <td>2.145719</td>\n",
       "      <td>73.090909</td>\n",
       "      <td>3.212406</td>\n",
       "      <td>9.050000</td>\n",
       "      <td>44782.116422</td>\n",
       "    </tr>\n",
       "    <tr>\n",
       "      <th>max</th>\n",
       "      <td>116.857143</td>\n",
       "      <td>23.971429</td>\n",
       "      <td>84.666667</td>\n",
       "      <td>9.000000</td>\n",
       "      <td>6.000000</td>\n",
       "      <td>303.818182</td>\n",
       "      <td>4.187500</td>\n",
       "      <td>61.200000</td>\n",
       "      <td>51554.657143</td>\n",
       "    </tr>\n",
       "  </tbody>\n",
       "</table>\n",
       "</div>"
      ],
      "text/plain": [
       "       Minimum Estimated Number of Missing  Number Dead  Number of Children  \\\n",
       "count                            63.000000    63.000000           61.000000   \n",
       "mean                             28.947527     4.327530            3.453991   \n",
       "std                              27.500089     3.978434           10.676710   \n",
       "min                               0.000000     1.540741            1.000000   \n",
       "25%                               8.886364     2.278380            1.200000   \n",
       "50%                              20.666667     3.020619            1.714286   \n",
       "75%                              34.654762     4.100000            2.225806   \n",
       "max                             116.857143    23.971429           84.666667   \n",
       "\n",
       "       Number of Females  Number of Males  Number of Survivors  \\\n",
       "count          61.000000        63.000000            62.000000   \n",
       "mean            2.282611         2.114638            64.175510   \n",
       "std             1.425987         1.300169            61.378288   \n",
       "min             0.750000         1.000000             2.000000   \n",
       "25%             1.333333         1.343932            23.432018   \n",
       "50%             1.761905         1.623529            47.733990   \n",
       "75%             2.833333         2.145719            73.090909   \n",
       "max             9.000000         6.000000           303.818182   \n",
       "\n",
       "       Source Quality  Total Dead and Missing        Web ID  \n",
       "count       63.000000               63.000000     63.000000  \n",
       "mean         2.993573                9.052339  42425.953140  \n",
       "std          0.399828               11.000949   4367.292851  \n",
       "min          2.245455                1.687500  32820.511628  \n",
       "25%          2.743923                3.740680  39374.085714  \n",
       "50%          2.916084                5.157895  42242.043860  \n",
       "75%          3.212406                9.050000  44782.116422  \n",
       "max          4.187500               61.200000  51554.657143  "
      ]
     },
     "execution_count": 60,
     "metadata": {},
     "output_type": "execute_result"
    }
   ],
   "source": [
    "x.describe()"
   ]
  },
  {
   "cell_type": "markdown",
   "metadata": {},
   "source": [
    "**The above table is the data summay description of monthly insidences over the years of the study;**"
   ]
  },
  {
   "cell_type": "markdown",
   "metadata": {},
   "source": [
    "As i try to answer my analytic questions,i wanted to filter things out and emphasize the main columns that i will be \n",
    "working on to achieve conveying my message efficiently.therefore because we are studing tragedies i will work on two numerical columns namely 'Number Dead', and 'Total Dead and Missing' but my main metric will be deaths,as deaths are irreversible while missings can be reversible.As about the other numerical veriables(columns) which look like worth looking such as 'Number of Females','Number of Males', 'Number of Children', and 'Number of Survivors'and so forth,i chose to exclude them from this study because there is no enough information about what they represent and the number of non-null rows in these columns is way smaller than the previous two columns.But as for the categorical variables i will use them when ever a need arises.For data description purpose i have included the entire dataset's columns.Please mind that 'Web ID' is just an 'ID' but our function has treated it as numerical data because of its data type."
   ]
  },
  {
   "cell_type": "markdown",
   "metadata": {},
   "source": [
    "**I have summerized the Total number of people died and missing each year in the lower barplots;**"
   ]
  },
  {
   "cell_type": "code",
   "execution_count": 6,
   "metadata": {},
   "outputs": [],
   "source": [
    "Total = data1.groupby(['Reported Year']).sum()"
   ]
  },
  {
   "cell_type": "code",
   "execution_count": 121,
   "metadata": {},
   "outputs": [
    {
     "data": {
      "image/png": "[encoded data removed]",
      "text/plain": [
       "<Figure size 864x360 with 2 Axes>"
      ]
     },
     "metadata": {
      "needs_background": "light"
     },
     "output_type": "display_data"
    }
   ],
   "source": [
    "plt.figure(figsize = (12,5))\n",
    "plt.subplot(1,2,1)\n",
    "plt.bar(Total.index,Total['Number_Dead'], color = 'g')\n",
    "plt.ylabel('Total Number of Deaths per Year');\n",
    "plt.xlabel('Years');\n",
    "plt.title('Total Deaths by Year')\n",
    "plt.subplot(1,2,2);\n",
    "plt.bar(Total.index, Total['Minimum Estimated Number of Missing']);\n",
    "plt.ylabel('Minimum Estimated Number of Missing');\n",
    "plt.xlabel('Years');\n",
    "plt.title('Total Missings by Year')\n",
    "plt.tight_layout();"
   ]
  },
  {
   "cell_type": "markdown",
   "metadata": {},
   "source": [
    "*While looking in to the cause of death,i found out that,the data rows has been entered repetitively for the same cause using different words and phrases to mean the same thing,so i cleaned the column and summerized it using the following code to only **three cumulitive causes** namely 'sickness and other accidents','by Drowning','Uknown'.*"
   ]
  },
  {
   "cell_type": "code",
   "execution_count": 19,
   "metadata": {},
   "outputs": [],
   "source": [
    "data1['Death_cause'] = 'sickness and other accidents'\n",
    "data1.loc[data1['Cause of Death'].str.contains('Drowning', na=False),'Death_cause'] = 'by Drowning'\n",
    "data1.loc[data1['Cause of Death'].str.contains('drowning', na=False),'Death_cause'] = 'by Drowning'\n",
    "data1.loc[data1['Cause of Death'].str.contains(\"Unknown\" , na=False),'Death_cause'] = 'Unknown'"
   ]
  },
  {
   "cell_type": "markdown",
   "metadata": {},
   "source": [
    "**Having our death causes solidified,leverages this study to unvail the causes of Death and the region where these deaths occured in a simplified manner;Lets examine them further using visualization aid with pie plots.**"
   ]
  },
  {
   "cell_type": "code",
   "execution_count": 21,
   "metadata": {},
   "outputs": [
    {
     "data": {
      "text/html": [
       "<div>\n",
       "<style scoped>\n",
       "    .dataframe tbody tr th:only-of-type {\n",
       "        vertical-align: middle;\n",
       "    }\n",
       "\n",
       "    .dataframe tbody tr th {\n",
       "        vertical-align: top;\n",
       "    }\n",
       "\n",
       "    .dataframe thead th {\n",
       "        text-align: right;\n",
       "    }\n",
       "</style>\n",
       "<table border=\"1\" class=\"dataframe\">\n",
       "  <thead>\n",
       "    <tr style=\"text-align: right;\">\n",
       "      <th></th>\n",
       "      <th>Number Dead</th>\n",
       "    </tr>\n",
       "    <tr>\n",
       "      <th>Region of Incident</th>\n",
       "      <th></th>\n",
       "    </tr>\n",
       "  </thead>\n",
       "  <tbody>\n",
       "    <tr>\n",
       "      <th>Mediterranean</th>\n",
       "      <td>6114.0</td>\n",
       "    </tr>\n",
       "    <tr>\n",
       "      <th>North Africa</th>\n",
       "      <td>3706.0</td>\n",
       "    </tr>\n",
       "    <tr>\n",
       "      <th>US-Mexico Border</th>\n",
       "      <td>1941.0</td>\n",
       "    </tr>\n",
       "    <tr>\n",
       "      <th>Sub-Saharan Africa</th>\n",
       "      <td>1438.0</td>\n",
       "    </tr>\n",
       "    <tr>\n",
       "      <th>Horn of Africa</th>\n",
       "      <td>932.0</td>\n",
       "    </tr>\n",
       "    <tr>\n",
       "      <th>Southeast Asia</th>\n",
       "      <td>752.0</td>\n",
       "    </tr>\n",
       "    <tr>\n",
       "      <th>Central America</th>\n",
       "      <td>613.0</td>\n",
       "    </tr>\n",
       "    <tr>\n",
       "      <th>Europe</th>\n",
       "      <td>421.0</td>\n",
       "    </tr>\n",
       "    <tr>\n",
       "      <th>Middle East</th>\n",
       "      <td>390.0</td>\n",
       "    </tr>\n",
       "    <tr>\n",
       "      <th>South Asia</th>\n",
       "      <td>286.0</td>\n",
       "    </tr>\n",
       "    <tr>\n",
       "      <th>Caribbean</th>\n",
       "      <td>176.0</td>\n",
       "    </tr>\n",
       "    <tr>\n",
       "      <th>South America</th>\n",
       "      <td>78.0</td>\n",
       "    </tr>\n",
       "    <tr>\n",
       "      <th>Central Asia</th>\n",
       "      <td>52.0</td>\n",
       "    </tr>\n",
       "    <tr>\n",
       "      <th>East Asia</th>\n",
       "      <td>5.0</td>\n",
       "    </tr>\n",
       "    <tr>\n",
       "      <th>North America</th>\n",
       "      <td>1.0</td>\n",
       "    </tr>\n",
       "  </tbody>\n",
       "</table>\n",
       "</div>"
      ],
      "text/plain": [
       "                    Number Dead\n",
       "Region of Incident             \n",
       "Mediterranean            6114.0\n",
       "North Africa             3706.0\n",
       "US-Mexico Border         1941.0\n",
       "Sub-Saharan Africa       1438.0\n",
       "Horn of Africa            932.0\n",
       "Southeast Asia            752.0\n",
       "Central America           613.0\n",
       "Europe                    421.0\n",
       "Middle East               390.0\n",
       "South Asia                286.0\n",
       "Caribbean                 176.0\n",
       "South America              78.0\n",
       "Central Asia               52.0\n",
       "East Asia                   5.0\n",
       "North America               1.0"
      ]
     },
     "execution_count": 21,
     "metadata": {},
     "output_type": "execute_result"
    }
   ],
   "source": [
    "df_cause = data1[['Death_cause','Number Dead']].groupby(['Death_cause']).sum()\n",
    "df_region = data1[['Region of Incident','Number Dead']].groupby(['Region of Incident']).sum()\n",
    "data_ascend = df_region.sort_values('Number Dead', ascending= False)\n",
    "data_ascend"
   ]
  },
  {
   "cell_type": "markdown",
   "metadata": {},
   "source": [
    "**since 2014 migrants death types in percentile of the total deaths**"
   ]
  },
  {
   "cell_type": "code",
   "execution_count": 9,
   "metadata": {},
   "outputs": [
    {
     "data": {
      "image/png": "[encoded data removed]",
      "text/plain": [
       "<Figure size 1440x720 with 2 Axes>"
      ]
     },
     "metadata": {},
     "output_type": "display_data"
    }
   ],
   "source": [
    "plt.figure(figsize=(20, 10))\n",
    "plt.subplot(1,2,1)\n",
    "plt.pie(pd.Series(df_cause['Number Dead'], index = df_cause.index),rotatelabels = True, autopct='%1.0f%%');\n",
    "plt.axis('equal')\n",
    "plt.title('Causes of Death')\n",
    "plt.legend(df_cause.index);\n",
    "plt.subplot(1,2,2)\n",
    "plt.pie(pd.Series(df_region['Number Dead'], index = df_region.index),rotatelabels = True, autopct='%1.0f%%');\n",
    "plt.axis('equal')\n",
    "plt.title('Region of Death')\n",
    "plt.legend(df_region.index);"
   ]
  },
  {
   "cell_type": "markdown",
   "metadata": {},
   "source": [
    "*We can observe and interpret from the two pie charts in the above that, 47%(green) of all the causes of deaths were sickness and other accidents including murders.But most startling is the 43%(orange) death caused by only one category of cause that is drowning.*"
   ]
  },
  {
   "cell_type": "markdown",
   "metadata": {},
   "source": [
    "Now lets look at the regions of death;Evidently from the large pink portion of our pie chart, the deadlest region for \n",
    "migrants is mediteranean accomodating for **36%(pink)** of the total deaths.interestingly the next 4 largest migrant \n",
    "death contributers are **with in Africa** close to the **mediterranean** except the 3rd largest contributer is US-Mexico boarder;contributing a total of **37%(i.e 22 + 9 + 6)**.this information has potential of telling **73%** of migrant died one way or another along the same route and around the same region.This is a solid perception but can be studied further with including important variable such as intended migration final destinations."
   ]
  },
  {
   "cell_type": "code",
   "execution_count": 17,
   "metadata": {},
   "outputs": [
    {
     "data": {
      "text/html": [
       "<div>\n",
       "<style scoped>\n",
       "    .dataframe tbody tr th:only-of-type {\n",
       "        vertical-align: middle;\n",
       "    }\n",
       "\n",
       "    .dataframe tbody tr th {\n",
       "        vertical-align: top;\n",
       "    }\n",
       "\n",
       "    .dataframe thead th {\n",
       "        text-align: right;\n",
       "    }\n",
       "</style>\n",
       "<table border=\"1\" class=\"dataframe\">\n",
       "  <thead>\n",
       "    <tr style=\"text-align: right;\">\n",
       "      <th></th>\n",
       "      <th>Number Dead</th>\n",
       "    </tr>\n",
       "    <tr>\n",
       "      <th>Region of Incident</th>\n",
       "      <th></th>\n",
       "    </tr>\n",
       "  </thead>\n",
       "  <tbody>\n",
       "    <tr>\n",
       "      <th>Caribbean</th>\n",
       "      <td>4.292683</td>\n",
       "    </tr>\n",
       "    <tr>\n",
       "      <th>Central America</th>\n",
       "      <td>2.003268</td>\n",
       "    </tr>\n",
       "    <tr>\n",
       "      <th>Central Asia</th>\n",
       "      <td>52.000000</td>\n",
       "    </tr>\n",
       "    <tr>\n",
       "      <th>East Asia</th>\n",
       "      <td>1.250000</td>\n",
       "    </tr>\n",
       "    <tr>\n",
       "      <th>Europe</th>\n",
       "      <td>1.718367</td>\n",
       "    </tr>\n",
       "  </tbody>\n",
       "</table>\n",
       "</div>"
      ],
      "text/plain": [
       "                    Number Dead\n",
       "Region of Incident             \n",
       "Caribbean              4.292683\n",
       "Central America        2.003268\n",
       "Central Asia          52.000000\n",
       "East Asia              1.250000\n",
       "Europe                 1.718367"
      ]
     },
     "execution_count": 17,
     "metadata": {},
     "output_type": "execute_result"
    }
   ],
   "source": [
    "non_NaN = data1[data1['Number Dead'].notnull()]\n",
    "data_ascend = non_NaN.sort_values('Number Dead', ascending= False)\n",
    "data_ascend.groupby(['Region of Incident']).sum()"
   ]
  },
  {
   "cell_type": "markdown",
   "metadata": {},
   "source": [
    "**Finally;lets check now total of missing and deaths distributions at any given day(almost everyday) and location in \n",
    "each year. **"
   ]
  },
  {
   "cell_type": "code",
   "execution_count": 9,
   "metadata": {},
   "outputs": [
    {
     "data": {
      "image/png": "[encoded data removed]",
      "text/plain": [
       "<Figure size 864x360 with 6 Axes>"
      ]
     },
     "metadata": {
      "needs_background": "light"
     },
     "output_type": "display_data"
    }
   ],
   "source": [
    "fig, axs = plt.subplots(2, 3, figsize = (12,5), constrained_layout=True)\n",
    "axs[0][0].boxplot(data1[data1['Reported Year'].astype(int) == 2014]['Total Dead and Missing']);\n",
    "axs[0][0].set_title('2014');\n",
    "axs[0][1].boxplot(data1[data1['Reported Year'].astype(int) == 2015]['Total Dead and Missing']);\n",
    "axs[0][1].set_title('2015');\n",
    "axs[0][2].boxplot(data1[data1['Reported Year'].astype(int) == 2016]['Total Dead and Missing']);\n",
    "axs[0][2].set_title('2016');\n",
    "axs[1][0].boxplot(data1[data1['Reported Year'].astype(int) == 2017]['Total Dead and Missing']);\n",
    "axs[1][0].set_title('2017');\n",
    "axs[1][1].boxplot(data1[data1['Reported Year'].astype(int) == 2018]['Total Dead and Missing']);\n",
    "axs[1][1].set_title('2018');\n",
    "axs[1][2].boxplot(data1[data1['Reported Year'].astype(int) == 2019]['Total Dead and Missing']);\n",
    "axs[1][2].set_title('2019');\n",
    "fig.suptitle('distribution of yearly Missing and Deaths across the years', fontsize = 15)\n",
    "fig.text(-0.02, 0.5, 'No. of migrants missing or Dead daily at specific location', va='center', rotation='vertical', fontsize = 15);"
   ]
  },
  {
   "cell_type": "markdown",
   "metadata": {},
   "source": [
    "*From the boxplots on the above,the median of death insidence at a specific location at any given day through out \n",
    "a year is closer to 1 almost about the same for all the years.What is the horrific tale about the findings in these \n",
    "figures is that there are as close deaths and missing people as to over a 1000 per day and in a specific location like in 2015 for instance.All the outliers in our boxplot tell that many lives where lost at a blink of an eye.*"
   ]
  },
  {
   "cell_type": "markdown",
   "metadata": {},
   "source": [
    "**Conclusion:**\n",
    "There was so much information to explore and visualize in unlimited form but for now because of the scope \n",
    "of this project i have to stop here.But in the future with much more rigorous data science skills and concepts \n",
    "we could see the trend in the fluctuation of deaths over the months of each year,inroducing some data cleaning and \n",
    "filling techniques to make use of the other colums remained untouched at this stage and more."
   ]
  },
  {
   "cell_type": "code",
   "execution_count": null,
   "metadata": {},
   "outputs": [],
   "source": []
  }
 ],
 "metadata": {
  "kernelspec": {
   "display_name": "Python 3",
   "language": "python",
   "name": "python3"
  },
  "language_info": {
   "codemirror_mode": {
    "name": "ipython",
    "version": 3
   },
   "file_extension": ".py",
   "mimetype": "text/x-python",
   "name": "python",
   "nbconvert_exporter": "python",
   "pygments_lexer": "ipython3",
   "version": "3.7.3"
  }
 },
 "nbformat": 4,
 "nbformat_minor": 2
}
