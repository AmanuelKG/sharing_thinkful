{
 "cells": [
  {
   "cell_type": "markdown",
   "metadata": {},
   "source": [
    "## FINAL CAPSTONE: MOVIE RECOMMENDER"
   ]
  },
  {
   "cell_type": "markdown",
   "metadata": {},
   "source": [
    "In this final project i have planned to develope movie Recommendation system.Recommender systems are one of the most valuable applications developed using machine learning in today's technological advancement. Amazon attributes its 35% of revenue to its recommender system. According to a [paper](https://www.martechadvisor.com/articles/customer-experience-2/recommendation-engines-how-amazon-and-netflix-are-winning-the-personalization-battle/) the on-demand video streaming service claims its AI assisted recommendation system makes the company $1 billion per year.Customer experience personalization is developed and optimized using datas."
   ]
  },
  {
   "cell_type": "markdown",
   "metadata": {},
   "source": [
    "In 2009 [Netflix awarded a $1 million prize](https://www.wired.com/2012/04/netflix-prize-costs/) to a developer team for an algorithm that increased the accuracy of the company's recommendation engine by 10 percent.This shows how vital it is to implement a better performing model which increases the accuracy of already existing model.This will enable a better customer experience,reduce churn and increase revenue by a jump and the same applies to the solution that i have planned to work on. In my case however i will use a portion of [Amazon movies review data from Kaggle](https://www.kaggle.com/dm4006/amazon-movie-reviews) and i will download the data to my local machine take a portion of it as it is large considering the constraint of machine power;transform it,clean it explore it and finaly apply the further analysis procedures."
   ]
  },
  {
   "cell_type": "markdown",
   "metadata": {},
   "source": [
    "Different recommender systems apply different techniques to solve the same problem,But the robustness of the performance of these techniques and the condition that they work best differce from one to another.In this capstone i have applied a technique that integrates the main variables such as movies,viewers, and date with the review scores from viewers and NLP sentiment analysis techniques to extract a meaningfully applicable words from text reviews for feature creation and modeling."
   ]
  },
  {
   "cell_type": "markdown",
   "metadata": {},
   "source": [
    "Lets get started by downloading the most commonly used modules for our process."
   ]
  },
  {
   "cell_type": "code",
   "execution_count": 1,
   "metadata": {},
   "outputs": [],
   "source": [
    "import pandas as pd\n",
    "import numpy as np\n",
    "import matplotlib.pyplot as plt\n",
    "import scipy \n",
    "import spacy\n",
    "import re\n",
    "from sklearn.decomposition import TruncatedSVD, PCA\n",
    "from sklearn.pipeline import make_pipeline\n",
    "from sklearn.preprocessing import normalize,Normalizer,StandardScaler\n",
    "from sklearn.cluster import KMeans\n",
    "from sklearn.model_selection import train_test_split\n",
    "%matplotlib inline"
   ]
  },
  {
   "cell_type": "markdown",
   "metadata": {},
   "source": [
    "The dataset size is very large to be properly processed in my local machine therefore i have processed the dataset to a usable format under the constraint of machine power.Lets move on to the code for reading the file;"
   ]
  },
  {
   "cell_type": "code",
   "execution_count": 2,
   "metadata": {},
   "outputs": [],
   "source": [
    "with open('./movies.txt', encoding='iso-8859-1') as f:\n",
    "      lines = [f.readline() for i in range(10**7)] "
   ]
  },
  {
   "cell_type": "markdown",
   "metadata": {},
   "source": [
    "Lets see ten lines from our document."
   ]
  },
  {
   "cell_type": "code",
   "execution_count": 3,
   "metadata": {},
   "outputs": [
    {
     "data": {
      "text/plain": [
       "['product/productId: B003AI2VGA\\n',\n",
       " 'review/userId: A141HP4LYPWMSR\\n',\n",
       " 'review/profileName: Brian E. Erland \"Rainbow Sphinx\"\\n',\n",
       " 'review/helpfulness: 7/7\\n',\n",
       " 'review/score: 3.0\\n',\n",
       " 'review/time: 1182729600\\n',\n",
       " 'review/summary: \"There Is So Much Darkness Now ~ Come For The Miracle\"\\n',\n",
       " 'review/text: Synopsis: On the daily trek from Juarez, Mexico to El Paso, Texas an ever increasing number of female workers are found raped and murdered in the surrounding desert. Investigative reporter Karina Danes (Minnie Driver) arrives from Los Angeles to pursue the story and angers both the local police and the factory owners who employee the undocumented aliens with her pointed questions and relentless quest for the truth.<br /><br />Her story goes nationwide when a young girl named Mariela (Ana Claudia Talancon) survives a vicious attack and walks out of the desert crediting the Blessed Virgin for her rescue. Her story is further enhanced when the \"Wounds of Christ\" (stigmata) appear in her palms. She also claims to have received a message of hope for the Virgin Mary and soon a fanatical movement forms around her to fight against the evil that holds such a stranglehold on the area.<br /><br />Critique: Possessing a lifelong fascination with such esoteric matters as Catholic mysticism, miracles and the mysterious appearance of the stigmata, I was immediately attracted to the \\'05 DVD release `Virgin of Juarez\\'. The film offers a rather unique storyline blending current socio-political concerns, the constant flow of Mexican migrant workers back and forth across the U.S./Mexican border and the traditional Catholic beliefs of the Hispanic population. I must say I was quite surprised by the unexpected route taken by the plot and the means and methods by which the heavenly message unfolds.<br /><br />`Virgin of Juarez\\' is not a film that you would care to watch over and over again, but it was interesting enough to merit at least one viewing. Minnie Driver delivers a solid performance and Ana Claudia Talancon is perfect as the fragile and innocent visionary Mariela. Also starring Esai Morales and Angus Macfadyen (Braveheart).\\n',\n",
       " '\\n',\n",
       " 'product/productId: B003AI2VGA\\n']"
      ]
     },
     "execution_count": 3,
     "metadata": {},
     "output_type": "execute_result"
    }
   ],
   "source": [
    "lines[0:10]"
   ]
  },
  {
   "cell_type": "markdown",
   "metadata": {},
   "source": [
    "In turning the information in the above in to a usable DataFrame, I applied the following codes; "
   ]
  },
  {
   "cell_type": "code",
   "execution_count": 4,
   "metadata": {},
   "outputs": [],
   "source": [
    "#each information is put in a list of lists\n",
    "tons_of_lists= []\n",
    "for i, line in zip(range(len(lines)), lines):\n",
    "    if line == '\\n':\n",
    "        tons_of_lists.append(lines[:i])\n",
    "        del(lines[:i+1])\n",
    "        number = 0  "
   ]
  },
  {
   "cell_type": "code",
   "execution_count": 5,
   "metadata": {},
   "outputs": [],
   "source": [
    "#\n",
    "list_with_all_dicts = []\n",
    "for mini_list in tons_of_lists:\n",
    "    dict_with_synopsis = {}\n",
    "    for item in mini_list:\n",
    "        if ':' in item:\n",
    "            dict_with_synopsis[item.split(':', maxsplit= 1)[0]] = item.split(':', maxsplit= 1)[1]\n",
    "            list_with_all_dicts.append(dict_with_synopsis)"
   ]
  },
  {
   "cell_type": "code",
   "execution_count": 6,
   "metadata": {},
   "outputs": [],
   "source": [
    "#The resulting data frame happened to have duplicated rows,thus I removed the duplicates\n",
    "movies_df = pd.DataFrame(list_with_all_dicts)\n",
    "movies_df = movies_df.drop_duplicates()\n",
    "\n",
    "#editing column names\n",
    "new_cols = []\n",
    "for column in movies_df.columns:\n",
    "    new_cols.append(column.split('/')[1])\n",
    "movies_df.columns = new_cols    "
   ]
  },
  {
   "cell_type": "code",
   "execution_count": 7,
   "metadata": {},
   "outputs": [
    {
     "data": {
      "text/html": [
       "<div>\n",
       "<style scoped>\n",
       "    .dataframe tbody tr th:only-of-type {\n",
       "        vertical-align: middle;\n",
       "    }\n",
       "\n",
       "    .dataframe tbody tr th {\n",
       "        vertical-align: top;\n",
       "    }\n",
       "\n",
       "    .dataframe thead th {\n",
       "        text-align: right;\n",
       "    }\n",
       "</style>\n",
       "<table border=\"1\" class=\"dataframe\">\n",
       "  <thead>\n",
       "    <tr style=\"text-align: right;\">\n",
       "      <th></th>\n",
       "      <th>productId</th>\n",
       "      <th>helpfulness</th>\n",
       "      <th>profileName</th>\n",
       "      <th>score</th>\n",
       "      <th>summary</th>\n",
       "      <th>text</th>\n",
       "      <th>time</th>\n",
       "      <th>userId</th>\n",
       "    </tr>\n",
       "  </thead>\n",
       "  <tbody>\n",
       "    <tr>\n",
       "      <th>0</th>\n",
       "      <td>B003AI2VGA\\n</td>\n",
       "      <td>7/7\\n</td>\n",
       "      <td>Brian E. Erland \"Rainbow Sphinx\"\\n</td>\n",
       "      <td>3.0\\n</td>\n",
       "      <td>\"There Is So Much Darkness Now ~ Come For The...</td>\n",
       "      <td>Synopsis: On the daily trek from Juarez, Mexi...</td>\n",
       "      <td>1182729600\\n</td>\n",
       "      <td>A141HP4LYPWMSR\\n</td>\n",
       "    </tr>\n",
       "    <tr>\n",
       "      <th>8</th>\n",
       "      <td>B003AI2VGA\\n</td>\n",
       "      <td>8/10\\n</td>\n",
       "      <td>Chrissy K. McVay \"Writer\"\\n</td>\n",
       "      <td>5.0\\n</td>\n",
       "      <td>This movie needed to be made.\\n</td>\n",
       "      <td>The scenes in this film can be very disquieti...</td>\n",
       "      <td>1164844800\\n</td>\n",
       "      <td>A1I7QGUDP043DG\\n</td>\n",
       "    </tr>\n",
       "    <tr>\n",
       "      <th>24</th>\n",
       "      <td>B003AI2VGA\\n</td>\n",
       "      <td>0/0\\n</td>\n",
       "      <td>abra \"a devoted reader\"\\n</td>\n",
       "      <td>2.0\\n</td>\n",
       "      <td>Pretty pointless fictionalization\\n</td>\n",
       "      <td>The murders in Juarez are real. This movie is...</td>\n",
       "      <td>1229040000\\n</td>\n",
       "      <td>A3QYDL5CDNYN66\\n</td>\n",
       "    </tr>\n",
       "    <tr>\n",
       "      <th>48</th>\n",
       "      <td>B00006HAXW\\n</td>\n",
       "      <td>24/24\\n</td>\n",
       "      <td>\"bruce_from_la\"\\n</td>\n",
       "      <td>5.0\\n</td>\n",
       "      <td>If You Like DooWop You Gotta Have This DVD\\n</td>\n",
       "      <td>Wow! When I saw this show on PBS--that was it...</td>\n",
       "      <td>1061164800\\n</td>\n",
       "      <td>A2P7UB02HAVEPB\\n</td>\n",
       "    </tr>\n",
       "    <tr>\n",
       "      <th>80</th>\n",
       "      <td>B00006HAXW\\n</td>\n",
       "      <td>7/7\\n</td>\n",
       "      <td>\"fellafromnyc\"\\n</td>\n",
       "      <td>4.0\\n</td>\n",
       "      <td>They sang in the subway, in halls..\\n</td>\n",
       "      <td>The performance of Little Anthony and the Imp...</td>\n",
       "      <td>1049846400\\n</td>\n",
       "      <td>A1OUBOGB5970AO\\n</td>\n",
       "    </tr>\n",
       "  </tbody>\n",
       "</table>\n",
       "</div>"
      ],
      "text/plain": [
       "        productId helpfulness                          profileName   score  \\\n",
       "0    B003AI2VGA\\n       7/7\\n   Brian E. Erland \"Rainbow Sphinx\"\\n   3.0\\n   \n",
       "8    B003AI2VGA\\n      8/10\\n          Chrissy K. McVay \"Writer\"\\n   5.0\\n   \n",
       "24   B003AI2VGA\\n       0/0\\n            abra \"a devoted reader\"\\n   2.0\\n   \n",
       "48   B00006HAXW\\n     24/24\\n                    \"bruce_from_la\"\\n   5.0\\n   \n",
       "80   B00006HAXW\\n       7/7\\n                     \"fellafromnyc\"\\n   4.0\\n   \n",
       "\n",
       "                                              summary  \\\n",
       "0    \"There Is So Much Darkness Now ~ Come For The...   \n",
       "8                     This movie needed to be made.\\n   \n",
       "24                Pretty pointless fictionalization\\n   \n",
       "48       If You Like DooWop You Gotta Have This DVD\\n   \n",
       "80              They sang in the subway, in halls..\\n   \n",
       "\n",
       "                                                 text           time  \\\n",
       "0    Synopsis: On the daily trek from Juarez, Mexi...   1182729600\\n   \n",
       "8    The scenes in this film can be very disquieti...   1164844800\\n   \n",
       "24   The murders in Juarez are real. This movie is...   1229040000\\n   \n",
       "48   Wow! When I saw this show on PBS--that was it...   1061164800\\n   \n",
       "80   The performance of Little Anthony and the Imp...   1049846400\\n   \n",
       "\n",
       "               userId  \n",
       "0    A141HP4LYPWMSR\\n  \n",
       "8    A1I7QGUDP043DG\\n  \n",
       "24   A3QYDL5CDNYN66\\n  \n",
       "48   A2P7UB02HAVEPB\\n  \n",
       "80   A1OUBOGB5970AO\\n  "
      ]
     },
     "execution_count": 7,
     "metadata": {},
     "output_type": "execute_result"
    }
   ],
   "source": [
    "movies_df.head()"
   ]
  },
  {
   "cell_type": "code",
   "execution_count": 8,
   "metadata": {},
   "outputs": [],
   "source": [
    "# I dropped two columns('helpfulness','summary') from the data\n",
    "movies_df = movies_df[['userId', 'productId', 'score', 'text', 'time']]"
   ]
  },
  {
   "cell_type": "code",
   "execution_count": 9,
   "metadata": {},
   "outputs": [],
   "source": [
    "\n",
    "for cols in movies_df.columns:\n",
    "    movies_df[cols] = movies_df[cols].apply(lambda x: x.strip())\n",
    "    movies_df[cols] = movies_df[cols].apply(lambda x: re.sub(r'\\n', '', x))"
   ]
  },
  {
   "cell_type": "code",
   "execution_count": 10,
   "metadata": {},
   "outputs": [],
   "source": [
    "movies_df['score'] = movies_df['score'].astype('float64')"
   ]
  },
  {
   "cell_type": "code",
   "execution_count": 11,
   "metadata": {},
   "outputs": [
    {
     "name": "stdout",
     "output_type": "stream",
     "text": [
      "<class 'pandas.core.frame.DataFrame'>\n",
      "Int64Index: 1491 entries, 0 to 8865200\n",
      "Data columns (total 5 columns):\n",
      "userId       1491 non-null object\n",
      "productId    1491 non-null object\n",
      "score        1491 non-null float64\n",
      "text         1491 non-null object\n",
      "time         1491 non-null object\n",
      "dtypes: float64(1), object(4)\n",
      "memory usage: 69.9+ KB\n"
     ]
    }
   ],
   "source": [
    "movies_df.info()"
   ]
  },
  {
   "cell_type": "markdown",
   "metadata": {},
   "source": [
    "From the above info table we can understand that with the duplicates our movies data frame would have 8865200 entries or rows."
   ]
  },
  {
   "cell_type": "code",
   "execution_count": 12,
   "metadata": {},
   "outputs": [
    {
     "data": {
      "text/html": [
       "<div>\n",
       "<style scoped>\n",
       "    .dataframe tbody tr th:only-of-type {\n",
       "        vertical-align: middle;\n",
       "    }\n",
       "\n",
       "    .dataframe tbody tr th {\n",
       "        vertical-align: top;\n",
       "    }\n",
       "\n",
       "    .dataframe thead th {\n",
       "        text-align: right;\n",
       "    }\n",
       "</style>\n",
       "<table border=\"1\" class=\"dataframe\">\n",
       "  <thead>\n",
       "    <tr style=\"text-align: right;\">\n",
       "      <th></th>\n",
       "      <th>userId</th>\n",
       "      <th>productId</th>\n",
       "      <th>score</th>\n",
       "      <th>text</th>\n",
       "      <th>time</th>\n",
       "    </tr>\n",
       "  </thead>\n",
       "  <tbody>\n",
       "    <tr>\n",
       "      <th>0</th>\n",
       "      <td>A141HP4LYPWMSR</td>\n",
       "      <td>B003AI2VGA</td>\n",
       "      <td>3.0</td>\n",
       "      <td>Synopsis: On the daily trek from Juarez, Mexic...</td>\n",
       "      <td>1182729600</td>\n",
       "    </tr>\n",
       "    <tr>\n",
       "      <th>8</th>\n",
       "      <td>A1I7QGUDP043DG</td>\n",
       "      <td>B003AI2VGA</td>\n",
       "      <td>5.0</td>\n",
       "      <td>The scenes in this film can be very disquietin...</td>\n",
       "      <td>1164844800</td>\n",
       "    </tr>\n",
       "    <tr>\n",
       "      <th>24</th>\n",
       "      <td>A3QYDL5CDNYN66</td>\n",
       "      <td>B003AI2VGA</td>\n",
       "      <td>2.0</td>\n",
       "      <td>The murders in Juarez are real. This movie is ...</td>\n",
       "      <td>1229040000</td>\n",
       "    </tr>\n",
       "    <tr>\n",
       "      <th>48</th>\n",
       "      <td>A2P7UB02HAVEPB</td>\n",
       "      <td>B00006HAXW</td>\n",
       "      <td>5.0</td>\n",
       "      <td>Wow! When I saw this show on PBS--that was it,...</td>\n",
       "      <td>1061164800</td>\n",
       "    </tr>\n",
       "    <tr>\n",
       "      <th>80</th>\n",
       "      <td>A1OUBOGB5970AO</td>\n",
       "      <td>B00006HAXW</td>\n",
       "      <td>4.0</td>\n",
       "      <td>The performance of Little Anthony and the Impe...</td>\n",
       "      <td>1049846400</td>\n",
       "    </tr>\n",
       "  </tbody>\n",
       "</table>\n",
       "</div>"
      ],
      "text/plain": [
       "            userId   productId  score  \\\n",
       "0   A141HP4LYPWMSR  B003AI2VGA    3.0   \n",
       "8   A1I7QGUDP043DG  B003AI2VGA    5.0   \n",
       "24  A3QYDL5CDNYN66  B003AI2VGA    2.0   \n",
       "48  A2P7UB02HAVEPB  B00006HAXW    5.0   \n",
       "80  A1OUBOGB5970AO  B00006HAXW    4.0   \n",
       "\n",
       "                                                 text        time  \n",
       "0   Synopsis: On the daily trek from Juarez, Mexic...  1182729600  \n",
       "8   The scenes in this film can be very disquietin...  1164844800  \n",
       "24  The murders in Juarez are real. This movie is ...  1229040000  \n",
       "48  Wow! When I saw this show on PBS--that was it,...  1061164800  \n",
       "80  The performance of Little Anthony and the Impe...  1049846400  "
      ]
     },
     "execution_count": 12,
     "metadata": {},
     "output_type": "execute_result"
    }
   ],
   "source": [
    "movies_df.head()"
   ]
  },
  {
   "cell_type": "code",
   "execution_count": 13,
   "metadata": {},
   "outputs": [
    {
     "data": {
      "text/html": [
       "<div>\n",
       "<style scoped>\n",
       "    .dataframe tbody tr th:only-of-type {\n",
       "        vertical-align: middle;\n",
       "    }\n",
       "\n",
       "    .dataframe tbody tr th {\n",
       "        vertical-align: top;\n",
       "    }\n",
       "\n",
       "    .dataframe thead th {\n",
       "        text-align: right;\n",
       "    }\n",
       "</style>\n",
       "<table border=\"1\" class=\"dataframe\">\n",
       "  <thead>\n",
       "    <tr style=\"text-align: right;\">\n",
       "      <th></th>\n",
       "      <th>userId</th>\n",
       "      <th>productId</th>\n",
       "      <th>score</th>\n",
       "      <th>text</th>\n",
       "      <th>time</th>\n",
       "    </tr>\n",
       "  </thead>\n",
       "  <tbody>\n",
       "    <tr>\n",
       "      <th>8817712</th>\n",
       "      <td>A3043P11OIPUHE</td>\n",
       "      <td>B001G5RST4</td>\n",
       "      <td>2.0</td>\n",
       "      <td>The Movie Madagascar is terrible for children....</td>\n",
       "      <td>1233014400</td>\n",
       "    </tr>\n",
       "    <tr>\n",
       "      <th>8829576</th>\n",
       "      <td>AN9J46667D80O</td>\n",
       "      <td>B0087ZG7KM</td>\n",
       "      <td>4.0</td>\n",
       "      <td>And so the masses cried out,\"Where is the twen...</td>\n",
       "      <td>1305417600</td>\n",
       "    </tr>\n",
       "    <tr>\n",
       "      <th>8841448</th>\n",
       "      <td>A7VEQLY06X32Q</td>\n",
       "      <td>B00287Z19I</td>\n",
       "      <td>5.0</td>\n",
       "      <td>\"New Tricks\" is a very well done police drama ...</td>\n",
       "      <td>1335312000</td>\n",
       "    </tr>\n",
       "    <tr>\n",
       "      <th>8853320</th>\n",
       "      <td>A35ZK3M8L9JUPX</td>\n",
       "      <td>B00004UB7B</td>\n",
       "      <td>5.0</td>\n",
       "      <td>Marcus is a successful advertising executive w...</td>\n",
       "      <td>1262217600</td>\n",
       "    </tr>\n",
       "    <tr>\n",
       "      <th>8865200</th>\n",
       "      <td>A3PCTD8QM1BIXI</td>\n",
       "      <td>B00009X8LF</td>\n",
       "      <td>3.0</td>\n",
       "      <td>Head Of State is a pretty funny movie from the...</td>\n",
       "      <td>1221350400</td>\n",
       "    </tr>\n",
       "  </tbody>\n",
       "</table>\n",
       "</div>"
      ],
      "text/plain": [
       "                 userId   productId  score  \\\n",
       "8817712  A3043P11OIPUHE  B001G5RST4    2.0   \n",
       "8829576   AN9J46667D80O  B0087ZG7KM    4.0   \n",
       "8841448   A7VEQLY06X32Q  B00287Z19I    5.0   \n",
       "8853320  A35ZK3M8L9JUPX  B00004UB7B    5.0   \n",
       "8865200  A3PCTD8QM1BIXI  B00009X8LF    3.0   \n",
       "\n",
       "                                                      text        time  \n",
       "8817712  The Movie Madagascar is terrible for children....  1233014400  \n",
       "8829576  And so the masses cried out,\"Where is the twen...  1305417600  \n",
       "8841448  \"New Tricks\" is a very well done police drama ...  1335312000  \n",
       "8853320  Marcus is a successful advertising executive w...  1262217600  \n",
       "8865200  Head Of State is a pretty funny movie from the...  1221350400  "
      ]
     },
     "execution_count": 13,
     "metadata": {},
     "output_type": "execute_result"
    }
   ],
   "source": [
    "movies_df.tail()"
   ]
  },
  {
   "cell_type": "code",
   "execution_count": 14,
   "metadata": {},
   "outputs": [],
   "source": [
    "movies_df.reset_index(inplace = True, drop = True)"
   ]
  },
  {
   "cell_type": "markdown",
   "metadata": {},
   "source": [
    "### Recommender Systems\n",
    "**Generally, recommender systems can be one of the below six or more classes:**\n",
    "    \n",
    "- **Content-based:** These system learns to recommend items that are similar to the\n",
    "ones that the user liked in the past.\n",
    "- **Collaborative Filtering:** The simplest and original implementation of this\n",
    "approach recommends to the active user the items that other users with similar tastes\n",
    "liked in the past. “Wisdom of the crowd” to recommend item!\n",
    "- **Demographic:** This type of system recommends items based on the demographic\n",
    "profile of the user.\n",
    "- **Knowledge-based:** Knowledge-based systems recommend items based on\n",
    "specific domain knowledge about how certain item features meet users needs and\n",
    "preferences and, ultimately, how the item is useful for the user.\n",
    "- **Community-based:** This type of system recommends items based on the\n",
    "preferences of the users friends. This technique follows the epigram “Tell me who your\n",
    "friends are, and I will tell you who you are”.\n",
    "- **Hybrid:** This type of system are based on the combination of the above mentioned\n",
    "techniques."
   ]
  },
  {
   "cell_type": "markdown",
   "metadata": {},
   "source": [
    "In this Project i will be applying a Hybrid of Content-based and Collaborative Filtering classes.This is because i will depend on two important columns values in identifying the relationship between the test of movies of one user to another based on how one users evaluated the movies based on the rating score and sentiment analysis pattern of the reviews.having said that in identifying those relationships i desided to depend on one of the clustering algorisms as oposed to the common approaches taken by other techniques, for the following reasons;\n",
    "1. Logically it is good practice to have the algorism or technque to select only those well average reviewed Movies in general.And then see the relationship to recommend those movies between the tests of the viewers.However because of the nature of my dataset it is difficulty to find the real avarage of movie scores.\n",
    "2. Most of the movies has only one reviewer. That is if a movie is really bad but one review is 5 or high then it may meslead the recommendation.\n",
    "\n",
    "Therefore because of the above and other unseen situations i decieded the algorism to deside for itself between the homegeniety of the test of viewers.But First and for most lets deep dive in to the world of exploration and Feature Engineering and Extraction to have a better understanding about our dataset and the richness of the features for the best result of successfully finding the vital relationships."
   ]
  },
  {
   "cell_type": "markdown",
   "metadata": {},
   "source": [
    "### Explarotary Data Analysis(EDA)"
   ]
  },
  {
   "cell_type": "markdown",
   "metadata": {},
   "source": [
    "How many movies does this new subset of the main dataset has? How many reviewers? And at a glance lets see which movies have the highest rating score out of five."
   ]
  },
  {
   "cell_type": "markdown",
   "metadata": {},
   "source": [
    "It is very important to know how many movies does our dataset has."
   ]
  },
  {
   "cell_type": "code",
   "execution_count": 15,
   "metadata": {},
   "outputs": [
    {
     "data": {
      "text/plain": [
       "1369"
      ]
     },
     "execution_count": 15,
     "metadata": {},
     "output_type": "execute_result"
    }
   ],
   "source": [
    "#Total Number of Movies\n",
    "movies_df['productId'].nunique()"
   ]
  },
  {
   "cell_type": "markdown",
   "metadata": {},
   "source": [
    "And it is Equally important to know the number of movie reviewers."
   ]
  },
  {
   "cell_type": "code",
   "execution_count": 16,
   "metadata": {},
   "outputs": [
    {
     "data": {
      "text/plain": [
       "1439"
      ]
     },
     "execution_count": 16,
     "metadata": {},
     "output_type": "execute_result"
    }
   ],
   "source": [
    "# Total Number of viewers\n",
    "movies_df['userId'].nunique()"
   ]
  },
  {
   "cell_type": "markdown",
   "metadata": {},
   "source": [
    "Lets see the proportion of the number of reviewers per each movie across the dataset.But first lets find the unique number of reviews per movie."
   ]
  },
  {
   "cell_type": "code",
   "execution_count": 17,
   "metadata": {},
   "outputs": [
    {
     "data": {
      "text/plain": [
       "{1, 2, 3, 4}"
      ]
     },
     "execution_count": 17,
     "metadata": {},
     "output_type": "execute_result"
    }
   ],
   "source": [
    "set(movies_df['userId'].value_counts().values)"
   ]
  },
  {
   "cell_type": "markdown",
   "metadata": {},
   "source": [
    "From the above values inside the curl bracket we can understand that all the movies has on of the values number of reviewers.Lets move on and see the proportion of each value across the dataset."
   ]
  },
  {
   "cell_type": "code",
   "execution_count": 18,
   "metadata": {},
   "outputs": [
    {
     "name": "stdout",
     "output_type": "stream",
     "text": [
      "{1: 0.937625754527163, 2: 0.021462105969148222, 3: 0.004694835680751174, 4: 0.0013413816230717639}\n"
     ]
    },
    {
     "data": {
      "image/png": "[encoded data removed]",
      "text/plain": [
       "<Figure size 1296x432 with 1 Axes>"
      ]
     },
     "metadata": {
      "needs_background": "light"
     },
     "output_type": "display_data"
    }
   ],
   "source": [
    "dict_user_count = {}\n",
    "for i in set(movies_df['userId'].value_counts().values): \n",
    "    dict_user_count[i] =(movies_df['userId'].value_counts().values == i).sum()/len(movies_df['userId'])\n",
    "print(dict_user_count)\n",
    "plt.figure(figsize = (18, 6))\n",
    "plt.bar(dict_user_count.keys(), dict_user_count.values())\n",
    "plt.title('Proportion of the number of reviews per movie');\n",
    "plt.xlabel('Number of reviews')\n",
    "plt.ylabel('Frequency');"
   ]
  },
  {
   "cell_type": "markdown",
   "metadata": {},
   "source": [
    "From the dictionary and the plot on the above we can learn that 94 percent of the movies were reviewed only once, only 6 percent of the movies got reviews more than one time.We have a very biased dataset.But this analysis have a great value with or with out biasness;the accuracy however is expected to suffer. The most important aspect of it is, its scalability and there is always room for improvement."
   ]
  },
  {
   "cell_type": "code",
   "execution_count": 19,
   "metadata": {},
   "outputs": [
    {
     "data": {
      "text/html": [
       "<div>\n",
       "<style scoped>\n",
       "    .dataframe tbody tr th:only-of-type {\n",
       "        vertical-align: middle;\n",
       "    }\n",
       "\n",
       "    .dataframe tbody tr th {\n",
       "        vertical-align: top;\n",
       "    }\n",
       "\n",
       "    .dataframe thead th {\n",
       "        text-align: right;\n",
       "    }\n",
       "</style>\n",
       "<table border=\"1\" class=\"dataframe\">\n",
       "  <thead>\n",
       "    <tr style=\"text-align: right;\">\n",
       "      <th></th>\n",
       "      <th>score</th>\n",
       "    </tr>\n",
       "    <tr>\n",
       "      <th>productId</th>\n",
       "      <th></th>\n",
       "    </tr>\n",
       "  </thead>\n",
       "  <tbody>\n",
       "    <tr>\n",
       "      <th>B000C20VSW</th>\n",
       "      <td>5.0</td>\n",
       "    </tr>\n",
       "    <tr>\n",
       "      <th>B0001DHSC4</th>\n",
       "      <td>5.0</td>\n",
       "    </tr>\n",
       "    <tr>\n",
       "      <th>B0001Y4MAO</th>\n",
       "      <td>5.0</td>\n",
       "    </tr>\n",
       "    <tr>\n",
       "      <th>B0001WTWCO</th>\n",
       "      <td>5.0</td>\n",
       "    </tr>\n",
       "    <tr>\n",
       "      <th>B0001NBMH6</th>\n",
       "      <td>5.0</td>\n",
       "    </tr>\n",
       "    <tr>\n",
       "      <th>B0001MDPIG</th>\n",
       "      <td>5.0</td>\n",
       "    </tr>\n",
       "    <tr>\n",
       "      <th>B0001IXT36</th>\n",
       "      <td>5.0</td>\n",
       "    </tr>\n",
       "    <tr>\n",
       "      <th>B0001I562I</th>\n",
       "      <td>5.0</td>\n",
       "    </tr>\n",
       "    <tr>\n",
       "      <th>B0001HK21Y</th>\n",
       "      <td>5.0</td>\n",
       "    </tr>\n",
       "    <tr>\n",
       "      <th>B0001HAISG</th>\n",
       "      <td>5.0</td>\n",
       "    </tr>\n",
       "  </tbody>\n",
       "</table>\n",
       "</div>"
      ],
      "text/plain": [
       "            score\n",
       "productId        \n",
       "B000C20VSW    5.0\n",
       "B0001DHSC4    5.0\n",
       "B0001Y4MAO    5.0\n",
       "B0001WTWCO    5.0\n",
       "B0001NBMH6    5.0\n",
       "B0001MDPIG    5.0\n",
       "B0001IXT36    5.0\n",
       "B0001I562I    5.0\n",
       "B0001HK21Y    5.0\n",
       "B0001HAISG    5.0"
      ]
     },
     "execution_count": 19,
     "metadata": {},
     "output_type": "execute_result"
    }
   ],
   "source": [
    "scores = pd.DataFrame(movies_df.groupby('productId')['score'].mean().sort_values(ascending = False))\n",
    "scores.head(10)"
   ]
  },
  {
   "cell_type": "markdown",
   "metadata": {},
   "source": [
    "So as we can see on the above these 10 products(Movies) has the highest score i.e score of five among many others.But to be exact lets find out how many movies have an average score of five."
   ]
  },
  {
   "cell_type": "code",
   "execution_count": 20,
   "metadata": {},
   "outputs": [
    {
     "data": {
      "text/plain": [
       "738"
      ]
     },
     "execution_count": 20,
     "metadata": {},
     "output_type": "execute_result"
    }
   ],
   "source": [
    "(movies_df.groupby('productId')['score'].mean().values == 5.0).sum()"
   ]
  },
  {
   "cell_type": "markdown",
   "metadata": {},
   "source": [
    "The above figure is telling us that over 50% of our movies has review of exactly 5. Not 4, 4.5, 3.5 or any thing but exactly 5.This shows that there are pretty high number of movies with a single review.Let me clarify it using the table below;"
   ]
  },
  {
   "cell_type": "code",
   "execution_count": 21,
   "metadata": {},
   "outputs": [
    {
     "data": {
      "text/html": [
       "<div>\n",
       "<style scoped>\n",
       "    .dataframe tbody tr th:only-of-type {\n",
       "        vertical-align: middle;\n",
       "    }\n",
       "\n",
       "    .dataframe tbody tr th {\n",
       "        vertical-align: top;\n",
       "    }\n",
       "\n",
       "    .dataframe thead th {\n",
       "        text-align: right;\n",
       "    }\n",
       "</style>\n",
       "<table border=\"1\" class=\"dataframe\">\n",
       "  <thead>\n",
       "    <tr style=\"text-align: right;\">\n",
       "      <th></th>\n",
       "      <th>score</th>\n",
       "      <th>n_ratings</th>\n",
       "    </tr>\n",
       "    <tr>\n",
       "      <th>productId</th>\n",
       "      <th></th>\n",
       "      <th></th>\n",
       "    </tr>\n",
       "  </thead>\n",
       "  <tbody>\n",
       "    <tr>\n",
       "      <th>B000C20VSW</th>\n",
       "      <td>5.0</td>\n",
       "      <td>1</td>\n",
       "    </tr>\n",
       "    <tr>\n",
       "      <th>B0001DHSC4</th>\n",
       "      <td>5.0</td>\n",
       "      <td>1</td>\n",
       "    </tr>\n",
       "    <tr>\n",
       "      <th>B0001Y4MAO</th>\n",
       "      <td>5.0</td>\n",
       "      <td>1</td>\n",
       "    </tr>\n",
       "    <tr>\n",
       "      <th>B0001WTWCO</th>\n",
       "      <td>5.0</td>\n",
       "      <td>1</td>\n",
       "    </tr>\n",
       "    <tr>\n",
       "      <th>B0001NBMH6</th>\n",
       "      <td>5.0</td>\n",
       "      <td>1</td>\n",
       "    </tr>\n",
       "    <tr>\n",
       "      <th>B0001MDPIG</th>\n",
       "      <td>5.0</td>\n",
       "      <td>1</td>\n",
       "    </tr>\n",
       "    <tr>\n",
       "      <th>B0001IXT36</th>\n",
       "      <td>5.0</td>\n",
       "      <td>1</td>\n",
       "    </tr>\n",
       "    <tr>\n",
       "      <th>B0001I562I</th>\n",
       "      <td>5.0</td>\n",
       "      <td>1</td>\n",
       "    </tr>\n",
       "    <tr>\n",
       "      <th>B0001HK21Y</th>\n",
       "      <td>5.0</td>\n",
       "      <td>1</td>\n",
       "    </tr>\n",
       "    <tr>\n",
       "      <th>B0001HAISG</th>\n",
       "      <td>5.0</td>\n",
       "      <td>1</td>\n",
       "    </tr>\n",
       "  </tbody>\n",
       "</table>\n",
       "</div>"
      ],
      "text/plain": [
       "            score  n_ratings\n",
       "productId                   \n",
       "B000C20VSW    5.0          1\n",
       "B0001DHSC4    5.0          1\n",
       "B0001Y4MAO    5.0          1\n",
       "B0001WTWCO    5.0          1\n",
       "B0001NBMH6    5.0          1\n",
       "B0001MDPIG    5.0          1\n",
       "B0001IXT36    5.0          1\n",
       "B0001I562I    5.0          1\n",
       "B0001HK21Y    5.0          1\n",
       "B0001HAISG    5.0          1"
      ]
     },
     "execution_count": 21,
     "metadata": {},
     "output_type": "execute_result"
    }
   ],
   "source": [
    "scores['n_ratings'] = pd.DataFrame(movies_df.groupby('productId')['score'].count())\n",
    "scores.head(10)"
   ]
  },
  {
   "cell_type": "code",
   "execution_count": null,
   "metadata": {},
   "outputs": [],
   "source": []
  },
  {
   "cell_type": "code",
   "execution_count": 22,
   "metadata": {},
   "outputs": [
    {
     "data": {
      "image/png": "[encoded data removed]",
      "text/plain": [
       "<Figure size 864x432 with 2 Axes>"
      ]
     },
     "metadata": {
      "needs_background": "light"
     },
     "output_type": "display_data"
    }
   ],
   "source": [
    "f, (ax1, ax2) = plt.subplots(nrows=1, ncols=2, figsize=(12,6))\n",
    "\n",
    "# For Average ratings \n",
    "ax1.set_title('No. of ratings')\n",
    "ax1.hist(scores['n_ratings'], bins =20);\n",
    "ax1.set_xlabel('No of Ratings per Movie')\n",
    "ax1.set_ylabel('Frequency of Movies')\n",
    "\n",
    "\n",
    "# For rating Frequency\n",
    "ax2.set_title('Average Rating')\n",
    "ax2.hist(scores['score'], bins =30);\n",
    "ax2.set_xlabel('Average Movie Rating')\n",
    "ax2.set_ylabel('Frequency of Movies');"
   ]
  },
  {
   "cell_type": "markdown",
   "metadata": {},
   "source": [
    "From the above 'No. of ratings histogram'(the left figure), we can learn that over 85% of the movies have only 1 reviewer. But to find out about real movie score we technically need the opinion of quite some people and then we can average the scores to get the representative score.From the 'Average Rating' histogram on the right we can see that majority of the ratings are 5,but majority of those scores are the insight of a single viewer.but we have desent number of other scores with a single reviewer too.Those issues would be very conserning if we are going to highly depend on the review scores to recommend a movie for istance we may take a stance that a highly reviewed movie should be recommended to customers based on their tastes, this idea generally works for other goods and services for movies however regardless how other people scores a movie,a high percent of people may still want to see that movie,like the movie 'Room' the worst movie ever made, still people want to see it for been bad, even other different movies people may want to see them for different reasons regardless of the quality of acting, recording,directing and so forth.Our hybrid recommender system therefore will depend on several characteristics on top of review scores to find the relationship between viewers,quality of movie, time and the sentiment a viewer has with certain movies.I have worked to connect the dots in using the concept of NLP and other features to prepare for clustering algorism to come up with the most robust recommender.But first lets prepare the field by desgning the features."
   ]
  },
  {
   "cell_type": "markdown",
   "metadata": {},
   "source": [
    "### FEATURE ENGINEERING"
   ]
  },
  {
   "cell_type": "markdown",
   "metadata": {},
   "source": [
    "To make a use of sentiment analysis in our data,the first step is to turn a Text in to a Data Frame.To do that there are several techniques that are commonly practiced in NLP data preparation.In this case i have applied the Term Frequency - Inverse Document Frequency(TF-IDF) sparse matrix technique to create the data frame using Vectorization method from Sklearn library.Lets move along and see what it looks like in practicality."
   ]
  },
  {
   "cell_type": "code",
   "execution_count": 23,
   "metadata": {},
   "outputs": [
    {
     "data": {
      "text/html": [
       "<div>\n",
       "<style scoped>\n",
       "    .dataframe tbody tr th:only-of-type {\n",
       "        vertical-align: middle;\n",
       "    }\n",
       "\n",
       "    .dataframe tbody tr th {\n",
       "        vertical-align: top;\n",
       "    }\n",
       "\n",
       "    .dataframe thead th {\n",
       "        text-align: right;\n",
       "    }\n",
       "</style>\n",
       "<table border=\"1\" class=\"dataframe\">\n",
       "  <thead>\n",
       "    <tr style=\"text-align: right;\">\n",
       "      <th></th>\n",
       "      <th>text</th>\n",
       "    </tr>\n",
       "  </thead>\n",
       "  <tbody>\n",
       "    <tr>\n",
       "      <th>0</th>\n",
       "      <td>Synopsis: On the daily trek from Juarez, Mexic...</td>\n",
       "    </tr>\n",
       "    <tr>\n",
       "      <th>1</th>\n",
       "      <td>The scenes in this film can be very disquietin...</td>\n",
       "    </tr>\n",
       "    <tr>\n",
       "      <th>2</th>\n",
       "      <td>The murders in Juarez are real. This movie is ...</td>\n",
       "    </tr>\n",
       "    <tr>\n",
       "      <th>3</th>\n",
       "      <td>Wow! When I saw this show on PBS--that was it,...</td>\n",
       "    </tr>\n",
       "    <tr>\n",
       "      <th>4</th>\n",
       "      <td>The performance of Little Anthony and the Impe...</td>\n",
       "    </tr>\n",
       "  </tbody>\n",
       "</table>\n",
       "</div>"
      ],
      "text/plain": [
       "                                                text\n",
       "0  Synopsis: On the daily trek from Juarez, Mexic...\n",
       "1  The scenes in this film can be very disquietin...\n",
       "2  The murders in Juarez are real. This movie is ...\n",
       "3  Wow! When I saw this show on PBS--that was it,...\n",
       "4  The performance of Little Anthony and the Impe..."
      ]
     },
     "execution_count": 23,
     "metadata": {},
     "output_type": "execute_result"
    }
   ],
   "source": [
    "reviews_data = pd.DataFrame(movies_df['text'])\n",
    "reviews_data.head()"
   ]
  },
  {
   "cell_type": "code",
   "execution_count": 24,
   "metadata": {},
   "outputs": [],
   "source": [
    "#Lets label the two Id and the time variables for converting the categorical variables in to numerical\n",
    "labeled_df = pd.DataFrame()\n",
    "for col in ['userId', 'productId', 'time']:\n",
    "    labeled_df[col] = pd.Series(pd.factorize(movies_df[col])[0])"
   ]
  },
  {
   "cell_type": "code",
   "execution_count": 25,
   "metadata": {},
   "outputs": [
    {
     "data": {
      "text/plain": [
       "(1491, 3)"
      ]
     },
     "execution_count": 25,
     "metadata": {},
     "output_type": "execute_result"
    }
   ],
   "source": [
    "labeled_df.shape"
   ]
  },
  {
   "cell_type": "markdown",
   "metadata": {},
   "source": [
    "Mean-shift is non-flat geometry clustering algorism, there evaluating the algorism using silhouette score may not give us that great result as per the theory.K-means is a robust flat geometry clustering algorism.And applying the Silhouette score evaluation metric gives an efficient result."
   ]
  },
  {
   "cell_type": "code",
   "execution_count": 26,
   "metadata": {},
   "outputs": [
    {
     "name": "stdout",
     "output_type": "stream",
     "text": [
      "synopsis on the daily trek from Juarez Mexico to El Paso Texas an ever increase number of female worker be find rape and murder in the surround desert investigative reporter Karina Danes Minnie Driver arrive from Los Angeles to pursue the story and anger both the local police and the factory owner who employee the undocumented alien with -PRON- pointed question and relentless quest for the truth -PRON- story go nationwide when a young girl name Mariela Ana Claudia Talancon survive a vicious attack and walk out of the desert credit the Blessed Virgin for -PRON- rescue -PRON- story be further enhance when the Wounds of Christ stigmata appear in -PRON- palm -PRON- also claim to have receive a message of hope for the Virgin Mary and soon a fanatical movement form around -PRON- to fight against the evil that hold such a stranglehold on the area Critique possess a lifelong fascination with such esoteric matter as catholic mysticism miracle and the mysterious appearance of the stigmata -PRON- be immediately attract to the 05 dvd release ` Virgin of Juarez the film offer a rather unique storyline blend current socio political concern the constant flow of mexican migrant worker back and forth across the u.s./mexican border and the traditional catholic belief of the hispanic population -PRON- must say -PRON- be quite surprised by the unexpected route take by the plot and the mean and method by which the heavenly message unfold `virgin of Juarez be not a film that -PRON- would care to watch over and over again but -PRON- be interesting enough to merit at least one viewing Minnie Driver deliver a solid performance and Ana Claudia Talancon be perfect as the fragile and innocent visionary Mariela also star Esai Morales and Angus Macfadyen Braveheart\n"
     ]
    }
   ],
   "source": [
    "nlp = spacy.load('en_core_web_sm') # I wanted to lemmatize the tokens for a best result.\n",
    "#preparing the reviews to be vectorized for Tfidf model\n",
    "review_array = []\n",
    "for review in reviews_data['text']:\n",
    "    review = re.sub(r'--',' ',review)\n",
    "    review = re.sub(r\"[\\[/].*?[\\]]\", \"\", review)\n",
    "    review = re.sub(r'<.*?>', \"\", review)\n",
    "    review = nlp(review)\n",
    "    lemmas = []\n",
    "    for token in review:\n",
    "        if not token.is_punct:\n",
    "            lemmas.append(token.lemma_)\n",
    "    review_array.append(' '.join(lemmas))\n",
    "    \n",
    "# Lets see one reviews\n",
    "print(review_array[0])"
   ]
  },
  {
   "cell_type": "code",
   "execution_count": 27,
   "metadata": {},
   "outputs": [
    {
     "name": "stdout",
     "output_type": "stream",
     "text": [
      "Number of features: 526\n"
     ]
    }
   ],
   "source": [
    "from sklearn.feature_extraction.text import TfidfVectorizer\n",
    "\n",
    "vectorizer = TfidfVectorizer(max_df=0.5, # drop words that occur in more than half the paragraphs\n",
    "                             min_df=30, # only use words that appear at least 50 times\n",
    "                             stop_words='english', \n",
    "                             lowercase=True, #convert everything to lower case\n",
    "                             use_idf=True,#we definitely want to use inverse document frequencies in our weighting\n",
    "                             smooth_idf=True #Adds 1 to all document frequencies, as if an extra document existed that used every word once.  Prevents divide-by-zero errors\n",
    "                            )\n",
    "\n",
    "\n",
    "#Applying the vectorizer\n",
    "data_norm_tfidf=vectorizer.fit_transform(review_array)\n",
    "print(\"Number of features: %d\" % data_norm_tfidf.get_shape()[1])\n"
   ]
  },
  {
   "cell_type": "markdown",
   "metadata": {},
   "source": [
    "It is interesting to see that there are 423 features engineered from the 'text' column.It is too many features it could have been even close to 10000 had i not tunned 'the min_df' attribute in the Tfidfvectorizer function to a large number which is 30,nevertheless highly majority of the features are expected to have from extremely small to almost no effect on the variance explained by the over all features. "
   ]
  },
  {
   "cell_type": "code",
   "execution_count": 28,
   "metadata": {},
   "outputs": [
    {
     "name": "stdout",
     "output_type": "stream",
     "text": [
      "Percent variance captured by all components: 23.24513013078484\n"
     ]
    }
   ],
   "source": [
    "\n",
    "#Our SVD data reducer.  We are going to reduce the feature space from 1379 to 130.\n",
    "svd= TruncatedSVD(30)\n",
    "lsa = make_pipeline(svd, Normalizer(copy=False))\n",
    "# Run SVD on the training data, then project the training data.\n",
    "text_lsa = lsa.fit_transform(data_norm_tfidf)\n",
    "variance_explained=svd.explained_variance_ratio_\n",
    "total_variance = variance_explained.sum()\n",
    "print(\"Percent variance captured by all components:\",total_variance*100)"
   ]
  },
  {
   "cell_type": "markdown",
   "metadata": {},
   "source": [
    "Selecting the number of components is very important in addressing the issue of overfitting or underfitting.And applying the trade off of increasing the variance under the constraint of combatting overfitting,meaning including too many components will result in overfitting.For this problem i have tried hypertunning the values and came out with 30 components."
   ]
  },
  {
   "cell_type": "code",
   "execution_count": 29,
   "metadata": {},
   "outputs": [
    {
     "data": {
      "text/html": [
       "<div>\n",
       "<style scoped>\n",
       "    .dataframe tbody tr th:only-of-type {\n",
       "        vertical-align: middle;\n",
       "    }\n",
       "\n",
       "    .dataframe tbody tr th {\n",
       "        vertical-align: top;\n",
       "    }\n",
       "\n",
       "    .dataframe thead th {\n",
       "        text-align: right;\n",
       "    }\n",
       "</style>\n",
       "<table border=\"1\" class=\"dataframe\">\n",
       "  <thead>\n",
       "    <tr style=\"text-align: right;\">\n",
       "      <th></th>\n",
       "      <th>0</th>\n",
       "      <th>1</th>\n",
       "      <th>2</th>\n",
       "      <th>3</th>\n",
       "      <th>4</th>\n",
       "      <th>5</th>\n",
       "      <th>6</th>\n",
       "      <th>7</th>\n",
       "      <th>8</th>\n",
       "      <th>9</th>\n",
       "      <th>...</th>\n",
       "      <th>20</th>\n",
       "      <th>21</th>\n",
       "      <th>22</th>\n",
       "      <th>23</th>\n",
       "      <th>24</th>\n",
       "      <th>25</th>\n",
       "      <th>26</th>\n",
       "      <th>27</th>\n",
       "      <th>28</th>\n",
       "      <th>29</th>\n",
       "    </tr>\n",
       "  </thead>\n",
       "  <tbody>\n",
       "    <tr>\n",
       "      <th>0</th>\n",
       "      <td>0.652497</td>\n",
       "      <td>0.111911</td>\n",
       "      <td>-0.129626</td>\n",
       "      <td>0.142786</td>\n",
       "      <td>0.082859</td>\n",
       "      <td>-0.022919</td>\n",
       "      <td>-0.246285</td>\n",
       "      <td>-0.105459</td>\n",
       "      <td>0.016232</td>\n",
       "      <td>-0.083728</td>\n",
       "      <td>...</td>\n",
       "      <td>-0.163094</td>\n",
       "      <td>-0.016240</td>\n",
       "      <td>0.063607</td>\n",
       "      <td>-0.144764</td>\n",
       "      <td>0.150056</td>\n",
       "      <td>0.088523</td>\n",
       "      <td>-0.012577</td>\n",
       "      <td>0.061021</td>\n",
       "      <td>-0.117641</td>\n",
       "      <td>-0.004598</td>\n",
       "    </tr>\n",
       "    <tr>\n",
       "      <th>1</th>\n",
       "      <td>0.544983</td>\n",
       "      <td>0.177006</td>\n",
       "      <td>-0.211150</td>\n",
       "      <td>-0.138132</td>\n",
       "      <td>-0.087827</td>\n",
       "      <td>0.000817</td>\n",
       "      <td>-0.333366</td>\n",
       "      <td>-0.065234</td>\n",
       "      <td>-0.112749</td>\n",
       "      <td>-0.132231</td>\n",
       "      <td>...</td>\n",
       "      <td>-0.117171</td>\n",
       "      <td>-0.017856</td>\n",
       "      <td>0.174383</td>\n",
       "      <td>0.009733</td>\n",
       "      <td>-0.017322</td>\n",
       "      <td>-0.017167</td>\n",
       "      <td>0.146299</td>\n",
       "      <td>0.296004</td>\n",
       "      <td>-0.371832</td>\n",
       "      <td>0.116157</td>\n",
       "    </tr>\n",
       "    <tr>\n",
       "      <th>2</th>\n",
       "      <td>0.423421</td>\n",
       "      <td>0.002994</td>\n",
       "      <td>-0.093954</td>\n",
       "      <td>-0.180650</td>\n",
       "      <td>-0.118415</td>\n",
       "      <td>-0.166292</td>\n",
       "      <td>0.162079</td>\n",
       "      <td>0.330408</td>\n",
       "      <td>-0.251955</td>\n",
       "      <td>-0.399496</td>\n",
       "      <td>...</td>\n",
       "      <td>0.016184</td>\n",
       "      <td>0.023053</td>\n",
       "      <td>-0.096702</td>\n",
       "      <td>-0.014129</td>\n",
       "      <td>-0.092010</td>\n",
       "      <td>0.131084</td>\n",
       "      <td>-0.021298</td>\n",
       "      <td>-0.016212</td>\n",
       "      <td>-0.158806</td>\n",
       "      <td>0.262701</td>\n",
       "    </tr>\n",
       "    <tr>\n",
       "      <th>3</th>\n",
       "      <td>0.378549</td>\n",
       "      <td>-0.199706</td>\n",
       "      <td>0.143112</td>\n",
       "      <td>-0.102208</td>\n",
       "      <td>0.192035</td>\n",
       "      <td>0.110362</td>\n",
       "      <td>-0.255822</td>\n",
       "      <td>-0.106330</td>\n",
       "      <td>-0.196488</td>\n",
       "      <td>-0.206179</td>\n",
       "      <td>...</td>\n",
       "      <td>0.004679</td>\n",
       "      <td>0.090275</td>\n",
       "      <td>-0.293340</td>\n",
       "      <td>-0.124929</td>\n",
       "      <td>0.009618</td>\n",
       "      <td>0.332157</td>\n",
       "      <td>-0.004605</td>\n",
       "      <td>0.305308</td>\n",
       "      <td>-0.139922</td>\n",
       "      <td>-0.211732</td>\n",
       "    </tr>\n",
       "    <tr>\n",
       "      <th>4</th>\n",
       "      <td>0.237847</td>\n",
       "      <td>0.485514</td>\n",
       "      <td>0.700752</td>\n",
       "      <td>-0.143476</td>\n",
       "      <td>-0.033529</td>\n",
       "      <td>-0.009949</td>\n",
       "      <td>0.053678</td>\n",
       "      <td>0.037921</td>\n",
       "      <td>-0.026102</td>\n",
       "      <td>-0.029002</td>\n",
       "      <td>...</td>\n",
       "      <td>0.147603</td>\n",
       "      <td>0.027909</td>\n",
       "      <td>-0.060213</td>\n",
       "      <td>-0.175416</td>\n",
       "      <td>-0.089977</td>\n",
       "      <td>-0.054223</td>\n",
       "      <td>-0.065280</td>\n",
       "      <td>0.086799</td>\n",
       "      <td>-0.018613</td>\n",
       "      <td>-0.231355</td>\n",
       "    </tr>\n",
       "  </tbody>\n",
       "</table>\n",
       "<p>5 rows × 30 columns</p>\n",
       "</div>"
      ],
      "text/plain": [
       "         0         1         2         3         4         5         6   \\\n",
       "0  0.652497  0.111911 -0.129626  0.142786  0.082859 -0.022919 -0.246285   \n",
       "1  0.544983  0.177006 -0.211150 -0.138132 -0.087827  0.000817 -0.333366   \n",
       "2  0.423421  0.002994 -0.093954 -0.180650 -0.118415 -0.166292  0.162079   \n",
       "3  0.378549 -0.199706  0.143112 -0.102208  0.192035  0.110362 -0.255822   \n",
       "4  0.237847  0.485514  0.700752 -0.143476 -0.033529 -0.009949  0.053678   \n",
       "\n",
       "         7         8         9   ...        20        21        22        23  \\\n",
       "0 -0.105459  0.016232 -0.083728  ... -0.163094 -0.016240  0.063607 -0.144764   \n",
       "1 -0.065234 -0.112749 -0.132231  ... -0.117171 -0.017856  0.174383  0.009733   \n",
       "2  0.330408 -0.251955 -0.399496  ...  0.016184  0.023053 -0.096702 -0.014129   \n",
       "3 -0.106330 -0.196488 -0.206179  ...  0.004679  0.090275 -0.293340 -0.124929   \n",
       "4  0.037921 -0.026102 -0.029002  ...  0.147603  0.027909 -0.060213 -0.175416   \n",
       "\n",
       "         24        25        26        27        28        29  \n",
       "0  0.150056  0.088523 -0.012577  0.061021 -0.117641 -0.004598  \n",
       "1 -0.017322 -0.017167  0.146299  0.296004 -0.371832  0.116157  \n",
       "2 -0.092010  0.131084 -0.021298 -0.016212 -0.158806  0.262701  \n",
       "3  0.009618  0.332157 -0.004605  0.305308 -0.139922 -0.211732  \n",
       "4 -0.089977 -0.054223 -0.065280  0.086799 -0.018613 -0.231355  \n",
       "\n",
       "[5 rows x 30 columns]"
      ]
     },
     "execution_count": 29,
     "metadata": {},
     "output_type": "execute_result"
    }
   ],
   "source": [
    "text_data = pd.DataFrame(text_lsa)\n",
    "text_data.head()"
   ]
  },
  {
   "cell_type": "code",
   "execution_count": 30,
   "metadata": {},
   "outputs": [],
   "source": [
    "combined_data = pd.concat([labeled_df, text_data], axis = 1)\n",
    "combined_data = pd.concat([combined_data, movies_df['score']], axis = 1)"
   ]
  },
  {
   "cell_type": "code",
   "execution_count": 31,
   "metadata": {},
   "outputs": [
    {
     "data": {
      "text/html": [
       "<div>\n",
       "<style scoped>\n",
       "    .dataframe tbody tr th:only-of-type {\n",
       "        vertical-align: middle;\n",
       "    }\n",
       "\n",
       "    .dataframe tbody tr th {\n",
       "        vertical-align: top;\n",
       "    }\n",
       "\n",
       "    .dataframe thead th {\n",
       "        text-align: right;\n",
       "    }\n",
       "</style>\n",
       "<table border=\"1\" class=\"dataframe\">\n",
       "  <thead>\n",
       "    <tr style=\"text-align: right;\">\n",
       "      <th></th>\n",
       "      <th>userId</th>\n",
       "      <th>productId</th>\n",
       "      <th>time</th>\n",
       "      <th>0</th>\n",
       "      <th>1</th>\n",
       "      <th>2</th>\n",
       "      <th>3</th>\n",
       "      <th>4</th>\n",
       "      <th>5</th>\n",
       "      <th>6</th>\n",
       "      <th>...</th>\n",
       "      <th>21</th>\n",
       "      <th>22</th>\n",
       "      <th>23</th>\n",
       "      <th>24</th>\n",
       "      <th>25</th>\n",
       "      <th>26</th>\n",
       "      <th>27</th>\n",
       "      <th>28</th>\n",
       "      <th>29</th>\n",
       "      <th>score</th>\n",
       "    </tr>\n",
       "  </thead>\n",
       "  <tbody>\n",
       "    <tr>\n",
       "      <th>0</th>\n",
       "      <td>0</td>\n",
       "      <td>0</td>\n",
       "      <td>0</td>\n",
       "      <td>0.652497</td>\n",
       "      <td>0.111911</td>\n",
       "      <td>-0.129626</td>\n",
       "      <td>0.142786</td>\n",
       "      <td>0.082859</td>\n",
       "      <td>-0.022919</td>\n",
       "      <td>-0.246285</td>\n",
       "      <td>...</td>\n",
       "      <td>-0.016240</td>\n",
       "      <td>0.063607</td>\n",
       "      <td>-0.144764</td>\n",
       "      <td>0.150056</td>\n",
       "      <td>0.088523</td>\n",
       "      <td>-0.012577</td>\n",
       "      <td>0.061021</td>\n",
       "      <td>-0.117641</td>\n",
       "      <td>-0.004598</td>\n",
       "      <td>3.0</td>\n",
       "    </tr>\n",
       "    <tr>\n",
       "      <th>1</th>\n",
       "      <td>1</td>\n",
       "      <td>0</td>\n",
       "      <td>1</td>\n",
       "      <td>0.544983</td>\n",
       "      <td>0.177006</td>\n",
       "      <td>-0.211150</td>\n",
       "      <td>-0.138132</td>\n",
       "      <td>-0.087827</td>\n",
       "      <td>0.000817</td>\n",
       "      <td>-0.333366</td>\n",
       "      <td>...</td>\n",
       "      <td>-0.017856</td>\n",
       "      <td>0.174383</td>\n",
       "      <td>0.009733</td>\n",
       "      <td>-0.017322</td>\n",
       "      <td>-0.017167</td>\n",
       "      <td>0.146299</td>\n",
       "      <td>0.296004</td>\n",
       "      <td>-0.371832</td>\n",
       "      <td>0.116157</td>\n",
       "      <td>5.0</td>\n",
       "    </tr>\n",
       "    <tr>\n",
       "      <th>2</th>\n",
       "      <td>2</td>\n",
       "      <td>0</td>\n",
       "      <td>2</td>\n",
       "      <td>0.423421</td>\n",
       "      <td>0.002994</td>\n",
       "      <td>-0.093954</td>\n",
       "      <td>-0.180650</td>\n",
       "      <td>-0.118415</td>\n",
       "      <td>-0.166292</td>\n",
       "      <td>0.162079</td>\n",
       "      <td>...</td>\n",
       "      <td>0.023053</td>\n",
       "      <td>-0.096702</td>\n",
       "      <td>-0.014129</td>\n",
       "      <td>-0.092010</td>\n",
       "      <td>0.131084</td>\n",
       "      <td>-0.021298</td>\n",
       "      <td>-0.016212</td>\n",
       "      <td>-0.158806</td>\n",
       "      <td>0.262701</td>\n",
       "      <td>2.0</td>\n",
       "    </tr>\n",
       "    <tr>\n",
       "      <th>3</th>\n",
       "      <td>3</td>\n",
       "      <td>1</td>\n",
       "      <td>3</td>\n",
       "      <td>0.378549</td>\n",
       "      <td>-0.199706</td>\n",
       "      <td>0.143112</td>\n",
       "      <td>-0.102208</td>\n",
       "      <td>0.192035</td>\n",
       "      <td>0.110362</td>\n",
       "      <td>-0.255822</td>\n",
       "      <td>...</td>\n",
       "      <td>0.090275</td>\n",
       "      <td>-0.293340</td>\n",
       "      <td>-0.124929</td>\n",
       "      <td>0.009618</td>\n",
       "      <td>0.332157</td>\n",
       "      <td>-0.004605</td>\n",
       "      <td>0.305308</td>\n",
       "      <td>-0.139922</td>\n",
       "      <td>-0.211732</td>\n",
       "      <td>5.0</td>\n",
       "    </tr>\n",
       "    <tr>\n",
       "      <th>4</th>\n",
       "      <td>4</td>\n",
       "      <td>1</td>\n",
       "      <td>4</td>\n",
       "      <td>0.237847</td>\n",
       "      <td>0.485514</td>\n",
       "      <td>0.700752</td>\n",
       "      <td>-0.143476</td>\n",
       "      <td>-0.033529</td>\n",
       "      <td>-0.009949</td>\n",
       "      <td>0.053678</td>\n",
       "      <td>...</td>\n",
       "      <td>0.027909</td>\n",
       "      <td>-0.060213</td>\n",
       "      <td>-0.175416</td>\n",
       "      <td>-0.089977</td>\n",
       "      <td>-0.054223</td>\n",
       "      <td>-0.065280</td>\n",
       "      <td>0.086799</td>\n",
       "      <td>-0.018613</td>\n",
       "      <td>-0.231355</td>\n",
       "      <td>4.0</td>\n",
       "    </tr>\n",
       "  </tbody>\n",
       "</table>\n",
       "<p>5 rows × 34 columns</p>\n",
       "</div>"
      ],
      "text/plain": [
       "   userId  productId  time         0         1         2         3         4  \\\n",
       "0       0          0     0  0.652497  0.111911 -0.129626  0.142786  0.082859   \n",
       "1       1          0     1  0.544983  0.177006 -0.211150 -0.138132 -0.087827   \n",
       "2       2          0     2  0.423421  0.002994 -0.093954 -0.180650 -0.118415   \n",
       "3       3          1     3  0.378549 -0.199706  0.143112 -0.102208  0.192035   \n",
       "4       4          1     4  0.237847  0.485514  0.700752 -0.143476 -0.033529   \n",
       "\n",
       "          5         6  ...        21        22        23        24        25  \\\n",
       "0 -0.022919 -0.246285  ... -0.016240  0.063607 -0.144764  0.150056  0.088523   \n",
       "1  0.000817 -0.333366  ... -0.017856  0.174383  0.009733 -0.017322 -0.017167   \n",
       "2 -0.166292  0.162079  ...  0.023053 -0.096702 -0.014129 -0.092010  0.131084   \n",
       "3  0.110362 -0.255822  ...  0.090275 -0.293340 -0.124929  0.009618  0.332157   \n",
       "4 -0.009949  0.053678  ...  0.027909 -0.060213 -0.175416 -0.089977 -0.054223   \n",
       "\n",
       "         26        27        28        29  score  \n",
       "0 -0.012577  0.061021 -0.117641 -0.004598    3.0  \n",
       "1  0.146299  0.296004 -0.371832  0.116157    5.0  \n",
       "2 -0.021298 -0.016212 -0.158806  0.262701    2.0  \n",
       "3 -0.004605  0.305308 -0.139922 -0.211732    5.0  \n",
       "4 -0.065280  0.086799 -0.018613 -0.231355    4.0  \n",
       "\n",
       "[5 rows x 34 columns]"
      ]
     },
     "execution_count": 31,
     "metadata": {},
     "output_type": "execute_result"
    }
   ],
   "source": [
    "combined_data.head()"
   ]
  },
  {
   "cell_type": "markdown",
   "metadata": {},
   "source": [
    "### MODELING"
   ]
  },
  {
   "cell_type": "code",
   "execution_count": 32,
   "metadata": {},
   "outputs": [],
   "source": [
    "scaler = StandardScaler()\n",
    "data_scaled = scaler.fit_transform(combined_data)"
   ]
  },
  {
   "cell_type": "markdown",
   "metadata": {},
   "source": [
    "### K-Means"
   ]
  },
  {
   "cell_type": "markdown",
   "metadata": {},
   "source": [
    "Now it is time to cluster our data using one of the most popular clustering algorisms the K-means clustering algorism.Before moving directly to that how ever lets apply the elbow method to find the number of clusters that produces the most optimum clusters. "
   ]
  },
  {
   "cell_type": "code",
   "execution_count": 33,
   "metadata": {},
   "outputs": [
    {
     "data": {
      "image/png": "[encoded data removed]",
      "text/plain": [
       "<Figure size 864x432 with 1 Axes>"
      ]
     },
     "metadata": {
      "needs_background": "light"
     },
     "output_type": "display_data"
    }
   ],
   "source": [
    "# fitting multiple k-means algorithms and storing the values in an empty list\n",
    "SSE = []\n",
    "for cluster in range(1,70):\n",
    "    kmeans = KMeans(n_jobs = -1, n_clusters = cluster)\n",
    "    kmeans.fit(data_scaled)\n",
    "    SSE.append(kmeans.inertia_)\n",
    "\n",
    "# converting the results into a dataframe and plotting them\n",
    "frame = pd.DataFrame({'Cluster':range(1,70), 'SSE':SSE})\n",
    "plt.figure(figsize=(12,6))\n",
    "plt.plot(frame['Cluster'], frame['SSE'], marker='d')\n",
    "plt.xlabel('Number of clusters')\n",
    "plt.ylabel('Inertia');"
   ]
  },
  {
   "cell_type": "markdown",
   "metadata": {},
   "source": [
    "As we can see from the plot the elbow is around 10.Therefore lets group our data into 10 clusters using k-means clustering."
   ]
  },
  {
   "cell_type": "code",
   "execution_count": 34,
   "metadata": {},
   "outputs": [],
   "source": [
    "kmeans = KMeans(n_clusters = 29, random_state=45)\n",
    "kmeans.fit(data_scaled)\n",
    "pred = kmeans.predict(data_scaled)"
   ]
  },
  {
   "cell_type": "code",
   "execution_count": 35,
   "metadata": {},
   "outputs": [
    {
     "data": {
      "text/plain": [
       "2     110\n",
       "13     92\n",
       "9      78\n",
       "25     66\n",
       "3      63\n",
       "Name: cluster, dtype: int64"
      ]
     },
     "execution_count": 35,
     "metadata": {},
     "output_type": "execute_result"
    }
   ],
   "source": [
    "frame = pd.DataFrame(data_scaled)\n",
    "frame['cluster'] = pred\n",
    "frame['cluster'].value_counts().head()"
   ]
  },
  {
   "cell_type": "code",
   "execution_count": 36,
   "metadata": {},
   "outputs": [
    {
     "data": {
      "image/png": "[encoded data removed]",
      "text/plain": [
       "<Figure size 1296x432 with 1 Axes>"
      ]
     },
     "metadata": {
      "needs_background": "light"
     },
     "output_type": "display_data"
    }
   ],
   "source": [
    "\n",
    "fig, ax = plt.subplots(figsize = (18,6))\n",
    "\n",
    "ax.barh(frame['cluster'].value_counts().index, frame['cluster'].value_counts().values, align='center')\n",
    "# ax.set_yticks(frame['cluster'].value_counts().values)\n",
    "# ax.set_yticklabels(frame['cluster'].value_counts().values)\n",
    "ax.invert_yaxis()  # labels read top-to-bottom\n",
    "ax.set_xlabel('Number of elements in a cluster', fontsize = 14)\n",
    "ax.set_ylabel('Cluster labels', fontsize = 14)\n",
    "ax.set_title('Bar Plot of Cluster Labels with their size', fontsize = 16)\n",
    "\n",
    "plt.show()\n",
    "# plt.xbar(frame['cluster'].value_counts().values, frame['cluster'].value_counts().index)"
   ]
  },
  {
   "cell_type": "code",
   "execution_count": 37,
   "metadata": {},
   "outputs": [],
   "source": [
    "cluster_labeled_data = pd.concat([movies_df[['userId', 'productId']],frame['cluster']], axis = 1)"
   ]
  },
  {
   "cell_type": "code",
   "execution_count": 38,
   "metadata": {},
   "outputs": [
    {
     "data": {
      "text/html": [
       "<div>\n",
       "<style scoped>\n",
       "    .dataframe tbody tr th:only-of-type {\n",
       "        vertical-align: middle;\n",
       "    }\n",
       "\n",
       "    .dataframe tbody tr th {\n",
       "        vertical-align: top;\n",
       "    }\n",
       "\n",
       "    .dataframe thead th {\n",
       "        text-align: right;\n",
       "    }\n",
       "</style>\n",
       "<table border=\"1\" class=\"dataframe\">\n",
       "  <thead>\n",
       "    <tr style=\"text-align: right;\">\n",
       "      <th></th>\n",
       "      <th>userId</th>\n",
       "      <th>productId</th>\n",
       "      <th>cluster</th>\n",
       "    </tr>\n",
       "  </thead>\n",
       "  <tbody>\n",
       "    <tr>\n",
       "      <th>0</th>\n",
       "      <td>A141HP4LYPWMSR</td>\n",
       "      <td>B003AI2VGA</td>\n",
       "      <td>4</td>\n",
       "    </tr>\n",
       "    <tr>\n",
       "      <th>1</th>\n",
       "      <td>A1I7QGUDP043DG</td>\n",
       "      <td>B003AI2VGA</td>\n",
       "      <td>4</td>\n",
       "    </tr>\n",
       "    <tr>\n",
       "      <th>2</th>\n",
       "      <td>A3QYDL5CDNYN66</td>\n",
       "      <td>B003AI2VGA</td>\n",
       "      <td>16</td>\n",
       "    </tr>\n",
       "    <tr>\n",
       "      <th>3</th>\n",
       "      <td>A2P7UB02HAVEPB</td>\n",
       "      <td>B00006HAXW</td>\n",
       "      <td>6</td>\n",
       "    </tr>\n",
       "    <tr>\n",
       "      <th>4</th>\n",
       "      <td>A1OUBOGB5970AO</td>\n",
       "      <td>B00006HAXW</td>\n",
       "      <td>25</td>\n",
       "    </tr>\n",
       "  </tbody>\n",
       "</table>\n",
       "</div>"
      ],
      "text/plain": [
       "           userId   productId  cluster\n",
       "0  A141HP4LYPWMSR  B003AI2VGA        4\n",
       "1  A1I7QGUDP043DG  B003AI2VGA        4\n",
       "2  A3QYDL5CDNYN66  B003AI2VGA       16\n",
       "3  A2P7UB02HAVEPB  B00006HAXW        6\n",
       "4  A1OUBOGB5970AO  B00006HAXW       25"
      ]
     },
     "execution_count": 38,
     "metadata": {},
     "output_type": "execute_result"
    }
   ],
   "source": [
    "cluster_labeled_data.head()"
   ]
  },
  {
   "cell_type": "markdown",
   "metadata": {},
   "source": [
    "applying k-means does not seem to give a good result,Because the number of generated clusters are uneven in size and also the elbow method for generating the proper number of clusters for k-means did not plot a sounding elbow shape which is an indication that k-means is not doing a good job in finding the clusters.I have expected a large number of clusters for this dataset.The reason is that the sample dataset generated from the large population of movies and viewers from Amazon movies have biasness and this is a reason for the difference in size for the clusters been generated.Therefore the best clustering algorisms in situations like that is Affinity Propagation."
   ]
  },
  {
   "cell_type": "markdown",
   "metadata": {},
   "source": [
    "#### Evaluating K-Means"
   ]
  },
  {
   "cell_type": "code",
   "execution_count": 39,
   "metadata": {},
   "outputs": [],
   "source": [
    "# Split the data into four equally-sized samples. First we break it in half:\n",
    "X_half1, X_half2 = train_test_split(\n",
    "    data_scaled,\n",
    "    test_size=0.5,\n",
    "    random_state=45)\n",
    "\n",
    "# Then we halve the halves.\n",
    "X1, X2 = train_test_split(\n",
    "    X_half1,\n",
    "    test_size=0.5,\n",
    "    random_state=45)\n",
    "X3, X4 = train_test_split(\n",
    "    X_half2,\n",
    "    test_size=0.5,\n",
    "    random_state=45)"
   ]
  },
  {
   "cell_type": "code",
   "execution_count": 40,
   "metadata": {},
   "outputs": [
    {
     "name": "stdout",
     "output_type": "stream",
     "text": [
      "0.0853065347944728\n",
      "0.06457191028537601\n",
      "0.07467064168888092\n",
      "0.0762477904949632\n"
     ]
    }
   ],
   "source": [
    "from sklearn import metrics\n",
    "from sklearn.metrics import pairwise_distances\n",
    "\n",
    "for sample in [X1, X2, X3, X4]:\n",
    "    model = KMeans(n_clusters=29, random_state=25).fit(sample)\n",
    "    labels = model.labels_\n",
    "    print(metrics.silhouette_score(sample, labels, metric='euclidean'))"
   ]
  },
  {
   "cell_type": "markdown",
   "metadata": {},
   "source": [
    "The Silhouette Coefficient values are consistent throughout the samples which is an indication that we have applied the optimum number of clusters for the analysis,However the resulting silhouette coefficient values are closer to 0 than to 1 which indicates that the clustering algorism used is not doing good job in clustering the data points.This leads me to depend on the Affinity propagation clustering algorism to find the grouping for the data points.I have expected there will be many clusters,based on the data analysis process that i have done so far, and clusters are observed to be uneven insize and also since the size of my data is small this algorism is suited for this situation.But Before jumping into Affinitypropagation algorism lets see the one k-means cluster and after all there may be times that this data will require k-means as the best algorism with a bigger and unbiased dataset."
   ]
  },
  {
   "cell_type": "markdown",
   "metadata": {},
   "source": [
    "### Affinity propagation"
   ]
  },
  {
   "cell_type": "markdown",
   "metadata": {},
   "source": [
    "Therefore because of the following reasons the choice to go for grouping the data points for my recommender system is Affinity propagation.\n",
    "* The dataset is biased.\n",
    "* The two important techniques for using k-means proved that k-means is not the way to go,but it would have been if certain criteria such us biasness in data were reduced.\n",
    "* Affinity propagation is a robust algorism when many clusters are suspected,in this case many clusters are expected."
   ]
  },
  {
   "cell_type": "code",
   "execution_count": 41,
   "metadata": {},
   "outputs": [
    {
     "name": "stdout",
     "output_type": "stream",
     "text": [
      "Done\n",
      "Estimated number of clusters: 114\n"
     ]
    }
   ],
   "source": [
    "from sklearn.cluster import AffinityPropagation\n",
    "from sklearn import metrics\n",
    "\n",
    "# Declare the model and fit it in one statement.\n",
    "# Note that you can provide arguments to the model, but we didn't.\n",
    "af = AffinityPropagation().fit(data_scaled)\n",
    "print('Done')\n",
    "\n",
    "# Pull the number of clusters and cluster assignments for each data point.\n",
    "cluster_centers_indices = af.cluster_centers_indices_\n",
    "n_clusters_ = len(cluster_centers_indices)\n",
    "labels = af.labels_\n",
    "\n",
    "print('Estimated number of clusters: {}'.format(n_clusters_))\n",
    "pred = af.predict(data_scaled)"
   ]
  },
  {
   "cell_type": "code",
   "execution_count": 42,
   "metadata": {},
   "outputs": [
    {
     "data": {
      "text/plain": [
       "13    43\n",
       "95    36\n",
       "63    34\n",
       "77    32\n",
       "25    32\n",
       "Name: cluster, dtype: int64"
      ]
     },
     "execution_count": 42,
     "metadata": {},
     "output_type": "execute_result"
    }
   ],
   "source": [
    "frame_1 = pd.DataFrame(data_scaled)\n",
    "frame_1['cluster'] = pred\n",
    "frame_1['cluster'].value_counts().head()"
   ]
  },
  {
   "cell_type": "code",
   "execution_count": 43,
   "metadata": {},
   "outputs": [
    {
     "data": {
      "image/png": "[encoded data removed]",
      "text/plain": [
       "<Figure size 1296x432 with 1 Axes>"
      ]
     },
     "metadata": {
      "needs_background": "light"
     },
     "output_type": "display_data"
    }
   ],
   "source": [
    "fig, ax = plt.subplots(figsize = (18,6))\n",
    "\n",
    "ax.bar(frame_1['cluster'].value_counts().index, frame_1['cluster'].value_counts().values, align='center')\n",
    "\n",
    "ax.set_ylabel('Number of elements in a cluster', fontsize = 14)\n",
    "ax.set_xlabel('Cluster labels', fontsize = 14)\n",
    "ax.set_title('Bar Plot of Cluster Labels with their size', fontsize = 16)\n",
    "\n",
    "plt.show()"
   ]
  },
  {
   "cell_type": "code",
   "execution_count": 44,
   "metadata": {},
   "outputs": [],
   "source": [
    "cluster_labeled_data_1 = pd.concat([movies_df[['userId', 'productId']],frame_1['cluster']], axis = 1)"
   ]
  },
  {
   "cell_type": "code",
   "execution_count": 45,
   "metadata": {},
   "outputs": [
    {
     "data": {
      "text/html": [
       "<div>\n",
       "<style scoped>\n",
       "    .dataframe tbody tr th:only-of-type {\n",
       "        vertical-align: middle;\n",
       "    }\n",
       "\n",
       "    .dataframe tbody tr th {\n",
       "        vertical-align: top;\n",
       "    }\n",
       "\n",
       "    .dataframe thead th {\n",
       "        text-align: right;\n",
       "    }\n",
       "</style>\n",
       "<table border=\"1\" class=\"dataframe\">\n",
       "  <thead>\n",
       "    <tr style=\"text-align: right;\">\n",
       "      <th></th>\n",
       "      <th>userId</th>\n",
       "      <th>productId</th>\n",
       "      <th>cluster</th>\n",
       "    </tr>\n",
       "  </thead>\n",
       "  <tbody>\n",
       "    <tr>\n",
       "      <th>0</th>\n",
       "      <td>A141HP4LYPWMSR</td>\n",
       "      <td>B003AI2VGA</td>\n",
       "      <td>5</td>\n",
       "    </tr>\n",
       "    <tr>\n",
       "      <th>1</th>\n",
       "      <td>A1I7QGUDP043DG</td>\n",
       "      <td>B003AI2VGA</td>\n",
       "      <td>5</td>\n",
       "    </tr>\n",
       "    <tr>\n",
       "      <th>2</th>\n",
       "      <td>A3QYDL5CDNYN66</td>\n",
       "      <td>B003AI2VGA</td>\n",
       "      <td>2</td>\n",
       "    </tr>\n",
       "    <tr>\n",
       "      <th>3</th>\n",
       "      <td>A2P7UB02HAVEPB</td>\n",
       "      <td>B00006HAXW</td>\n",
       "      <td>18</td>\n",
       "    </tr>\n",
       "    <tr>\n",
       "      <th>4</th>\n",
       "      <td>A1OUBOGB5970AO</td>\n",
       "      <td>B00006HAXW</td>\n",
       "      <td>25</td>\n",
       "    </tr>\n",
       "  </tbody>\n",
       "</table>\n",
       "</div>"
      ],
      "text/plain": [
       "           userId   productId  cluster\n",
       "0  A141HP4LYPWMSR  B003AI2VGA        5\n",
       "1  A1I7QGUDP043DG  B003AI2VGA        5\n",
       "2  A3QYDL5CDNYN66  B003AI2VGA        2\n",
       "3  A2P7UB02HAVEPB  B00006HAXW       18\n",
       "4  A1OUBOGB5970AO  B00006HAXW       25"
      ]
     },
     "execution_count": 45,
     "metadata": {},
     "output_type": "execute_result"
    }
   ],
   "source": [
    "cluster_labeled_data_1.head()"
   ]
  },
  {
   "cell_type": "markdown",
   "metadata": {},
   "source": [
    "#### Accessing cluster contents"
   ]
  },
  {
   "cell_type": "markdown",
   "metadata": {},
   "source": [
    "Lets see now for example what was said about the movies in cluster number 16 by each reviewer assigned to that cluster.And try to identify any relationships between the nature of the movies that make sense to group them together."
   ]
  },
  {
   "cell_type": "code",
   "execution_count": 46,
   "metadata": {},
   "outputs": [],
   "source": [
    "cluster_16 = cluster_labeled_data_1[cluster_labeled_data_1['cluster'] == 16]"
   ]
  },
  {
   "cell_type": "code",
   "execution_count": 47,
   "metadata": {},
   "outputs": [
    {
     "data": {
      "text/html": [
       "<div>\n",
       "<style scoped>\n",
       "    .dataframe tbody tr th:only-of-type {\n",
       "        vertical-align: middle;\n",
       "    }\n",
       "\n",
       "    .dataframe tbody tr th {\n",
       "        vertical-align: top;\n",
       "    }\n",
       "\n",
       "    .dataframe thead th {\n",
       "        text-align: right;\n",
       "    }\n",
       "</style>\n",
       "<table border=\"1\" class=\"dataframe\">\n",
       "  <thead>\n",
       "    <tr style=\"text-align: right;\">\n",
       "      <th></th>\n",
       "      <th>userId</th>\n",
       "      <th>productId</th>\n",
       "      <th>cluster</th>\n",
       "      <th>0</th>\n",
       "    </tr>\n",
       "  </thead>\n",
       "  <tbody>\n",
       "    <tr>\n",
       "      <th>7</th>\n",
       "      <td>A2URPOBDQK3WG</td>\n",
       "      <td>B00004CQT3</td>\n",
       "      <td>16</td>\n",
       "      <td>-PRON- just do not make movie like this any more a great movie for any movie library a must have one -PRON- will bring out to watch for year to come</td>\n",
       "    </tr>\n",
       "    <tr>\n",
       "      <th>151</th>\n",
       "      <td>A1W702WG1LC6R3</td>\n",
       "      <td>B00004WM3D</td>\n",
       "      <td>16</td>\n",
       "      <td>Kurt Russell and Lee Van Cleef star in John Carpenter's1981 action film in 1997 a war criminal be send torescue a kidnap President this be a great filmand Kurt be terrific as Snake Plissken this dvd hasgood picture and sound plus some neat extra Getthis Carpenter Russell classic</td>\n",
       "    </tr>\n",
       "    <tr>\n",
       "      <th>164</th>\n",
       "      <td>A38YLCXCTE5K83</td>\n",
       "      <td>B00005M1Y5</td>\n",
       "      <td>16</td>\n",
       "      <td>-PRON- watch -PRON- for the second time in -PRON- life last night after what -PRON- think be 13 year -PRON- be 18 now and -PRON- be remind why -PRON- love this movie so much not only be the animation and music great but the underlie lesson that be teach about trustworthy friendship and the tribulation that life give -PRON- the world -PRON- live in today be constantly tell -PRON- that -PRON- need to network and make contact in order to insure -PRON- in job security financial security or even emotional security friendship be mean so that -PRON- form bond that last lifetime -PRON- have relearn a valuable lesson from this movie -PRON- would also like to recommend -PRON- most favority Disney classic the Jungle Book this movie also have the same underlying message of the strength of friendship with one of everyone have -PRON- own place in the jungle -PRON- hope that this review have help those who want to teach -PRON- child life lesson wrap in a Disney box</td>\n",
       "    </tr>\n",
       "    <tr>\n",
       "      <th>177</th>\n",
       "      <td>A2WFNZWC8O6O1J</td>\n",
       "      <td>B002VL2PTU</td>\n",
       "      <td>16</td>\n",
       "      <td>this movie be a monument to two thing one of the great entertainer in the music world and what would have be one of the great concert of all time   unfortunately Mr. Jackson die before -PRON- dream final curtain call tour could become a reality   but the concert director Kenny Ortega have piece together 2 hour worth from over 100 hour of rehearsal footage of song dance interview and on stage video from the concert   the result be absolutely stunning   in this movie -PRON- have two hour of pure entertainment   -PRON- will want to sing and dance along with Jackson and -PRON- crew as -PRON- rehearse for an awe inspire curtain   and how awe inspire -PRON- be   some of the highlight Jackson cut into scene from GILDA and other film noir classic lead into the toe tap SMOOTH CRIMINAL   an on stage toaster that pop dancer out from under floor board   a cherry picker that lift MJ out over the audience during the rockin BEAT IT   what about a new goulish THRILLER   all of these song be famili...</td>\n",
       "    </tr>\n",
       "    <tr>\n",
       "      <th>192</th>\n",
       "      <td>A1DSXGDSIFVA8I</td>\n",
       "      <td>B0000DK4QI</td>\n",
       "      <td>16</td>\n",
       "      <td>visual dynamic be the highlight in this movie about an invisible alien hunter stalk soldier on assignment in the jungle land of Central America   colorized gradation for the heat vision of the alien the alien 's transparent body perfectly embrace the nearby jungle and the plasma blast from the alien 's shoulder mount swiveling weapon light up the night all combine for a stunning novel viewing experience   Stan Winston and -PRON- staff also do a great job in create the ferocious alien form</td>\n",
       "    </tr>\n",
       "    <tr>\n",
       "      <th>270</th>\n",
       "      <td>A1BVCH82W0M2W2</td>\n",
       "      <td>B00012FXJ0</td>\n",
       "      <td>16</td>\n",
       "      <td>in the course of -PRON- reading -PRON- have come across a great many reference to Florenz Ziegfeld and -PRON- legendary Ziegfeld Follies   but -PRON- know precious little about -PRON-   -PRON- seem that for three decade between 1907 and 1936 Flo Ziegfeld 's lavish production be all the rage on Broadway   and why would not -PRON- be   the list of star who perform in these show read like a who be who of show business during this period   recently -PRON- come across a VHS copy of the epic three hour 1936 film the Great Ziegfeld at -PRON- local library   -PRON- turn out that the Great Ziegfeld be not only a biography of this show business icon but the film also offer -PRON- an incredible opportunity to relax in -PRON- living room and   sample the good of the what the Follies have to offer all those year ago   what -PRON- will discover be that these extravaganza be postively stunning   there have never be anything else quite like the Follies before or since for -PRON- what be really nea...</td>\n",
       "    </tr>\n",
       "    <tr>\n",
       "      <th>276</th>\n",
       "      <td>ADRW96ZDK894X</td>\n",
       "      <td>0790701251</td>\n",
       "      <td>16</td>\n",
       "      <td>Full Metal Jacket be primo not for young kid though but teen can watch -PRON- to appreciate what -PRON- man and some woman have to go through during the Viet Nam war -PRON- be gory realistic charcter be great everyone have a handle like Dallas gomer etc when the stress of the boot camp get to a slow soldier mind wise this be what can and really do happen in training this be a terrible war and -PRON- never should have be there but at least -PRON- be a great history lesson true to form</td>\n",
       "    </tr>\n",
       "    <tr>\n",
       "      <th>378</th>\n",
       "      <td>A3KF4IP2MUS8QQ</td>\n",
       "      <td>B0007IO74A</td>\n",
       "      <td>16</td>\n",
       "      <td>as a holmesian traditionalist truly spoil by the unsurpassed performance of Jeremy Brett as the great detective -PRON- find -PRON- difficult to fully embrace the old 1940 Sherlock Holmes film star Basil Rathbone   if for no other reason -PRON- be just odd to see Holmes Watson and Lestrade transport to the World War II era   obviously this film be not a product of any of the writing of Sir Arthur Conan Doyle although -PRON- be extremely loosely base on -PRON- story the Dancing Men a fact make manifest to even the most casual of observer by the overall weakness of this plot   while Holmes display some of the remarkable talent of observation -PRON- be famous for -PRON- can not hold a mental candle to Doyle 's Holmes and -PRON- archenemy Professor Moriarty display none of the mental acuman that make -PRON- Holmes intellectual equal in the story of the canon there be a propaganda element to Sherlock Holmes and the Secret Weapon as the plot pit Holmes in a race against time to keep a mil...</td>\n",
       "    </tr>\n",
       "    <tr>\n",
       "      <th>482</th>\n",
       "      <td>A1PYXJK7PI72EQ</td>\n",
       "      <td>B00000F14B</td>\n",
       "      <td>16</td>\n",
       "      <td>this definately be a true classic   -PRON- think -PRON- be one of the good musical ever produce   -PRON- love to watch -PRON- on screen or stage   -PRON- have be to many school production of this musical and -PRON- be nice to know there will be generation to come that will be introduce to such great music</td>\n",
       "    </tr>\n",
       "    <tr>\n",
       "      <th>489</th>\n",
       "      <td>A1I6VCSNHZ4POO</td>\n",
       "      <td>6304056818</td>\n",
       "      <td>16</td>\n",
       "      <td>this be a great product   the color be vibrant but the original be much dull and this make some scene seem a bit strange and the add item on the CD be interesting for someone like -PRON- who believe that this be one of the great old science fiction film   the box be very cute but come slightly dent from shipping   the Robbie doll be cute also -PRON- major criticism be that there be no text with the package that describe the history or actor for example   when -PRON- notice that the color seem bright -PRON- think that the original may have be in black and white but could not find any info in the package about -PRON-</td>\n",
       "    </tr>\n",
       "    <tr>\n",
       "      <th>682</th>\n",
       "      <td>A1Y9I4VEEN9OUT</td>\n",
       "      <td>B000EHSVO6</td>\n",
       "      <td>16</td>\n",
       "      <td>long linger shot of the band and of individual not the herky jerky quick pan and switch of most concert this one be spot on and brilliant EXCEPT except for the grainy homemade stuff like the guy walk the street during the incredible groove the band be in perform my morning SONG -PRON- would much rather have watch Marc Ford Rich Robinson and Steve Gorman onstage than some amateur video doodling -PRON- be honestly in another world listen to that song -PRON- be that trippy!this be a great make that GREAT show for the price -PRON- be a steal and unlike many of the over 200 concert -PRON- have on DVD this one will find -PRON- way to the player many time whether -PRON- be experience -PRON- alone or play -PRON- over or under a party -PRON- be a no brainer and this be come from someone who give up on the Crowes after the second album imagine that</td>\n",
       "    </tr>\n",
       "    <tr>\n",
       "      <th>772</th>\n",
       "      <td>A1PKNPKYFY8PUB</td>\n",
       "      <td>6301777867</td>\n",
       "      <td>16</td>\n",
       "      <td>Matthew Broderick and Denzel Washington share the spotlight in a great film   full of hero and villain glory and tragedy -PRON- be alternately violent realistically in term of bloodshed and tender brutal and compassionate emotionally charge and peaceful -PRON- have never see a film that show the maturation of so many excellent character amid so many struggle and battle physical emotional civil personal all the great element of film be there   -PRON- only wish -PRON- have show a little more of the enemy the South   the confederate be leave out of -PRON-   Broderick 's character Robert Gould Shaw start out as a miraculously lucky tenderfoot wrestle with -PRON- commitment to the war and to justice on social civil and human level that be what be so great about this film the complexity and tightness of the plot   the development of Shaw 's regiment the 54th be what occupy the film and emerge as -PRON- triumphant glory</td>\n",
       "    </tr>\n",
       "  </tbody>\n",
       "</table>\n",
       "</div>"
      ],
      "text/plain": [
       "             userId   productId  cluster  \\\n",
       "7     A2URPOBDQK3WG  B00004CQT3       16   \n",
       "151  A1W702WG1LC6R3  B00004WM3D       16   \n",
       "164  A38YLCXCTE5K83  B00005M1Y5       16   \n",
       "177  A2WFNZWC8O6O1J  B002VL2PTU       16   \n",
       "192  A1DSXGDSIFVA8I  B0000DK4QI       16   \n",
       "270  A1BVCH82W0M2W2  B00012FXJ0       16   \n",
       "276   ADRW96ZDK894X  0790701251       16   \n",
       "378  A3KF4IP2MUS8QQ  B0007IO74A       16   \n",
       "482  A1PYXJK7PI72EQ  B00000F14B       16   \n",
       "489  A1I6VCSNHZ4POO  6304056818       16   \n",
       "682  A1Y9I4VEEN9OUT  B000EHSVO6       16   \n",
       "772  A1PKNPKYFY8PUB  6301777867       16   \n",
       "\n",
       "                                                                                                                                                                                                                                                                                                                                                                                                                                                                                                                                                                                                                                                                                                                                                                                                                                                                                                                                                                                                                                           0  \n",
       "7                                                                                                                                                                                                                                                                                                                                                                                                                                                                                                                                                                                                                                                                                                                                                                                                                                                                                       -PRON- just do not make movie like this any more a great movie for any movie library a must have one -PRON- will bring out to watch for year to come  \n",
       "151                                                                                                                                                                                                                                                                                                                                                                                                                                                                                                                                                                                                                                                                                                                                                  Kurt Russell and Lee Van Cleef star in John Carpenter's1981 action film in 1997 a war criminal be send torescue a kidnap President this be a great filmand Kurt be terrific as Snake Plissken this dvd hasgood picture and sound plus some neat extra Getthis Carpenter Russell classic  \n",
       "164                                     -PRON- watch -PRON- for the second time in -PRON- life last night after what -PRON- think be 13 year -PRON- be 18 now and -PRON- be remind why -PRON- love this movie so much not only be the animation and music great but the underlie lesson that be teach about trustworthy friendship and the tribulation that life give -PRON- the world -PRON- live in today be constantly tell -PRON- that -PRON- need to network and make contact in order to insure -PRON- in job security financial security or even emotional security friendship be mean so that -PRON- form bond that last lifetime -PRON- have relearn a valuable lesson from this movie -PRON- would also like to recommend -PRON- most favority Disney classic the Jungle Book this movie also have the same underlying message of the strength of friendship with one of everyone have -PRON- own place in the jungle -PRON- hope that this review have help those who want to teach -PRON- child life lesson wrap in a Disney box  \n",
       "177  this movie be a monument to two thing one of the great entertainer in the music world and what would have be one of the great concert of all time   unfortunately Mr. Jackson die before -PRON- dream final curtain call tour could become a reality   but the concert director Kenny Ortega have piece together 2 hour worth from over 100 hour of rehearsal footage of song dance interview and on stage video from the concert   the result be absolutely stunning   in this movie -PRON- have two hour of pure entertainment   -PRON- will want to sing and dance along with Jackson and -PRON- crew as -PRON- rehearse for an awe inspire curtain   and how awe inspire -PRON- be   some of the highlight Jackson cut into scene from GILDA and other film noir classic lead into the toe tap SMOOTH CRIMINAL   an on stage toaster that pop dancer out from under floor board   a cherry picker that lift MJ out over the audience during the rockin BEAT IT   what about a new goulish THRILLER   all of these song be famili...  \n",
       "192                                                                                                                                                                                                                                                                                                                                                                                                                                                                                                                            visual dynamic be the highlight in this movie about an invisible alien hunter stalk soldier on assignment in the jungle land of Central America   colorized gradation for the heat vision of the alien the alien 's transparent body perfectly embrace the nearby jungle and the plasma blast from the alien 's shoulder mount swiveling weapon light up the night all combine for a stunning novel viewing experience   Stan Winston and -PRON- staff also do a great job in create the ferocious alien form  \n",
       "270  in the course of -PRON- reading -PRON- have come across a great many reference to Florenz Ziegfeld and -PRON- legendary Ziegfeld Follies   but -PRON- know precious little about -PRON-   -PRON- seem that for three decade between 1907 and 1936 Flo Ziegfeld 's lavish production be all the rage on Broadway   and why would not -PRON- be   the list of star who perform in these show read like a who be who of show business during this period   recently -PRON- come across a VHS copy of the epic three hour 1936 film the Great Ziegfeld at -PRON- local library   -PRON- turn out that the Great Ziegfeld be not only a biography of this show business icon but the film also offer -PRON- an incredible opportunity to relax in -PRON- living room and   sample the good of the what the Follies have to offer all those year ago   what -PRON- will discover be that these extravaganza be postively stunning   there have never be anything else quite like the Follies before or since for -PRON- what be really nea...  \n",
       "276                                                                                                                                                                                                                                                                                                                                                                                                                                                                                                                                 Full Metal Jacket be primo not for young kid though but teen can watch -PRON- to appreciate what -PRON- man and some woman have to go through during the Viet Nam war -PRON- be gory realistic charcter be great everyone have a handle like Dallas gomer etc when the stress of the boot camp get to a slow soldier mind wise this be what can and really do happen in training this be a terrible war and -PRON- never should have be there but at least -PRON- be a great history lesson true to form  \n",
       "378  as a holmesian traditionalist truly spoil by the unsurpassed performance of Jeremy Brett as the great detective -PRON- find -PRON- difficult to fully embrace the old 1940 Sherlock Holmes film star Basil Rathbone   if for no other reason -PRON- be just odd to see Holmes Watson and Lestrade transport to the World War II era   obviously this film be not a product of any of the writing of Sir Arthur Conan Doyle although -PRON- be extremely loosely base on -PRON- story the Dancing Men a fact make manifest to even the most casual of observer by the overall weakness of this plot   while Holmes display some of the remarkable talent of observation -PRON- be famous for -PRON- can not hold a mental candle to Doyle 's Holmes and -PRON- archenemy Professor Moriarty display none of the mental acuman that make -PRON- Holmes intellectual equal in the story of the canon there be a propaganda element to Sherlock Holmes and the Secret Weapon as the plot pit Holmes in a race against time to keep a mil...  \n",
       "482                                                                                                                                                                                                                                                                                                                                                                                                                                                                                                                                                                                                                                                                                                                       this definately be a true classic   -PRON- think -PRON- be one of the good musical ever produce   -PRON- love to watch -PRON- on screen or stage   -PRON- have be to many school production of this musical and -PRON- be nice to know there will be generation to come that will be introduce to such great music  \n",
       "489                                                                                                                                                                                                                                                                                                                                                                                           this be a great product   the color be vibrant but the original be much dull and this make some scene seem a bit strange and the add item on the CD be interesting for someone like -PRON- who believe that this be one of the great old science fiction film   the box be very cute but come slightly dent from shipping   the Robbie doll be cute also -PRON- major criticism be that there be no text with the package that describe the history or actor for example   when -PRON- notice that the color seem bright -PRON- think that the original may have be in black and white but could not find any info in the package about -PRON-  \n",
       "682                                                                                                                                                       long linger shot of the band and of individual not the herky jerky quick pan and switch of most concert this one be spot on and brilliant EXCEPT except for the grainy homemade stuff like the guy walk the street during the incredible groove the band be in perform my morning SONG -PRON- would much rather have watch Marc Ford Rich Robinson and Steve Gorman onstage than some amateur video doodling -PRON- be honestly in another world listen to that song -PRON- be that trippy!this be a great make that GREAT show for the price -PRON- be a steal and unlike many of the over 200 concert -PRON- have on DVD this one will find -PRON- way to the player many time whether -PRON- be experience -PRON- alone or play -PRON- over or under a party -PRON- be a no brainer and this be come from someone who give up on the Crowes after the second album imagine that  \n",
       "772                                                                           Matthew Broderick and Denzel Washington share the spotlight in a great film   full of hero and villain glory and tragedy -PRON- be alternately violent realistically in term of bloodshed and tender brutal and compassionate emotionally charge and peaceful -PRON- have never see a film that show the maturation of so many excellent character amid so many struggle and battle physical emotional civil personal all the great element of film be there   -PRON- only wish -PRON- have show a little more of the enemy the South   the confederate be leave out of -PRON-   Broderick 's character Robert Gould Shaw start out as a miraculously lucky tenderfoot wrestle with -PRON- commitment to the war and to justice on social civil and human level that be what be so great about this film the complexity and tightness of the plot   the development of Shaw 's regiment the 54th be what occupy the film and emerge as -PRON- triumphant glory  "
      ]
     },
     "execution_count": 47,
     "metadata": {},
     "output_type": "execute_result"
    }
   ],
   "source": [
    "pd.set_option('display.max_colwidth', 1000)\n",
    "cluster_16.join(pd.DataFrame(review_array), how = 'left')"
   ]
  },
  {
   "cell_type": "markdown",
   "metadata": {},
   "source": [
    "From the text description we can little bit understand what kind of movies those are and investigate if our clustering technique to find relationship makes sense.Our Affinity Propagation algorism has clustered datapoints at index 99,266,319,405,474,813,1065 together.Why are those movies grouped together?Why do we recommend those movies to customers with in the group? are the two most important questions in this aspect. To answer those questions lets look very closely at what is being reviewed about those movies and what common characteristics do they have that relates them.But remember that our clustering algorism do not completely depend on those text to group the data points.In almost all of the reviews there is a mention that the movie is bad in a similiar context.For example, Majority of the movies in the above cluster 16 mention popular movie characters and also there is a mention of crime and action related content along entertainment. There is tremendous similiarity already even though we have data constraint as mentioned on the above.But also we need to remember that this clustering is based on only one reviewer,and one movie.At first it is obvious that it should initiate with what is available for creating the similiarity.And the only thing that can relate them is the similiarity in the sentimentality they have for the movie they viewed.None of the other important variables such as other movies viewed by the user,different time those users viewed differnt movies and so forth are not plying any role.But with more data and more views and reviews the power of this analysis will be manifested.Lets finish our cluster analysis by looking further in to the next five members of cluster 1."
   ]
  },
  {
   "cell_type": "code",
   "execution_count": 48,
   "metadata": {},
   "outputs": [
    {
     "data": {
      "text/html": [
       "<div>\n",
       "<style scoped>\n",
       "    .dataframe tbody tr th:only-of-type {\n",
       "        vertical-align: middle;\n",
       "    }\n",
       "\n",
       "    .dataframe tbody tr th {\n",
       "        vertical-align: top;\n",
       "    }\n",
       "\n",
       "    .dataframe thead th {\n",
       "        text-align: right;\n",
       "    }\n",
       "</style>\n",
       "<table border=\"1\" class=\"dataframe\">\n",
       "  <thead>\n",
       "    <tr style=\"text-align: right;\">\n",
       "      <th></th>\n",
       "      <th>userId</th>\n",
       "      <th>productId</th>\n",
       "      <th>cluster</th>\n",
       "      <th>0</th>\n",
       "    </tr>\n",
       "  </thead>\n",
       "  <tbody>\n",
       "    <tr>\n",
       "      <th>28</th>\n",
       "      <td>A9UU8OR0TBMHE</td>\n",
       "      <td>0790747324</td>\n",
       "      <td>1</td>\n",
       "      <td>the Time Machine be one of the good science fiction film make and -PRON- have always be one of -PRON- favorite the first time -PRON- watch this be when -PRON- be in the first grade the movie be about an inventor name George who have greate a time machine and go on a journey into the year 802701   the movie start out when -PRON- see David Filby walk up to George 's house where -PRON- see some more of -PRON- friend then eventually -PRON- see George but -PRON- be be beat up because -PRON- have go on a long journey then -PRON- talk about the story   in the next part George be show -PRON- friend the tiny model of -PRON- time machine and -PRON- want 's to proove that time travel really exist but when -PRON- friend do not believe -PRON- -PRON- decide to go on the long journey   then -PRON- see George go through many different time period into -PRON- finally get to the year 802701 instead of have a lot of technology -PRON- be just an area of grass there be a group of people there name the ...</td>\n",
       "    </tr>\n",
       "    <tr>\n",
       "      <th>29</th>\n",
       "      <td>A2AIOLDNAA6742</td>\n",
       "      <td>0790747324</td>\n",
       "      <td>1</td>\n",
       "      <td>the movie be one of the all time Sci Fi classic by today 's special effect standard -PRON- do not hold a candle but that really do not make any difference because the story be timeless and for the time -PRON- be make the effect be pretty impressive -PRON- remember see the Time Machine in the theater as a kid and -PRON- have watch -PRON- many time since then when -PRON- see that -PRON- could own a new dvd of the movie -PRON- jump at the chance especially interesting and entertaining be the new scene -PRON- have put into the special feature</td>\n",
       "    </tr>\n",
       "    <tr>\n",
       "      <th>30</th>\n",
       "      <td>A193A7T1E8CUTB</td>\n",
       "      <td>0790747324</td>\n",
       "      <td>1</td>\n",
       "      <td>though the film have flaw mostly on the corney side -PRON- think -PRON- be safe to say that this be the good adaptation of one of H.G. Wells novel to film yet produce Wells imaginatively project the class struggle ponder by Marx of the capitalist owner vs. worker without a share in the mean of production 800,000 year into the future   in this way combine with darwinian evolution -PRON- become a struggle between two sub specie the underground machine lord cannibal morlock vs. the above ground sunshine love eloi who the Morlocks simply breed as cattle   in Wells fancy the difference between class will become so extreme assume the absence of an early political solution there will eventually be an ironic ambiguity as to which class be really which to -PRON- merit this be evident enough in the film but the film add to that a couple of dated innaccurate prediction concern the near future now past   the result be a risky and somewhat corney ride   yet this addition be also fairly well off...</td>\n",
       "    </tr>\n",
       "    <tr>\n",
       "      <th>31</th>\n",
       "      <td>AYLPDW7CWJZKJ</td>\n",
       "      <td>0790747324</td>\n",
       "      <td>1</td>\n",
       "      <td>Rod Taylor be at -PRON- good in the HG Wells Classic   good film and the storyline be very close to the novel   -PRON- wish that -PRON- would have make Time Machine II   -PRON- have a script for the film but be never produce   this one be well than the one that be remade in 2002</td>\n",
       "    </tr>\n",
       "    <tr>\n",
       "      <th>32</th>\n",
       "      <td>A3ASR7JA7MPKW4</td>\n",
       "      <td>0790747324</td>\n",
       "      <td>1</td>\n",
       "      <td>-PRON- know something the Eloi remind -PRON- of -PRON- -PRON- be disorientate not know what the hell be go on and just go place -PRON- just do not wanna go but go because -PRON- do not know that -PRON- do not want to go to that place -PRON- be go to read -PRON- again -PRON- will make sense this movie be the good of the good when -PRON- come to time travel flick George Pal could not have do a well book to film transfer music be eerie and Roddy taylor be perfect as the time traveller and be believable as a 19th century inventor watch the documentary on DVD -PRON- be present by Roddy and be over 45mins long a must watch this be top of -PRON- list a real gem but -PRON- would still rather travel in time in a car than a sofa chair that look like -PRON- grannys</td>\n",
       "    </tr>\n",
       "  </tbody>\n",
       "</table>\n",
       "</div>"
      ],
      "text/plain": [
       "            userId   productId  cluster  \\\n",
       "28   A9UU8OR0TBMHE  0790747324        1   \n",
       "29  A2AIOLDNAA6742  0790747324        1   \n",
       "30  A193A7T1E8CUTB  0790747324        1   \n",
       "31   AYLPDW7CWJZKJ  0790747324        1   \n",
       "32  A3ASR7JA7MPKW4  0790747324        1   \n",
       "\n",
       "                                                                                                                                                                                                                                                                                                                                                                                                                                                                                                                                                                                                                                                                                                                                                                                                                                                                                                                                                                                                                                          0  \n",
       "28  the Time Machine be one of the good science fiction film make and -PRON- have always be one of -PRON- favorite the first time -PRON- watch this be when -PRON- be in the first grade the movie be about an inventor name George who have greate a time machine and go on a journey into the year 802701   the movie start out when -PRON- see David Filby walk up to George 's house where -PRON- see some more of -PRON- friend then eventually -PRON- see George but -PRON- be be beat up because -PRON- have go on a long journey then -PRON- talk about the story   in the next part George be show -PRON- friend the tiny model of -PRON- time machine and -PRON- want 's to proove that time travel really exist but when -PRON- friend do not believe -PRON- -PRON- decide to go on the long journey   then -PRON- see George go through many different time period into -PRON- finally get to the year 802701 instead of have a lot of technology -PRON- be just an area of grass there be a group of people there name the ...  \n",
       "29                                                                                                                                                                                                                                                                                                                                                                                                                                                                         the movie be one of the all time Sci Fi classic by today 's special effect standard -PRON- do not hold a candle but that really do not make any difference because the story be timeless and for the time -PRON- be make the effect be pretty impressive -PRON- remember see the Time Machine in the theater as a kid and -PRON- have watch -PRON- many time since then when -PRON- see that -PRON- could own a new dvd of the movie -PRON- jump at the chance especially interesting and entertaining be the new scene -PRON- have put into the special feature  \n",
       "30  though the film have flaw mostly on the corney side -PRON- think -PRON- be safe to say that this be the good adaptation of one of H.G. Wells novel to film yet produce Wells imaginatively project the class struggle ponder by Marx of the capitalist owner vs. worker without a share in the mean of production 800,000 year into the future   in this way combine with darwinian evolution -PRON- become a struggle between two sub specie the underground machine lord cannibal morlock vs. the above ground sunshine love eloi who the Morlocks simply breed as cattle   in Wells fancy the difference between class will become so extreme assume the absence of an early political solution there will eventually be an ironic ambiguity as to which class be really which to -PRON- merit this be evident enough in the film but the film add to that a couple of dated innaccurate prediction concern the near future now past   the result be a risky and somewhat corney ride   yet this addition be also fairly well off...  \n",
       "31                                                                                                                                                                                                                                                                                                                                                                                                                                                                                                                                                                                                                                                                                                                                                  Rod Taylor be at -PRON- good in the HG Wells Classic   good film and the storyline be very close to the novel   -PRON- wish that -PRON- would have make Time Machine II   -PRON- have a script for the film but be never produce   this one be well than the one that be remade in 2002  \n",
       "32                                                                                                                                                                                                                                             -PRON- know something the Eloi remind -PRON- of -PRON- -PRON- be disorientate not know what the hell be go on and just go place -PRON- just do not wanna go but go because -PRON- do not know that -PRON- do not want to go to that place -PRON- be go to read -PRON- again -PRON- will make sense this movie be the good of the good when -PRON- come to time travel flick George Pal could not have do a well book to film transfer music be eerie and Roddy taylor be perfect as the time traveller and be believable as a 19th century inventor watch the documentary on DVD -PRON- be present by Roddy and be over 45mins long a must watch this be top of -PRON- list a real gem but -PRON- would still rather travel in time in a car than a sofa chair that look like -PRON- grannys  "
      ]
     },
     "execution_count": 48,
     "metadata": {},
     "output_type": "execute_result"
    }
   ],
   "source": [
    "cluster_1 = cluster_labeled_data_1[cluster_labeled_data_1['cluster'] == 1]\n",
    "cluster_1.join(pd.DataFrame(review_array), how = 'left').head()"
   ]
  },
  {
   "cell_type": "markdown",
   "metadata": {},
   "source": [
    "Four out of the five displayed movies are clearly mentioned in the reviews that they are Science fiction movies.Interesting huh!Which is a wonderful indication that our analysis has rocked it up."
   ]
  },
  {
   "cell_type": "markdown",
   "metadata": {},
   "source": [
    "### SUMMARY AND CONCLUSION"
   ]
  },
  {
   "cell_type": "markdown",
   "metadata": {},
   "source": [
    "The clusters size increases as viewers,movies and views increase.recommendation clusters tend to change to satisfy the changing viewers viewing behaviour.For instance if userId 'AAECAHBNP1VD2' behaviour of viewing comedy related movies is changed overtime to action movies of certain characteristic,then he is re-assigned by the algorism to another clusters in which those clusters might be completely newly formed clusters from reshaffling viewers or existing clusters of similar taste.It is an ongoing process as events always unfold regarding to transactions of viewing movies.The application of this recommender system at this stage is bestly suited for startup movie channels, As they are assumed to have limited resource in terms of machine power and availability of enough data to aid optimum clustering.This recommender will do great job in recommending custormers movies based on their viewing experience, and satisfaction rate and description of their insights about the movie and the time the movie was viewed.One of the robustness in the over all analysis process is;As the company starts to grow and more data are available from customers then the distribution of the data is expected to be more suited to one of the most popular clustering algorism the K-means,then we can shift to K-means algorism based on the improvement in the evaluation metrices if our expectation is met.The process and technique that i have applied in this project is highly scalable and easly extendable and customizable to more features in the future studies,such as adding genre, movie description and so forth.It it is expected to boost performance and accuracy by certain level. In the production line this work is expected to extract information from a database process the data which is in a text format in to DataFrames and the apply the clustering technique to group the datapoints in to model identified similiar groups and recommend the same movies from with in the cluster for the members of that cluster.And as i mentioned before it is an itrative process and the outcome slightly differs every time the information in the background database is updated. "
   ]
  },
  {
   "cell_type": "markdown",
   "metadata": {},
   "source": [
    "\n"
   ]
  },
  {
   "cell_type": "markdown",
   "metadata": {},
   "source": [
    "<u>External sources and references</U>\n",
    "\n",
    "https://en.wikipedia.org/wiki/Silhouette_(clustering)\n",
    "\n",
    "https://www.analyticsvidhya.com/blog/2019/08/comprehensive-guide-k-means-clustering/\n",
    "\n",
    "http://scienceacademy.ca/ds_ml_bc_outline/"
   ]
  },
  {
   "cell_type": "code",
   "execution_count": null,
   "metadata": {},
   "outputs": [],
   "source": []
  }
 ],
 "metadata": {
  "kernelspec": {
   "display_name": "Python 3",
   "language": "python",
   "name": "python3"
  },
  "language_info": {
   "codemirror_mode": {
    "name": "ipython",
    "version": 3
   },
   "file_extension": ".py",
   "mimetype": "text/x-python",
   "name": "python",
   "nbconvert_exporter": "python",
   "pygments_lexer": "ipython3",
   "version": "3.7.3"
  }
 },
 "nbformat": 4,
 "nbformat_minor": 2
}
