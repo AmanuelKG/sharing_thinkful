{
 "cells": [
  {
   "cell_type": "markdown",
   "metadata": {},
   "source": [
    "## FINAL CAPSTONE: MOVIE RECOMMENDER"
   ]
  },
  {
   "cell_type": "markdown",
   "metadata": {},
   "source": [
    "In this final project i have planned to develope movie Recommendation system.Recommender systems are one of the most valuable applications developed using machine learning in today's technological advancement. Amazon attributes its 35% of revenue to its recommender system. According to a [paper](https://www.martechadvisor.com/articles/customer-experience-2/recommendation-engines-how-amazon-and-netflix-are-winning-the-personalization-battle/) the on-demand video streaming service claims its AI assisted recommendation system makes the company $1 billion per year.Customer experience personalization is developed and optimized using datas."
   ]
  },
  {
   "cell_type": "markdown",
   "metadata": {},
   "source": [
    "In 2009 [Netflix awarded a $1 million prize](https://www.wired.com/2012/04/netflix-prize-costs/) to a developer team for an algorithm that increased the accuracy of the company's recommendation engine by 10 percent.This shows how vital it is to implement a better performing model which increases the accuracy of already existing model.This will enable a better customer experience,reduce churn and increase revenue by a jump and the same applies to the solution that i have planned to work on. In my case however i will use a portion of [Amazon movies review data from Kaggle](https://www.kaggle.com/dm4006/amazon-movie-reviews) and i will download the data to my local machine take a portion of it as it is large considering the constraint of machine power;transform it,clean it explore it and finaly apply the further analysis procedures."
   ]
  },
  {
   "cell_type": "markdown",
   "metadata": {},
   "source": [
    "Different recommender systems apply different techniques to solve the same problem,But the robustness of the performance of these techniques and the condition that they work best differce from one to another.In this capstone i have applied a technique that integrates the main variables such as movies,viewers, and date with the review scores from viewers and NLP sentiment analysis techniques to extract a meaningfully applicable words from text reviews for feature creation and modeling."
   ]
  },
  {
   "cell_type": "markdown",
   "metadata": {},
   "source": [
    "Lets get started by downloading the most commonly used modules for our process."
   ]
  },
  {
   "cell_type": "code",
   "execution_count": 1,
   "metadata": {},
   "outputs": [],
   "source": [
    "import pandas as pd\n",
    "import numpy as np\n",
    "import matplotlib.pyplot as plt\n",
    "import scipy \n",
    "import spacy\n",
    "import re\n",
    "from sklearn.decomposition import TruncatedSVD, PCA\n",
    "from sklearn.pipeline import make_pipeline\n",
    "from sklearn.preprocessing import normalize,Normalizer,StandardScaler\n",
    "from sklearn.cluster import KMeans\n",
    "from sklearn.model_selection import train_test_split\n",
    "%matplotlib inline"
   ]
  },
  {
   "cell_type": "markdown",
   "metadata": {},
   "source": [
    "The dataset size is very large to be properly processed in my local machine therefore i have processed the dataset to a usable format under the constraint of machine power.Lets move on to the code for reading the file;"
   ]
  },
  {
   "cell_type": "code",
   "execution_count": 2,
   "metadata": {},
   "outputs": [],
   "source": [
    "with open('./movies.txt', encoding='iso-8859-1') as f:\n",
    "      lines = [f.readline() for i in range(10**7)] "
   ]
  },
  {
   "cell_type": "markdown",
   "metadata": {},
   "source": [
    "Lets see ten lines from our document."
   ]
  },
  {
   "cell_type": "code",
   "execution_count": 3,
   "metadata": {},
   "outputs": [
    {
     "data": {
      "text/plain": [
       "['product/productId: B003AI2VGA\\n',\n",
       " 'review/userId: A141HP4LYPWMSR\\n',\n",
       " 'review/profileName: Brian E. Erland \"Rainbow Sphinx\"\\n',\n",
       " 'review/helpfulness: 7/7\\n',\n",
       " 'review/score: 3.0\\n',\n",
       " 'review/time: 1182729600\\n',\n",
       " 'review/summary: \"There Is So Much Darkness Now ~ Come For The Miracle\"\\n',\n",
       " 'review/text: Synopsis: On the daily trek from Juarez, Mexico to El Paso, Texas an ever increasing number of female workers are found raped and murdered in the surrounding desert. Investigative reporter Karina Danes (Minnie Driver) arrives from Los Angeles to pursue the story and angers both the local police and the factory owners who employee the undocumented aliens with her pointed questions and relentless quest for the truth.<br /><br />Her story goes nationwide when a young girl named Mariela (Ana Claudia Talancon) survives a vicious attack and walks out of the desert crediting the Blessed Virgin for her rescue. Her story is further enhanced when the \"Wounds of Christ\" (stigmata) appear in her palms. She also claims to have received a message of hope for the Virgin Mary and soon a fanatical movement forms around her to fight against the evil that holds such a stranglehold on the area.<br /><br />Critique: Possessing a lifelong fascination with such esoteric matters as Catholic mysticism, miracles and the mysterious appearance of the stigmata, I was immediately attracted to the \\'05 DVD release `Virgin of Juarez\\'. The film offers a rather unique storyline blending current socio-political concerns, the constant flow of Mexican migrant workers back and forth across the U.S./Mexican border and the traditional Catholic beliefs of the Hispanic population. I must say I was quite surprised by the unexpected route taken by the plot and the means and methods by which the heavenly message unfolds.<br /><br />`Virgin of Juarez\\' is not a film that you would care to watch over and over again, but it was interesting enough to merit at least one viewing. Minnie Driver delivers a solid performance and Ana Claudia Talancon is perfect as the fragile and innocent visionary Mariela. Also starring Esai Morales and Angus Macfadyen (Braveheart).\\n',\n",
       " '\\n',\n",
       " 'product/productId: B003AI2VGA\\n']"
      ]
     },
     "execution_count": 3,
     "metadata": {},
     "output_type": "execute_result"
    }
   ],
   "source": [
    "lines[0:10]"
   ]
  },
  {
   "cell_type": "markdown",
   "metadata": {},
   "source": [
    "In turning the information in the above in to a usable DataFrame, I applied the following codes; "
   ]
  },
  {
   "cell_type": "code",
   "execution_count": 4,
   "metadata": {},
   "outputs": [],
   "source": [
    "#each information is put in a list of lists\n",
    "tons_of_lists= []\n",
    "for i, line in zip(range(len(lines)), lines):\n",
    "    if line == '\\n':\n",
    "        tons_of_lists.append(lines[:i])\n",
    "        del(lines[:i+1])\n",
    "        number = 0  "
   ]
  },
  {
   "cell_type": "code",
   "execution_count": 5,
   "metadata": {},
   "outputs": [],
   "source": [
    "#\n",
    "list_with_all_dicts = []\n",
    "for mini_list in tons_of_lists:\n",
    "    dict_with_synopsis = {}\n",
    "    for item in mini_list:\n",
    "        if ':' in item:\n",
    "            dict_with_synopsis[item.split(':', maxsplit= 1)[0]] = item.split(':', maxsplit= 1)[1]\n",
    "            list_with_all_dicts.append(dict_with_synopsis)"
   ]
  },
  {
   "cell_type": "code",
   "execution_count": 6,
   "metadata": {},
   "outputs": [],
   "source": [
    "#The resulting data frame happened to have duplicated rows,thus I removed the duplicates\n",
    "movies_df = pd.DataFrame(list_with_all_dicts)\n",
    "movies_df = movies_df.drop_duplicates()\n",
    "\n",
    "#editing column names\n",
    "new_cols = []\n",
    "for column in movies_df.columns:\n",
    "    new_cols.append(column.split('/')[1])\n",
    "movies_df.columns = new_cols    "
   ]
  },
  {
   "cell_type": "code",
   "execution_count": 7,
   "metadata": {},
   "outputs": [
    {
     "data": {
      "text/html": [
       "<div>\n",
       "<style scoped>\n",
       "    .dataframe tbody tr th:only-of-type {\n",
       "        vertical-align: middle;\n",
       "    }\n",
       "\n",
       "    .dataframe tbody tr th {\n",
       "        vertical-align: top;\n",
       "    }\n",
       "\n",
       "    .dataframe thead th {\n",
       "        text-align: right;\n",
       "    }\n",
       "</style>\n",
       "<table border=\"1\" class=\"dataframe\">\n",
       "  <thead>\n",
       "    <tr style=\"text-align: right;\">\n",
       "      <th></th>\n",
       "      <th>productId</th>\n",
       "      <th>helpfulness</th>\n",
       "      <th>profileName</th>\n",
       "      <th>score</th>\n",
       "      <th>summary</th>\n",
       "      <th>text</th>\n",
       "      <th>time</th>\n",
       "      <th>userId</th>\n",
       "    </tr>\n",
       "  </thead>\n",
       "  <tbody>\n",
       "    <tr>\n",
       "      <th>0</th>\n",
       "      <td>B003AI2VGA\\n</td>\n",
       "      <td>7/7\\n</td>\n",
       "      <td>Brian E. Erland \"Rainbow Sphinx\"\\n</td>\n",
       "      <td>3.0\\n</td>\n",
       "      <td>\"There Is So Much Darkness Now ~ Come For The...</td>\n",
       "      <td>Synopsis: On the daily trek from Juarez, Mexi...</td>\n",
       "      <td>1182729600\\n</td>\n",
       "      <td>A141HP4LYPWMSR\\n</td>\n",
       "    </tr>\n",
       "    <tr>\n",
       "      <th>8</th>\n",
       "      <td>B003AI2VGA\\n</td>\n",
       "      <td>8/10\\n</td>\n",
       "      <td>Chrissy K. McVay \"Writer\"\\n</td>\n",
       "      <td>5.0\\n</td>\n",
       "      <td>This movie needed to be made.\\n</td>\n",
       "      <td>The scenes in this film can be very disquieti...</td>\n",
       "      <td>1164844800\\n</td>\n",
       "      <td>A1I7QGUDP043DG\\n</td>\n",
       "    </tr>\n",
       "    <tr>\n",
       "      <th>24</th>\n",
       "      <td>B003AI2VGA\\n</td>\n",
       "      <td>0/0\\n</td>\n",
       "      <td>abra \"a devoted reader\"\\n</td>\n",
       "      <td>2.0\\n</td>\n",
       "      <td>Pretty pointless fictionalization\\n</td>\n",
       "      <td>The murders in Juarez are real. This movie is...</td>\n",
       "      <td>1229040000\\n</td>\n",
       "      <td>A3QYDL5CDNYN66\\n</td>\n",
       "    </tr>\n",
       "    <tr>\n",
       "      <th>48</th>\n",
       "      <td>B00006HAXW\\n</td>\n",
       "      <td>24/24\\n</td>\n",
       "      <td>\"bruce_from_la\"\\n</td>\n",
       "      <td>5.0\\n</td>\n",
       "      <td>If You Like DooWop You Gotta Have This DVD\\n</td>\n",
       "      <td>Wow! When I saw this show on PBS--that was it...</td>\n",
       "      <td>1061164800\\n</td>\n",
       "      <td>A2P7UB02HAVEPB\\n</td>\n",
       "    </tr>\n",
       "    <tr>\n",
       "      <th>80</th>\n",
       "      <td>B00006HAXW\\n</td>\n",
       "      <td>7/7\\n</td>\n",
       "      <td>\"fellafromnyc\"\\n</td>\n",
       "      <td>4.0\\n</td>\n",
       "      <td>They sang in the subway, in halls..\\n</td>\n",
       "      <td>The performance of Little Anthony and the Imp...</td>\n",
       "      <td>1049846400\\n</td>\n",
       "      <td>A1OUBOGB5970AO\\n</td>\n",
       "    </tr>\n",
       "  </tbody>\n",
       "</table>\n",
       "</div>"
      ],
      "text/plain": [
       "        productId helpfulness                          profileName   score  \\\n",
       "0    B003AI2VGA\\n       7/7\\n   Brian E. Erland \"Rainbow Sphinx\"\\n   3.0\\n   \n",
       "8    B003AI2VGA\\n      8/10\\n          Chrissy K. McVay \"Writer\"\\n   5.0\\n   \n",
       "24   B003AI2VGA\\n       0/0\\n            abra \"a devoted reader\"\\n   2.0\\n   \n",
       "48   B00006HAXW\\n     24/24\\n                    \"bruce_from_la\"\\n   5.0\\n   \n",
       "80   B00006HAXW\\n       7/7\\n                     \"fellafromnyc\"\\n   4.0\\n   \n",
       "\n",
       "                                              summary  \\\n",
       "0    \"There Is So Much Darkness Now ~ Come For The...   \n",
       "8                     This movie needed to be made.\\n   \n",
       "24                Pretty pointless fictionalization\\n   \n",
       "48       If You Like DooWop You Gotta Have This DVD\\n   \n",
       "80              They sang in the subway, in halls..\\n   \n",
       "\n",
       "                                                 text           time  \\\n",
       "0    Synopsis: On the daily trek from Juarez, Mexi...   1182729600\\n   \n",
       "8    The scenes in this film can be very disquieti...   1164844800\\n   \n",
       "24   The murders in Juarez are real. This movie is...   1229040000\\n   \n",
       "48   Wow! When I saw this show on PBS--that was it...   1061164800\\n   \n",
       "80   The performance of Little Anthony and the Imp...   1049846400\\n   \n",
       "\n",
       "               userId  \n",
       "0    A141HP4LYPWMSR\\n  \n",
       "8    A1I7QGUDP043DG\\n  \n",
       "24   A3QYDL5CDNYN66\\n  \n",
       "48   A2P7UB02HAVEPB\\n  \n",
       "80   A1OUBOGB5970AO\\n  "
      ]
     },
     "execution_count": 7,
     "metadata": {},
     "output_type": "execute_result"
    }
   ],
   "source": [
    "movies_df.head()"
   ]
  },
  {
   "cell_type": "code",
   "execution_count": 8,
   "metadata": {},
   "outputs": [],
   "source": [
    "# I dropped two columns('helpfulness','summary') from the data\n",
    "movies_df = movies_df[['userId', 'productId', 'score', 'text', 'time']]"
   ]
  },
  {
   "cell_type": "code",
   "execution_count": 9,
   "metadata": {},
   "outputs": [],
   "source": [
    "\n",
    "for cols in movies_df.columns:\n",
    "    movies_df[cols] = movies_df[cols].apply(lambda x: x.strip())\n",
    "    movies_df[cols] = movies_df[cols].apply(lambda x: re.sub(r'\\n', '', x))"
   ]
  },
  {
   "cell_type": "code",
   "execution_count": 10,
   "metadata": {},
   "outputs": [],
   "source": [
    "movies_df['score'] = movies_df['score'].astype('float64')"
   ]
  },
  {
   "cell_type": "code",
   "execution_count": 11,
   "metadata": {},
   "outputs": [
    {
     "name": "stdout",
     "output_type": "stream",
     "text": [
      "<class 'pandas.core.frame.DataFrame'>\n",
      "Int64Index: 1491 entries, 0 to 8865200\n",
      "Data columns (total 5 columns):\n",
      "userId       1491 non-null object\n",
      "productId    1491 non-null object\n",
      "score        1491 non-null float64\n",
      "text         1491 non-null object\n",
      "time         1491 non-null object\n",
      "dtypes: float64(1), object(4)\n",
      "memory usage: 69.9+ KB\n"
     ]
    }
   ],
   "source": [
    "movies_df.info()"
   ]
  },
  {
   "cell_type": "markdown",
   "metadata": {},
   "source": [
    "From the above info table we can understand that with the duplicates our movies data frame would have 8865200 entries or rows."
   ]
  },
  {
   "cell_type": "code",
   "execution_count": 12,
   "metadata": {},
   "outputs": [
    {
     "data": {
      "text/html": [
       "<div>\n",
       "<style scoped>\n",
       "    .dataframe tbody tr th:only-of-type {\n",
       "        vertical-align: middle;\n",
       "    }\n",
       "\n",
       "    .dataframe tbody tr th {\n",
       "        vertical-align: top;\n",
       "    }\n",
       "\n",
       "    .dataframe thead th {\n",
       "        text-align: right;\n",
       "    }\n",
       "</style>\n",
       "<table border=\"1\" class=\"dataframe\">\n",
       "  <thead>\n",
       "    <tr style=\"text-align: right;\">\n",
       "      <th></th>\n",
       "      <th>userId</th>\n",
       "      <th>productId</th>\n",
       "      <th>score</th>\n",
       "      <th>text</th>\n",
       "      <th>time</th>\n",
       "    </tr>\n",
       "  </thead>\n",
       "  <tbody>\n",
       "    <tr>\n",
       "      <th>0</th>\n",
       "      <td>A141HP4LYPWMSR</td>\n",
       "      <td>B003AI2VGA</td>\n",
       "      <td>3.0</td>\n",
       "      <td>Synopsis: On the daily trek from Juarez, Mexic...</td>\n",
       "      <td>1182729600</td>\n",
       "    </tr>\n",
       "    <tr>\n",
       "      <th>8</th>\n",
       "      <td>A1I7QGUDP043DG</td>\n",
       "      <td>B003AI2VGA</td>\n",
       "      <td>5.0</td>\n",
       "      <td>The scenes in this film can be very disquietin...</td>\n",
       "      <td>1164844800</td>\n",
       "    </tr>\n",
       "    <tr>\n",
       "      <th>24</th>\n",
       "      <td>A3QYDL5CDNYN66</td>\n",
       "      <td>B003AI2VGA</td>\n",
       "      <td>2.0</td>\n",
       "      <td>The murders in Juarez are real. This movie is ...</td>\n",
       "      <td>1229040000</td>\n",
       "    </tr>\n",
       "    <tr>\n",
       "      <th>48</th>\n",
       "      <td>A2P7UB02HAVEPB</td>\n",
       "      <td>B00006HAXW</td>\n",
       "      <td>5.0</td>\n",
       "      <td>Wow! When I saw this show on PBS--that was it,...</td>\n",
       "      <td>1061164800</td>\n",
       "    </tr>\n",
       "    <tr>\n",
       "      <th>80</th>\n",
       "      <td>A1OUBOGB5970AO</td>\n",
       "      <td>B00006HAXW</td>\n",
       "      <td>4.0</td>\n",
       "      <td>The performance of Little Anthony and the Impe...</td>\n",
       "      <td>1049846400</td>\n",
       "    </tr>\n",
       "  </tbody>\n",
       "</table>\n",
       "</div>"
      ],
      "text/plain": [
       "            userId   productId  score  \\\n",
       "0   A141HP4LYPWMSR  B003AI2VGA    3.0   \n",
       "8   A1I7QGUDP043DG  B003AI2VGA    5.0   \n",
       "24  A3QYDL5CDNYN66  B003AI2VGA    2.0   \n",
       "48  A2P7UB02HAVEPB  B00006HAXW    5.0   \n",
       "80  A1OUBOGB5970AO  B00006HAXW    4.0   \n",
       "\n",
       "                                                 text        time  \n",
       "0   Synopsis: On the daily trek from Juarez, Mexic...  1182729600  \n",
       "8   The scenes in this film can be very disquietin...  1164844800  \n",
       "24  The murders in Juarez are real. This movie is ...  1229040000  \n",
       "48  Wow! When I saw this show on PBS--that was it,...  1061164800  \n",
       "80  The performance of Little Anthony and the Impe...  1049846400  "
      ]
     },
     "execution_count": 12,
     "metadata": {},
     "output_type": "execute_result"
    }
   ],
   "source": [
    "movies_df.head()"
   ]
  },
  {
   "cell_type": "code",
   "execution_count": 13,
   "metadata": {},
   "outputs": [
    {
     "data": {
      "text/html": [
       "<div>\n",
       "<style scoped>\n",
       "    .dataframe tbody tr th:only-of-type {\n",
       "        vertical-align: middle;\n",
       "    }\n",
       "\n",
       "    .dataframe tbody tr th {\n",
       "        vertical-align: top;\n",
       "    }\n",
       "\n",
       "    .dataframe thead th {\n",
       "        text-align: right;\n",
       "    }\n",
       "</style>\n",
       "<table border=\"1\" class=\"dataframe\">\n",
       "  <thead>\n",
       "    <tr style=\"text-align: right;\">\n",
       "      <th></th>\n",
       "      <th>userId</th>\n",
       "      <th>productId</th>\n",
       "      <th>score</th>\n",
       "      <th>text</th>\n",
       "      <th>time</th>\n",
       "    </tr>\n",
       "  </thead>\n",
       "  <tbody>\n",
       "    <tr>\n",
       "      <th>8817712</th>\n",
       "      <td>A3043P11OIPUHE</td>\n",
       "      <td>B001G5RST4</td>\n",
       "      <td>2.0</td>\n",
       "      <td>The Movie Madagascar is terrible for children....</td>\n",
       "      <td>1233014400</td>\n",
       "    </tr>\n",
       "    <tr>\n",
       "      <th>8829576</th>\n",
       "      <td>AN9J46667D80O</td>\n",
       "      <td>B0087ZG7KM</td>\n",
       "      <td>4.0</td>\n",
       "      <td>And so the masses cried out,\"Where is the twen...</td>\n",
       "      <td>1305417600</td>\n",
       "    </tr>\n",
       "    <tr>\n",
       "      <th>8841448</th>\n",
       "      <td>A7VEQLY06X32Q</td>\n",
       "      <td>B00287Z19I</td>\n",
       "      <td>5.0</td>\n",
       "      <td>\"New Tricks\" is a very well done police drama ...</td>\n",
       "      <td>1335312000</td>\n",
       "    </tr>\n",
       "    <tr>\n",
       "      <th>8853320</th>\n",
       "      <td>A35ZK3M8L9JUPX</td>\n",
       "      <td>B00004UB7B</td>\n",
       "      <td>5.0</td>\n",
       "      <td>Marcus is a successful advertising executive w...</td>\n",
       "      <td>1262217600</td>\n",
       "    </tr>\n",
       "    <tr>\n",
       "      <th>8865200</th>\n",
       "      <td>A3PCTD8QM1BIXI</td>\n",
       "      <td>B00009X8LF</td>\n",
       "      <td>3.0</td>\n",
       "      <td>Head Of State is a pretty funny movie from the...</td>\n",
       "      <td>1221350400</td>\n",
       "    </tr>\n",
       "  </tbody>\n",
       "</table>\n",
       "</div>"
      ],
      "text/plain": [
       "                 userId   productId  score  \\\n",
       "8817712  A3043P11OIPUHE  B001G5RST4    2.0   \n",
       "8829576   AN9J46667D80O  B0087ZG7KM    4.0   \n",
       "8841448   A7VEQLY06X32Q  B00287Z19I    5.0   \n",
       "8853320  A35ZK3M8L9JUPX  B00004UB7B    5.0   \n",
       "8865200  A3PCTD8QM1BIXI  B00009X8LF    3.0   \n",
       "\n",
       "                                                      text        time  \n",
       "8817712  The Movie Madagascar is terrible for children....  1233014400  \n",
       "8829576  And so the masses cried out,\"Where is the twen...  1305417600  \n",
       "8841448  \"New Tricks\" is a very well done police drama ...  1335312000  \n",
       "8853320  Marcus is a successful advertising executive w...  1262217600  \n",
       "8865200  Head Of State is a pretty funny movie from the...  1221350400  "
      ]
     },
     "execution_count": 13,
     "metadata": {},
     "output_type": "execute_result"
    }
   ],
   "source": [
    "movies_df.tail()"
   ]
  },
  {
   "cell_type": "code",
   "execution_count": 14,
   "metadata": {},
   "outputs": [],
   "source": [
    "movies_df.reset_index(inplace = True, drop = True)"
   ]
  },
  {
   "cell_type": "markdown",
   "metadata": {},
   "source": [
    "### Recommender Systems\n",
    "**Generally, recommender systems can be one of the below six or more classes:**\n",
    "    \n",
    "- **Content-based:** These system learns to recommend items that are similar to the\n",
    "ones that the user liked in the past.\n",
    "- **Collaborative Filtering:** The simplest and original implementation of this\n",
    "approach recommends to the active user the items that other users with similar tastes\n",
    "liked in the past. “Wisdom of the crowd” to recommend item!\n",
    "- **Demographic:** This type of system recommends items based on the demographic\n",
    "profile of the user.\n",
    "- **Knowledge-based:** Knowledge-based systems recommend items based on\n",
    "specific domain knowledge about how certain item features meet users needs and\n",
    "preferences and, ultimately, how the item is useful for the user.\n",
    "- **Community-based:** This type of system recommends items based on the\n",
    "preferences of the users friends. This technique follows the epigram “Tell me who your\n",
    "friends are, and I will tell you who you are”.\n",
    "- **Hybrid:** This type of system are based on the combination of the above mentioned\n",
    "techniques."
   ]
  },
  {
   "cell_type": "markdown",
   "metadata": {},
   "source": [
    "In this Project i will be applying a Hybrid of Content-based and Collaborative Filtering classes.This is because i will depend on two important columns values in identifying the relationship between the test of movies of one user to another based on how one users evaluated the movies based on the rating score and sentiment analysis pattern of the reviews.having said that in identifying those relationships i desided to depend on one of the clustering algorisms as oposed to the common approaches taken by other techniques, for the following reasons;\n",
    "1. Logically it is good practice to have the algorism or technque to select only those well average reviewed Movies in general.And then see the relationship to recommend those movies between the tests of the viewers.However because of the nature of my dataset it is difficulty to find the real avarage of movie scores.\n",
    "2. Most of the movies has only one reviewer. That is if a movie is really bad but one review is 5 or high then it may meslead the recommendation.\n",
    "\n",
    "Therefore because of the above and other unseen situations i decieded the algorism to deside for itself between the homegeniety of the test of viewers.But First and for most lets deep dive in to the world of exploration and Feature Engineering and Extraction to have a better understanding about our dataset and the richness of the features for the best result of successfully finding the vital relationships."
   ]
  },
  {
   "cell_type": "markdown",
   "metadata": {},
   "source": [
    "### Explarotary Data Analysis(EDA)"
   ]
  },
  {
   "cell_type": "markdown",
   "metadata": {},
   "source": [
    "How many movies does this new subset of the main dataset has? How many reviewers? And at a glance lets see which movies have the highest rating score out of five."
   ]
  },
  {
   "cell_type": "markdown",
   "metadata": {},
   "source": [
    "It is very important to know how many movies does our dataset has."
   ]
  },
  {
   "cell_type": "code",
   "execution_count": 15,
   "metadata": {},
   "outputs": [
    {
     "data": {
      "text/plain": [
       "1369"
      ]
     },
     "execution_count": 15,
     "metadata": {},
     "output_type": "execute_result"
    }
   ],
   "source": [
    "#Total Number of Movies\n",
    "movies_df['productId'].nunique()"
   ]
  },
  {
   "cell_type": "markdown",
   "metadata": {},
   "source": [
    "And it is Equally important to know the number of movie reviewers."
   ]
  },
  {
   "cell_type": "code",
   "execution_count": 16,
   "metadata": {},
   "outputs": [
    {
     "data": {
      "text/plain": [
       "1439"
      ]
     },
     "execution_count": 16,
     "metadata": {},
     "output_type": "execute_result"
    }
   ],
   "source": [
    "# Total Number of viewers\n",
    "movies_df['userId'].nunique()"
   ]
  },
  {
   "cell_type": "markdown",
   "metadata": {},
   "source": [
    "Lets see the proportion of the number of reviewers per each movie across the dataset.But first lets find the unique number of reviews per movie."
   ]
  },
  {
   "cell_type": "code",
   "execution_count": 17,
   "metadata": {},
   "outputs": [
    {
     "data": {
      "text/plain": [
       "{1, 2, 3, 4}"
      ]
     },
     "execution_count": 17,
     "metadata": {},
     "output_type": "execute_result"
    }
   ],
   "source": [
    "set(movies_df['userId'].value_counts().values)"
   ]
  },
  {
   "cell_type": "markdown",
   "metadata": {},
   "source": [
    "From the above values inside the curl bracket we can understand that all the movies has on of the values number of reviewers.Lets move on and see the proportion of each value across the dataset."
   ]
  },
  {
   "cell_type": "code",
   "execution_count": 18,
   "metadata": {},
   "outputs": [
    {
     "name": "stdout",
     "output_type": "stream",
     "text": [
      "{1: 0.937625754527163, 2: 0.021462105969148222, 3: 0.004694835680751174, 4: 0.0013413816230717639}\n"
     ]
    },
    {
     "data": {
      "image/png": "[encoded data removed]",
      "text/plain": [
       "<Figure size 1296x432 with 1 Axes>"
      ]
     },
     "metadata": {
      "needs_background": "light"
     },
     "output_type": "display_data"
    }
   ],
   "source": [
    "dict_user_count = {}\n",
    "for i in set(movies_df['userId'].value_counts().values): \n",
    "    dict_user_count[i] =(movies_df['userId'].value_counts().values == i).sum()/len(movies_df['userId'])\n",
    "print(dict_user_count)\n",
    "plt.figure(figsize = (18, 6))\n",
    "plt.bar(dict_user_count.keys(), dict_user_count.values())\n",
    "plt.title('Proportion of the number of reviews per movie');\n",
    "plt.xlabel('Number of reviews')\n",
    "plt.ylabel('Density');"
   ]
  },
  {
   "cell_type": "markdown",
   "metadata": {},
   "source": [
    "From the dictionary and the plot on the above we can learn that 94 percent of the movies were reviewed only once, only 6 percent of the movies got reviews more than one time.We have a very biased dataset.But this analysis have a great value with or with out biasness;the accuracy however is expected to suffer. The most important aspect of it is, its scalability and there is always room for improvement."
   ]
  },
  {
   "cell_type": "code",
   "execution_count": 19,
   "metadata": {},
   "outputs": [
    {
     "data": {
      "text/html": [
       "<div>\n",
       "<style scoped>\n",
       "    .dataframe tbody tr th:only-of-type {\n",
       "        vertical-align: middle;\n",
       "    }\n",
       "\n",
       "    .dataframe tbody tr th {\n",
       "        vertical-align: top;\n",
       "    }\n",
       "\n",
       "    .dataframe thead th {\n",
       "        text-align: right;\n",
       "    }\n",
       "</style>\n",
       "<table border=\"1\" class=\"dataframe\">\n",
       "  <thead>\n",
       "    <tr style=\"text-align: right;\">\n",
       "      <th></th>\n",
       "      <th>score</th>\n",
       "    </tr>\n",
       "    <tr>\n",
       "      <th>productId</th>\n",
       "      <th></th>\n",
       "    </tr>\n",
       "  </thead>\n",
       "  <tbody>\n",
       "    <tr>\n",
       "      <th>B000C20VSW</th>\n",
       "      <td>5.0</td>\n",
       "    </tr>\n",
       "    <tr>\n",
       "      <th>B0001DHSC4</th>\n",
       "      <td>5.0</td>\n",
       "    </tr>\n",
       "    <tr>\n",
       "      <th>B0001Y4MAO</th>\n",
       "      <td>5.0</td>\n",
       "    </tr>\n",
       "    <tr>\n",
       "      <th>B0001WTWCO</th>\n",
       "      <td>5.0</td>\n",
       "    </tr>\n",
       "    <tr>\n",
       "      <th>B0001NBMH6</th>\n",
       "      <td>5.0</td>\n",
       "    </tr>\n",
       "    <tr>\n",
       "      <th>B0001MDPIG</th>\n",
       "      <td>5.0</td>\n",
       "    </tr>\n",
       "    <tr>\n",
       "      <th>B0001IXT36</th>\n",
       "      <td>5.0</td>\n",
       "    </tr>\n",
       "    <tr>\n",
       "      <th>B0001I562I</th>\n",
       "      <td>5.0</td>\n",
       "    </tr>\n",
       "    <tr>\n",
       "      <th>B0001HK21Y</th>\n",
       "      <td>5.0</td>\n",
       "    </tr>\n",
       "    <tr>\n",
       "      <th>B0001HAISG</th>\n",
       "      <td>5.0</td>\n",
       "    </tr>\n",
       "  </tbody>\n",
       "</table>\n",
       "</div>"
      ],
      "text/plain": [
       "            score\n",
       "productId        \n",
       "B000C20VSW    5.0\n",
       "B0001DHSC4    5.0\n",
       "B0001Y4MAO    5.0\n",
       "B0001WTWCO    5.0\n",
       "B0001NBMH6    5.0\n",
       "B0001MDPIG    5.0\n",
       "B0001IXT36    5.0\n",
       "B0001I562I    5.0\n",
       "B0001HK21Y    5.0\n",
       "B0001HAISG    5.0"
      ]
     },
     "execution_count": 19,
     "metadata": {},
     "output_type": "execute_result"
    }
   ],
   "source": [
    "scores = pd.DataFrame(movies_df.groupby('productId')['score'].mean().sort_values(ascending = False))\n",
    "scores.head(10)"
   ]
  },
  {
   "cell_type": "markdown",
   "metadata": {},
   "source": [
    "So as we can see on the above these 10 products(Movies) has the highest score i.e score of five among many others.But to be exact lets find out how many movies have an average score of five."
   ]
  },
  {
   "cell_type": "code",
   "execution_count": 20,
   "metadata": {},
   "outputs": [
    {
     "data": {
      "text/plain": [
       "738"
      ]
     },
     "execution_count": 20,
     "metadata": {},
     "output_type": "execute_result"
    }
   ],
   "source": [
    "(movies_df.groupby('productId')['score'].mean().values == 5.0).sum()"
   ]
  },
  {
   "cell_type": "markdown",
   "metadata": {},
   "source": [
    "The above figure is telling us that over 50% of our movies has review of exactly 5. Not 4, 4.5, 3.5 or any thing but exactly 5.This shows that there are pretty high number of movies with a single review.Let me clarify it using the table below;"
   ]
  },
  {
   "cell_type": "code",
   "execution_count": 21,
   "metadata": {},
   "outputs": [
    {
     "data": {
      "text/html": [
       "<div>\n",
       "<style scoped>\n",
       "    .dataframe tbody tr th:only-of-type {\n",
       "        vertical-align: middle;\n",
       "    }\n",
       "\n",
       "    .dataframe tbody tr th {\n",
       "        vertical-align: top;\n",
       "    }\n",
       "\n",
       "    .dataframe thead th {\n",
       "        text-align: right;\n",
       "    }\n",
       "</style>\n",
       "<table border=\"1\" class=\"dataframe\">\n",
       "  <thead>\n",
       "    <tr style=\"text-align: right;\">\n",
       "      <th></th>\n",
       "      <th>score</th>\n",
       "      <th>n_ratings</th>\n",
       "    </tr>\n",
       "    <tr>\n",
       "      <th>productId</th>\n",
       "      <th></th>\n",
       "      <th></th>\n",
       "    </tr>\n",
       "  </thead>\n",
       "  <tbody>\n",
       "    <tr>\n",
       "      <th>B000C20VSW</th>\n",
       "      <td>5.0</td>\n",
       "      <td>1</td>\n",
       "    </tr>\n",
       "    <tr>\n",
       "      <th>B0001DHSC4</th>\n",
       "      <td>5.0</td>\n",
       "      <td>1</td>\n",
       "    </tr>\n",
       "    <tr>\n",
       "      <th>B0001Y4MAO</th>\n",
       "      <td>5.0</td>\n",
       "      <td>1</td>\n",
       "    </tr>\n",
       "    <tr>\n",
       "      <th>B0001WTWCO</th>\n",
       "      <td>5.0</td>\n",
       "      <td>1</td>\n",
       "    </tr>\n",
       "    <tr>\n",
       "      <th>B0001NBMH6</th>\n",
       "      <td>5.0</td>\n",
       "      <td>1</td>\n",
       "    </tr>\n",
       "    <tr>\n",
       "      <th>B0001MDPIG</th>\n",
       "      <td>5.0</td>\n",
       "      <td>1</td>\n",
       "    </tr>\n",
       "    <tr>\n",
       "      <th>B0001IXT36</th>\n",
       "      <td>5.0</td>\n",
       "      <td>1</td>\n",
       "    </tr>\n",
       "    <tr>\n",
       "      <th>B0001I562I</th>\n",
       "      <td>5.0</td>\n",
       "      <td>1</td>\n",
       "    </tr>\n",
       "    <tr>\n",
       "      <th>B0001HK21Y</th>\n",
       "      <td>5.0</td>\n",
       "      <td>1</td>\n",
       "    </tr>\n",
       "    <tr>\n",
       "      <th>B0001HAISG</th>\n",
       "      <td>5.0</td>\n",
       "      <td>1</td>\n",
       "    </tr>\n",
       "  </tbody>\n",
       "</table>\n",
       "</div>"
      ],
      "text/plain": [
       "            score  n_ratings\n",
       "productId                   \n",
       "B000C20VSW    5.0          1\n",
       "B0001DHSC4    5.0          1\n",
       "B0001Y4MAO    5.0          1\n",
       "B0001WTWCO    5.0          1\n",
       "B0001NBMH6    5.0          1\n",
       "B0001MDPIG    5.0          1\n",
       "B0001IXT36    5.0          1\n",
       "B0001I562I    5.0          1\n",
       "B0001HK21Y    5.0          1\n",
       "B0001HAISG    5.0          1"
      ]
     },
     "execution_count": 21,
     "metadata": {},
     "output_type": "execute_result"
    }
   ],
   "source": [
    "scores['n_ratings'] = pd.DataFrame(movies_df.groupby('productId')['score'].count())\n",
    "scores.head(10)"
   ]
  },
  {
   "cell_type": "code",
   "execution_count": null,
   "metadata": {},
   "outputs": [],
   "source": []
  },
  {
   "cell_type": "code",
   "execution_count": 22,
   "metadata": {},
   "outputs": [
    {
     "data": {
      "image/png": "[encoded data removed]",
      "text/plain": [
       "<Figure size 864x432 with 2 Axes>"
      ]
     },
     "metadata": {
      "needs_background": "light"
     },
     "output_type": "display_data"
    }
   ],
   "source": [
    "f, (ax1, ax2) = plt.subplots(nrows=1, ncols=2, figsize=(12,6))\n",
    "\n",
    "# For Average ratings \n",
    "ax1.set_title('No. of ratings')\n",
    "ax1.hist(scores['n_ratings'], bins =20);\n",
    "ax1.set_xlabel('No of Ratings per Movie')\n",
    "ax1.set_ylabel('Frequency of Movies')\n",
    "\n",
    "\n",
    "# For rating Frequency\n",
    "ax2.set_title('Average Rating')\n",
    "ax2.hist(scores['score'], bins =30);\n",
    "ax2.set_xlabel('Average Movie Rating')\n",
    "ax2.set_ylabel('Frequency of Movies');"
   ]
  },
  {
   "cell_type": "markdown",
   "metadata": {},
   "source": [
    "From the above 'No. of ratings histogram'(the left figure), we can learn that over 85% of the movies have only 1 reviewer. But to find out about real movie score we technically need the opinion of quite some people and then we can average the scores to get the representative score.From the 'Average Rating' histogram on the right we can see that majority of the ratings are 5,but majority of those scores are the insight of a single viewer.but we have desent number of other scores with a single reviewer too.Those issues would be very conserning if we are going to highly depend on the review scores to recommend a movie for istance we may take a stance that a highly reviewed movie should be recommended to customers based on their tastes, this idea generally works for other goods and services for movies however regardless how other people scores a movie,a high percent of people may still want to see that movie,like the movie 'Room' the worst movie ever made, still people want to see it for been bad, even other different movies people may want to see them for different reasons regardless of the quality of acting, recording,directing and so forth.Our hybrid recommender system therefore will depend on several characteristics on top of review scores to find the relationship between viewers,quality of movie, time and the sentiment a viewer has with certain movies.I have worked to connect the dots in using the concept of NLP and other features to prepare for clustering algorism to come up with the most robust recommender.But first lets prepare the field by desgning the features."
   ]
  },
  {
   "cell_type": "markdown",
   "metadata": {},
   "source": [
    "### FEATURE ENGINEERING"
   ]
  },
  {
   "cell_type": "markdown",
   "metadata": {},
   "source": [
    "To make a use of sentiment analysis in our data,the first step is to turn a Text in to a Data Frame.To do that there are several techniques that are commonly practiced in NLP data preparation.In this case i have applied the Term Frequency - Inverse Document Frequency(TF-IDF) sparse matrix technique to create the data frame using Vectorization method from Sklearn library.Lets move along and see what it looks like in practicality."
   ]
  },
  {
   "cell_type": "code",
   "execution_count": 23,
   "metadata": {},
   "outputs": [
    {
     "data": {
      "text/html": [
       "<div>\n",
       "<style scoped>\n",
       "    .dataframe tbody tr th:only-of-type {\n",
       "        vertical-align: middle;\n",
       "    }\n",
       "\n",
       "    .dataframe tbody tr th {\n",
       "        vertical-align: top;\n",
       "    }\n",
       "\n",
       "    .dataframe thead th {\n",
       "        text-align: right;\n",
       "    }\n",
       "</style>\n",
       "<table border=\"1\" class=\"dataframe\">\n",
       "  <thead>\n",
       "    <tr style=\"text-align: right;\">\n",
       "      <th></th>\n",
       "      <th>text</th>\n",
       "    </tr>\n",
       "  </thead>\n",
       "  <tbody>\n",
       "    <tr>\n",
       "      <th>0</th>\n",
       "      <td>Synopsis: On the daily trek from Juarez, Mexic...</td>\n",
       "    </tr>\n",
       "    <tr>\n",
       "      <th>1</th>\n",
       "      <td>The scenes in this film can be very disquietin...</td>\n",
       "    </tr>\n",
       "    <tr>\n",
       "      <th>2</th>\n",
       "      <td>The murders in Juarez are real. This movie is ...</td>\n",
       "    </tr>\n",
       "    <tr>\n",
       "      <th>3</th>\n",
       "      <td>Wow! When I saw this show on PBS--that was it,...</td>\n",
       "    </tr>\n",
       "    <tr>\n",
       "      <th>4</th>\n",
       "      <td>The performance of Little Anthony and the Impe...</td>\n",
       "    </tr>\n",
       "  </tbody>\n",
       "</table>\n",
       "</div>"
      ],
      "text/plain": [
       "                                                text\n",
       "0  Synopsis: On the daily trek from Juarez, Mexic...\n",
       "1  The scenes in this film can be very disquietin...\n",
       "2  The murders in Juarez are real. This movie is ...\n",
       "3  Wow! When I saw this show on PBS--that was it,...\n",
       "4  The performance of Little Anthony and the Impe..."
      ]
     },
     "execution_count": 23,
     "metadata": {},
     "output_type": "execute_result"
    }
   ],
   "source": [
    "reviews_data = pd.DataFrame(movies_df['text'])\n",
    "reviews_data.head()"
   ]
  },
  {
   "cell_type": "code",
   "execution_count": 24,
   "metadata": {},
   "outputs": [],
   "source": [
    "#Lets label the two Id and the time variables for converting the categorical variables in to numerical\n",
    "labeled_df = pd.DataFrame()\n",
    "for col in ['userId', 'productId', 'time']:\n",
    "    labeled_df[col] = pd.Series(pd.factorize(movies_df[col])[0])"
   ]
  },
  {
   "cell_type": "code",
   "execution_count": 25,
   "metadata": {},
   "outputs": [
    {
     "data": {
      "text/plain": [
       "(1491, 3)"
      ]
     },
     "execution_count": 25,
     "metadata": {},
     "output_type": "execute_result"
    }
   ],
   "source": [
    "labeled_df.shape"
   ]
  },
  {
   "cell_type": "markdown",
   "metadata": {},
   "source": [
    "Mean-shift is non-flat geometry clustering algorism, there evaluating the algorism using silhouette score may not give us that great result as per the theory.K-means is a robust flat geometry clustering algorism.And applying the Silhouette score evaluation metric gives an efficient result."
   ]
  },
  {
   "cell_type": "code",
   "execution_count": 26,
   "metadata": {},
   "outputs": [
    {
     "name": "stdout",
     "output_type": "stream",
     "text": [
      "synopsis on the daily trek from Juarez Mexico to El Paso Texas an ever increase number of female worker be find rape and murder in the surround desert investigative reporter Karina Danes Minnie Driver arrive from Los Angeles to pursue the story and anger both the local police and the factory owner who employee the undocumented alien with -PRON- pointed question and relentless quest for the truth -PRON- story go nationwide when a young girl name Mariela Ana Claudia Talancon survive a vicious attack and walk out of the desert credit the Blessed Virgin for -PRON- rescue -PRON- story be further enhance when the Wounds of Christ stigmata appear in -PRON- palm -PRON- also claim to have receive a message of hope for the Virgin Mary and soon a fanatical movement form around -PRON- to fight against the evil that hold such a stranglehold on the area Critique possess a lifelong fascination with such esoteric matter as catholic mysticism miracle and the mysterious appearance of the stigmata -PRON- be immediately attract to the 05 dvd release ` Virgin of Juarez the film offer a rather unique storyline blend current socio political concern the constant flow of mexican migrant worker back and forth across the u.s./mexican border and the traditional catholic belief of the hispanic population -PRON- must say -PRON- be quite surprised by the unexpected route take by the plot and the mean and method by which the heavenly message unfold `virgin of Juarez be not a film that -PRON- would care to watch over and over again but -PRON- be interesting enough to merit at least one viewing Minnie Driver deliver a solid performance and Ana Claudia Talancon be perfect as the fragile and innocent visionary Mariela also star Esai Morales and Angus Macfadyen Braveheart\n"
     ]
    }
   ],
   "source": [
    "nlp = spacy.load('en_core_web_sm') # I wanted to lemmatize the tokens for a best result.\n",
    "#preparing the reviews to be vectorized for Tfidf model\n",
    "review_array = []\n",
    "for review in reviews_data['text']:\n",
    "    review = re.sub(r'--',' ',review)\n",
    "    review = re.sub(r\"[\\[/].*?[\\]]\", \"\", review)\n",
    "    review = re.sub(r'<.*?>', \"\", review)\n",
    "    review = nlp(review)\n",
    "    lemmas = []\n",
    "    for token in review:\n",
    "        if not token.is_punct:\n",
    "            lemmas.append(token.lemma_)\n",
    "    review_array.append(' '.join(lemmas))\n",
    "    \n",
    "# Lets see one reviews\n",
    "print(review_array[0])"
   ]
  },
  {
   "cell_type": "code",
   "execution_count": 27,
   "metadata": {},
   "outputs": [
    {
     "name": "stdout",
     "output_type": "stream",
     "text": [
      "Number of features: 526\n"
     ]
    }
   ],
   "source": [
    "from sklearn.feature_extraction.text import TfidfVectorizer\n",
    "\n",
    "vectorizer = TfidfVectorizer(max_df=0.5, # drop words that occur in more than half the paragraphs\n",
    "                             min_df=30, # only use words that appear at least 50 times\n",
    "                             stop_words='english', \n",
    "                             lowercase=True, #convert everything to lower case\n",
    "                             use_idf=True,#we definitely want to use inverse document frequencies in our weighting\n",
    "                             smooth_idf=True #Adds 1 to all document frequencies, as if an extra document existed that used every word once.  Prevents divide-by-zero errors\n",
    "                            )\n",
    "\n",
    "\n",
    "#Applying the vectorizer\n",
    "data_norm_tfidf=vectorizer.fit_transform(review_array)\n",
    "print(\"Number of features: %d\" % data_norm_tfidf.get_shape()[1])\n"
   ]
  },
  {
   "cell_type": "markdown",
   "metadata": {},
   "source": [
    "It is interesting to see that there are 423 features engineered from the 'text' column.It is too many features it could have been even close to 10000 had i not tunned 'the min_df' attribute in the Tfidfvectorizer function to a large number which is 30,nevertheless highly majority of the features are expected to have from extremely small to almost no effect on the variance explained by the over all features. "
   ]
  },
  {
   "cell_type": "code",
   "execution_count": 28,
   "metadata": {},
   "outputs": [
    {
     "name": "stdout",
     "output_type": "stream",
     "text": [
      "Percent variance captured by all components: 23.279626943594618\n"
     ]
    }
   ],
   "source": [
    "\n",
    "#Our SVD data reducer.  We are going to reduce the feature space from 1379 to 130.\n",
    "svd= TruncatedSVD(30)\n",
    "lsa = make_pipeline(svd, Normalizer(copy=False))\n",
    "# Run SVD on the training data, then project the training data.\n",
    "text_lsa = lsa.fit_transform(data_norm_tfidf)\n",
    "variance_explained=svd.explained_variance_ratio_\n",
    "total_variance = variance_explained.sum()\n",
    "print(\"Percent variance captured by all components:\",total_variance*100)"
   ]
  },
  {
   "cell_type": "markdown",
   "metadata": {},
   "source": [
    "Selecting the number of components is very important in addressing the issue of overfitting or underfitting.And applying the trade off of increasing the variance under the constraint of combatting overfitting,meaning including too many components will result in overfitting.For this problem i have tried hypertunning the values and came out with 30 components."
   ]
  },
  {
   "cell_type": "code",
   "execution_count": 29,
   "metadata": {},
   "outputs": [
    {
     "data": {
      "text/html": [
       "<div>\n",
       "<style scoped>\n",
       "    .dataframe tbody tr th:only-of-type {\n",
       "        vertical-align: middle;\n",
       "    }\n",
       "\n",
       "    .dataframe tbody tr th {\n",
       "        vertical-align: top;\n",
       "    }\n",
       "\n",
       "    .dataframe thead th {\n",
       "        text-align: right;\n",
       "    }\n",
       "</style>\n",
       "<table border=\"1\" class=\"dataframe\">\n",
       "  <thead>\n",
       "    <tr style=\"text-align: right;\">\n",
       "      <th></th>\n",
       "      <th>0</th>\n",
       "      <th>1</th>\n",
       "      <th>2</th>\n",
       "      <th>3</th>\n",
       "      <th>4</th>\n",
       "      <th>5</th>\n",
       "      <th>6</th>\n",
       "      <th>7</th>\n",
       "      <th>8</th>\n",
       "      <th>9</th>\n",
       "      <th>...</th>\n",
       "      <th>20</th>\n",
       "      <th>21</th>\n",
       "      <th>22</th>\n",
       "      <th>23</th>\n",
       "      <th>24</th>\n",
       "      <th>25</th>\n",
       "      <th>26</th>\n",
       "      <th>27</th>\n",
       "      <th>28</th>\n",
       "      <th>29</th>\n",
       "    </tr>\n",
       "  </thead>\n",
       "  <tbody>\n",
       "    <tr>\n",
       "      <th>0</th>\n",
       "      <td>0.640952</td>\n",
       "      <td>0.110124</td>\n",
       "      <td>-0.127441</td>\n",
       "      <td>0.140505</td>\n",
       "      <td>0.077773</td>\n",
       "      <td>-0.023655</td>\n",
       "      <td>-0.250505</td>\n",
       "      <td>-0.100102</td>\n",
       "      <td>0.026284</td>\n",
       "      <td>-0.096874</td>\n",
       "      <td>...</td>\n",
       "      <td>0.125798</td>\n",
       "      <td>0.158688</td>\n",
       "      <td>-0.013128</td>\n",
       "      <td>0.051132</td>\n",
       "      <td>0.030883</td>\n",
       "      <td>0.021870</td>\n",
       "      <td>0.189471</td>\n",
       "      <td>-0.077233</td>\n",
       "      <td>-0.028081</td>\n",
       "      <td>0.076850</td>\n",
       "    </tr>\n",
       "    <tr>\n",
       "      <th>1</th>\n",
       "      <td>0.573298</td>\n",
       "      <td>0.186219</td>\n",
       "      <td>-0.222584</td>\n",
       "      <td>-0.146214</td>\n",
       "      <td>-0.105971</td>\n",
       "      <td>0.000813</td>\n",
       "      <td>-0.353408</td>\n",
       "      <td>-0.071083</td>\n",
       "      <td>-0.116116</td>\n",
       "      <td>-0.126829</td>\n",
       "      <td>...</td>\n",
       "      <td>0.119881</td>\n",
       "      <td>-0.046233</td>\n",
       "      <td>-0.160605</td>\n",
       "      <td>-0.211971</td>\n",
       "      <td>0.194669</td>\n",
       "      <td>-0.024114</td>\n",
       "      <td>-0.084678</td>\n",
       "      <td>-0.188617</td>\n",
       "      <td>0.049897</td>\n",
       "      <td>-0.018741</td>\n",
       "    </tr>\n",
       "    <tr>\n",
       "      <th>2</th>\n",
       "      <td>0.428850</td>\n",
       "      <td>0.003313</td>\n",
       "      <td>-0.095338</td>\n",
       "      <td>-0.182229</td>\n",
       "      <td>-0.122655</td>\n",
       "      <td>-0.165653</td>\n",
       "      <td>0.171971</td>\n",
       "      <td>0.324240</td>\n",
       "      <td>-0.247324</td>\n",
       "      <td>-0.373749</td>\n",
       "      <td>...</td>\n",
       "      <td>-0.015580</td>\n",
       "      <td>-0.056439</td>\n",
       "      <td>0.166380</td>\n",
       "      <td>0.075453</td>\n",
       "      <td>0.114867</td>\n",
       "      <td>0.112017</td>\n",
       "      <td>-0.046709</td>\n",
       "      <td>-0.140640</td>\n",
       "      <td>0.231556</td>\n",
       "      <td>-0.053312</td>\n",
       "    </tr>\n",
       "    <tr>\n",
       "      <th>3</th>\n",
       "      <td>0.365456</td>\n",
       "      <td>-0.193082</td>\n",
       "      <td>0.138284</td>\n",
       "      <td>-0.099872</td>\n",
       "      <td>0.184541</td>\n",
       "      <td>0.108156</td>\n",
       "      <td>-0.236139</td>\n",
       "      <td>-0.096464</td>\n",
       "      <td>-0.188674</td>\n",
       "      <td>-0.187514</td>\n",
       "      <td>...</td>\n",
       "      <td>0.021463</td>\n",
       "      <td>0.162173</td>\n",
       "      <td>0.251417</td>\n",
       "      <td>-0.154769</td>\n",
       "      <td>0.238041</td>\n",
       "      <td>0.311940</td>\n",
       "      <td>-0.196040</td>\n",
       "      <td>-0.171644</td>\n",
       "      <td>-0.250261</td>\n",
       "      <td>0.222053</td>\n",
       "    </tr>\n",
       "    <tr>\n",
       "      <th>4</th>\n",
       "      <td>0.240683</td>\n",
       "      <td>0.491357</td>\n",
       "      <td>0.708950</td>\n",
       "      <td>-0.143806</td>\n",
       "      <td>-0.035266</td>\n",
       "      <td>-0.010152</td>\n",
       "      <td>0.056789</td>\n",
       "      <td>0.031770</td>\n",
       "      <td>-0.032185</td>\n",
       "      <td>-0.043708</td>\n",
       "      <td>...</td>\n",
       "      <td>-0.120207</td>\n",
       "      <td>0.016493</td>\n",
       "      <td>0.101474</td>\n",
       "      <td>-0.021347</td>\n",
       "      <td>0.070874</td>\n",
       "      <td>-0.086446</td>\n",
       "      <td>-0.162433</td>\n",
       "      <td>-0.128016</td>\n",
       "      <td>-0.017535</td>\n",
       "      <td>0.167634</td>\n",
       "    </tr>\n",
       "  </tbody>\n",
       "</table>\n",
       "<p>5 rows × 30 columns</p>\n",
       "</div>"
      ],
      "text/plain": [
       "         0         1         2         3         4         5         6   \\\n",
       "0  0.640952  0.110124 -0.127441  0.140505  0.077773 -0.023655 -0.250505   \n",
       "1  0.573298  0.186219 -0.222584 -0.146214 -0.105971  0.000813 -0.353408   \n",
       "2  0.428850  0.003313 -0.095338 -0.182229 -0.122655 -0.165653  0.171971   \n",
       "3  0.365456 -0.193082  0.138284 -0.099872  0.184541  0.108156 -0.236139   \n",
       "4  0.240683  0.491357  0.708950 -0.143806 -0.035266 -0.010152  0.056789   \n",
       "\n",
       "         7         8         9   ...        20        21        22        23  \\\n",
       "0 -0.100102  0.026284 -0.096874  ...  0.125798  0.158688 -0.013128  0.051132   \n",
       "1 -0.071083 -0.116116 -0.126829  ...  0.119881 -0.046233 -0.160605 -0.211971   \n",
       "2  0.324240 -0.247324 -0.373749  ... -0.015580 -0.056439  0.166380  0.075453   \n",
       "3 -0.096464 -0.188674 -0.187514  ...  0.021463  0.162173  0.251417 -0.154769   \n",
       "4  0.031770 -0.032185 -0.043708  ... -0.120207  0.016493  0.101474 -0.021347   \n",
       "\n",
       "         24        25        26        27        28        29  \n",
       "0  0.030883  0.021870  0.189471 -0.077233 -0.028081  0.076850  \n",
       "1  0.194669 -0.024114 -0.084678 -0.188617  0.049897 -0.018741  \n",
       "2  0.114867  0.112017 -0.046709 -0.140640  0.231556 -0.053312  \n",
       "3  0.238041  0.311940 -0.196040 -0.171644 -0.250261  0.222053  \n",
       "4  0.070874 -0.086446 -0.162433 -0.128016 -0.017535  0.167634  \n",
       "\n",
       "[5 rows x 30 columns]"
      ]
     },
     "execution_count": 29,
     "metadata": {},
     "output_type": "execute_result"
    }
   ],
   "source": [
    "text_data = pd.DataFrame(text_lsa)\n",
    "text_data.head()"
   ]
  },
  {
   "cell_type": "code",
   "execution_count": 30,
   "metadata": {},
   "outputs": [],
   "source": [
    "combined_data = pd.concat([labeled_df, text_data], axis = 1)\n",
    "combined_data = pd.concat([combined_data, movies_df['score']], axis = 1)"
   ]
  },
  {
   "cell_type": "code",
   "execution_count": 31,
   "metadata": {},
   "outputs": [
    {
     "data": {
      "text/html": [
       "<div>\n",
       "<style scoped>\n",
       "    .dataframe tbody tr th:only-of-type {\n",
       "        vertical-align: middle;\n",
       "    }\n",
       "\n",
       "    .dataframe tbody tr th {\n",
       "        vertical-align: top;\n",
       "    }\n",
       "\n",
       "    .dataframe thead th {\n",
       "        text-align: right;\n",
       "    }\n",
       "</style>\n",
       "<table border=\"1\" class=\"dataframe\">\n",
       "  <thead>\n",
       "    <tr style=\"text-align: right;\">\n",
       "      <th></th>\n",
       "      <th>userId</th>\n",
       "      <th>productId</th>\n",
       "      <th>time</th>\n",
       "      <th>0</th>\n",
       "      <th>1</th>\n",
       "      <th>2</th>\n",
       "      <th>3</th>\n",
       "      <th>4</th>\n",
       "      <th>5</th>\n",
       "      <th>6</th>\n",
       "      <th>...</th>\n",
       "      <th>21</th>\n",
       "      <th>22</th>\n",
       "      <th>23</th>\n",
       "      <th>24</th>\n",
       "      <th>25</th>\n",
       "      <th>26</th>\n",
       "      <th>27</th>\n",
       "      <th>28</th>\n",
       "      <th>29</th>\n",
       "      <th>score</th>\n",
       "    </tr>\n",
       "  </thead>\n",
       "  <tbody>\n",
       "    <tr>\n",
       "      <th>0</th>\n",
       "      <td>0</td>\n",
       "      <td>0</td>\n",
       "      <td>0</td>\n",
       "      <td>0.640952</td>\n",
       "      <td>0.110124</td>\n",
       "      <td>-0.127441</td>\n",
       "      <td>0.140505</td>\n",
       "      <td>0.077773</td>\n",
       "      <td>-0.023655</td>\n",
       "      <td>-0.250505</td>\n",
       "      <td>...</td>\n",
       "      <td>0.158688</td>\n",
       "      <td>-0.013128</td>\n",
       "      <td>0.051132</td>\n",
       "      <td>0.030883</td>\n",
       "      <td>0.021870</td>\n",
       "      <td>0.189471</td>\n",
       "      <td>-0.077233</td>\n",
       "      <td>-0.028081</td>\n",
       "      <td>0.076850</td>\n",
       "      <td>3.0</td>\n",
       "    </tr>\n",
       "    <tr>\n",
       "      <th>1</th>\n",
       "      <td>1</td>\n",
       "      <td>0</td>\n",
       "      <td>1</td>\n",
       "      <td>0.573298</td>\n",
       "      <td>0.186219</td>\n",
       "      <td>-0.222584</td>\n",
       "      <td>-0.146214</td>\n",
       "      <td>-0.105971</td>\n",
       "      <td>0.000813</td>\n",
       "      <td>-0.353408</td>\n",
       "      <td>...</td>\n",
       "      <td>-0.046233</td>\n",
       "      <td>-0.160605</td>\n",
       "      <td>-0.211971</td>\n",
       "      <td>0.194669</td>\n",
       "      <td>-0.024114</td>\n",
       "      <td>-0.084678</td>\n",
       "      <td>-0.188617</td>\n",
       "      <td>0.049897</td>\n",
       "      <td>-0.018741</td>\n",
       "      <td>5.0</td>\n",
       "    </tr>\n",
       "    <tr>\n",
       "      <th>2</th>\n",
       "      <td>2</td>\n",
       "      <td>0</td>\n",
       "      <td>2</td>\n",
       "      <td>0.428850</td>\n",
       "      <td>0.003313</td>\n",
       "      <td>-0.095338</td>\n",
       "      <td>-0.182229</td>\n",
       "      <td>-0.122655</td>\n",
       "      <td>-0.165653</td>\n",
       "      <td>0.171971</td>\n",
       "      <td>...</td>\n",
       "      <td>-0.056439</td>\n",
       "      <td>0.166380</td>\n",
       "      <td>0.075453</td>\n",
       "      <td>0.114867</td>\n",
       "      <td>0.112017</td>\n",
       "      <td>-0.046709</td>\n",
       "      <td>-0.140640</td>\n",
       "      <td>0.231556</td>\n",
       "      <td>-0.053312</td>\n",
       "      <td>2.0</td>\n",
       "    </tr>\n",
       "    <tr>\n",
       "      <th>3</th>\n",
       "      <td>3</td>\n",
       "      <td>1</td>\n",
       "      <td>3</td>\n",
       "      <td>0.365456</td>\n",
       "      <td>-0.193082</td>\n",
       "      <td>0.138284</td>\n",
       "      <td>-0.099872</td>\n",
       "      <td>0.184541</td>\n",
       "      <td>0.108156</td>\n",
       "      <td>-0.236139</td>\n",
       "      <td>...</td>\n",
       "      <td>0.162173</td>\n",
       "      <td>0.251417</td>\n",
       "      <td>-0.154769</td>\n",
       "      <td>0.238041</td>\n",
       "      <td>0.311940</td>\n",
       "      <td>-0.196040</td>\n",
       "      <td>-0.171644</td>\n",
       "      <td>-0.250261</td>\n",
       "      <td>0.222053</td>\n",
       "      <td>5.0</td>\n",
       "    </tr>\n",
       "    <tr>\n",
       "      <th>4</th>\n",
       "      <td>4</td>\n",
       "      <td>1</td>\n",
       "      <td>4</td>\n",
       "      <td>0.240683</td>\n",
       "      <td>0.491357</td>\n",
       "      <td>0.708950</td>\n",
       "      <td>-0.143806</td>\n",
       "      <td>-0.035266</td>\n",
       "      <td>-0.010152</td>\n",
       "      <td>0.056789</td>\n",
       "      <td>...</td>\n",
       "      <td>0.016493</td>\n",
       "      <td>0.101474</td>\n",
       "      <td>-0.021347</td>\n",
       "      <td>0.070874</td>\n",
       "      <td>-0.086446</td>\n",
       "      <td>-0.162433</td>\n",
       "      <td>-0.128016</td>\n",
       "      <td>-0.017535</td>\n",
       "      <td>0.167634</td>\n",
       "      <td>4.0</td>\n",
       "    </tr>\n",
       "  </tbody>\n",
       "</table>\n",
       "<p>5 rows × 34 columns</p>\n",
       "</div>"
      ],
      "text/plain": [
       "   userId  productId  time         0         1         2         3         4  \\\n",
       "0       0          0     0  0.640952  0.110124 -0.127441  0.140505  0.077773   \n",
       "1       1          0     1  0.573298  0.186219 -0.222584 -0.146214 -0.105971   \n",
       "2       2          0     2  0.428850  0.003313 -0.095338 -0.182229 -0.122655   \n",
       "3       3          1     3  0.365456 -0.193082  0.138284 -0.099872  0.184541   \n",
       "4       4          1     4  0.240683  0.491357  0.708950 -0.143806 -0.035266   \n",
       "\n",
       "          5         6  ...        21        22        23        24        25  \\\n",
       "0 -0.023655 -0.250505  ...  0.158688 -0.013128  0.051132  0.030883  0.021870   \n",
       "1  0.000813 -0.353408  ... -0.046233 -0.160605 -0.211971  0.194669 -0.024114   \n",
       "2 -0.165653  0.171971  ... -0.056439  0.166380  0.075453  0.114867  0.112017   \n",
       "3  0.108156 -0.236139  ...  0.162173  0.251417 -0.154769  0.238041  0.311940   \n",
       "4 -0.010152  0.056789  ...  0.016493  0.101474 -0.021347  0.070874 -0.086446   \n",
       "\n",
       "         26        27        28        29  score  \n",
       "0  0.189471 -0.077233 -0.028081  0.076850    3.0  \n",
       "1 -0.084678 -0.188617  0.049897 -0.018741    5.0  \n",
       "2 -0.046709 -0.140640  0.231556 -0.053312    2.0  \n",
       "3 -0.196040 -0.171644 -0.250261  0.222053    5.0  \n",
       "4 -0.162433 -0.128016 -0.017535  0.167634    4.0  \n",
       "\n",
       "[5 rows x 34 columns]"
      ]
     },
     "execution_count": 31,
     "metadata": {},
     "output_type": "execute_result"
    }
   ],
   "source": [
    "combined_data.head()"
   ]
  },
  {
   "cell_type": "markdown",
   "metadata": {},
   "source": [
    "### MODELING"
   ]
  },
  {
   "cell_type": "code",
   "execution_count": 32,
   "metadata": {},
   "outputs": [],
   "source": [
    "scaler = Normalizer()\n",
    "data_scaled = scaler.fit_transform(combined_data)"
   ]
  },
  {
   "cell_type": "markdown",
   "metadata": {},
   "source": [
    "### K-Means"
   ]
  },
  {
   "cell_type": "markdown",
   "metadata": {},
   "source": [
    "Now it is time to cluster our data using one of the most popular clustering algorisms the K-means clustering algorism.Before moving directly to that how ever lets apply the elbow method to find the number of clusters that produces the most optimum clusters. "
   ]
  },
  {
   "cell_type": "code",
   "execution_count": 33,
   "metadata": {},
   "outputs": [
    {
     "data": {
      "image/png": "[encoded data removed]",
      "text/plain": [
       "<Figure size 864x432 with 1 Axes>"
      ]
     },
     "metadata": {
      "needs_background": "light"
     },
     "output_type": "display_data"
    }
   ],
   "source": [
    "# fitting multiple k-means algorithms and storing the values in an empty list\n",
    "SSE = []\n",
    "for cluster in range(1,70):\n",
    "    kmeans = KMeans(n_jobs = -1, n_clusters = cluster)\n",
    "    kmeans.fit(data_scaled)\n",
    "    SSE.append(kmeans.inertia_)\n",
    "\n",
    "# converting the results into a dataframe and plotting them\n",
    "frame = pd.DataFrame({'Cluster':range(1,70), 'SSE':SSE})\n",
    "plt.figure(figsize=(12,6))\n",
    "plt.plot(frame['Cluster'], frame['SSE'], marker='d')\n",
    "plt.title('the SSE(Elbow curve) plot', fontsize = 15)\n",
    "plt.xlabel('Number of clusters')\n",
    "plt.ylabel('Inertia');"
   ]
  },
  {
   "cell_type": "markdown",
   "metadata": {},
   "source": [
    "As we can see from the plot the elbow is around 10.Therefore lets group our data into 10 clusters using k-means clustering."
   ]
  },
  {
   "cell_type": "code",
   "execution_count": 34,
   "metadata": {},
   "outputs": [],
   "source": [
    "kmeans = KMeans(n_clusters = 8, random_state=45)\n",
    "kmeans.fit(data_scaled)\n",
    "pred = kmeans.predict(data_scaled)"
   ]
  },
  {
   "cell_type": "code",
   "execution_count": 35,
   "metadata": {},
   "outputs": [
    {
     "data": {
      "text/plain": [
       "6    657\n",
       "0    331\n",
       "5    171\n",
       "2    111\n",
       "7    101\n",
       "1     84\n",
       "3     30\n",
       "4      6\n",
       "Name: cluster, dtype: int64"
      ]
     },
     "execution_count": 35,
     "metadata": {},
     "output_type": "execute_result"
    }
   ],
   "source": [
    "#K-means clusters with their size\n",
    "frame = pd.DataFrame(data_scaled)\n",
    "frame['cluster'] = pred\n",
    "frame['cluster'].value_counts()"
   ]
  },
  {
   "cell_type": "code",
   "execution_count": 36,
   "metadata": {},
   "outputs": [
    {
     "data": {
      "image/png": "[encoded data removed]",
      "text/plain": [
       "<Figure size 1296x432 with 1 Axes>"
      ]
     },
     "metadata": {
      "needs_background": "light"
     },
     "output_type": "display_data"
    }
   ],
   "source": [
    "\n",
    "fig, ax = plt.subplots(figsize = (18,6))\n",
    "\n",
    "ax.barh(frame['cluster'].value_counts().index, frame['cluster'].value_counts().values, align='center')\n",
    "# ax.set_yticks(frame['cluster'].value_counts().values)\n",
    "# ax.set_yticklabels(frame['cluster'].value_counts().values)\n",
    "ax.invert_yaxis()  # labels read top-to-bottom\n",
    "ax.set_xlabel('Number of elements in a cluster', fontsize = 14)\n",
    "ax.set_ylabel('Cluster labels', fontsize = 14)\n",
    "ax.set_title('Bar Plot of Cluster Labels with their size', fontsize = 16)\n",
    "\n",
    "plt.show()\n",
    "# plt.xbar(frame['cluster'].value_counts().values, frame['cluster'].value_counts().index)"
   ]
  },
  {
   "cell_type": "code",
   "execution_count": 37,
   "metadata": {},
   "outputs": [],
   "source": [
    "cluster_labeled_data = pd.concat([movies_df[['userId', 'productId', 'score', 'time']],frame['cluster']], axis = 1)"
   ]
  },
  {
   "cell_type": "code",
   "execution_count": 38,
   "metadata": {},
   "outputs": [
    {
     "data": {
      "text/html": [
       "<div>\n",
       "<style scoped>\n",
       "    .dataframe tbody tr th:only-of-type {\n",
       "        vertical-align: middle;\n",
       "    }\n",
       "\n",
       "    .dataframe tbody tr th {\n",
       "        vertical-align: top;\n",
       "    }\n",
       "\n",
       "    .dataframe thead th {\n",
       "        text-align: right;\n",
       "    }\n",
       "</style>\n",
       "<table border=\"1\" class=\"dataframe\">\n",
       "  <thead>\n",
       "    <tr style=\"text-align: right;\">\n",
       "      <th></th>\n",
       "      <th>userId</th>\n",
       "      <th>productId</th>\n",
       "      <th>score</th>\n",
       "      <th>time</th>\n",
       "      <th>cluster</th>\n",
       "    </tr>\n",
       "  </thead>\n",
       "  <tbody>\n",
       "    <tr>\n",
       "      <th>0</th>\n",
       "      <td>A141HP4LYPWMSR</td>\n",
       "      <td>B003AI2VGA</td>\n",
       "      <td>3.0</td>\n",
       "      <td>1182729600</td>\n",
       "      <td>4</td>\n",
       "    </tr>\n",
       "    <tr>\n",
       "      <th>1</th>\n",
       "      <td>A1I7QGUDP043DG</td>\n",
       "      <td>B003AI2VGA</td>\n",
       "      <td>5.0</td>\n",
       "      <td>1164844800</td>\n",
       "      <td>4</td>\n",
       "    </tr>\n",
       "    <tr>\n",
       "      <th>2</th>\n",
       "      <td>A3QYDL5CDNYN66</td>\n",
       "      <td>B003AI2VGA</td>\n",
       "      <td>2.0</td>\n",
       "      <td>1229040000</td>\n",
       "      <td>4</td>\n",
       "    </tr>\n",
       "    <tr>\n",
       "      <th>3</th>\n",
       "      <td>A2P7UB02HAVEPB</td>\n",
       "      <td>B00006HAXW</td>\n",
       "      <td>5.0</td>\n",
       "      <td>1061164800</td>\n",
       "      <td>4</td>\n",
       "    </tr>\n",
       "    <tr>\n",
       "      <th>4</th>\n",
       "      <td>A1OUBOGB5970AO</td>\n",
       "      <td>B00006HAXW</td>\n",
       "      <td>4.0</td>\n",
       "      <td>1049846400</td>\n",
       "      <td>4</td>\n",
       "    </tr>\n",
       "  </tbody>\n",
       "</table>\n",
       "</div>"
      ],
      "text/plain": [
       "           userId   productId  score        time  cluster\n",
       "0  A141HP4LYPWMSR  B003AI2VGA    3.0  1182729600        4\n",
       "1  A1I7QGUDP043DG  B003AI2VGA    5.0  1164844800        4\n",
       "2  A3QYDL5CDNYN66  B003AI2VGA    2.0  1229040000        4\n",
       "3  A2P7UB02HAVEPB  B00006HAXW    5.0  1061164800        4\n",
       "4  A1OUBOGB5970AO  B00006HAXW    4.0  1049846400        4"
      ]
     },
     "execution_count": 38,
     "metadata": {},
     "output_type": "execute_result"
    }
   ],
   "source": [
    "cluster_labeled_data.head()"
   ]
  },
  {
   "cell_type": "markdown",
   "metadata": {},
   "source": [
    "applying k-means does seem to give a good result,Because it did plot a sounding (SSE)elbow shape which is an indication that k-means is doing a good job in finding the clusters.I have expected a large number of clusters for this dataset.The reason is that the sample dataset generated from the large population of movies and viewers from Amazon movies have biasness and this is believed to be a reason for the difference in size for the clusters been generated.Therefore so far, K-means algorism has done tremendous job in creating the recommendation clusters.Lets further strengthen the our findings by applying Silhouette evaluation metric to the k-means clustering to determine its performance."
   ]
  },
  {
   "cell_type": "markdown",
   "metadata": {},
   "source": [
    "#### Evaluating K-Means"
   ]
  },
  {
   "cell_type": "code",
   "execution_count": 39,
   "metadata": {},
   "outputs": [],
   "source": [
    "# Split the data into four equally-sized samples. First we break it in half:\n",
    "X_half1, X_half2 = train_test_split(\n",
    "    data_scaled,\n",
    "    test_size=0.5,\n",
    "    random_state=45)\n",
    "\n",
    "# Then we halve the halves.\n",
    "X1, X2 = train_test_split(\n",
    "    X_half1,\n",
    "    test_size=0.5,\n",
    "    random_state=45)\n",
    "X3, X4 = train_test_split(\n",
    "    X_half2,\n",
    "    test_size=0.5,\n",
    "    random_state=45)"
   ]
  },
  {
   "cell_type": "code",
   "execution_count": 40,
   "metadata": {},
   "outputs": [
    {
     "name": "stdout",
     "output_type": "stream",
     "text": [
      "0.5152072103315463\n",
      "0.514167639519058\n",
      "0.4664260337161746\n",
      "0.5003337014042711\n"
     ]
    }
   ],
   "source": [
    "from sklearn import metrics\n",
    "from sklearn.metrics import pairwise_distances\n",
    "\n",
    "for sample in [X1, X2, X3, X4]:\n",
    "    model = KMeans(n_clusters=29, random_state=25).fit(sample)\n",
    "    labels = model.labels_\n",
    "    print(metrics.silhouette_score(sample, labels, metric='euclidean'))"
   ]
  },
  {
   "cell_type": "markdown",
   "metadata": {},
   "source": [
    "The Silhouette Coefficient values are consistent throughout the samples which is an indication that we have applied the optimum number of clusters for the analysis.The resulting silhouette coefficient values indicate that the clustering algorism used doing good job in clustering the data points.Although K-means performance is good considering the agliness of our dataset, Considering using other techniques is vital part of analysis process.This leads me to try the Affinity propagation clustering algorism to find the grouping for the data points.I had expected there will be many clusters,based on the data analysis process intuition that i developed, and clusters are observed to be uneven insize and also since the size of my data is small this algorism is suited for this situation was my original hypothesis.But first of all lets generate the the cluster assignment along with the text review to access the content of the result of k-means clusters."
   ]
  },
  {
   "cell_type": "markdown",
   "metadata": {},
   "source": [
    "#### Accessing cluster contents"
   ]
  },
  {
   "cell_type": "markdown",
   "metadata": {},
   "source": [
    "Lets see now for example what was said about the movies in cluster number 3 by each reviewer assigned to that cluster.And try to identify any relationships between the nature of the movies that make sense to group them together based on all the features."
   ]
  },
  {
   "cell_type": "code",
   "execution_count": 55,
   "metadata": {},
   "outputs": [],
   "source": [
    "cluster_3 = cluster_labeled_data[cluster_labeled_data['cluster'] == 3]"
   ]
  },
  {
   "cell_type": "code",
   "execution_count": 56,
   "metadata": {},
   "outputs": [
    {
     "data": {
      "text/html": [
       "<div>\n",
       "<style scoped>\n",
       "    .dataframe tbody tr th:only-of-type {\n",
       "        vertical-align: middle;\n",
       "    }\n",
       "\n",
       "    .dataframe tbody tr th {\n",
       "        vertical-align: top;\n",
       "    }\n",
       "\n",
       "    .dataframe thead th {\n",
       "        text-align: right;\n",
       "    }\n",
       "</style>\n",
       "<table border=\"1\" class=\"dataframe\">\n",
       "  <thead>\n",
       "    <tr style=\"text-align: right;\">\n",
       "      <th></th>\n",
       "      <th>userId</th>\n",
       "      <th>productId</th>\n",
       "      <th>score</th>\n",
       "      <th>time</th>\n",
       "      <th>cluster</th>\n",
       "      <th>0</th>\n",
       "    </tr>\n",
       "  </thead>\n",
       "  <tbody>\n",
       "    <tr>\n",
       "      <th>125</th>\n",
       "      <td>A141HP4LYPWMSR</td>\n",
       "      <td>6303998690</td>\n",
       "      <td>3.0</td>\n",
       "      <td>1146787200</td>\n",
       "      <td>3</td>\n",
       "      <td>11 out of 12 reviewer now 12 with mine be in agreement attack of the Giant Leeches be all about the very sexy kittenish Yvette Vickers in the role of the town tramp Liz Walker Yvette undoubtedly get the part base on -PRON- recent popularity as the July 59 playmate of the Month and all the male out there who be in -PRON- adolescence back in the late fifty certainly appreciate -PRON- inclusion in the film -PRON- certainly make -PRON- watchable for -PRON- make no mistake -PRON- be watch this movie for one reason and one reason only thank for the memory Miss Vickers!Note Can -PRON- believe -PRON- one reviewer actually prefer the leech over Yvette now that be scary</td>\n",
       "    </tr>\n",
       "    <tr>\n",
       "      <th>242</th>\n",
       "      <td>ABO2ZI2Y5DQ9T</td>\n",
       "      <td>B00005JYAY</td>\n",
       "      <td>5.0</td>\n",
       "      <td>1014422400</td>\n",
       "      <td>3</td>\n",
       "      <td>whatever cynical people say -PRON- be the good movie about the complicated relationship between man and woman which fascinate -PRON- forever   Though Meg Ryan prove that -PRON- be a gifted actress who could play tough role in when a man love a woman or courage under fire -PRON- be always Sally to -PRON- Sally whose hilarious fake orgasm be eternally fix in mind of the audience of the whole world   have not -PRON- see that   -PRON- be a shame if -PRON- do not because -PRON- be so hilarious and make all the man think about -PRON- love   and Billy Crystal   though the script be write by Nora Ephron -PRON- can find -PRON- trademark joke all over the film   see how -PRON- sing a song from musical Oklahoma in front of a karaoke machine see how Harry teach Sally   pronouce peeeeeeeacan with -PRON- dead serious face   simply irresistible moment -PRON- assure -PRON- but the most unforgettable thing about the film be -PRON- funny clever and most of all natural script by Nora Ephron   surpris...</td>\n",
       "    </tr>\n",
       "    <tr>\n",
       "      <th>321</th>\n",
       "      <td>AYWSFRCIMOAYE</td>\n",
       "      <td>B00004ST9P</td>\n",
       "      <td>5.0</td>\n",
       "      <td>1154131200</td>\n",
       "      <td>3</td>\n",
       "      <td>the picture be attractive and gorgeous the dancing be exciting -PRON- make -PRON- dance while watch this dvd the sound be good all of Whitney 's song -PRON- love be here from the lovely and romantic save all -PRON- love for -PRON- to the upbeat and engage how will -PRON- know\" -PRON- love -PRON- so much that -PRON- buy a copy from the local music store right after rent -PRON- the good thing about this disc be -PRON- can turn on the LYRICS this enable -PRON- to sing ALONG.I have be singe with -PRON- since then -PRON- wish all the music dvd allow -PRON- to toggle on the lyric -PRON- be definitely worth buying</td>\n",
       "    </tr>\n",
       "    <tr>\n",
       "      <th>401</th>\n",
       "      <td>AYWSFRCIMOAYE</td>\n",
       "      <td>B003EYVXT6</td>\n",
       "      <td>2.0</td>\n",
       "      <td>1290211200</td>\n",
       "      <td>3</td>\n",
       "      <td>the special effect make Dren the hybrid creature   look lively and scary only the first 40 minute be suspenseful after that the movie become insipid and predictable what a waste -PRON- have the potential to become a good science fiction</td>\n",
       "    </tr>\n",
       "    <tr>\n",
       "      <th>467</th>\n",
       "      <td>A1R6DF0KOJ0TG6</td>\n",
       "      <td>B00005TNFY</td>\n",
       "      <td>5.0</td>\n",
       "      <td>1043712000</td>\n",
       "      <td>3</td>\n",
       "      <td>this be an awesome concert because the Bee Gees be so relaxed and spontaneous   -PRON- be even fun listen to the request call in   some of the woman say the same thing -PRON- would have say if -PRON- have be able to view -PRON- live   love those guy also -PRON- perform song that be not in some of -PRON- other record concert   -PRON- highly recommend this dvd</td>\n",
       "    </tr>\n",
       "    <tr>\n",
       "      <th>510</th>\n",
       "      <td>A141HP4LYPWMSR</td>\n",
       "      <td>B000MTEGSG</td>\n",
       "      <td>5.0</td>\n",
       "      <td>1219017600</td>\n",
       "      <td>3</td>\n",
       "      <td>Sydney Penny the enchanting little girl who win the heart of million in the classic 83 television series the Thorn Birds star in the 88 feature film Bernadette the true story of Bernadette Soubirous 1844 1879 the seer who be grace by 18 visitation of a beautiful Lady in White though the film be not available in the U.S.A. until the dvd be recently release -PRON- have be enjoy by million of pilgrim to the catholic shrine in Lourdes France where -PRON- have play daily for the last twenty year i'm admittedly an avid fan of Sydney and so -PRON- comment may not be as objective as -PRON- would like but -PRON- have to say that in -PRON- opinion absolutely no one could have play the role of the little peasant girl better -PRON- angelic face and gentle voice make for the perfect Bernadette this fact be most evident during the visitation sequence when -PRON- fall into ecstatic trance even though the mysterious female visitor from Heaven never appear on screen Sydney 's expressive face and su...</td>\n",
       "    </tr>\n",
       "  </tbody>\n",
       "</table>\n",
       "</div>"
      ],
      "text/plain": [
       "             userId   productId  score        time  cluster  \\\n",
       "125  A141HP4LYPWMSR  6303998690    3.0  1146787200        3   \n",
       "242   ABO2ZI2Y5DQ9T  B00005JYAY    5.0  1014422400        3   \n",
       "321   AYWSFRCIMOAYE  B00004ST9P    5.0  1154131200        3   \n",
       "401   AYWSFRCIMOAYE  B003EYVXT6    2.0  1290211200        3   \n",
       "467  A1R6DF0KOJ0TG6  B00005TNFY    5.0  1043712000        3   \n",
       "510  A141HP4LYPWMSR  B000MTEGSG    5.0  1219017600        3   \n",
       "\n",
       "                                                                                                                                                                                                                                                                                                                                                                                                                                                                                                                                                                                                                                                                                                                                                                                                                                                                                                                                                                                                                                           0  \n",
       "125                                                                                                                                                                                                                                                                                                                                             11 out of 12 reviewer now 12 with mine be in agreement attack of the Giant Leeches be all about the very sexy kittenish Yvette Vickers in the role of the town tramp Liz Walker Yvette undoubtedly get the part base on -PRON- recent popularity as the July 59 playmate of the Month and all the male out there who be in -PRON- adolescence back in the late fifty certainly appreciate -PRON- inclusion in the film -PRON- certainly make -PRON- watchable for -PRON- make no mistake -PRON- be watch this movie for one reason and one reason only thank for the memory Miss Vickers!Note Can -PRON- believe -PRON- one reviewer actually prefer the leech over Yvette now that be scary  \n",
       "242  whatever cynical people say -PRON- be the good movie about the complicated relationship between man and woman which fascinate -PRON- forever   Though Meg Ryan prove that -PRON- be a gifted actress who could play tough role in when a man love a woman or courage under fire -PRON- be always Sally to -PRON- Sally whose hilarious fake orgasm be eternally fix in mind of the audience of the whole world   have not -PRON- see that   -PRON- be a shame if -PRON- do not because -PRON- be so hilarious and make all the man think about -PRON- love   and Billy Crystal   though the script be write by Nora Ephron -PRON- can find -PRON- trademark joke all over the film   see how -PRON- sing a song from musical Oklahoma in front of a karaoke machine see how Harry teach Sally   pronouce peeeeeeeacan with -PRON- dead serious face   simply irresistible moment -PRON- assure -PRON- but the most unforgettable thing about the film be -PRON- funny clever and most of all natural script by Nora Ephron   surpris...  \n",
       "321                                                                                                                                                                                                                                                                                                                                                                                                   the picture be attractive and gorgeous the dancing be exciting -PRON- make -PRON- dance while watch this dvd the sound be good all of Whitney 's song -PRON- love be here from the lovely and romantic save all -PRON- love for -PRON- to the upbeat and engage how will -PRON- know\" -PRON- love -PRON- so much that -PRON- buy a copy from the local music store right after rent -PRON- the good thing about this disc be -PRON- can turn on the LYRICS this enable -PRON- to sing ALONG.I have be singe with -PRON- since then -PRON- wish all the music dvd allow -PRON- to toggle on the lyric -PRON- be definitely worth buying  \n",
       "401                                                                                                                                                                                                                                                                                                                                                                                                                                                                                                                                                                                                                                                                                                                                                                                             the special effect make Dren the hybrid creature   look lively and scary only the first 40 minute be suspenseful after that the movie become insipid and predictable what a waste -PRON- have the potential to become a good science fiction  \n",
       "467                                                                                                                                                                                                                                                                                                                                                                                                                                                                                                                                                                                                                                                                 this be an awesome concert because the Bee Gees be so relaxed and spontaneous   -PRON- be even fun listen to the request call in   some of the woman say the same thing -PRON- would have say if -PRON- have be able to view -PRON- live   love those guy also -PRON- perform song that be not in some of -PRON- other record concert   -PRON- highly recommend this dvd  \n",
       "510  Sydney Penny the enchanting little girl who win the heart of million in the classic 83 television series the Thorn Birds star in the 88 feature film Bernadette the true story of Bernadette Soubirous 1844 1879 the seer who be grace by 18 visitation of a beautiful Lady in White though the film be not available in the U.S.A. until the dvd be recently release -PRON- have be enjoy by million of pilgrim to the catholic shrine in Lourdes France where -PRON- have play daily for the last twenty year i'm admittedly an avid fan of Sydney and so -PRON- comment may not be as objective as -PRON- would like but -PRON- have to say that in -PRON- opinion absolutely no one could have play the role of the little peasant girl better -PRON- angelic face and gentle voice make for the perfect Bernadette this fact be most evident during the visitation sequence when -PRON- fall into ecstatic trance even though the mysterious female visitor from Heaven never appear on screen Sydney 's expressive face and su...  "
      ]
     },
     "execution_count": 56,
     "metadata": {},
     "output_type": "execute_result"
    }
   ],
   "source": [
    "pd.set_option('display.max_colwidth', 1000)\n",
    "cluster_3 = cluster_3.join(pd.DataFrame(review_array), how = 'left')\n",
    "cluster_3.head(6)"
   ]
  },
  {
   "cell_type": "code",
   "execution_count": 43,
   "metadata": {},
   "outputs": [
    {
     "name": "stdout",
     "output_type": "stream",
     "text": [
      "ABO2ZI2Y5DQ9T     2\n",
      "A2R6RA8FRBS608    2\n",
      "A19ZXK9HHVRV1X    2\n",
      "A141HP4LYPWMSR    2\n",
      "AYWSFRCIMOAYE     2\n",
      "A39CX0EE4BZCZC    2\n",
      "ATQTE464YAZM1     1\n",
      "A2D8CUJPOSRPNA    1\n",
      "A4JP4T1F95D0A     1\n",
      "AJKWF4W7QD4NS     1\n",
      "A2GOTY2STOMEAU    1\n",
      "A3Q1FVRV0CRYTH    1\n",
      "A96K1ZGW56S2I     1\n",
      "AER15RIMV8E6D     1\n",
      "A1TJIJKKN15KR9    1\n",
      "A25ZVI6RH1KA5L    1\n",
      "A3BSS2M2DPPV4T    1\n",
      "A19U5RYULZ0Z72    1\n",
      "A1R6DF0KOJ0TG6    1\n",
      "A35ZK3M8L9JUPX    1\n",
      "A1D2C0WDCSHUWZ    1\n",
      "A9LAPV8XNKZVZ     1\n",
      "A2FEJIORC1MBG3    1\n",
      "A13F2IV3ME23R     1\n",
      "Name: userId, dtype: int64\n"
     ]
    }
   ],
   "source": [
    "#number of unique users in the cluster \n",
    "print(cluster_3['userId'].value_counts())"
   ]
  },
  {
   "cell_type": "markdown",
   "metadata": {},
   "source": [
    "6 users have been repeated more than once inside cluster 3.Elements in the index#321 and index#401 are similar based on similarity in userdId we needed our algorism to group them together and it successfully did.It has applied the same principle and to the 5 remaining users which are repeated in the cluster."
   ]
  },
  {
   "cell_type": "code",
   "execution_count": null,
   "metadata": {},
   "outputs": [],
   "source": []
  },
  {
   "cell_type": "markdown",
   "metadata": {},
   "source": [
    "### Affinity propagation"
   ]
  },
  {
   "cell_type": "markdown",
   "metadata": {},
   "source": [
    "Therefore because of the following reasons the choice to go for grouping the data points for my recommender system using Affinity propagation made sense.\n",
    "* The dataset is biased.\n",
    "* The two important techniques for using k-means proved that k-means is not the way to go,but it would have been if certain criteria such us biasness in data were reduced.\n",
    "* Affinity propagation is a robust algorism when many clusters are suspected,in this case many clusters are expected."
   ]
  },
  {
   "cell_type": "code",
   "execution_count": 44,
   "metadata": {},
   "outputs": [
    {
     "name": "stdout",
     "output_type": "stream",
     "text": [
      "Done\n",
      "Estimated number of clusters: 472\n"
     ]
    }
   ],
   "source": [
    "from sklearn.cluster import AffinityPropagation\n",
    "from sklearn import metrics\n",
    "\n",
    "# Declare the model and fit it in one statement.\n",
    "# Note that you can provide arguments to the model, but we didn't.\n",
    "af = AffinityPropagation().fit(data_scaled)\n",
    "print('Done')\n",
    "\n",
    "# Pull the number of clusters and cluster assignments for each data point.\n",
    "cluster_centers_indices = af.cluster_centers_indices_\n",
    "n_clusters_ = len(cluster_centers_indices)\n",
    "labels = af.labels_\n",
    "\n",
    "print('Estimated number of clusters: {}'.format(n_clusters_))\n",
    "pred = af.predict(data_scaled)"
   ]
  },
  {
   "cell_type": "code",
   "execution_count": 45,
   "metadata": {},
   "outputs": [
    {
     "data": {
      "text/plain": [
       "465    179\n",
       "102    112\n",
       "463     99\n",
       "96      84\n",
       "458     53\n",
       "Name: cluster, dtype: int64"
      ]
     },
     "execution_count": 45,
     "metadata": {},
     "output_type": "execute_result"
    }
   ],
   "source": [
    "frame_1 = pd.DataFrame(data_scaled)\n",
    "frame_1['cluster'] = pred\n",
    "frame_1['cluster'].value_counts().head()"
   ]
  },
  {
   "cell_type": "code",
   "execution_count": 46,
   "metadata": {},
   "outputs": [
    {
     "data": {
      "image/png": "[encoded data removed]",
      "text/plain": [
       "<Figure size 1296x432 with 1 Axes>"
      ]
     },
     "metadata": {
      "needs_background": "light"
     },
     "output_type": "display_data"
    }
   ],
   "source": [
    "fig, ax = plt.subplots(figsize = (18,6))\n",
    "\n",
    "ax.bar(frame_1['cluster'].value_counts().index, frame_1['cluster'].value_counts().values, align='center')\n",
    "\n",
    "ax.set_ylabel('Number of elements in a cluster', fontsize = 14)\n",
    "ax.set_xlabel('Cluster labels', fontsize = 14)\n",
    "ax.set_title('Bar Plot of Cluster Labels with their size', fontsize = 16)\n",
    "\n",
    "plt.show()"
   ]
  },
  {
   "cell_type": "markdown",
   "metadata": {},
   "source": [
    "oops!Not as expected.Terrible performance for the recommender needs."
   ]
  },
  {
   "cell_type": "markdown",
   "metadata": {},
   "source": [
    "Lets use Spectral Clustering which works based on quantifying similiarity and words that often appear in the same context would all be types of \"similarity\" potentially detectable by these algorithms especially with the text reviews."
   ]
  },
  {
   "cell_type": "code",
   "execution_count": 47,
   "metadata": {},
   "outputs": [],
   "source": [
    "from sklearn.cluster import SpectralClustering\n",
    "\n",
    "# We know we're looking for nine clusters in this case,because the distribution of \n",
    "#cluster's size remains about the same after 9 clusters\n",
    "n_clusters=9\n",
    "\n",
    "# Declare and fit the model.\n",
    "sc = SpectralClustering(n_clusters=n_clusters)\n",
    "sc.fit(data_scaled)\n",
    "\n",
    "#Predicted clusters.\n",
    "predict=sc.fit_predict(data_scaled)\n"
   ]
  },
  {
   "cell_type": "code",
   "execution_count": 48,
   "metadata": {},
   "outputs": [
    {
     "data": {
      "text/plain": [
       "0    769\n",
       "7    468\n",
       "5     94\n",
       "1     89\n",
       "8     30\n",
       "4     21\n",
       "6     16\n",
       "3      2\n",
       "2      2\n",
       "Name: cluster, dtype: int64"
      ]
     },
     "execution_count": 48,
     "metadata": {},
     "output_type": "execute_result"
    }
   ],
   "source": [
    "frame_2 = pd.DataFrame(data_scaled)\n",
    "frame_2['cluster'] = predict\n",
    "frame_2['cluster'].value_counts()"
   ]
  },
  {
   "cell_type": "markdown",
   "metadata": {},
   "source": [
    "I will go for K-means clustering because it is more uniform in the size of the clusters being generated as compared to Spectral clustering.However as the dataset grows this algorism might out perform k-means clustering,therefore it is worth using it when further updating this recommending system in the future."
   ]
  },
  {
   "cell_type": "markdown",
   "metadata": {},
   "source": [
    "### SUMMARY AND CONCLUSION"
   ]
  },
  {
   "cell_type": "markdown",
   "metadata": {},
   "source": [
    "The clusters size increases as viewers,movies and views increase.recommendation clusters tend to change to satisfy the changing viewers viewing behaviour.For instance if userId 'AAECAHBNP1VD2' behaviour of viewing comedy related movies is changed overtime to action movies of certain characteristic,then he is re-assigned by the algorism to another clusters in which those clusters might be completely newly formed clusters from reshaffling viewers or existing clusters of similar taste.It is an ongoing process as events always unfold regarding to transactions of viewing movies.The application of this recommender system at this stage is bestly suited for startup movie channels, As they are assumed to have limited resource in terms of machine power and availability of enough data to aid optimum clustering.This recommender will do great job in recommending custormers movies based on their viewing experience, and satisfaction rate and description of their insights about the movie and the time the movie was viewed.One of the robustness in the over all analysis process is;As the company starts to grow and more data are available from customers then the distribution of the data may become more suited to one of the most popular clustering algorisms which are different to K-means such as Spectral clustering,then we can shift to Those algorisms based on the improvement in the evaluation metrices if our expectation is met.The process and technique that i have applied in this project is highly scalable and easly extendable and customizable to more features in the future studies,such as adding genre, movie description and so forth.It it is expected to boost performance and accuracy by certain level. In the production line this work is expected to extract information from a database process the data which is in a text format in to DataFrames and then apply the clustering technique to group the datapoints in to model identified similiar groups and recommend the same movies from with in the cluster for the members of that cluster.And as i mentioned before it is an itrative process and the outcome slightly differs every time the information in the background database is updated. "
   ]
  },
  {
   "cell_type": "markdown",
   "metadata": {},
   "source": [
    "\n"
   ]
  },
  {
   "cell_type": "markdown",
   "metadata": {},
   "source": [
    "<u>External sources and references</U>\n",
    "\n",
    "https://en.wikipedia.org/wiki/Silhouette_(clustering)\n",
    "\n",
    "https://www.analyticsvidhya.com/blog/2019/08/comprehensive-guide-k-means-clustering/\n",
    "\n",
    "http://scienceacademy.ca/ds_ml_bc_outline/"
   ]
  },
  {
   "cell_type": "code",
   "execution_count": null,
   "metadata": {},
   "outputs": [],
   "source": []
  }
 ],
 "metadata": {
  "kernelspec": {
   "display_name": "Python 3",
   "language": "python",
   "name": "python3"
  },
  "language_info": {
   "codemirror_mode": {
    "name": "ipython",
    "version": 3
   },
   "file_extension": ".py",
   "mimetype": "text/x-python",
   "name": "python",
   "nbconvert_exporter": "python",
   "pygments_lexer": "ipython3",
   "version": "3.7.3"
  }
 },
 "nbformat": 4,
 "nbformat_minor": 2
}
