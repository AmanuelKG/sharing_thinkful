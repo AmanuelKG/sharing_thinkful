{
 "cells": [
  {
   "cell_type": "markdown",
   "metadata": {},
   "source": [
    "## Final Capstone Proposal"
   ]
  },
  {
   "cell_type": "markdown",
   "metadata": {},
   "source": [
    "The proposal should be approximately one page long and answer the following questions:\n",
    "\n",
    "What is the problem you are attempting to solve?<br/>\n",
    "How is your solution valuable?</br>\n",
    "What is your data source and how will you access it?<br/>\n",
    "What techniques from the course do you anticipate using?<br/>\n",
    "What do you anticipate to be the biggest challenge you’ll face?<br/>"
   ]
  },
  {
   "cell_type": "markdown",
   "metadata": {},
   "source": [
    "In this final project i have planned to develope movie Recommendation system.Recommender systems are one of the most valuable applications developed using machine learning in today's technological advancement. Amazon attributes its 35% of revenue to its recommender system. According to a paper [Click here to read](https://www.martechadvisor.com/articles/customer-experience-2/recommendation-engines-how-amazon-and-netflix-are-winning-the-personalization-battle/) the on-demand video streaming service claims its AI assisted recommendation system saves the company $1 billion per year.Customer experience personalization is developed and optimized using datas."
   ]
  },
  {
   "cell_type": "markdown",
   "metadata": {},
   "source": [
    "as per [wired.com](https://www.wired.com/2012/04/netflix-prize-costs/) Netflix awarded a $1 million prize to a developer team in 2009 for an algorithm that increased the accuracy of the company's recommendation engine by 10 percent.This shows how vital it is to implement a better performing model which increases the accuracy of already existing model.This will enable a better customer experience,reduce churn and increase revenue by a jump and the same applies to the solution that i have planned to work on. In my case however i will use [Amazon movies review data from Kaggle](https://www.kaggle.com/dm4006/amazon-movie-reviews) and i will download the data to my local machine clean it explore it and apply the the further analysis procedures."
   ]
  },
  {
   "cell_type": "markdown",
   "metadata": {},
   "source": [
    "I have planned to use several techniques from the course.I will apply data cleaning and exploratory data analysis,Feature Engineering and feature extractions in pre-modeling analysis. I have also planned to use movie reviews and as such i have planned to apply some feature extraction methods from the text reviews using NLP methods.Finally i have anticipated using Affinity propagation or spectral clustering to find the very closely grouped or related in certain algorisms identified relationship.And movies in the same cluster will be recommended to customers of the same test."
   ]
  },
  {
   "cell_type": "markdown",
   "metadata": {},
   "source": [
    "The biggest challenge that i anticipate to face is finding the right number of clusters and evaluating my model.Hyperparameter tunning to increase accuracy, and the biase variance trade off and the analysis of identifying weither my model is overfitting or underfitting and so forth are unticipated to harden my challenges."
   ]
  },
  {
   "cell_type": "markdown",
   "metadata": {},
   "source": [
    "The goal of this project is to help Amazon or other movie ecommerce giants in their movie provision services by implementing a robust recommendation system.In my part i will achieve the task of successfully identifying or clustering the movie selections for customers based on the characteristics in the data.Same procedure can be applied to find movie preferneces for a customer in any movie stores other than Amazon.therefore my finding is believed to have high level of scalability.And it can be also be applied on other products except for some minor twicks. "
   ]
  },
  {
   "cell_type": "code",
   "execution_count": null,
   "metadata": {},
   "outputs": [],
   "source": []
  }
 ],
 "metadata": {
  "kernelspec": {
   "display_name": "Python 3",
   "language": "python",
   "name": "python3"
  },
  "language_info": {
   "codemirror_mode": {
    "name": "ipython",
    "version": 3
   },
   "file_extension": ".py",
   "mimetype": "text/x-python",
   "name": "python",
   "nbconvert_exporter": "python",
   "pygments_lexer": "ipython3",
   "version": "3.7.3"
  }
 },
 "nbformat": 4,
 "nbformat_minor": 2
}
