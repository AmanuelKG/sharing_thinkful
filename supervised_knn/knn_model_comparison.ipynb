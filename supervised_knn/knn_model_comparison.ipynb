{
 "cells": [
  {
   "cell_type": "markdown",
   "metadata": {},
   "source": [
    "### Challenge: model comparison"
   ]
  },
  {
   "cell_type": "code",
   "execution_count": 1,
   "metadata": {},
   "outputs": [],
   "source": [
    "import pandas as pd\n",
    "import numpy as np\n",
    "import scipy\n",
    "import matplotlib.pyplot as plt\n",
    "import seaborn as sns\n",
    "from sklearn import neighbors,\n",
    "from sklearn.model_selection import cross_val_score, GridSearchCV\n",
    "from sklearn.linear_model import LinearRegression, Lasso, ElasticNet\n",
    "%matplotlib inline\n"
   ]
  },
  {
   "cell_type": "code",
   "execution_count": 25,
   "metadata": {},
   "outputs": [],
   "source": [
    "mpg_1 = sns.load_dataset('mpg')"
   ]
  },
  {
   "cell_type": "code",
   "execution_count": 24,
   "metadata": {},
   "outputs": [
    {
     "data": {
      "text/html": [
       "<div>\n",
       "<style scoped>\n",
       "    .dataframe tbody tr th:only-of-type {\n",
       "        vertical-align: middle;\n",
       "    }\n",
       "\n",
       "    .dataframe tbody tr th {\n",
       "        vertical-align: top;\n",
       "    }\n",
       "\n",
       "    .dataframe thead th {\n",
       "        text-align: right;\n",
       "    }\n",
       "</style>\n",
       "<table border=\"1\" class=\"dataframe\">\n",
       "  <thead>\n",
       "    <tr style=\"text-align: right;\">\n",
       "      <th></th>\n",
       "      <th>mpg</th>\n",
       "      <th>cylinders</th>\n",
       "      <th>displacement</th>\n",
       "      <th>horsepower</th>\n",
       "      <th>weight</th>\n",
       "      <th>acceleration</th>\n",
       "      <th>model_year</th>\n",
       "      <th>origin</th>\n",
       "      <th>name</th>\n",
       "    </tr>\n",
       "  </thead>\n",
       "  <tbody>\n",
       "    <tr>\n",
       "      <th>0</th>\n",
       "      <td>18.0</td>\n",
       "      <td>8</td>\n",
       "      <td>307.0</td>\n",
       "      <td>130.0</td>\n",
       "      <td>3504</td>\n",
       "      <td>12.0</td>\n",
       "      <td>70</td>\n",
       "      <td>usa</td>\n",
       "      <td>chevrolet chevelle malibu</td>\n",
       "    </tr>\n",
       "    <tr>\n",
       "      <th>1</th>\n",
       "      <td>15.0</td>\n",
       "      <td>8</td>\n",
       "      <td>350.0</td>\n",
       "      <td>165.0</td>\n",
       "      <td>3693</td>\n",
       "      <td>11.5</td>\n",
       "      <td>70</td>\n",
       "      <td>usa</td>\n",
       "      <td>buick skylark 320</td>\n",
       "    </tr>\n",
       "    <tr>\n",
       "      <th>2</th>\n",
       "      <td>18.0</td>\n",
       "      <td>8</td>\n",
       "      <td>318.0</td>\n",
       "      <td>150.0</td>\n",
       "      <td>3436</td>\n",
       "      <td>11.0</td>\n",
       "      <td>70</td>\n",
       "      <td>usa</td>\n",
       "      <td>plymouth satellite</td>\n",
       "    </tr>\n",
       "    <tr>\n",
       "      <th>3</th>\n",
       "      <td>16.0</td>\n",
       "      <td>8</td>\n",
       "      <td>304.0</td>\n",
       "      <td>150.0</td>\n",
       "      <td>3433</td>\n",
       "      <td>12.0</td>\n",
       "      <td>70</td>\n",
       "      <td>usa</td>\n",
       "      <td>amc rebel sst</td>\n",
       "    </tr>\n",
       "    <tr>\n",
       "      <th>4</th>\n",
       "      <td>17.0</td>\n",
       "      <td>8</td>\n",
       "      <td>302.0</td>\n",
       "      <td>140.0</td>\n",
       "      <td>3449</td>\n",
       "      <td>10.5</td>\n",
       "      <td>70</td>\n",
       "      <td>usa</td>\n",
       "      <td>ford torino</td>\n",
       "    </tr>\n",
       "  </tbody>\n",
       "</table>\n",
       "</div>"
      ],
      "text/plain": [
       "    mpg cylinders  displacement  horsepower  weight  acceleration model_year  \\\n",
       "0  18.0         8         307.0       130.0    3504          12.0         70   \n",
       "1  15.0         8         350.0       165.0    3693          11.5         70   \n",
       "2  18.0         8         318.0       150.0    3436          11.0         70   \n",
       "3  16.0         8         304.0       150.0    3433          12.0         70   \n",
       "4  17.0         8         302.0       140.0    3449          10.5         70   \n",
       "\n",
       "  origin                       name  \n",
       "0    usa  chevrolet chevelle malibu  \n",
       "1    usa          buick skylark 320  \n",
       "2    usa         plymouth satellite  \n",
       "3    usa              amc rebel sst  \n",
       "4    usa                ford torino  "
      ]
     },
     "execution_count": 24,
     "metadata": {},
     "output_type": "execute_result"
    }
   ],
   "source": [
    "mpg_1.head()"
   ]
  },
  {
   "cell_type": "code",
   "execution_count": 4,
   "metadata": {},
   "outputs": [
    {
     "name": "stdout",
     "output_type": "stream",
     "text": [
      "<class 'pandas.core.frame.DataFrame'>\n",
      "RangeIndex: 398 entries, 0 to 397\n",
      "Data columns (total 9 columns):\n",
      "mpg             398 non-null float64\n",
      "cylinders       398 non-null int64\n",
      "displacement    398 non-null float64\n",
      "horsepower      392 non-null float64\n",
      "weight          398 non-null int64\n",
      "acceleration    398 non-null float64\n",
      "model_year      398 non-null int64\n",
      "origin          398 non-null object\n",
      "name            398 non-null object\n",
      "dtypes: float64(4), int64(3), object(2)\n",
      "memory usage: 28.1+ KB\n"
     ]
    }
   ],
   "source": [
    "mpg_1.info()"
   ]
  },
  {
   "cell_type": "code",
   "execution_count": 5,
   "metadata": {},
   "outputs": [],
   "source": [
    "mpg_1['horsepower'].fillna((mpg_1['horsepower'].mean()), inplace=True)"
   ]
  },
  {
   "cell_type": "markdown",
   "metadata": {},
   "source": [
    "lets First start model fitting using Linear Regression"
   ]
  },
  {
   "cell_type": "code",
   "execution_count": 12,
   "metadata": {},
   "outputs": [],
   "source": [
    "mpg_1['cylinders'] = mpg_1.cylinders.astype(str)\n",
    "mpg_1['model_year'] = mpg_1.model_year.astype(str)\n",
    "X = mpg_1[['horsepower', 'displacement','weight', 'acceleration']]\n",
    "X = pd.concat([X, pd.get_dummies(mpg_1.cylinders, drop_first = True)], axis = 1)\n",
    "X = pd.concat([X, pd.get_dummies(mpg_1.model_year, drop_first = True)], axis = 1)\n",
    "X = pd.concat([X, pd.get_dummies(mpg_1.origin, drop_first = True)], axis = 1)\n",
    "Y = mpg_1.mpg"
   ]
  },
  {
   "cell_type": "code",
   "execution_count": 13,
   "metadata": {},
   "outputs": [
    {
     "data": {
      "text/plain": [
       "array([ 0.60081488,  0.87441431,  0.65828614,  0.82595539,  0.70287861,\n",
       "        0.84244152,  0.45444124,  0.34667844,  0.29734354, -0.7902755 ])"
      ]
     },
     "execution_count": 13,
     "metadata": {},
     "output_type": "execute_result"
    }
   ],
   "source": [
    "ols_mpg_model = LinearRegression()\n",
    "cross_val_score(ols_mpg_model, X, Y, cv = 10)"
   ]
  },
  {
   "cell_type": "markdown",
   "metadata": {},
   "source": [
    "From the cross validation we can see that our model is overfitting.So lets use regularization methods to comat this overfitting of our model and come up with the best model that works for all datas to come."
   ]
  },
  {
   "cell_type": "code",
   "execution_count": 11,
   "metadata": {},
   "outputs": [
    {
     "name": "stdout",
     "output_type": "stream",
     "text": [
      "The best score of our model is: 0.4927622908372824\n",
      "The best alpha estimator out of the tunned parameters alphas is: 0.02592943797404667\n",
      "Finally to check if our model is overfitting or not lets perform nested cross validation: [ 0.72487836  0.7047704   0.57491964  0.82266974  0.79202113  0.86297206\n",
      "  0.68172157  0.5840682   0.03114789 -0.27515622]\n"
     ]
    }
   ],
   "source": [
    "alphas = np.logspace(-4, -0.5, 30)\n",
    "lasso = Lasso(random_state=0, max_iter=20000)\n",
    "tuned_parameters = [{'alpha': alphas}]\n",
    "n_folds = 5\n",
    "\n",
    "grid_mpg_model = GridSearchCV(lasso, param_grid=tuned_parameters, cv=n_folds, refit=True)\n",
    "grid_mpg_model.fit(X, Y)\n",
    "print('The best score of our model is: {}'.format(grid_mpg_model.best_score_))\n",
    "print('The best alpha estimator out of the tunned parameters alphas is: {}'\n",
    "      .format(grid_mpg_model.best_estimator_.alpha))\n",
    "\n",
    "print('Finally to check if our model is overfitting or not lets perform nested cross validation: {}'\n",
    "      .format(cross_val_score(grid_mpg_model, X, Y, cv = 10)))\n",
    "import warnings\n",
    "warnings.filterwarnings(\"ignore\", category=FutureWarning)"
   ]
  },
  {
   "cell_type": "code",
   "execution_count": 21,
   "metadata": {},
   "outputs": [
    {
     "name": "stdout",
     "output_type": "stream",
     "text": [
      "The best score of our model is: 0.4999789572803573\n",
      "The best alpha estimator out of the tunned parameters alphas is: 0.014873521072935119\n",
      "Finally to check if our model is overfitting or not lets perform nested cross validation: [ 0.62499306  0.7479665   0.61127429  0.81767843  0.74228437  0.86690585\n",
      "  0.70213913  0.61609483  0.0946442  -0.21848438]\n"
     ]
    }
   ],
   "source": [
    "alphas = np.logspace(-4, -0.5, 30)\n",
    "elasticnet = ElasticNet(random_state=0, max_iter=20000)\n",
    "tuned_parameters = [{'alpha': alphas}]\n",
    "n_folds = 5\n",
    "\n",
    "grid_mpg_model = GridSearchCV(elasticnet, param_grid=tuned_parameters, cv=n_folds, refit=True)\n",
    "grid_mpg_model.fit(X, Y)\n",
    "print('The best score of our model is: {}'.format(grid_mpg_model.best_score_))\n",
    "print('The best alpha estimator out of the tunned parameters alphas is: {}'\n",
    "      .format(grid_mpg_model.best_estimator_.alpha))\n",
    "\n",
    "print('Finally to check if our model is overfitting or not lets perform nested cross validation: {}'\n",
    "      .format(cross_val_score(grid_mpg_model, X, Y, cv = 10)))\n",
    "import warnings\n",
    "warnings.filterwarnings(\"ignore\", category=FutureWarning)"
   ]
  },
  {
   "cell_type": "markdown",
   "metadata": {},
   "source": [
    "From the regression model perspective,the ElasticNet model performed best with the above R-squared and alpha values.Now lets move on and check KNN regression on our dataset."
   ]
  },
  {
   "cell_type": "code",
   "execution_count": 22,
   "metadata": {},
   "outputs": [
    {
     "data": {
      "text/plain": [
       "array([ 0.54474441,  0.56951609,  0.23684298,  0.68384988,  0.61558683,\n",
       "        0.84880819,  0.74411962,  0.67161077, -0.8279847 ,  0.00409968])"
      ]
     },
     "execution_count": 22,
     "metadata": {},
     "output_type": "execute_result"
    }
   ],
   "source": [
    "knn_mpg_model = neighbors.KNeighborsRegressor(n_neighbors = 10, weights= 'distance')\n",
    "x = mpg_1[['horsepower', 'displacement','weight', 'acceleration']]\n",
    "cross_val_score(knn_mpg_model, x, Y, cv = 10)"
   ]
  },
  {
   "cell_type": "markdown",
   "metadata": {},
   "source": [
    "From the above results we can observe that the both the ordinary least square and ElasticNet regression models out performed the kkn regressor model.This might be arised due too the knn's capability to address categorical data.The categorical variables which have a significant effect on the target variable were not included in case of the knn regressor and this resulted in a less accurate model.But if all the feature variables were float in both the cases the performance might have been more comparable.Lets see practically if this hypothesis applies by fittting the Linear Regression model to only the numerical variables that are included in the knn model."
   ]
  },
  {
   "cell_type": "code",
   "execution_count": 23,
   "metadata": {},
   "outputs": [
    {
     "data": {
      "text/plain": [
       "array([ 0.54989445,  0.52431975,  0.0673587 ,  0.64076227,  0.62995486,\n",
       "        0.85072885,  0.69457333,  0.64852017, -0.87044176, -0.01175375])"
      ]
     },
     "execution_count": 23,
     "metadata": {},
     "output_type": "execute_result"
    }
   ],
   "source": [
    "ols_mpg_model = LinearRegression()\n",
    "cross_val_score(ols_mpg_model, x, Y, cv = 10)"
   ]
  },
  {
   "cell_type": "markdown",
   "metadata": {},
   "source": [
    "we can see that when the same features are applied to Both the models,they performed about the same.But this explains the drow back of the knn regression model."
   ]
  },
  {
   "cell_type": "code",
   "execution_count": null,
   "metadata": {},
   "outputs": [],
   "source": []
  }
 ],
 "metadata": {
  "kernelspec": {
   "display_name": "Python 3",
   "language": "python",
   "name": "python3"
  },
  "language_info": {
   "codemirror_mode": {
    "name": "ipython",
    "version": 3
   },
   "file_extension": ".py",
   "mimetype": "text/x-python",
   "name": "python",
   "nbconvert_exporter": "python",
   "pygments_lexer": "ipython3",
   "version": "3.7.3"
  }
 },
 "nbformat": 4,
 "nbformat_minor": 2
}
