{
 "cells": [
  {
   "cell_type": "markdown",
   "metadata": {},
   "source": [
    "## Data Exploration2"
   ]
  },
  {
   "cell_type": "code",
   "execution_count": 17,
   "metadata": {},
   "outputs": [],
   "source": [
    "import numpy as np\n",
    "import pandas as pd\n",
    "import matplotlib.pyplot as plt\n",
    "import seaborn as sns\n",
    "from scipy.stats.stats import ttest_ind\n",
    "from sqlalchemy import create_engine\n",
    "import warnings\n",
    "\n",
    "warnings.filterwarnings('ignore')\n",
    "sns.set(style=\"whitegrid\")"
   ]
  },
  {
   "cell_type": "code",
   "execution_count": 3,
   "metadata": {},
   "outputs": [],
   "source": [
    "postgres_user = 'dsbc_student'\n",
    "postgres_pw = '7*.8G9QH21'\n",
    "postgres_host = '142.93.121.174'\n",
    "postgres_port = '5432'\n",
    "postgres_db = 'studentsperformance'\n",
    "\n",
    "engine = create_engine('postgresql://{}:{}@{}:{}/{}'.format(\n",
    "    postgres_user, postgres_pw, postgres_host, postgres_port, postgres_db))\n",
    "\n",
    "students_performance = pd.read_sql_query('select * from studentsperformance',con=engine)\n",
    "\n",
    "# no need for an open connection, \n",
    "# as we're only doing a single query\n",
    "engine.dispose()\n"
   ]
  },
  {
   "cell_type": "code",
   "execution_count": 4,
   "metadata": {},
   "outputs": [
    {
     "data": {
      "text/html": [
       "<div>\n",
       "<style scoped>\n",
       "    .dataframe tbody tr th:only-of-type {\n",
       "        vertical-align: middle;\n",
       "    }\n",
       "\n",
       "    .dataframe tbody tr th {\n",
       "        vertical-align: top;\n",
       "    }\n",
       "\n",
       "    .dataframe thead th {\n",
       "        text-align: right;\n",
       "    }\n",
       "</style>\n",
       "<table border=\"1\" class=\"dataframe\">\n",
       "  <thead>\n",
       "    <tr style=\"text-align: right;\">\n",
       "      <th></th>\n",
       "      <th>gender</th>\n",
       "      <th>race/ethnicity</th>\n",
       "      <th>parental level of education</th>\n",
       "      <th>lunch</th>\n",
       "      <th>test preparation course</th>\n",
       "      <th>math score</th>\n",
       "      <th>reading score</th>\n",
       "      <th>writing score</th>\n",
       "    </tr>\n",
       "  </thead>\n",
       "  <tbody>\n",
       "    <tr>\n",
       "      <th>0</th>\n",
       "      <td>female</td>\n",
       "      <td>group B</td>\n",
       "      <td>bachelor's degree</td>\n",
       "      <td>standard</td>\n",
       "      <td>none</td>\n",
       "      <td>72</td>\n",
       "      <td>72</td>\n",
       "      <td>74</td>\n",
       "    </tr>\n",
       "    <tr>\n",
       "      <th>1</th>\n",
       "      <td>female</td>\n",
       "      <td>group C</td>\n",
       "      <td>some college</td>\n",
       "      <td>standard</td>\n",
       "      <td>completed</td>\n",
       "      <td>69</td>\n",
       "      <td>90</td>\n",
       "      <td>88</td>\n",
       "    </tr>\n",
       "    <tr>\n",
       "      <th>2</th>\n",
       "      <td>female</td>\n",
       "      <td>group B</td>\n",
       "      <td>master's degree</td>\n",
       "      <td>standard</td>\n",
       "      <td>none</td>\n",
       "      <td>90</td>\n",
       "      <td>95</td>\n",
       "      <td>93</td>\n",
       "    </tr>\n",
       "    <tr>\n",
       "      <th>3</th>\n",
       "      <td>male</td>\n",
       "      <td>group A</td>\n",
       "      <td>associate's degree</td>\n",
       "      <td>free/reduced</td>\n",
       "      <td>none</td>\n",
       "      <td>47</td>\n",
       "      <td>57</td>\n",
       "      <td>44</td>\n",
       "    </tr>\n",
       "    <tr>\n",
       "      <th>4</th>\n",
       "      <td>male</td>\n",
       "      <td>group C</td>\n",
       "      <td>some college</td>\n",
       "      <td>standard</td>\n",
       "      <td>none</td>\n",
       "      <td>76</td>\n",
       "      <td>78</td>\n",
       "      <td>75</td>\n",
       "    </tr>\n",
       "  </tbody>\n",
       "</table>\n",
       "</div>"
      ],
      "text/plain": [
       "   gender race/ethnicity parental level of education         lunch  \\\n",
       "0  female        group B           bachelor's degree      standard   \n",
       "1  female        group C                some college      standard   \n",
       "2  female        group B             master's degree      standard   \n",
       "3    male        group A          associate's degree  free/reduced   \n",
       "4    male        group C                some college      standard   \n",
       "\n",
       "  test preparation course  math score  reading score  writing score  \n",
       "0                    none          72             72             74  \n",
       "1               completed          69             90             88  \n",
       "2                    none          90             95             93  \n",
       "3                    none          47             57             44  \n",
       "4                    none          76             78             75  "
      ]
     },
     "execution_count": 4,
     "metadata": {},
     "output_type": "execute_result"
    }
   ],
   "source": [
    "students_performance.head()"
   ]
  },
  {
   "cell_type": "code",
   "execution_count": 70,
   "metadata": {},
   "outputs": [
    {
     "data": {
      "text/plain": [
       "gender                            0\n",
       "race/ethnicity                    0\n",
       "parental level of education       0\n",
       "lunch                             0\n",
       "test preparation course           0\n",
       "math score                        0\n",
       "reading score                     0\n",
       "writing score                     0\n",
       "nonull_test_preparation_course    0\n",
       "dtype: int64"
      ]
     },
     "execution_count": 70,
     "metadata": {},
     "output_type": "execute_result"
    }
   ],
   "source": [
    "students_performance.isnull().sum()"
   ]
  },
  {
   "cell_type": "markdown",
   "metadata": {},
   "source": [
    "1. Are there any differences between the genders, ethnicities, and parental level of education with respect to their performances in exams?"
   ]
  },
  {
   "cell_type": "code",
   "execution_count": 46,
   "metadata": {},
   "outputs": [
    {
     "name": "stdout",
     "output_type": "stream",
     "text": [
      "\n",
      " When the category is gender \n",
      " ...............and.................\n",
      "\n",
      " when the score is math score \n",
      " ..........................................\n",
      "The t-test between the categories female and male\n",
      "Ttest_indResult(statistic=-5.383245869828983, pvalue=9.120185549328822e-08)\n",
      "\n",
      " when the score is reading score \n",
      " ..........................................\n",
      "The t-test between the categories female and male\n",
      "Ttest_indResult(statistic=7.959308005187657, pvalue=4.680538743933289e-15)\n",
      "\n",
      " when the score is writing score \n",
      " ..........................................\n",
      "The t-test between the categories female and male\n",
      "Ttest_indResult(statistic=9.979557910004507, pvalue=2.019877706867934e-22)\n",
      "\n",
      " When the category is race/ethnicity \n",
      " ...............and.................\n",
      "\n",
      " when the score is math score \n",
      " ..........................................\n",
      "The t-test between the categories group B and group C\n",
      "Ttest_indResult(statistic=-0.7315669893534263, pvalue=0.4647708939167453)\n",
      " ...... there is no significant difference in the means of group B and group C......\n",
      "The t-test between the categories group B and group A\n",
      "Ttest_indResult(statistic=0.9355076279747488, pvalue=0.3503415961659957)\n",
      " ...... there is no significant difference in the means of group B and group A......\n",
      "The t-test between the categories group B and group D\n",
      "Ttest_indResult(statistic=-2.82845539712675, pvalue=0.004886197137104194)\n",
      "The t-test between the categories group B and group E\n",
      "Ttest_indResult(statistic=-6.007397050552227, pvalue=5.007946047497971e-09)\n",
      "The t-test between the categories group C and group A\n",
      "Ttest_indResult(statistic=1.5997220303217299, pvalue=0.11043810745588042)\n",
      " ...... there is no significant difference in the means of group C and group A......\n",
      "The t-test between the categories group C and group D\n",
      "Ttest_indResult(statistic=-2.41858624746011, pvalue=0.015888349556016285)\n",
      "The t-test between the categories group C and group E\n",
      "Ttest_indResult(statistic=-6.127642520822135, pvalue=1.927238849552764e-09)\n",
      "The t-test between the categories group A and group D\n",
      "Ttest_indResult(statistic=-3.3466982429712298, pvalue=0.0009068636053543751)\n",
      "The t-test between the categories group A and group E\n",
      "Ttest_indResult(statistic=-5.936141025544798, pvalue=1.083559122656415e-08)\n",
      "The t-test between the categories group D and group E\n",
      "Ttest_indResult(statistic=-4.282287214674715, pvalue=2.3187640326715042e-05)\n",
      "\n",
      " when the score is reading score \n",
      " ..........................................\n",
      "The t-test between the categories group B and group C\n",
      "Ttest_indResult(statistic=-1.3223156212901772, pvalue=0.1866592809035069)\n",
      " ...... there is no significant difference in the means of group B and group C......\n",
      "The t-test between the categories group B and group A\n",
      "Ttest_indResult(statistic=1.3633682262027682, pvalue=0.1738735513443721)\n",
      " ...... there is no significant difference in the means of group B and group A......\n",
      "The t-test between the categories group B and group D\n",
      "Ttest_indResult(statistic=-1.9451563636864795, pvalue=0.0523786206559701)\n",
      " ...... there is no significant difference in the means of group B and group D......\n",
      "The t-test between the categories group B and group E\n",
      "Ttest_indResult(statistic=-3.386066945409153, pvalue=0.0007951618495240944)\n",
      "The t-test between the categories group C and group A\n",
      "Ttest_indResult(statistic=2.575432218066352, pvalue=0.010364398025471079)\n",
      "The t-test between the categories group C and group D\n",
      "Ttest_indResult(statistic=-0.7970109316408917, pvalue=0.425771382113019)\n",
      " ...... there is no significant difference in the means of group C and group D......\n",
      "The t-test between the categories group C and group E\n",
      "Ttest_indResult(statistic=-2.7133018645371685, pvalue=0.0069132842804986595)\n",
      "The t-test between the categories group A and group D\n",
      "Ttest_indResult(statistic=-3.0468548573461187, pvalue=0.002488654464332207)\n",
      "The t-test between the categories group A and group E\n",
      "Ttest_indResult(statistic=-4.071106227981414, pvalue=6.463395931833847e-05)\n",
      "The t-test between the categories group D and group E\n",
      "Ttest_indResult(statistic=-2.0106479406031794, pvalue=0.045033306431345586)\n",
      "\n",
      " when the score is writing score \n",
      " ..........................................\n",
      "The t-test between the categories group B and group C\n",
      "Ttest_indResult(statistic=-1.5964963433740407, pvalue=0.1110010959814519)\n",
      " ...... there is no significant difference in the means of group B and group C......\n",
      "The t-test between the categories group B and group A\n",
      "Ttest_indResult(statistic=1.4624420577998105, pvalue=0.14475374198993884)\n",
      " ...... there is no significant difference in the means of group B and group A......\n",
      "The t-test between the categories group B and group D\n",
      "Ttest_indResult(statistic=-3.19929333232526, pvalue=0.0014749978881319053)\n",
      "The t-test between the categories group B and group E\n",
      "Ttest_indResult(statistic=-3.3831978345244518, pvalue=0.0008032300486353951)\n",
      "The t-test between the categories group C and group A\n",
      "Ttest_indResult(statistic=2.848872404992454, pvalue=0.004610690740740428)\n",
      "The t-test between the categories group C and group D\n",
      "Ttest_indResult(statistic=-1.8896631516726248, pvalue=0.05930232918708209)\n",
      " ...... there is no significant difference in the means of group C and group D......\n",
      "The t-test between the categories group C and group E\n",
      "Ttest_indResult(statistic=-2.3502811868359177, pvalue=0.019183539018898285)\n",
      "The t-test between the categories group A and group D\n",
      "Ttest_indResult(statistic=-4.1556316361449195, pvalue=4.084805733969806e-05)\n",
      "The t-test between the categories group A and group E\n",
      "Ttest_indResult(statistic=-4.2234736631970105, pvalue=3.483278064499439e-05)\n",
      "The t-test between the categories group D and group E\n",
      "Ttest_indResult(statistic=-0.8239736571520918, pvalue=0.4104455517392258)\n",
      " ...... there is no significant difference in the means of group D and group E......\n",
      "\n",
      " When the category is parental level of education \n",
      " ...............and.................\n",
      "\n",
      " when the score is math score \n",
      " ..........................................\n",
      "The t-test between the categories bachelor's degree and some college\n",
      "Ttest_indResult(statistic=1.3702352829617477, pvalue=0.17151224218471559)\n",
      " ...... there is no significant difference in the means of bachelor's degree and some college......\n",
      "The t-test between the categories bachelor's degree and master's degree\n",
      "Ttest_indResult(statistic=-0.14868196568849312, pvalue=0.8819757824867702)\n",
      " ...... there is no significant difference in the means of bachelor's degree and master's degree......\n",
      "The t-test between the categories bachelor's degree and associate's degree\n",
      "Ttest_indResult(statistic=0.8786641889793243, pvalue=0.38020757818036177)\n",
      " ...... there is no significant difference in the means of bachelor's degree and associate's degree......\n",
      "The t-test between the categories bachelor's degree and high school\n",
      "Ttest_indResult(statistic=4.236143622484822, pvalue=2.9965345853843376e-05)\n",
      "The t-test between the categories bachelor's degree and some high school\n",
      "Ttest_indResult(statistic=3.196718602676573, pvalue=0.0015409192922812146)\n",
      "The t-test between the categories some college and master's degree\n",
      "Ttest_indResult(statistic=-1.2356334215824571, pvalue=0.21761956810347416)\n",
      " ...... there is no significant difference in the means of some college and master's degree......\n",
      "The t-test between the categories some college and associate's degree\n",
      "Ttest_indResult(statistic=-0.5426842696247527, pvalue=0.5876182809234072)\n",
      " ...... there is no significant difference in the means of some college and associate's degree......\n",
      "The t-test between the categories some college and high school\n",
      "Ttest_indResult(statistic=3.5461079495681163, pvalue=0.00043498004192453146)\n",
      "The t-test between the categories some college and some high school\n",
      "Ttest_indResult(statistic=2.4117046231407633, pvalue=0.016324361572645503)\n",
      "The t-test between the categories master's degree and associate's degree\n",
      "Ttest_indResult(statistic=0.8411229688563471, pvalue=0.4009993636124658)\n",
      " ...... there is no significant difference in the means of master's degree and associate's degree......\n",
      "The t-test between the categories master's degree and high school\n",
      "Ttest_indResult(statistic=3.4893759321890823, pvalue=0.000570929230228812)\n",
      "The t-test between the categories master's degree and some high school\n",
      "Ttest_indResult(statistic=2.6442572081925526, pvalue=0.008736228790471057)\n",
      "The t-test between the categories associate's degree and high school\n",
      "Ttest_indResult(statistic=3.9481325318265013, pvalue=9.247314274963044e-05)\n",
      "The t-test between the categories associate's degree and some high school\n",
      "Ttest_indResult(statistic=2.820053979930256, pvalue=0.005041081492906143)\n",
      "The t-test between the categories high school and some high school\n",
      "Ttest_indResult(statistic=-0.8640629490772553, pvalue=0.388108610360687)\n",
      " ...... there is no significant difference in the means of high school and some high school......\n",
      "\n",
      " when the score is reading score \n",
      " ..........................................\n",
      "The t-test between the categories bachelor's degree and some college\n",
      "Ttest_indResult(statistic=2.2048821209085077, pvalue=0.028127555314401052)\n",
      "The t-test between the categories bachelor's degree and master's degree\n",
      "Ttest_indResult(statistic=-1.0540858949475984, pvalue=0.29329675131787897)\n",
      " ...... there is no significant difference in the means of bachelor's degree and master's degree......\n",
      "The t-test between the categories bachelor's degree and associate's degree\n",
      "Ttest_indResult(statistic=1.2977969850452833, pvalue=0.19524206483091092)\n",
      " ...... there is no significant difference in the means of bachelor's degree and associate's degree......\n",
      "The t-test between the categories bachelor's degree and high school\n",
      "Ttest_indResult(statistic=5.017577900835298, pvalue=8.804250310784477e-07)\n",
      "The t-test between the categories bachelor's degree and some high school\n",
      "Ttest_indResult(statistic=3.4039270673798745, pvalue=0.0007561971719730451)\n",
      "The t-test between the categories some college and master's degree\n",
      "Ttest_indResult(statistic=-2.888843374950649, pvalue=0.004165440800640354)\n",
      "The t-test between the categories some college and associate's degree\n",
      "Ttest_indResult(statistic=-1.11231882169149, pvalue=0.26660028539980146)\n",
      " ...... there is no significant difference in the means of some college and associate's degree......\n",
      "The t-test between the categories some college and high school\n",
      "Ttest_indResult(statistic=3.4578427683620334, pvalue=0.0006001048481252139)\n",
      "The t-test between the categories some college and some high school\n",
      "Ttest_indResult(statistic=1.714161972758909, pvalue=0.08726786856243877)\n",
      " ...... there is no significant difference in the means of some college and some high school......\n",
      "The t-test between the categories master's degree and associate's degree\n",
      "Ttest_indResult(statistic=2.1912015759838686, pvalue=0.02926414570972208)\n",
      "The t-test between the categories master's degree and high school\n",
      "Ttest_indResult(statistic=5.113158728723477, pvalue=6.257558119816884e-07)\n",
      "The t-test between the categories master's degree and some high school\n",
      "Ttest_indResult(statistic=3.7261574122231513, pvalue=0.00024334552617191513)\n",
      "The t-test between the categories associate's degree and high school\n",
      "Ttest_indResult(statistic=4.538021419898997, pvalue=7.442167797135797e-06)\n",
      "The t-test between the categories associate's degree and some high school\n",
      "Ttest_indResult(statistic=2.7183602204037927, pvalue=0.006846770119677965)\n",
      "The t-test between the categories high school and some high school\n",
      "Ttest_indResult(statistic=-1.461284757591555, pvalue=0.1447791955248275)\n",
      " ...... there is no significant difference in the means of high school and some high school......\n",
      "\n",
      " when the score is writing score \n",
      " ..........................................\n",
      "The t-test between the categories bachelor's degree and some college\n",
      "Ttest_indResult(statistic=2.6803314684632196, pvalue=0.00771101202367254)\n",
      "The t-test between the categories bachelor's degree and master's degree\n",
      "Ttest_indResult(statistic=-0.9998741306804844, pvalue=0.3187519641464658)\n",
      " ...... there is no significant difference in the means of bachelor's degree and master's degree......\n",
      "The t-test between the categories bachelor's degree and associate's degree\n"
     ]
    },
    {
     "name": "stdout",
     "output_type": "stream",
     "text": [
      "Ttest_indResult(statistic=2.1159296639133762, pvalue=0.03508162451719667)\n",
      "The t-test between the categories bachelor's degree and high school\n",
      "Ttest_indResult(statistic=6.547380937127048, pvalue=2.4076253789515874e-10)\n",
      "The t-test between the categories bachelor's degree and some high school\n",
      "Ttest_indResult(statistic=4.667733097498242, pvalue=4.628198526834338e-06)\n",
      "The t-test between the categories some college and master's degree\n",
      "Ttest_indResult(statistic=-3.1687690632394907, pvalue=0.0016985933135959495)\n",
      "The t-test between the categories some college and associate's degree\n",
      "Ttest_indResult(statistic=-0.7615968643953912, pvalue=0.44670316603036575)\n",
      " ...... there is no significant difference in the means of some college and associate's degree......\n",
      "The t-test between the categories some college and high school\n",
      "Ttest_indResult(statistic=4.488520877492127, pvalue=9.275017802620877e-06)\n",
      "The t-test between the categories some college and some high school\n",
      "Ttest_indResult(statistic=2.5757211403792417, pvalue=0.010358529086081357)\n",
      "The t-test between the categories master's degree and associate's degree\n",
      "Ttest_indResult(statistic=2.78124154906855, pvalue=0.00578403270525775)\n",
      "The t-test between the categories master's degree and high school\n",
      "Ttest_indResult(statistic=6.360904883721531, pvalue=9.326930296880332e-10)\n",
      "The t-test between the categories master's degree and some high school\n",
      "Ttest_indResult(statistic=4.707583817143559, pvalue=4.275465153074631e-06)\n",
      "The t-test between the categories associate's degree and high school\n",
      "Ttest_indResult(statistic=5.348725635626432, pvalue=1.4650545536741998e-07)\n",
      "The t-test between the categories associate's degree and some high school\n",
      "Ttest_indResult(statistic=3.3317223453475715, pvalue=0.0009435990258795855)\n",
      "The t-test between the categories high school and some high school\n",
      "Ttest_indResult(statistic=-1.5838885273076473, pvalue=0.11406653932963291)\n",
      " ...... there is no significant difference in the means of high school and some high school......\n"
     ]
    }
   ],
   "source": [
    "for categorical_var in ['gender', 'race/ethnicity', 'parental level of education']:\n",
    "    print('\\n When the category is {} \\n ...............and.................'.format(categorical_var))\n",
    "    for scores in ['math score', 'reading score', 'writing score']:\n",
    "        print('\\n when the score is {} \\n ..........................................'.format(scores))\n",
    "        for i in range(0, len(students_performance[categorical_var].unique())):\n",
    "            for j in range(i + 1, len(students_performance[categorical_var].unique())):\n",
    "                print('The t-test between the categories {} and {}'.format(students_performance[categorical_var].unique()[i]\n",
    "                                                                       ,students_performance[categorical_var].unique()[j]))\n",
    "                statistic = ttest_ind(students_performance[students_performance[categorical_var] == students_performance[categorical_var].unique()[i]][scores]\n",
    "                                                    ,students_performance[students_performance[categorical_var] == students_performance[categorical_var].unique()[j]][scores])\n",
    "                print(statistic)\n",
    "                if statistic[1] > 0.05:\n",
    "                    print(' ...... there is no significant difference in the means of {} and {}......'.format(students_performance[categorical_var].unique()[i]\n",
    "                                                                                    ,students_performance[categorical_var].unique()[j]))"
   ]
  },
  {
   "cell_type": "markdown",
   "metadata": {},
   "source": [
    "2. Are there any differences between the lunch types with respect to their performances in exams? If there are, how do you explain this?"
   ]
  },
  {
   "cell_type": "code",
   "execution_count": 47,
   "metadata": {},
   "outputs": [
    {
     "data": {
      "text/plain": [
       "array(['standard', 'free/reduced'], dtype=object)"
      ]
     },
     "execution_count": 47,
     "metadata": {},
     "output_type": "execute_result"
    }
   ],
   "source": [
    "students_performance['lunch'].unique()"
   ]
  },
  {
   "cell_type": "markdown",
   "metadata": {},
   "source": [
    "lets check if there is any difference in performance in exams for the two different lunch types;"
   ]
  },
  {
   "cell_type": "code",
   "execution_count": 49,
   "metadata": {},
   "outputs": [
    {
     "name": "stdout",
     "output_type": "stream",
     "text": [
      "Ttest_indResult(statistic=array([11.83718047,  7.45105647,  8.0097842 ]), pvalue=array([2.41319560e-30, 2.00279665e-13, 3.18618958e-15]))\n"
     ]
    }
   ],
   "source": [
    "print(ttest_ind(students_performance[students_performance['lunch'] == 'standard'][['math score'\n",
    "                                                                                  , 'reading score'\n",
    "                                                                                  , 'writing score']]\n",
    "               ,students_performance[students_performance['lunch'] == 'free/reduced'][['math score'\n",
    "                                                                                  , 'reading score'\n",
    "                                                                                  , 'writing score']]))"
   ]
  },
  {
   "cell_type": "markdown",
   "metadata": {},
   "source": [
    "From the T-test p-values result on the above we can understand that feeding the students different types of lunch have a significant effect on the students performance in the three scores from math, reading and writing."
   ]
  },
  {
   "cell_type": "markdown",
   "metadata": {},
   "source": [
    "3. Does the test preparation course seem to have an effect on the exam performances?"
   ]
  },
  {
   "cell_type": "code",
   "execution_count": 50,
   "metadata": {},
   "outputs": [
    {
     "data": {
      "text/plain": [
       "array(['none', 'completed'], dtype=object)"
      ]
     },
     "execution_count": 50,
     "metadata": {},
     "output_type": "execute_result"
    }
   ],
   "source": [
    "students_performance['test preparation course'].unique()"
   ]
  },
  {
   "cell_type": "markdown",
   "metadata": {},
   "source": [
    "first since the 'none' category will be treated as 'nan' lets redefine it and change its name to differenciate it from 'nan'.Lets replace 'none' with not completed."
   ]
  },
  {
   "cell_type": "code",
   "execution_count": 62,
   "metadata": {},
   "outputs": [
    {
     "data": {
      "text/plain": [
       "array(['not_completed', 'completed'], dtype=object)"
      ]
     },
     "execution_count": 62,
     "metadata": {},
     "output_type": "execute_result"
    }
   ],
   "source": [
    "students_performance['nonull_test_preparation_course'] = students_performance['test preparation course'].str.replace('none', 'not_completed')\n",
    "students_performance['nonull_test_preparation_course'].unique()"
   ]
  },
  {
   "cell_type": "code",
   "execution_count": 63,
   "metadata": {},
   "outputs": [
    {
     "name": "stdout",
     "output_type": "stream",
     "text": [
      "Ttest_indResult(statistic=array([ 5.70461642,  7.87166354, 10.40917344]), pvalue=array([1.53591346e-08, 9.08178334e-15, 3.68529174e-24]))\n"
     ]
    }
   ],
   "source": [
    "print(ttest_ind(students_performance[students_performance['nonull_test_preparation_course'] == 'completed'][['math score'\n",
    "                                                                                  , 'reading score'\n",
    "                                                                                  , 'writing score']]\n",
    "               ,students_performance[students_performance['nonull_test_preparation_course'] == 'not_completed'][['math score'\n",
    "                                                                                  , 'reading score'\n",
    "                                                                                  , 'writing score']]))"
   ]
  },
  {
   "cell_type": "markdown",
   "metadata": {},
   "source": [
    "From the Ttest p_values result in the above there is a signifficant effect on the three scores whether a student completed a prep. course or not."
   ]
  },
  {
   "cell_type": "markdown",
   "metadata": {},
   "source": [
    "4. Which 2 exam scores are most correlated with each other?"
   ]
  },
  {
   "cell_type": "markdown",
   "metadata": {},
   "source": [
    "we can answer this question using the correlation function(.corr()) or ussing visualization function .heatmap() in seaborn."
   ]
  },
  {
   "cell_type": "code",
   "execution_count": 71,
   "metadata": {},
   "outputs": [],
   "source": [
    "correlations = students_performance.corr()"
   ]
  },
  {
   "cell_type": "markdown",
   "metadata": {},
   "source": [
    "from the above correlation dataframe we can see that 'reading score' and 'writing score' have the highest correlation coefficient i.e 0.954598."
   ]
  },
  {
   "cell_type": "code",
   "execution_count": 74,
   "metadata": {},
   "outputs": [
    {
     "data": {
      "image/png": "[encoded data removed]",
      "text/plain": [
       "<Figure size 432x288 with 2 Axes>"
      ]
     },
     "metadata": {},
     "output_type": "display_data"
    }
   ],
   "source": [
    "sns.heatmap(correlations, square=True, annot=True, linewidths=.5);"
   ]
  },
  {
   "cell_type": "markdown",
   "metadata": {},
   "source": [
    "From the above heatmap plot we can see the orange colored is the highest value when we correlate two different variables('reading score','writing score') and it is rounded to 0.95."
   ]
  },
  {
   "cell_type": "code",
   "execution_count": null,
   "metadata": {},
   "outputs": [],
   "source": []
  }
 ],
 "metadata": {
  "kernelspec": {
   "display_name": "Python 3",
   "language": "python",
   "name": "python3"
  },
  "language_info": {
   "codemirror_mode": {
    "name": "ipython",
    "version": 3
   },
   "file_extension": ".py",
   "mimetype": "text/x-python",
   "name": "python",
   "nbconvert_exporter": "python",
   "pygments_lexer": "ipython3",
   "version": "3.7.3"
  }
 },
 "nbformat": 4,
 "nbformat_minor": 2
}
