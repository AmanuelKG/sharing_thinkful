{
 "cells": [
  {
   "cell_type": "markdown",
   "metadata": {},
   "source": [
    "## variable Types"
   ]
  },
  {
   "cell_type": "markdown",
   "metadata": {},
   "source": [
    "1. Consider the advantages and disadvantages of treating the Rank variable as categorical. Discuss your arguments with your mentor."
   ]
  },
  {
   "cell_type": "markdown",
   "metadata": {},
   "source": [
    "The advantage is that we can have a thorough and clear visuals of our data in a sence that we understand the rank of each and every data point,however we can not aggregate our data efficiently because the rank variable will not allow it unless it is excluded from the columns.Another disadvantage is we cannot manipulate it to fit for several statistical analysis as when it is treated as a continous variable.for eg. if treated as continuous we can divide the rank in to several ranges,or we can use it for easy percentile calculations."
   ]
  },
  {
   "cell_type": "markdown",
   "metadata": {},
   "source": [
    "2. What are the types of the following variables?<br/>\n",
    "**Age:** can be Countinuous and categorical<br/>\n",
    "**Salary:** mainly continuous but can be treated as categorical at times.it depends on the analysis purpose.<br/>\n",
    "**Revenue:**mainly continuous but can be treated as categorical at times.it depends on the analysis purpose.<br/>\n",
    "**Customer type:** categorical<br/>\n",
    "**Stock price:** continuous<br/>\n"
   ]
  },
  {
   "cell_type": "code",
   "execution_count": null,
   "metadata": {},
   "outputs": [],
   "source": []
  }
 ],
 "metadata": {
  "kernelspec": {
   "display_name": "Python 3",
   "language": "python",
   "name": "python3"
  },
  "language_info": {
   "codemirror_mode": {
    "name": "ipython",
    "version": 3
   },
   "file_extension": ".py",
   "mimetype": "text/x-python",
   "name": "python",
   "nbconvert_exporter": "python",
   "pygments_lexer": "ipython3",
   "version": "3.7.3"
  }
 },
 "nbformat": 4,
 "nbformat_minor": 2
}
