{
 "cells": [
  {
   "cell_type": "markdown",
   "metadata": {},
   "source": [
    "### What Models Do"
   ]
  },
  {
   "cell_type": "markdown",
   "metadata": {},
   "source": [
    "**1.Try to model the result of a coin toss. In your model, include any features that you think important in explaining the result. Discuss with your mentor about the pros and cons of adding too many features into your model.**"
   ]
  },
  {
   "cell_type": "markdown",
   "metadata": {},
   "source": [
    "* The weight of the coin\n",
    "* the Thikness of the coin\n",
    "* The smoothness of the surface(engraving) of the coin\n",
    "* The style the coin is tossed\n",
    "* The angle of toss of the coin with the surface \n",
    "* The height of the toss\n",
    "* The height of the fall\n",
    "* simple toss or rotating toss\n",
    "* The inclination of the surface of fall\n",
    "* The smoothness of the surface of fall\n",
    "* The bouncing forse of the surface of fall .....etc."
   ]
  },
  {
   "cell_type": "markdown",
   "metadata": {},
   "source": [
    "The pros of adding too many features:\n",
    "* It addresses all the variances caused by as many features as possible when fitting the model, which helps the precission.\n",
    "Cons:\n",
    "* The curse of dimensionality\n",
    "* adding less significant complexity "
   ]
  },
  {
   "cell_type": "markdown",
   "metadata": {},
   "source": [
    "**2. If you ever used Netflix, you should already have realized that it provides some recommendations for you to watch. In data science, this is an example of the so-called recommendations systems. Read this nontechnical blog post of [Netflix](https://help.netflix.com/en/node/100639) about how they model their recommendations systems. Then, derive the features they use in their recommendations engines and discuss what else can be incorporated into this model.**"
   ]
  },
  {
   "cell_type": "markdown",
   "metadata": {},
   "source": [
    "From the mention in the blog post the following features can be drived as part of their recommendation system.\n",
    "* people's interactions with their service (such as our viewing history and how we rated other titles),\n",
    "* other members with similar tastes and preferences on their service, and\n",
    "* information about the titles, such as their genre, categories, actors, release year, etc.\n",
    "* the time of day we watch,\n",
    "* the devices we are watching Netflix on, and\n",
    "* how long we watch."
   ]
  },
  {
   "cell_type": "markdown",
   "metadata": {},
   "source": [
    "From my perspective i think it would be significant if they include \n",
    "* demographic features\n",
    "* location of viewer"
   ]
  },
  {
   "cell_type": "code",
   "execution_count": null,
   "metadata": {},
   "outputs": [],
   "source": []
  }
 ],
 "metadata": {
  "kernelspec": {
   "display_name": "Python 3",
   "language": "python",
   "name": "python3"
  },
  "language_info": {
   "codemirror_mode": {
    "name": "ipython",
    "version": 3
   },
   "file_extension": ".py",
   "mimetype": "text/x-python",
   "name": "python",
   "nbconvert_exporter": "python",
   "pygments_lexer": "ipython3",
   "version": "3.7.3"
  }
 },
 "nbformat": 4,
 "nbformat_minor": 2
}
