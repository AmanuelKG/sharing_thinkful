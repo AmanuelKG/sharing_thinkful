{
 "cells": [
  {
   "cell_type": "markdown",
   "metadata": {},
   "source": [
    "## SQL FOR DATA SCIENTIST ASSIGNMENTS SOLUTIONS"
   ]
  },
  {
   "cell_type": "markdown",
   "metadata": {},
   "source": [
    "1.The IDs and durations for all trips of duration greater than 500, ordered by duration."
   ]
  },
  {
   "cell_type": "markdown",
   "metadata": {},
   "source": [
    "~~~ mysql\n",
    "SELECT trip_id,duration \n",
    "FROM trips\n",
    "WHERE duration > 500\n",
    "~~~"
   ]
  },
  {
   "cell_type": "markdown",
   "metadata": {},
   "source": [
    "2.Every column of the stations table for station id 84."
   ]
  },
  {
   "cell_type": "markdown",
   "metadata": {},
   "source": [
    "~~~ mysql\n",
    "SELECT * \n",
    "FROM STATIONS\n",
    "WHERE station_id = 84\n",
    "~~~"
   ]
  },
  {
   "cell_type": "markdown",
   "metadata": {},
   "source": [
    "3.The min temperatures of all the occurrences of rain in zip 94301."
   ]
  },
  {
   "cell_type": "markdown",
   "metadata": {},
   "source": [
    "~~~ mysql\n",
    "SELECT mintemperaturef,events\n",
    "FROM weather\n",
    "WHERE zip = 94301 AND events LIKE 'Rain'\n",
    "~~~"
   ]
  },
  {
   "cell_type": "markdown",
   "metadata": {},
   "source": [
    "**------AGGREGATING AND GROUPING-----------**"
   ]
  },
  {
   "cell_type": "markdown",
   "metadata": {},
   "source": [
    "1.What was the hottest day in our data set? Where was that?\n",
    "~~~mysql\n",
    "SELECT date,zip,meantemperaturef AS hotest_temp\n",
    "FROM weather\n",
    "ORDER BY meantemperaturef DESC\n",
    "LIMIT 1\n",
    "~~~\n",
    "2.How many trips started at each station?\n",
    "~~~mysql\n",
    "SELECT start_station,\n",
    "COUNT(*) AS count_station\n",
    "FROM trips\n",
    "GROUP BY start_station\n",
    "~~~\n",
    "3.What's the shortest trip that happened?\n",
    "~~~mysql\n",
    "SELECT *\n",
    "FROM trips\n",
    "ORDER BY duration \n",
    "LIMIT 1;\n",
    "~~~\n",
    "4.What is the average trip duration, by end station?\n",
    "~~~mysql\n",
    "SELECT end_station,\n",
    "AVG(duration) AS average_duration\n",
    "FROM trips\n",
    "GROUP BY end_station\n",
    "~~~"
   ]
  },
  {
   "cell_type": "markdown",
   "metadata": {},
   "source": [
    "**-------------JOINS AND CTEs------------------------**\n",
    "\n",
    "1.What are the three longest trips on rainy days?\n",
    "~~~mysql\n",
    "WITH\n",
    "    rainyday\n",
    "AS (\n",
    "\tSELECT zip, events\n",
    "\tFROM \n",
    "\tweather\n",
    "\tWHERE events ='Rain'\n",
    "\t)\n",
    "SELECT t.*,r.events\n",
    "FROM\n",
    "rainyday r\n",
    "JOIN\n",
    "trips t\n",
    "ON\n",
    "t.zip_code = r.zip\n",
    "ORDER BY t.duration DESC LIMIT 3\n",
    "~~~\n",
    "2.Which station is full most often?\n",
    "~~~mysql\n",
    "WITH\n",
    "  docksfull\n",
    "AS(SELECT station_id,COUNT(docks_available) AS counts\n",
    "  FROM status\n",
    "  WHERE docks_available = 0\n",
    "  GROUP BY station_id\n",
    "   )\n",
    "   \n",
    "SELECT s.*, d.counts\n",
    "FROM\n",
    "docksfull d\n",
    "JOIN\n",
    "stations s\n",
    "ON\n",
    "d.station_id = s.station_id\n",
    "ORDER BY d.counts DESC LIMIT 1\n",
    "~~~\n",
    "3.Return a list of stations with a count of number of trips starting at that station but ordered by dock count.\n",
    "~~~mysql\n",
    "WITH\n",
    "   trip_table\n",
    "AS (\n",
    "    SELECT start_station,\n",
    "\t       COUNT(start_station) AS count_no_trips\n",
    "\tFROM \n",
    "\ttrips \n",
    "\tGROUP BY start_station\n",
    ") \n",
    "SELECT s.*,t.count_no_trips\n",
    "FROM\n",
    "stations s\n",
    "JOIN\n",
    "trip_table t\n",
    "ON\n",
    "s.name = t.start_station\n",
    "ORDER BY dockcount\n",
    "~~~\n",
    "4.(Challenge) What's the length of the longest trip for each day it rains anywhere?\n",
    "~~~mysql\n",
    "WITH\n",
    "trips_per_day\n",
    "As(\n",
    "   SELECT start_date,\n",
    "\t     MAX(duration) as max_duration\n",
    "\tFROM \n",
    "\t    trips\n",
    "\tGROUP BY start_date\n",
    "),\n",
    "rainydays\n",
    "AS(\n",
    "   SELECT date,events\n",
    "\tFROM\n",
    "\tweather\n",
    "\tWHERE events = 'Rain'\n",
    ")\n",
    "SELECT t.start_date,r.events, MAX(max_duration) as max_duration\n",
    "FROM\n",
    "trips_per_day t\n",
    "JOIN\n",
    "rainydays r\n",
    "ON\n",
    "DATE(t.start_date) = DATE(r.date)\n",
    "GROUP BY t.start_date,r.events, t.max_duration\n",
    "ORDER BY max_duration DESC\n",
    "~~~"
   ]
  },
  {
   "cell_type": "code",
   "execution_count": null,
   "metadata": {},
   "outputs": [],
   "source": []
  }
 ],
 "metadata": {
  "kernelspec": {
   "display_name": "Python 3",
   "language": "python",
   "name": "python3"
  },
  "language_info": {
   "codemirror_mode": {
    "name": "ipython",
    "version": 3
   },
   "file_extension": ".py",
   "mimetype": "text/x-python",
   "name": "python",
   "nbconvert_exporter": "python",
   "pygments_lexer": "ipython3",
   "version": "3.7.3"
  }
 },
 "nbformat": 4,
 "nbformat_minor": 2
}
