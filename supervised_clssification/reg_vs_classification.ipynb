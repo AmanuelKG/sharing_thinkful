{
 "cells": [
  {
   "cell_type": "markdown",
   "metadata": {},
   "source": [
    "### Regressoin vs classification"
   ]
  },
  {
   "cell_type": "markdown",
   "metadata": {},
   "source": [
    "**1. The amount a person will spend on a given site in the next 24 months.**<br/>\n",
    "a ratio regression variable<br/>\n",
    "**2. What color car someone is going to buy.**<br/>\n",
    "nominal classification variable<br/>\n",
    "**3. How many children a family will have.**<br/>\n",
    "It can be a ratio regression or classification <br/>\n",
    "**4. If someone will sign up for a service.**<br/>\n",
    "nominal classification<br/>\n",
    "**5. The number of times someone will get sick in a year.**<br/>\n",
    "ratio regression<br/>\n",
    "**6. The probability someone will get sick in the next month.**<br/>\n",
    "ratio regression<br/>\n",
    "**7. Which medicine will work best for a given patient.**<br/>\n",
    "nominal classification<br/>"
   ]
  },
  {
   "cell_type": "code",
   "execution_count": null,
   "metadata": {},
   "outputs": [],
   "source": []
  }
 ],
 "metadata": {
  "kernelspec": {
   "display_name": "Python 3",
   "language": "python",
   "name": "python3"
  },
  "language_info": {
   "codemirror_mode": {
    "name": "ipython",
    "version": 3
   },
   "file_extension": ".py",
   "mimetype": "text/x-python",
   "name": "python",
   "nbconvert_exporter": "python",
   "pygments_lexer": "ipython3",
   "version": "3.7.3"
  }
 },
 "nbformat": 4,
 "nbformat_minor": 2
}
