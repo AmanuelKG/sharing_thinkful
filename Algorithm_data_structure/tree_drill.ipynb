{
 "cells": [
  {
   "cell_type": "markdown",
   "metadata": {},
   "source": [
    "### simple Breath First Traversal"
   ]
  },
  {
   "cell_type": "code",
   "execution_count": 4,
   "metadata": {},
   "outputs": [],
   "source": [
    "import sys\n",
    "import random\n",
    "    \n",
    "def get_breadth_first_nodes(root):\n",
    "    nodes = []\n",
    "    stack = [root]\n",
    "    while stack:\n",
    "        cur_node = stack[0]\n",
    "        stack = stack[1:]\n",
    "        nodes.append(cur_node)\n",
    "        #Our assumption is the children are listed left - right(in case of binary tree first child is left node, \n",
    "        # the second child is the right node)\n",
    "        for child in cur_node.get_children():\n",
    "            stack.append(child)\n",
    "    return nodes\n",
    "#Lets define the Node class\n",
    "class Node(object):\n",
    "    def __init__(self, id_):\n",
    "        self.id = id_\n",
    "        self.children = []\n",
    "        \n",
    "    def __repr__(self):\n",
    "        return \"Node: [%s]\" % self.id\n",
    "    \n",
    "    def add_child(self, node):\n",
    "        self.children.append(node) \n",
    "    \n",
    "    def get_children(self):\n",
    "        return self.children         \n",
    "    \n",
    "    def get_rev_children(self):\n",
    "        children = self.children[:]\n",
    "        children.reverse()\n",
    "        return children  \n",
    "    "
   ]
  },
  {
   "cell_type": "code",
   "execution_count": 16,
   "metadata": {},
   "outputs": [],
   "source": [
    " \n",
    "def make_test_tree():\n",
    "    a0 = Node(random.randint(0,99))\n",
    "    b0 = Node(random.randint(0,99))      \n",
    "    b1 = Node(random.randint(0,99))      \n",
    "    c0 = Node(random.randint(0,99))      \n",
    "    c1 = Node(random.randint(0,99))  \n",
    "    d0 = Node(random.randint(0,99))\n",
    "    d1 = Node(random.randint(0,99))\n",
    "    e0 = Node(random.randint(0,99))\n",
    "    e1 = Node(random.randint(0,99))\n",
    "    f0 = Node(random.randint(0,99))\n",
    "    f1 = Node(random.randint(0,99))\n",
    "    g0 = Node(random.randint(0,99))\n",
    "    g1 = Node(random.randint(0,99))\n",
    "    h0 = Node(random.randint(0,99))\n",
    "    h1 = Node(random.randint(0,99))\n",
    "    \n",
    "    a0.add_child(b0) \n",
    "    a0.add_child(b1) \n",
    "    \n",
    "    b0.add_child(c0) \n",
    "    b0.add_child(c1) \n",
    "    \n",
    "    b1.add_child(d0)\n",
    "    b1.add_child(d1)\n",
    "    \n",
    "    c0.add_child(e0)\n",
    "    c0.add_child(e1)\n",
    "    \n",
    "    c1.add_child(f0)\n",
    "    c1.add_child(f1)\n",
    "    \n",
    "    d0.add_child(g0)\n",
    "    d0.add_child(g1)\n",
    "    \n",
    "    d1.add_child(h0)\n",
    "    d1.add_child(h1)\n",
    "        \n",
    "    return a0                  "
   ]
  },
  {
   "cell_type": "code",
   "execution_count": 18,
   "metadata": {},
   "outputs": [],
   "source": [
    "def test_breadth_first_nodes():\n",
    "    root = make_test_tree()\n",
    "    node_list = get_breadth_first_nodes(root)\n",
    "    for node in node_list:\n",
    "        print(str(node))"
   ]
  },
  {
   "cell_type": "code",
   "execution_count": 19,
   "metadata": {},
   "outputs": [
    {
     "name": "stdout",
     "output_type": "stream",
     "text": [
      "[Node: [18], Node: [43], Node: [49], Node: [67], Node: [2], Node: [55], Node: [18], Node: [77], Node: [40], Node: [34], Node: [4], Node: [58], Node: [97], Node: [56], Node: [77]]\n"
     ]
    }
   ],
   "source": [
    "print(get_breadth_first_nodes(make_test_tree()))"
   ]
  },
  {
   "cell_type": "code",
   "execution_count": null,
   "metadata": {},
   "outputs": [],
   "source": []
  }
 ],
 "metadata": {
  "kernelspec": {
   "display_name": "Python 3",
   "language": "python",
   "name": "python3"
  },
  "language_info": {
   "codemirror_mode": {
    "name": "ipython",
    "version": 3
   },
   "file_extension": ".py",
   "mimetype": "text/x-python",
   "name": "python",
   "nbconvert_exporter": "python",
   "pygments_lexer": "ipython3",
   "version": "3.7.3"
  }
 },
 "nbformat": 4,
 "nbformat_minor": 2
}
