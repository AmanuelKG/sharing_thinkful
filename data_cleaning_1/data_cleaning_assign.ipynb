{
 "cells": [
  {
   "cell_type": "code",
   "execution_count": 38,
   "metadata": {},
   "outputs": [],
   "source": [
    "import pandas as pd\n",
    "import numpy as np\n",
    "import matplotlib.pyplot as plt\n",
    "import seaborn as sns"
   ]
  },
  {
   "cell_type": "code",
   "execution_count": 40,
   "metadata": {},
   "outputs": [],
   "source": [
    "df = pd.read_csv('/Users/ema/projects/sharing_thinkful/data_cleaning_1/APCspend2013.csv', encoding = 'latin-1')"
   ]
  },
  {
   "cell_type": "code",
   "execution_count": 41,
   "metadata": {},
   "outputs": [
    {
     "data": {
      "text/html": [
       "<div>\n",
       "<style scoped>\n",
       "    .dataframe tbody tr th:only-of-type {\n",
       "        vertical-align: middle;\n",
       "    }\n",
       "\n",
       "    .dataframe tbody tr th {\n",
       "        vertical-align: top;\n",
       "    }\n",
       "\n",
       "    .dataframe thead th {\n",
       "        text-align: right;\n",
       "    }\n",
       "</style>\n",
       "<table border=\"1\" class=\"dataframe\">\n",
       "  <thead>\n",
       "    <tr style=\"text-align: right;\">\n",
       "      <th></th>\n",
       "      <th>PMID/PMCID</th>\n",
       "      <th>Publisher</th>\n",
       "      <th>Journal title</th>\n",
       "      <th>Article title</th>\n",
       "      <th>COST (£) charged to Wellcome (inc VAT when charged)</th>\n",
       "    </tr>\n",
       "  </thead>\n",
       "  <tbody>\n",
       "    <tr>\n",
       "      <th>0</th>\n",
       "      <td>NaN</td>\n",
       "      <td>CUP</td>\n",
       "      <td>Psychological Medicine</td>\n",
       "      <td>Reduced parahippocampal cortical thickness in ...</td>\n",
       "      <td>£0.00</td>\n",
       "    </tr>\n",
       "    <tr>\n",
       "      <th>1</th>\n",
       "      <td>PMC3679557</td>\n",
       "      <td>ACS</td>\n",
       "      <td>Biomacromolecules</td>\n",
       "      <td>Structural characterization of a Model Gram-ne...</td>\n",
       "      <td>£2381.04</td>\n",
       "    </tr>\n",
       "    <tr>\n",
       "      <th>2</th>\n",
       "      <td>23043264  PMC3506128</td>\n",
       "      <td>ACS</td>\n",
       "      <td>J Med Chem</td>\n",
       "      <td>Fumaroylamino-4,5-epoxymorphinans and related ...</td>\n",
       "      <td>£642.56</td>\n",
       "    </tr>\n",
       "    <tr>\n",
       "      <th>3</th>\n",
       "      <td>23438330 PMC3646402</td>\n",
       "      <td>ACS</td>\n",
       "      <td>J Med Chem</td>\n",
       "      <td>Orvinols with mixed kappa/mu opioid receptor a...</td>\n",
       "      <td>£669.64</td>\n",
       "    </tr>\n",
       "    <tr>\n",
       "      <th>4</th>\n",
       "      <td>23438216 PMC3601604</td>\n",
       "      <td>ACS</td>\n",
       "      <td>J Org Chem</td>\n",
       "      <td>Regioselective opening of myo-inositol orthoes...</td>\n",
       "      <td>£685.88</td>\n",
       "    </tr>\n",
       "  </tbody>\n",
       "</table>\n",
       "</div>"
      ],
      "text/plain": [
       "              PMID/PMCID Publisher           Journal title  \\\n",
       "0                    NaN       CUP  Psychological Medicine   \n",
       "1             PMC3679557       ACS       Biomacromolecules   \n",
       "2  23043264  PMC3506128        ACS              J Med Chem   \n",
       "3    23438330 PMC3646402       ACS              J Med Chem   \n",
       "4   23438216 PMC3601604        ACS              J Org Chem   \n",
       "\n",
       "                                       Article title  \\\n",
       "0  Reduced parahippocampal cortical thickness in ...   \n",
       "1  Structural characterization of a Model Gram-ne...   \n",
       "2  Fumaroylamino-4,5-epoxymorphinans and related ...   \n",
       "3  Orvinols with mixed kappa/mu opioid receptor a...   \n",
       "4  Regioselective opening of myo-inositol orthoes...   \n",
       "\n",
       "  COST (£) charged to Wellcome (inc VAT when charged)  \n",
       "0                                              £0.00   \n",
       "1                                           £2381.04   \n",
       "2                                            £642.56   \n",
       "3                                            £669.64   \n",
       "4                                            £685.88   "
      ]
     },
     "execution_count": 41,
     "metadata": {},
     "output_type": "execute_result"
    }
   ],
   "source": [
    "df.head()"
   ]
  },
  {
   "cell_type": "markdown",
   "metadata": {},
   "source": [
    "*On the basis of the information on the readme file and our visual observation of this data,For a its proper usage and manipulation and also precision of our statistical data analysis,we have some cleaning work to do.*"
   ]
  },
  {
   "cell_type": "markdown",
   "metadata": {},
   "source": [
    "*Thus in order to determine the five most common journals and the total articles for each them,the number one\n",
    "challenge is seeing the same journal writen different ways.Some of them are abbreviated and some of them are shortened which is difficult to run it as is as it will treat the same journals as different and this inturn messes our analysis.eg. 'J Med Chem' is the same as 'Journal of Medicinal Chemistry' but treated as different category.We also do not have information as wheather they are really the same or they just look the same.so to clean all it requires conciderable amount of time and manual work.*\n"
   ]
  },
  {
   "cell_type": "markdown",
   "metadata": {},
   "source": [
    "lets remove the null values from our main study variable."
   ]
  },
  {
   "cell_type": "code",
   "execution_count": 42,
   "metadata": {},
   "outputs": [],
   "source": [
    "Non_null_df = df.dropna(subset=['Journal title'])"
   ]
  },
  {
   "cell_type": "code",
   "execution_count": 8,
   "metadata": {},
   "outputs": [
    {
     "data": {
      "text/plain": [
       "0    Psychological Medicine\n",
       "1         Biomacromolecules\n",
       "2                J Med Chem\n",
       "3                J Med Chem\n",
       "4                J Org Chem\n",
       "Name: Journal title, dtype: object"
      ]
     },
     "execution_count": 8,
     "metadata": {},
     "output_type": "execute_result"
    }
   ],
   "source": [
    "import re\n",
    "Journal_title = Non_null_df['Journal title']\n",
    "Journal_title.head()"
   ]
  },
  {
   "cell_type": "markdown",
   "metadata": {},
   "source": [
    "From many of the values in the 'Journal title' field,we can read a common pattern that the same Journals' names are\n",
    "written differently but abbrevated to mean the same journal.So based on that pattern lets just take the first letter \n",
    "of each word in the journal title name and that way they have the same values."
   ]
  },
  {
   "cell_type": "code",
   "execution_count": 43,
   "metadata": {},
   "outputs": [
    {
     "data": {
      "text/html": [
       "<div>\n",
       "<style scoped>\n",
       "    .dataframe tbody tr th:only-of-type {\n",
       "        vertical-align: middle;\n",
       "    }\n",
       "\n",
       "    .dataframe tbody tr th {\n",
       "        vertical-align: top;\n",
       "    }\n",
       "\n",
       "    .dataframe thead th {\n",
       "        text-align: right;\n",
       "    }\n",
       "</style>\n",
       "<table border=\"1\" class=\"dataframe\">\n",
       "  <thead>\n",
       "    <tr style=\"text-align: right;\">\n",
       "      <th></th>\n",
       "      <th>PMID/PMCID</th>\n",
       "      <th>Publisher</th>\n",
       "      <th>Journal title_x</th>\n",
       "      <th>Article title</th>\n",
       "      <th>COST (£) charged to Wellcome (inc VAT when charged)</th>\n",
       "      <th>Journal title_y</th>\n",
       "      <th>Abrevated_JT</th>\n",
       "    </tr>\n",
       "  </thead>\n",
       "  <tbody>\n",
       "    <tr>\n",
       "      <th>0</th>\n",
       "      <td>NaN</td>\n",
       "      <td>CUP</td>\n",
       "      <td>Psychological Medicine</td>\n",
       "      <td>Reduced parahippocampal cortical thickness in ...</td>\n",
       "      <td>£0.00</td>\n",
       "      <td>[Psychological, Medicine]</td>\n",
       "      <td>PM</td>\n",
       "    </tr>\n",
       "    <tr>\n",
       "      <th>1</th>\n",
       "      <td>PMC3679557</td>\n",
       "      <td>ACS</td>\n",
       "      <td>Biomacromolecules</td>\n",
       "      <td>Structural characterization of a Model Gram-ne...</td>\n",
       "      <td>£2381.04</td>\n",
       "      <td>[Biomacromolecules]</td>\n",
       "      <td>B</td>\n",
       "    </tr>\n",
       "    <tr>\n",
       "      <th>2</th>\n",
       "      <td>23043264  PMC3506128</td>\n",
       "      <td>ACS</td>\n",
       "      <td>J Med Chem</td>\n",
       "      <td>Fumaroylamino-4,5-epoxymorphinans and related ...</td>\n",
       "      <td>£642.56</td>\n",
       "      <td>[J, Med, Chem]</td>\n",
       "      <td>JMC</td>\n",
       "    </tr>\n",
       "    <tr>\n",
       "      <th>3</th>\n",
       "      <td>23438330 PMC3646402</td>\n",
       "      <td>ACS</td>\n",
       "      <td>J Med Chem</td>\n",
       "      <td>Orvinols with mixed kappa/mu opioid receptor a...</td>\n",
       "      <td>£669.64</td>\n",
       "      <td>[J, Med, Chem]</td>\n",
       "      <td>JMC</td>\n",
       "    </tr>\n",
       "    <tr>\n",
       "      <th>4</th>\n",
       "      <td>23438216 PMC3601604</td>\n",
       "      <td>ACS</td>\n",
       "      <td>J Org Chem</td>\n",
       "      <td>Regioselective opening of myo-inositol orthoes...</td>\n",
       "      <td>£685.88</td>\n",
       "      <td>[J, Org, Chem]</td>\n",
       "      <td>JOC</td>\n",
       "    </tr>\n",
       "  </tbody>\n",
       "</table>\n",
       "</div>"
      ],
      "text/plain": [
       "              PMID/PMCID Publisher         Journal title_x  \\\n",
       "0                    NaN       CUP  Psychological Medicine   \n",
       "1             PMC3679557       ACS       Biomacromolecules   \n",
       "2  23043264  PMC3506128        ACS              J Med Chem   \n",
       "3    23438330 PMC3646402       ACS              J Med Chem   \n",
       "4   23438216 PMC3601604        ACS              J Org Chem   \n",
       "\n",
       "                                       Article title  \\\n",
       "0  Reduced parahippocampal cortical thickness in ...   \n",
       "1  Structural characterization of a Model Gram-ne...   \n",
       "2  Fumaroylamino-4,5-epoxymorphinans and related ...   \n",
       "3  Orvinols with mixed kappa/mu opioid receptor a...   \n",
       "4  Regioselective opening of myo-inositol orthoes...   \n",
       "\n",
       "  COST (£) charged to Wellcome (inc VAT when charged)  \\\n",
       "0                                              £0.00    \n",
       "1                                           £2381.04    \n",
       "2                                            £642.56    \n",
       "3                                            £669.64    \n",
       "4                                            £685.88    \n",
       "\n",
       "             Journal title_y Abrevated_JT  \n",
       "0  [Psychological, Medicine]           PM  \n",
       "1        [Biomacromolecules]            B  \n",
       "2             [J, Med, Chem]          JMC  \n",
       "3             [J, Med, Chem]          JMC  \n",
       "4             [J, Org, Chem]          JOC  "
      ]
     },
     "execution_count": 43,
     "metadata": {},
     "output_type": "execute_result"
    }
   ],
   "source": [
    "segment_jtitle = Journal_title.apply(lambda x: re.findall(r'[A-Z][a-z]*', x))\n",
    "segmented_df = pd.DataFrame(segment_jtitle)\n",
    "segmented_df.head()\n",
    "segmented_df['Abrevated_JT'] = segmented_df['Journal title'].apply(lambda x: ''.join(map(lambda y: y[0] , x)))\n",
    "new_df = Non_null_df.merge(segmented_df,right_index=True, left_index = True)\n",
    "new_df.head()"
   ]
  },
  {
   "cell_type": "markdown",
   "metadata": {},
   "source": [
    "we want to use the Cost field values for statistical quantitative data analysis.there fore we want convert the values \n",
    "to float getting ride of the currency sign."
   ]
  },
  {
   "cell_type": "code",
   "execution_count": 44,
   "metadata": {},
   "outputs": [],
   "source": [
    "new_df['Cost'] = new_df['COST (£) charged to Wellcome (inc VAT when charged)'].str.split('£').str[1]\n",
    "new_df['Cost'] = new_df['Cost'].apply(lambda x: float(x))"
   ]
  },
  {
   "cell_type": "code",
   "execution_count": 57,
   "metadata": {},
   "outputs": [
    {
     "data": {
      "text/html": [
       "<div>\n",
       "<style scoped>\n",
       "    .dataframe tbody tr th:only-of-type {\n",
       "        vertical-align: middle;\n",
       "    }\n",
       "\n",
       "    .dataframe tbody tr th {\n",
       "        vertical-align: top;\n",
       "    }\n",
       "\n",
       "    .dataframe thead th {\n",
       "        text-align: right;\n",
       "    }\n",
       "</style>\n",
       "<table border=\"1\" class=\"dataframe\">\n",
       "  <thead>\n",
       "    <tr style=\"text-align: right;\">\n",
       "      <th></th>\n",
       "      <th>PMID/PMCID</th>\n",
       "      <th>Publisher</th>\n",
       "      <th>Journal title_x</th>\n",
       "      <th>Article title</th>\n",
       "      <th>COST (£) charged to Wellcome (inc VAT when charged)</th>\n",
       "      <th>Journal title_y</th>\n",
       "      <th>Abrevated_JT</th>\n",
       "      <th>Cost</th>\n",
       "    </tr>\n",
       "  </thead>\n",
       "  <tbody>\n",
       "    <tr>\n",
       "      <th>0</th>\n",
       "      <td>NaN</td>\n",
       "      <td>CUP</td>\n",
       "      <td>Psychological Medicine</td>\n",
       "      <td>Reduced parahippocampal cortical thickness in ...</td>\n",
       "      <td>£0.00</td>\n",
       "      <td>[Psychological, Medicine]</td>\n",
       "      <td>PM</td>\n",
       "      <td>0.00</td>\n",
       "    </tr>\n",
       "    <tr>\n",
       "      <th>1</th>\n",
       "      <td>PMC3679557</td>\n",
       "      <td>ACS</td>\n",
       "      <td>Biomacromolecules</td>\n",
       "      <td>Structural characterization of a Model Gram-ne...</td>\n",
       "      <td>£2381.04</td>\n",
       "      <td>[Biomacromolecules]</td>\n",
       "      <td>B</td>\n",
       "      <td>2381.04</td>\n",
       "    </tr>\n",
       "    <tr>\n",
       "      <th>2</th>\n",
       "      <td>23043264  PMC3506128</td>\n",
       "      <td>ACS</td>\n",
       "      <td>J Med Chem</td>\n",
       "      <td>Fumaroylamino-4,5-epoxymorphinans and related ...</td>\n",
       "      <td>£642.56</td>\n",
       "      <td>[J, Med, Chem]</td>\n",
       "      <td>JMC</td>\n",
       "      <td>642.56</td>\n",
       "    </tr>\n",
       "    <tr>\n",
       "      <th>3</th>\n",
       "      <td>23438330 PMC3646402</td>\n",
       "      <td>ACS</td>\n",
       "      <td>J Med Chem</td>\n",
       "      <td>Orvinols with mixed kappa/mu opioid receptor a...</td>\n",
       "      <td>£669.64</td>\n",
       "      <td>[J, Med, Chem]</td>\n",
       "      <td>JMC</td>\n",
       "      <td>669.64</td>\n",
       "    </tr>\n",
       "    <tr>\n",
       "      <th>4</th>\n",
       "      <td>23438216 PMC3601604</td>\n",
       "      <td>ACS</td>\n",
       "      <td>J Org Chem</td>\n",
       "      <td>Regioselective opening of myo-inositol orthoes...</td>\n",
       "      <td>£685.88</td>\n",
       "      <td>[J, Org, Chem]</td>\n",
       "      <td>JOC</td>\n",
       "      <td>685.88</td>\n",
       "    </tr>\n",
       "  </tbody>\n",
       "</table>\n",
       "</div>"
      ],
      "text/plain": [
       "              PMID/PMCID Publisher         Journal title_x  \\\n",
       "0                    NaN       CUP  Psychological Medicine   \n",
       "1             PMC3679557       ACS       Biomacromolecules   \n",
       "2  23043264  PMC3506128        ACS              J Med Chem   \n",
       "3    23438330 PMC3646402       ACS              J Med Chem   \n",
       "4   23438216 PMC3601604        ACS              J Org Chem   \n",
       "\n",
       "                                       Article title  \\\n",
       "0  Reduced parahippocampal cortical thickness in ...   \n",
       "1  Structural characterization of a Model Gram-ne...   \n",
       "2  Fumaroylamino-4,5-epoxymorphinans and related ...   \n",
       "3  Orvinols with mixed kappa/mu opioid receptor a...   \n",
       "4  Regioselective opening of myo-inositol orthoes...   \n",
       "\n",
       "  COST (£) charged to Wellcome (inc VAT when charged)  \\\n",
       "0                                              £0.00    \n",
       "1                                           £2381.04    \n",
       "2                                            £642.56    \n",
       "3                                            £669.64    \n",
       "4                                            £685.88    \n",
       "\n",
       "             Journal title_y Abrevated_JT     Cost  \n",
       "0  [Psychological, Medicine]           PM     0.00  \n",
       "1        [Biomacromolecules]            B  2381.04  \n",
       "2             [J, Med, Chem]          JMC   642.56  \n",
       "3             [J, Med, Chem]          JMC   669.64  \n",
       "4             [J, Org, Chem]          JOC   685.88  "
      ]
     },
     "execution_count": 57,
     "metadata": {},
     "output_type": "execute_result"
    }
   ],
   "source": [
    "new_df.head()"
   ]
  },
  {
   "cell_type": "markdown",
   "metadata": {},
   "source": [
    "*To complete this challenge, determine the five most common journals and the total articles for each?\n",
    "the number one question in mind for answering this question is,what determines the commonity of journals.Are they common based on their cost or number of articles in each journal?or there is a secret code in the PMID/PMCID?In this case lets try to determine that based on the number of articles in each journal.*"
   ]
  },
  {
   "cell_type": "code",
   "execution_count": 45,
   "metadata": {},
   "outputs": [
    {
     "data": {
      "text/plain": [
       "PLSO      92\n",
       "PLSONE    65\n",
       "JBC       59\n",
       "N         55\n",
       "B         45\n",
       "Name: Abrevated_JT, dtype: int64"
      ]
     },
     "execution_count": 45,
     "metadata": {},
     "output_type": "execute_result"
    }
   ],
   "source": [
    "new_df['Abrevated_JT'].value_counts().head()"
   ]
  },
  {
   "cell_type": "code",
   "execution_count": 46,
   "metadata": {},
   "outputs": [
    {
     "data": {
      "text/html": [
       "<div>\n",
       "<style scoped>\n",
       "    .dataframe tbody tr th:only-of-type {\n",
       "        vertical-align: middle;\n",
       "    }\n",
       "\n",
       "    .dataframe tbody tr th {\n",
       "        vertical-align: top;\n",
       "    }\n",
       "\n",
       "    .dataframe thead th {\n",
       "        text-align: right;\n",
       "    }\n",
       "</style>\n",
       "<table border=\"1\" class=\"dataframe\">\n",
       "  <thead>\n",
       "    <tr style=\"text-align: right;\">\n",
       "      <th></th>\n",
       "      <th>Abrevated_JT</th>\n",
       "      <th>Journal title_x</th>\n",
       "    </tr>\n",
       "  </thead>\n",
       "  <tbody>\n",
       "    <tr>\n",
       "      <th>1296</th>\n",
       "      <td>PLSO</td>\n",
       "      <td>PLoS One</td>\n",
       "    </tr>\n",
       "    <tr>\n",
       "      <th>1305</th>\n",
       "      <td>PLSO</td>\n",
       "      <td>PLoS One</td>\n",
       "    </tr>\n",
       "  </tbody>\n",
       "</table>\n",
       "</div>"
      ],
      "text/plain": [
       "     Abrevated_JT Journal title_x\n",
       "1296         PLSO        PLoS One\n",
       "1305         PLSO        PLoS One"
      ]
     },
     "execution_count": 46,
     "metadata": {},
     "output_type": "execute_result"
    }
   ],
   "source": [
    "new_df[['Abrevated_JT','Journal title_x']][new_df['Abrevated_JT'] == 'PLSO'].head(2)"
   ]
  },
  {
   "cell_type": "code",
   "execution_count": 13,
   "metadata": {},
   "outputs": [
    {
     "data": {
      "text/html": [
       "<div>\n",
       "<style scoped>\n",
       "    .dataframe tbody tr th:only-of-type {\n",
       "        vertical-align: middle;\n",
       "    }\n",
       "\n",
       "    .dataframe tbody tr th {\n",
       "        vertical-align: top;\n",
       "    }\n",
       "\n",
       "    .dataframe thead th {\n",
       "        text-align: right;\n",
       "    }\n",
       "</style>\n",
       "<table border=\"1\" class=\"dataframe\">\n",
       "  <thead>\n",
       "    <tr style=\"text-align: right;\">\n",
       "      <th></th>\n",
       "      <th>Abrevated_JT</th>\n",
       "      <th>Journal title_x</th>\n",
       "    </tr>\n",
       "  </thead>\n",
       "  <tbody>\n",
       "    <tr>\n",
       "      <th>1282</th>\n",
       "      <td>PLSONE</td>\n",
       "      <td>PLoS ONE</td>\n",
       "    </tr>\n",
       "    <tr>\n",
       "      <th>1284</th>\n",
       "      <td>PLSONE</td>\n",
       "      <td>PLoS ONE</td>\n",
       "    </tr>\n",
       "  </tbody>\n",
       "</table>\n",
       "</div>"
      ],
      "text/plain": [
       "     Abrevated_JT Journal title_x\n",
       "1282       PLSONE        PLoS ONE\n",
       "1284       PLSONE        PLoS ONE"
      ]
     },
     "execution_count": 13,
     "metadata": {},
     "output_type": "execute_result"
    }
   ],
   "source": [
    "new_df[['Abrevated_JT','Journal title_x']][new_df['Abrevated_JT'] == 'PLSONE'].head(2)"
   ]
  },
  {
   "cell_type": "markdown",
   "metadata": {},
   "source": [
    "from the two above senarios we can learn that we still have more cleaning work to do.The two Journal titles are \n",
    "spelled in different capslog.so lets try to fix that at the top of the equation before we abrevate it."
   ]
  },
  {
   "cell_type": "code",
   "execution_count": 14,
   "metadata": {},
   "outputs": [
    {
     "data": {
      "text/plain": [
       "0    Psychological Medicine\n",
       "1         Biomacromolecules\n",
       "2                J Med Chem\n",
       "3                J Med Chem\n",
       "4                J Org Chem\n",
       "Name: Journal title, dtype: object"
      ]
     },
     "execution_count": 14,
     "metadata": {},
     "output_type": "execute_result"
    }
   ],
   "source": [
    "jr_title = Journal_title.apply(lambda f: ' '.join(map(lambda g: g.capitalize(),f.split())))\n",
    "jr_title.head()"
   ]
  },
  {
   "cell_type": "code",
   "execution_count": 55,
   "metadata": {},
   "outputs": [
    {
     "data": {
      "text/html": [
       "<div>\n",
       "<style scoped>\n",
       "    .dataframe tbody tr th:only-of-type {\n",
       "        vertical-align: middle;\n",
       "    }\n",
       "\n",
       "    .dataframe tbody tr th {\n",
       "        vertical-align: top;\n",
       "    }\n",
       "\n",
       "    .dataframe thead th {\n",
       "        text-align: right;\n",
       "    }\n",
       "</style>\n",
       "<table border=\"1\" class=\"dataframe\">\n",
       "  <thead>\n",
       "    <tr style=\"text-align: right;\">\n",
       "      <th></th>\n",
       "      <th>PMID/PMCID</th>\n",
       "      <th>Publisher</th>\n",
       "      <th>Journal title_x</th>\n",
       "      <th>Article title</th>\n",
       "      <th>COST (£) charged to Wellcome (inc VAT when charged)</th>\n",
       "      <th>Journal title_y</th>\n",
       "      <th>Abrevated_JT</th>\n",
       "    </tr>\n",
       "  </thead>\n",
       "  <tbody>\n",
       "    <tr>\n",
       "      <th>0</th>\n",
       "      <td>NaN</td>\n",
       "      <td>CUP</td>\n",
       "      <td>Psychological Medicine</td>\n",
       "      <td>Reduced parahippocampal cortical thickness in ...</td>\n",
       "      <td>£0.00</td>\n",
       "      <td>[Psychological, Medicine]</td>\n",
       "      <td>PM</td>\n",
       "    </tr>\n",
       "    <tr>\n",
       "      <th>1</th>\n",
       "      <td>PMC3679557</td>\n",
       "      <td>ACS</td>\n",
       "      <td>Biomacromolecules</td>\n",
       "      <td>Structural characterization of a Model Gram-ne...</td>\n",
       "      <td>£2381.04</td>\n",
       "      <td>[Biomacromolecules]</td>\n",
       "      <td>B</td>\n",
       "    </tr>\n",
       "    <tr>\n",
       "      <th>2</th>\n",
       "      <td>23043264  PMC3506128</td>\n",
       "      <td>ACS</td>\n",
       "      <td>J Med Chem</td>\n",
       "      <td>Fumaroylamino-4,5-epoxymorphinans and related ...</td>\n",
       "      <td>£642.56</td>\n",
       "      <td>[J, Med, Chem]</td>\n",
       "      <td>JMC</td>\n",
       "    </tr>\n",
       "    <tr>\n",
       "      <th>3</th>\n",
       "      <td>23438330 PMC3646402</td>\n",
       "      <td>ACS</td>\n",
       "      <td>J Med Chem</td>\n",
       "      <td>Orvinols with mixed kappa/mu opioid receptor a...</td>\n",
       "      <td>£669.64</td>\n",
       "      <td>[J, Med, Chem]</td>\n",
       "      <td>JMC</td>\n",
       "    </tr>\n",
       "    <tr>\n",
       "      <th>4</th>\n",
       "      <td>23438216 PMC3601604</td>\n",
       "      <td>ACS</td>\n",
       "      <td>J Org Chem</td>\n",
       "      <td>Regioselective opening of myo-inositol orthoes...</td>\n",
       "      <td>£685.88</td>\n",
       "      <td>[J, Org, Chem]</td>\n",
       "      <td>JOC</td>\n",
       "    </tr>\n",
       "  </tbody>\n",
       "</table>\n",
       "</div>"
      ],
      "text/plain": [
       "              PMID/PMCID Publisher         Journal title_x  \\\n",
       "0                    NaN       CUP  Psychological Medicine   \n",
       "1             PMC3679557       ACS       Biomacromolecules   \n",
       "2  23043264  PMC3506128        ACS              J Med Chem   \n",
       "3    23438330 PMC3646402       ACS              J Med Chem   \n",
       "4   23438216 PMC3601604        ACS              J Org Chem   \n",
       "\n",
       "                                       Article title  \\\n",
       "0  Reduced parahippocampal cortical thickness in ...   \n",
       "1  Structural characterization of a Model Gram-ne...   \n",
       "2  Fumaroylamino-4,5-epoxymorphinans and related ...   \n",
       "3  Orvinols with mixed kappa/mu opioid receptor a...   \n",
       "4  Regioselective opening of myo-inositol orthoes...   \n",
       "\n",
       "  COST (£) charged to Wellcome (inc VAT when charged)  \\\n",
       "0                                              £0.00    \n",
       "1                                           £2381.04    \n",
       "2                                            £642.56    \n",
       "3                                            £669.64    \n",
       "4                                            £685.88    \n",
       "\n",
       "             Journal title_y Abrevated_JT  \n",
       "0  [Psychological, Medicine]           PM  \n",
       "1        [Biomacromolecules]            B  \n",
       "2             [J, Med, Chem]          JMC  \n",
       "3             [J, Med, Chem]          JMC  \n",
       "4             [J, Org, Chem]          JOC  "
      ]
     },
     "execution_count": 55,
     "metadata": {},
     "output_type": "execute_result"
    }
   ],
   "source": [
    "segment_jrtitle = jr_title.apply(lambda x: re.findall(r'[A-Z][a-z]*', x))\n",
    "segmented_df1 = pd.DataFrame(segment_jrtitle)\n",
    "segmented_df1['Abrevated_JT'] = segmented_df1['Journal title'].apply(lambda x: ''.join(map(lambda y: y[0] , x)))\n",
    "new_df1 = Non_null_df.merge(segmented_df1,right_index=True, left_index = True)\n",
    "new_df1.head()"
   ]
  },
  {
   "cell_type": "markdown",
   "metadata": {},
   "source": [
    "Lets run again the above code to see if we have achieved our goal of cleaning"
   ]
  },
  {
   "cell_type": "markdown",
   "metadata": {},
   "source": [
    "We can see the PO now is combined from several the same values like the once we saw in the above."
   ]
  },
  {
   "cell_type": "code",
   "execution_count": 58,
   "metadata": {},
   "outputs": [
    {
     "data": {
      "text/plain": [
       "PO      191\n",
       "N        67\n",
       "B        57\n",
       "JOBC     54\n",
       "P        46\n",
       "Name: Abrevated_JT, dtype: int64"
      ]
     },
     "execution_count": 58,
     "metadata": {},
     "output_type": "execute_result"
    }
   ],
   "source": [
    "new_df1['Abrevated_JT'].value_counts().head()"
   ]
  },
  {
   "cell_type": "markdown",
   "metadata": {},
   "source": [
    "Therefore the above five journals are are the most common ones based on the number of articles published in the \n",
    "journals."
   ]
  },
  {
   "cell_type": "code",
   "execution_count": 69,
   "metadata": {},
   "outputs": [
    {
     "name": "stderr",
     "output_type": "stream",
     "text": [
      "/Library/Frameworks/Python.framework/Versions/3.7/lib/python3.7/site-packages/ipykernel_launcher.py:2: SettingWithCopyWarning: \n",
      "A value is trying to be set on a copy of a slice from a DataFrame.\n",
      "Try using .loc[row_indexer,col_indexer] = value instead\n",
      "\n",
      "See the caveats in the documentation: http://pandas.pydata.org/pandas-docs/stable/indexing.html#indexing-view-versus-copy\n",
      "  \n",
      "/Library/Frameworks/Python.framework/Versions/3.7/lib/python3.7/site-packages/ipykernel_launcher.py:3: SettingWithCopyWarning: \n",
      "A value is trying to be set on a copy of a slice from a DataFrame.\n",
      "Try using .loc[row_indexer,col_indexer] = value instead\n",
      "\n",
      "See the caveats in the documentation: http://pandas.pydata.org/pandas-docs/stable/indexing.html#indexing-view-versus-copy\n",
      "  This is separate from the ipykernel package so we can avoid doing imports until\n"
     ]
    },
    {
     "data": {
      "text/html": [
       "<div>\n",
       "<style scoped>\n",
       "    .dataframe tbody tr th:only-of-type {\n",
       "        vertical-align: middle;\n",
       "    }\n",
       "\n",
       "    .dataframe tbody tr th {\n",
       "        vertical-align: top;\n",
       "    }\n",
       "\n",
       "    .dataframe thead th {\n",
       "        text-align: right;\n",
       "    }\n",
       "</style>\n",
       "<table border=\"1\" class=\"dataframe\">\n",
       "  <thead>\n",
       "    <tr style=\"text-align: right;\">\n",
       "      <th></th>\n",
       "      <th>PMID/PMCID</th>\n",
       "      <th>Publisher</th>\n",
       "      <th>Journal title_x</th>\n",
       "      <th>Article title</th>\n",
       "      <th>COST (£) charged to Wellcome (inc VAT when charged)</th>\n",
       "      <th>Journal title_y</th>\n",
       "      <th>Abrevated_JT</th>\n",
       "      <th>Cost</th>\n",
       "    </tr>\n",
       "  </thead>\n",
       "  <tbody>\n",
       "    <tr>\n",
       "      <th>1</th>\n",
       "      <td>PMC3679557</td>\n",
       "      <td>ACS</td>\n",
       "      <td>Biomacromolecules</td>\n",
       "      <td>Structural characterization of a Model Gram-ne...</td>\n",
       "      <td>£2381.04</td>\n",
       "      <td>[Biomacromolecules]</td>\n",
       "      <td>B</td>\n",
       "      <td>2381.04</td>\n",
       "    </tr>\n",
       "    <tr>\n",
       "      <th>13</th>\n",
       "      <td>PMC3413243</td>\n",
       "      <td>ACS Publications</td>\n",
       "      <td>Biochemistry</td>\n",
       "      <td>Monomeric 14-3-3 has a chaperone-like activity...</td>\n",
       "      <td>£665.64</td>\n",
       "      <td>[Biochemistry]</td>\n",
       "      <td>B</td>\n",
       "      <td>665.64</td>\n",
       "    </tr>\n",
       "    <tr>\n",
       "      <th>16</th>\n",
       "      <td>22610094</td>\n",
       "      <td>AMBSB</td>\n",
       "      <td>Journal of Biological Chemistry</td>\n",
       "      <td>Annexin-1 interaction with FPR2/ALX</td>\n",
       "      <td>£265.67</td>\n",
       "      <td>[Journal, Of, Biological, Chemistry]</td>\n",
       "      <td>JOBC</td>\n",
       "      <td>265.67</td>\n",
       "    </tr>\n",
       "    <tr>\n",
       "      <th>60</th>\n",
       "      <td>PMC3576085</td>\n",
       "      <td>American Soc for Biochemistry and Molecular Bi...</td>\n",
       "      <td>Journal of Biological Chemistry</td>\n",
       "      <td>Understanding how noncatalytic carbohydrate bi...</td>\n",
       "      <td>£1100.00</td>\n",
       "      <td>[Journal, Of, Biological, Chemistry]</td>\n",
       "      <td>JOBC</td>\n",
       "      <td>1100.00</td>\n",
       "    </tr>\n",
       "    <tr>\n",
       "      <th>61</th>\n",
       "      <td>23239883 PMC3561570</td>\n",
       "      <td>American Society for Biochemistry and Molecula...</td>\n",
       "      <td>Journal of Biological Chemistry</td>\n",
       "      <td>Molecular architecture and functional analysis...</td>\n",
       "      <td>£2259.64</td>\n",
       "      <td>[Journal, Of, Biological, Chemistry]</td>\n",
       "      <td>JOBC</td>\n",
       "      <td>2259.64</td>\n",
       "    </tr>\n",
       "  </tbody>\n",
       "</table>\n",
       "</div>"
      ],
      "text/plain": [
       "              PMID/PMCID                                          Publisher  \\\n",
       "1             PMC3679557                                                ACS   \n",
       "13            PMC3413243                                   ACS Publications   \n",
       "16              22610094                                              AMBSB   \n",
       "60            PMC3576085  American Soc for Biochemistry and Molecular Bi...   \n",
       "61  23239883 PMC3561570   American Society for Biochemistry and Molecula...   \n",
       "\n",
       "                    Journal title_x  \\\n",
       "1                 Biomacromolecules   \n",
       "13                     Biochemistry   \n",
       "16  Journal of Biological Chemistry   \n",
       "60  Journal of Biological Chemistry   \n",
       "61  Journal of Biological Chemistry   \n",
       "\n",
       "                                        Article title  \\\n",
       "1   Structural characterization of a Model Gram-ne...   \n",
       "13  Monomeric 14-3-3 has a chaperone-like activity...   \n",
       "16                Annexin-1 interaction with FPR2/ALX   \n",
       "60  Understanding how noncatalytic carbohydrate bi...   \n",
       "61  Molecular architecture and functional analysis...   \n",
       "\n",
       "   COST (£) charged to Wellcome (inc VAT when charged)  \\\n",
       "1                                            £2381.04    \n",
       "13                                            £665.64    \n",
       "16                                            £265.67    \n",
       "60                                           £1100.00    \n",
       "61                                           £2259.64    \n",
       "\n",
       "                         Journal title_y Abrevated_JT     Cost  \n",
       "1                    [Biomacromolecules]            B  2381.04  \n",
       "13                        [Biochemistry]            B   665.64  \n",
       "16  [Journal, Of, Biological, Chemistry]         JOBC   265.67  \n",
       "60  [Journal, Of, Biological, Chemistry]         JOBC  1100.00  \n",
       "61  [Journal, Of, Biological, Chemistry]         JOBC  2259.64  "
      ]
     },
     "execution_count": 69,
     "metadata": {},
     "output_type": "execute_result"
    }
   ],
   "source": [
    "five_journals = new_df1[new_df1['Abrevated_JT'].isin(['PO','N','B','JOBC','P'])]\n",
    "five_journals['Cost'] = five_journals['COST (£) charged to Wellcome (inc VAT when charged)'].str.split('£').str[1]\n",
    "five_journals['Cost'] = five_journals['Cost'].apply(lambda x: float(x))\n",
    "five_journals.head()"
   ]
  },
  {
   "cell_type": "markdown",
   "metadata": {},
   "source": [
    "*Therefore the following are the descriptive statistics for the open-access cost per article for each journal for the most common five journals*"
   ]
  },
  {
   "cell_type": "code",
   "execution_count": 80,
   "metadata": {},
   "outputs": [
    {
     "data": {
      "text/html": [
       "<div>\n",
       "<style scoped>\n",
       "    .dataframe tbody tr th:only-of-type {\n",
       "        vertical-align: middle;\n",
       "    }\n",
       "\n",
       "    .dataframe tbody tr th {\n",
       "        vertical-align: top;\n",
       "    }\n",
       "\n",
       "    .dataframe thead tr th {\n",
       "        text-align: left;\n",
       "    }\n",
       "\n",
       "    .dataframe thead tr:last-of-type th {\n",
       "        text-align: right;\n",
       "    }\n",
       "</style>\n",
       "<table border=\"1\" class=\"dataframe\">\n",
       "  <thead>\n",
       "    <tr>\n",
       "      <th></th>\n",
       "      <th colspan=\"8\" halign=\"left\">Cost</th>\n",
       "    </tr>\n",
       "    <tr>\n",
       "      <th></th>\n",
       "      <th>count</th>\n",
       "      <th>mean</th>\n",
       "      <th>std</th>\n",
       "      <th>min</th>\n",
       "      <th>25%</th>\n",
       "      <th>50%</th>\n",
       "      <th>75%</th>\n",
       "      <th>max</th>\n",
       "    </tr>\n",
       "    <tr>\n",
       "      <th>Abrevated_JT</th>\n",
       "      <th></th>\n",
       "      <th></th>\n",
       "      <th></th>\n",
       "      <th></th>\n",
       "      <th></th>\n",
       "      <th></th>\n",
       "      <th></th>\n",
       "      <th></th>\n",
       "    </tr>\n",
       "  </thead>\n",
       "  <tbody>\n",
       "    <tr>\n",
       "      <th>B</th>\n",
       "      <td>57.0</td>\n",
       "      <td>2120.091754</td>\n",
       "      <td>622.842017</td>\n",
       "      <td>665.64</td>\n",
       "      <td>1836.910</td>\n",
       "      <td>2040.000</td>\n",
       "      <td>2400.0000</td>\n",
       "      <td>3600.00</td>\n",
       "    </tr>\n",
       "    <tr>\n",
       "      <th>JOBC</th>\n",
       "      <td>54.0</td>\n",
       "      <td>19908.901296</td>\n",
       "      <td>135890.457873</td>\n",
       "      <td>265.67</td>\n",
       "      <td>1151.130</td>\n",
       "      <td>1301.140</td>\n",
       "      <td>1610.1475</td>\n",
       "      <td>999999.00</td>\n",
       "    </tr>\n",
       "    <tr>\n",
       "      <th>N</th>\n",
       "      <td>67.0</td>\n",
       "      <td>2376.004030</td>\n",
       "      <td>758.386497</td>\n",
       "      <td>480.93</td>\n",
       "      <td>2000.625</td>\n",
       "      <td>2382.110</td>\n",
       "      <td>2503.8500</td>\n",
       "      <td>4170.35</td>\n",
       "    </tr>\n",
       "    <tr>\n",
       "      <th>P</th>\n",
       "      <td>46.0</td>\n",
       "      <td>88219.752174</td>\n",
       "      <td>284491.053390</td>\n",
       "      <td>625.00</td>\n",
       "      <td>928.790</td>\n",
       "      <td>1071.535</td>\n",
       "      <td>2071.0275</td>\n",
       "      <td>999999.00</td>\n",
       "    </tr>\n",
       "    <tr>\n",
       "      <th>PO</th>\n",
       "      <td>191.0</td>\n",
       "      <td>38552.857906</td>\n",
       "      <td>188531.409092</td>\n",
       "      <td>122.31</td>\n",
       "      <td>851.465</td>\n",
       "      <td>897.610</td>\n",
       "      <td>1044.7350</td>\n",
       "      <td>999999.00</td>\n",
       "    </tr>\n",
       "  </tbody>\n",
       "</table>\n",
       "</div>"
      ],
      "text/plain": [
       "               Cost                                                           \\\n",
       "              count          mean            std     min       25%       50%   \n",
       "Abrevated_JT                                                                   \n",
       "B              57.0   2120.091754     622.842017  665.64  1836.910  2040.000   \n",
       "JOBC           54.0  19908.901296  135890.457873  265.67  1151.130  1301.140   \n",
       "N              67.0   2376.004030     758.386497  480.93  2000.625  2382.110   \n",
       "P              46.0  88219.752174  284491.053390  625.00   928.790  1071.535   \n",
       "PO            191.0  38552.857906  188531.409092  122.31   851.465   897.610   \n",
       "\n",
       "                                    \n",
       "                    75%        max  \n",
       "Abrevated_JT                        \n",
       "B             2400.0000    3600.00  \n",
       "JOBC          1610.1475  999999.00  \n",
       "N             2503.8500    4170.35  \n",
       "P             2071.0275  999999.00  \n",
       "PO            1044.7350  999999.00  "
      ]
     },
     "execution_count": 80,
     "metadata": {},
     "output_type": "execute_result"
    }
   ],
   "source": [
    "five_journals.groupby('Abrevated_JT').describe()"
   ]
  },
  {
   "cell_type": "markdown",
   "metadata": {},
   "source": [
    "From the above description,we can learn that the data points are extremely diverse and the standard deviation for \n",
    "three Journals out of the five is way larger than the mean,therefore in this case median is more accurate measure \n",
    "of central tendency."
   ]
  },
  {
   "cell_type": "code",
   "execution_count": 95,
   "metadata": {},
   "outputs": [
    {
     "data": {
      "image/png": "[encoded data removed]",
      "text/plain": [
       "<Figure size 864x360 with 2 Axes>"
      ]
     },
     "metadata": {
      "needs_background": "light"
     },
     "output_type": "display_data"
    }
   ],
   "source": [
    "plt.figure(figsize = (12,5))\n",
    "plt.subplot(1,2,1)\n",
    "sns.swarmplot(x = 'Abrevated_JT',y = 'Cost', data = five_journals)\n",
    "plt.title('Swarm plot Journals and Cost', fontweight = 'bold')\n",
    "plt.subplot(1,2,2)\n",
    "sns.boxplot(x = 'Abrevated_JT',y = 'Cost', data = five_journals)\n",
    "plt.title('Boxplot plot Journals and Cost', fontweight = 'bold')\n",
    "plt.tight_layout()"
   ]
  },
  {
   "cell_type": "code",
   "execution_count": null,
   "metadata": {},
   "outputs": [],
   "source": []
  },
  {
   "cell_type": "code",
   "execution_count": null,
   "metadata": {},
   "outputs": [],
   "source": []
  }
 ],
 "metadata": {
  "kernelspec": {
   "display_name": "Python 3",
   "language": "python",
   "name": "python3"
  },
  "language_info": {
   "codemirror_mode": {
    "name": "ipython",
    "version": 3
   },
   "file_extension": ".py",
   "mimetype": "text/x-python",
   "name": "python",
   "nbconvert_exporter": "python",
   "pygments_lexer": "ipython3",
   "version": "3.7.3"
  }
 },
 "nbformat": 4,
 "nbformat_minor": 2
}
