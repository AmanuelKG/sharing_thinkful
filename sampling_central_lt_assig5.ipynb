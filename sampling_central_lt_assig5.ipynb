{
 "cells": [
  {
   "cell_type": "code",
   "execution_count": 1,
   "metadata": {},
   "outputs": [],
   "source": [
    "import numpy as np\n",
    "import pandas as pd\n",
    "import matplotlib.pyplot as plt\n",
    "%matplotlib inline"
   ]
  },
  {
   "cell_type": "code",
   "execution_count": 50,
   "metadata": {},
   "outputs": [
    {
     "name": "stdout",
     "output_type": "stream",
     "text": [
      "1.98 1.262774722585149\n",
      "4.9998 1.5777198610653287\n"
     ]
    }
   ],
   "source": [
    "pop1 = np.random.binomial(10, 0.2, 10000)\n",
    "pop2 = np.random.binomial(10, 0.5, 10000)\n",
    "print(pop1.mean(), pop1.std())\n",
    "print(pop2.mean(), pop2.std())"
   ]
  },
  {
   "cell_type": "code",
   "execution_count": 51,
   "metadata": {},
   "outputs": [],
   "source": [
    "sample1 = np.random.choice(pop1, 100)\n",
    "sample2 = np.random.choice(pop2, 100)"
   ]
  },
  {
   "cell_type": "markdown",
   "metadata": {},
   "source": [
    "**For sample1**"
   ]
  },
  {
   "cell_type": "code",
   "execution_count": 26,
   "metadata": {},
   "outputs": [
    {
     "name": "stdout",
     "output_type": "stream",
     "text": [
      "2.012 1.2624800988530471\n"
     ]
    }
   ],
   "source": [
    "mean1 = sample1.mean()\n",
    "sd1 = sample1.std()\n",
    "print(mean1, sd1)"
   ]
  },
  {
   "cell_type": "markdown",
   "metadata": {},
   "source": [
    "**For Sample2**"
   ]
  },
  {
   "cell_type": "code",
   "execution_count": 27,
   "metadata": {},
   "outputs": [
    {
     "name": "stdout",
     "output_type": "stream",
     "text": [
      "4.952 1.5335240461107873\n"
     ]
    }
   ],
   "source": [
    "mean2 = sample2.mean()\n",
    "sd2 = sample2.std()\n",
    "print(mean2, sd2)"
   ]
  },
  {
   "cell_type": "markdown",
   "metadata": {},
   "source": [
    "**1.increased the size of my samples from 100 to 1000;**"
   ]
  },
  {
   "cell_type": "code",
   "execution_count": 25,
   "metadata": {},
   "outputs": [
    {
     "name": "stdout",
     "output_type": "stream",
     "text": [
      "1.996 1.2344974686081782\n",
      "5.026 1.6004136965172473\n"
     ]
    },
    {
     "data": {
      "image/png": "[encoded data removed]",
      "text/plain": [
       "<Figure size 432x288 with 1 Axes>"
      ]
     },
     "metadata": {
      "needs_background": "light"
     },
     "output_type": "display_data"
    }
   ],
   "source": [
    "sample3 = np.random.choice(pop1, 1000)\n",
    "sample4 = np.random.choice(pop2, 1000)\n",
    "print(sample3.mean(), sample3.std())\n",
    "print(sample4.mean(), sample4.std())\n",
    "plt.hist(sample3, color = 'g', alpha = 0.5, label = 'Sample3')\n",
    "plt.hist(sample4, color = 'purple', alpha = 0.5, label = 'Sample4')\n",
    "plt.legend()\n",
    "plt.show()"
   ]
  },
  {
   "cell_type": "markdown",
   "metadata": {},
   "source": [
    "**Lets repeat the above with sample size 20**"
   ]
  },
  {
   "cell_type": "code",
   "execution_count": 29,
   "metadata": {},
   "outputs": [
    {
     "name": "stdout",
     "output_type": "stream",
     "text": [
      "2.35 1.49248115565993\n",
      "4.6 1.6852299546352718\n"
     ]
    },
    {
     "data": {
      "image/png": "[encoded data removed]",
      "text/plain": [
       "<Figure size 432x288 with 1 Axes>"
      ]
     },
     "metadata": {
      "needs_background": "light"
     },
     "output_type": "display_data"
    }
   ],
   "source": [
    "sample5 = np.random.choice(pop1, 20)\n",
    "sample6 = np.random.choice(pop2, 20)\n",
    "print(sample5.mean(), sample5.std())\n",
    "print(sample6.mean(), sample6.std())\n",
    "plt.hist(sample5, color = 'g', alpha = 0.5, label = 'Sample5')\n",
    "plt.hist(sample6, color = 'purple', alpha = 0.5, label = 'Sample6')\n",
    "plt.legend()\n",
    "plt.show()"
   ]
  },
  {
   "cell_type": "markdown",
   "metadata": {},
   "source": [
    "**Comparing the two samples drawn from the two populations;when the sample size was larger the sample mean and \n",
    "sample standard deviation were close to the populations mean and standard deviation.When we draw a small size\n",
    "samples from the populations however,we could observe that the statistical estimators tend to deviate from the \n",
    "populations means.And we can see from the histograms that the spread of the data is more in the small sized samples\n",
    "data points.**"
   ]
  },
  {
   "cell_type": "markdown",
   "metadata": {},
   "source": [
    "**2.**"
   ]
  },
  {
   "cell_type": "code",
   "execution_count": 31,
   "metadata": {},
   "outputs": [],
   "source": [
    "pop1 = np.random.binomial(10, 0.3, 10000)"
   ]
  },
  {
   "cell_type": "code",
   "execution_count": 34,
   "metadata": {},
   "outputs": [
    {
     "data": {
      "image/png": "[encoded data removed]",
      "text/plain": [
       "<Figure size 432x288 with 1 Axes>"
      ]
     },
     "metadata": {
      "needs_background": "light"
     },
     "output_type": "display_data"
    }
   ],
   "source": [
    "new_sample1 = np.random.choice(pop1,1000)\n",
    "new_sample2 = np.random.choice(pop2,1000)\n",
    "plt.hist(new_sample1, color = 'g', alpha = 0.5, label = 'new Sample1')\n",
    "plt.hist(new_sample2, color = 'purple', alpha = 0.5, label = 'new Sample2')\n",
    "plt.legend()\n",
    "plt.show()"
   ]
  },
  {
   "cell_type": "code",
   "execution_count": 52,
   "metadata": {},
   "outputs": [
    {
     "name": "stdout",
     "output_type": "stream",
     "text": [
      "Ttest_indResult(statistic=29.328545904109095, pvalue=1.5442597220123317e-157)\n"
     ]
    }
   ],
   "source": [
    "from scipy.stats import ttest_ind\n",
    "print(ttest_ind(new_sample2, new_sample1, equal_var=False))"
   ]
  },
  {
   "cell_type": "markdown",
   "metadata": {},
   "source": [
    "**The p-value is very small,so we can safely say that the difference in the means of the samples is not by chance;\n",
    "regardles of the overlaped data points that we see on the histogram,analogous to the example of women and men running\n",
    "running together.**"
   ]
  },
  {
   "cell_type": "code",
   "execution_count": 60,
   "metadata": {},
   "outputs": [],
   "source": [
    "pop1 = np.random.binomial(10, 0.4, 10000)"
   ]
  },
  {
   "cell_type": "code",
   "execution_count": 61,
   "metadata": {},
   "outputs": [],
   "source": [
    "new_sample3 = np.random.choice(pop1, 1000)"
   ]
  },
  {
   "cell_type": "code",
   "execution_count": 62,
   "metadata": {},
   "outputs": [
    {
     "name": "stdout",
     "output_type": "stream",
     "text": [
      "Ttest_indResult(statistic=13.564397609239016, pvalue=3.873233022375656e-40)\n"
     ]
    }
   ],
   "source": [
    "print(ttest_ind(new_sample2, new_sample3, equal_var=False))"
   ]
  },
  {
   "cell_type": "markdown",
   "metadata": {},
   "source": [
    "**when the probability of success was raised to 0.4 which is closer to 0.5,we can see that the t-test statistic\n",
    "which is the the number of standard errors from the population mean gets smaller and the p value has also decreased \n",
    "tremendously from the sample from the distribution with p = 0.3 which is an indicator that it is closer,but still \n",
    "p-value is very small to support the claim that the two population means are equal.**"
   ]
  },
  {
   "cell_type": "markdown",
   "metadata": {},
   "source": [
    "**3.Lets take a sample from poisson distributed data and check if the mean of the pouplation is representated by \n",
    "the sample mean;**"
   ]
  },
  {
   "cell_type": "code",
   "execution_count": 76,
   "metadata": {},
   "outputs": [],
   "source": [
    "pop = np.random.poisson(3, 10000)\n",
    "sam = np.random.choice(pop, 100)"
   ]
  },
  {
   "cell_type": "code",
   "execution_count": 77,
   "metadata": {},
   "outputs": [
    {
     "name": "stdout",
     "output_type": "stream",
     "text": [
      "Population mean =  2.9954\n",
      "the Sample mean =  2.94\n"
     ]
    }
   ],
   "source": [
    "print('Population mean = ', pop.mean())\n",
    "print('the Sample mean = ', sam.mean())"
   ]
  },
  {
   "cell_type": "markdown",
   "metadata": {},
   "source": [
    "**As we can see the sample mean is very close to the population mean,the larger the sample size is the closer the \n",
    "mean gets to the population mean.**"
   ]
  },
  {
   "cell_type": "code",
   "execution_count": null,
   "metadata": {},
   "outputs": [],
   "source": [
    "***********************************************The End******************************************************************"
   ]
  }
 ],
 "metadata": {
  "kernelspec": {
   "display_name": "Python 3",
   "language": "python",
   "name": "python3"
  },
  "language_info": {
   "codemirror_mode": {
    "name": "ipython",
    "version": 3
   },
   "file_extension": ".py",
   "mimetype": "text/x-python",
   "name": "python",
   "nbconvert_exporter": "python",
   "pygments_lexer": "ipython3",
   "version": "3.7.3"
  }
 },
 "nbformat": 4,
 "nbformat_minor": 2
}
