{
 "cells": [
  {
   "cell_type": "markdown",
   "metadata": {},
   "source": [
    "**----Challenge The Airbnb Database----------**"
   ]
  },
  {
   "cell_type": "markdown",
   "metadata": {},
   "source": [
    "1.What's the most expensive listing? What else can you tell me about the listing?\n",
    "~~~mysql\n",
    "SELECT *\n",
    "FROM sfo_listings\n",
    "ORDER BY price DESC LIMIT 1\n",
    "~~~\n",
    "From the above query result we can see that the most expensive listing was 10000.To find out more about that listing,lets see what kind of review does it have.\n",
    "~~~mysql\n",
    "WITH\n",
    "  most_expensive\n",
    "AS(SELECT *\n",
    "   FROM sfo_listings\n",
    "   ORDER BY price DESC\n",
    "   LIMIT 1\n",
    "   )\n",
    "SELECT m.*,s.review_date,s.comments\n",
    "FROM\n",
    "most_expensive m\n",
    "JOIN\n",
    "sfo_reviews s\n",
    "ON\n",
    "m.id = s.listing_id\n",
    "~~~"
   ]
  },
  {
   "cell_type": "markdown",
   "metadata": {},
   "source": [
    "2.What neighborhoods seem to be the most popular?\n",
    "I have assumed that the availability of the listing on the calander table tells whether it is vacant(t) or accupied(f) but the listing is active.There is no clearity in the data if availability is based on what i have mentioned or the availability of that listing at all. \n",
    "~~~mysql\n",
    "WITH\n",
    "    occupied\n",
    "AS(\n",
    "   SELECT *\n",
    " \tFROM\n",
    " \t   sfo_calendar\n",
    "\tWHERE\n",
    "\t   available = 'f' \n",
    "  ),avai_listing\n",
    "AS(SELECT id,neighbourhood,availability_365\n",
    "   FROM \n",
    "   sfo_listings\n",
    "   WHERE availability_365 != '0'\n",
    "   )\n",
    "   SELECT a.neighbourhood,COUNT(O.available) total_occupied\n",
    "   FROM \n",
    "   occupied o\n",
    "   JOIN\n",
    "   avai_listing a\n",
    "   ON\n",
    "   o.listing_id = a.id\n",
    "   GROUP BY a.neighbourhood\n",
    "   ORDER BY total_occupied DESC LIMIT 3\n",
    "  ~~~\n",
    "  So the above sql code gives the three most occupied neighbourhoods in San Francisco;which from our deffinition in this case the most popular neighbourhoods in San Francisco."
   ]
  },
  {
   "cell_type": "markdown",
   "metadata": {},
   "source": [
    "**3.**<br/> \n",
    "**A.** In trying to find the cheapest time of year,i tried to fing out at which month of year is the average price the cheapest.So i grouped the data in to months and applied the average function after putting the data in appropriate format for computation.Finally i desplayed the month with the cheapest average monthly price and the price.The following is the SQL code for exectuting the above senario.\n",
    "~~~mysql\n",
    "WITH\n",
    "      exclude_comma\n",
    "AS(SELECT EXTRACT(MONTH FROM calender_date) AS months,REPLACE(price,',','') AS price\n",
    "  FROM sfo_calendar\n",
    " WHERE price IS NOT null\n",
    "   ),cast_float \n",
    "   AS(SELECT months,SUBSTR(price,2) AS price\n",
    "\t  FROM exclude_comma\n",
    "\t  )\n",
    "SELECT months,AVG(CAST(price AS float)) AS price\t\n",
    "FROM cast_float\n",
    "GROUP BY months\n",
    "ORDER BY price\n",
    "LIMIT 1\n",
    "\n",
    "~~~\n",
    "**B.** The busiest means more listings are occupied or less available,which is opposite to the above senario.\n",
    "~~~mysql\n",
    "WITH\n",
    "  availability\n",
    "AS(SELECT c.*,l.price As prices\n",
    "FROM sfo_calendar c\n",
    "JOIN\n",
    "sfo_listings l\n",
    "ON\n",
    "c.listing_id = l.id\n",
    ")\n",
    "SELECT calender_date,\n",
    "       COUNT(available) AS total_occupied\n",
    "FROM availability\n",
    "WHERE\n",
    "available ='f'\n",
    "GROUP BY calender_date\n",
    "ORDER BY total_occupied\n",
    "LIMIT 5\n",
    "~~~"
   ]
  },
  {
   "cell_type": "code",
   "execution_count": null,
   "metadata": {},
   "outputs": [],
   "source": []
  }
 ],
 "metadata": {
  "kernelspec": {
   "display_name": "Python 3",
   "language": "python",
   "name": "python3"
  },
  "language_info": {
   "codemirror_mode": {
    "name": "ipython",
    "version": 3
   },
   "file_extension": ".py",
   "mimetype": "text/x-python",
   "name": "python",
   "nbconvert_exporter": "python",
   "pygments_lexer": "ipython3",
   "version": "3.7.3"
  }
 },
 "nbformat": 4,
 "nbformat_minor": 2
}
